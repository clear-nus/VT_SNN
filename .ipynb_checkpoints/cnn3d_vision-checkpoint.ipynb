{
 "cells": [
  {
   "cell_type": "code",
   "execution_count": 1,
   "metadata": {},
   "outputs": [],
   "source": [
    "import torch\n",
    "import numpy as np\n",
    "from pathlib import Path\n",
    "import logging\n",
    "from torch.utils.data import DataLoader\n",
    "from dataset import ViTacVisDataset\n",
    "from torch.utils.tensorboard import SummaryWriter\n",
    "import argparse\n",
    "from torch import nn\n",
    "import torch.nn.functional as F"
   ]
  },
  {
   "cell_type": "code",
   "execution_count": 2,
   "metadata": {},
   "outputs": [],
   "source": [
    "# parser = argparse.ArgumentParser(\"Train model.\")\n",
    "# parser.add_argument(\"--epochs\", type=int, help=\"Number of epochs.\", required=True)\n",
    "# parser.add_argument(\"--data_dir\", type=str, help=\"Path to data.\", required=True)\n",
    "# parser.add_argument(\n",
    "#     \"--checkpoint_dir\", type=str, help=\"Path for saving checkpoints.\", required=True\n",
    "# )\n",
    "\n",
    "# parser.add_argument(\"--lr\", type=float, help=\"Learning rate.\", required=True)\n",
    "# parser.add_argument(\n",
    "#     \"--sample_file\", type=int, help=\"Sample number to train from.\", required=True\n",
    "# )\n",
    "# parser.add_argument(\n",
    "#     \"--batch_size\", type=int, help=\"Batch Size.\", required=True\n",
    "# )"
   ]
  },
  {
   "cell_type": "code",
   "execution_count": 3,
   "metadata": {},
   "outputs": [],
   "source": [
    "class FLAGS():\n",
    "    def __init__(self):\n",
    "        self.data_dir = '/home/tasbolat/some_python_examples/data_VT_SNN/'\n",
    "        self.batch_size = 8\n",
    "        self.sample_file = 1\n",
    "        self.lr = 0.01\n",
    "        self.epochs = 2000\n",
    "        self.output_size = 20\n",
    "args = FLAGS()"
   ]
  },
  {
   "cell_type": "code",
   "execution_count": 9,
   "metadata": {},
   "outputs": [],
   "source": [
    "device = torch.device(\"cuda:1\")"
   ]
  },
  {
   "cell_type": "code",
   "execution_count": 10,
   "metadata": {},
   "outputs": [],
   "source": [
    "train_dataset = ViTacVisDataset(\n",
    "    path=args.data_dir, sample_file=f\"train_80_20_{args.sample_file}.txt\", output_size=args.output_size\n",
    ")\n",
    "train_loader = DataLoader(\n",
    "    dataset=train_dataset, batch_size=args.batch_size, shuffle=False, num_workers=4\n",
    ")\n",
    "test_dataset = ViTacVisDataset(\n",
    "    path=args.data_dir, sample_file=f\"test_80_20_{args.sample_file}.txt\", output_size=args.output_size\n",
    ")\n",
    "test_loader = DataLoader(\n",
    "    dataset=test_dataset, batch_size=args.batch_size, shuffle=False, num_workers=4\n",
    ")"
   ]
  },
  {
   "cell_type": "code",
   "execution_count": 11,
   "metadata": {},
   "outputs": [],
   "source": [
    "class CNN3D(nn.Module):\n",
    "\n",
    "    def __init__(self):\n",
    "        \n",
    "        super(CNN3D, self).__init__()\n",
    "        self.input_size = 8*5*3\n",
    "        self.hidden_dim = 32\n",
    "        self.num_layers = 1\n",
    "        \n",
    "        self.conv1 = nn.Conv3d(in_channels=2, out_channels=2, kernel_size=(10,5,5), stride=(5,2,2))\n",
    "        self.conv2 = nn.Conv3d(in_channels=2, out_channels=4, kernel_size=(5,3,3), stride=(3,2,2))\n",
    "        self.conv3 = nn.Conv3d(in_channels=4, out_channels=8, kernel_size=(5,3,3), stride=(3,2,2))\n",
    "\n",
    "        # Define the output layer\n",
    "        self.fc = nn.Linear(np.prod([8, 6, 6, 5]), 20)\n",
    "        \n",
    "        self.drop = nn.Dropout(0.5)\n",
    "    def forward(self, x):\n",
    "        \n",
    "        #print('Model input ', x.size())\n",
    "        batch_size, C, H, W, sequence_size = x.size()\n",
    "        x = x.view([batch_size, C, sequence_size, H, W])\n",
    "        #print('Model input ', x.size())\n",
    "        \n",
    "        # pass to cnn3d\n",
    "        out = self.conv1(x)\n",
    "        out = F.relu(out)\n",
    "        #print('conv1 out: ', out.shape)\n",
    "        out = self.conv2(out)\n",
    "        out = F.relu(out)\n",
    "        #print('conv2 out: ', out.shape)\n",
    "        out = self.conv3(out)\n",
    "        out = F.relu(out)\n",
    "        #print('conv3 out: ', out.shape)\n",
    "        out = out.view([batch_size, np.prod([8, 6, 6, 5])])\n",
    "        out = self.fc(out)\n",
    "        # use dropout to have better generalization\n",
    "        out = self.drop(out)\n",
    "        return out"
   ]
  },
  {
   "cell_type": "code",
   "execution_count": 12,
   "metadata": {},
   "outputs": [],
   "source": [
    "net = CNN3D().to(device)\n",
    "# Create snn loss instance.\n",
    "criterion = nn.CrossEntropyLoss()\n",
    "# Define optimizer module.\n",
    "optimizer = torch.optim.RMSprop(\n",
    "    net.parameters(), lr=0.00001)"
   ]
  },
  {
   "cell_type": "code",
   "execution_count": 13,
   "metadata": {},
   "outputs": [
    {
     "name": "stdout",
     "output_type": "stream",
     "text": [
      "10 Train: 0.09583333333333334 Test: 0.03333333333333333\n",
      "20 Train: 0.20833333333333334 Test: 0.13333333333333333\n",
      "30 Train: 0.21666666666666667 Test: 0.18333333333333332\n",
      "40 Train: 0.325 Test: 0.23333333333333334\n",
      "50 Train: 0.32916666666666666 Test: 0.26666666666666666\n",
      "60 Train: 0.375 Test: 0.26666666666666666\n",
      "70 Train: 0.37083333333333335 Test: 0.26666666666666666\n",
      "80 Train: 0.4125 Test: 0.35\n",
      "90 Train: 0.38333333333333336 Test: 0.31666666666666665\n",
      "100 Train: 0.39166666666666666 Test: 0.3333333333333333\n",
      "110 Train: 0.4666666666666667 Test: 0.35\n",
      "120 Train: 0.4625 Test: 0.35\n",
      "130 Train: 0.42083333333333334 Test: 0.3333333333333333\n",
      "140 Train: 0.45 Test: 0.36666666666666664\n",
      "150 Train: 0.5125 Test: 0.36666666666666664\n",
      "160 Train: 0.4666666666666667 Test: 0.36666666666666664\n",
      "170 Train: 0.5166666666666667 Test: 0.35\n",
      "180 Train: 0.45 Test: 0.36666666666666664\n",
      "190 Train: 0.5291666666666667 Test: 0.35\n",
      "200 Train: 0.49583333333333335 Test: 0.4\n",
      "210 Train: 0.5208333333333334 Test: 0.35\n",
      "220 Train: 0.4708333333333333 Test: 0.38333333333333336\n",
      "230 Train: 0.5041666666666667 Test: 0.43333333333333335\n",
      "240 Train: 0.5125 Test: 0.4166666666666667\n",
      "250 Train: 0.5375 Test: 0.48333333333333334\n",
      "260 Train: 0.55 Test: 0.45\n",
      "270 Train: 0.4875 Test: 0.4166666666666667\n",
      "280 Train: 0.55 Test: 0.43333333333333335\n",
      "290 Train: 0.5166666666666667 Test: 0.45\n",
      "300 Train: 0.5708333333333333 Test: 0.48333333333333334\n",
      "310 Train: 0.5458333333333333 Test: 0.48333333333333334\n",
      "320 Train: 0.5625 Test: 0.48333333333333334\n",
      "330 Train: 0.5541666666666667 Test: 0.5\n",
      "340 Train: 0.5291666666666667 Test: 0.5\n",
      "350 Train: 0.5125 Test: 0.55\n",
      "360 Train: 0.525 Test: 0.5666666666666667\n",
      "370 Train: 0.5291666666666667 Test: 0.55\n",
      "380 Train: 0.5583333333333333 Test: 0.5666666666666667\n",
      "390 Train: 0.5 Test: 0.5166666666666667\n",
      "400 Train: 0.5125 Test: 0.55\n",
      "410 Train: 0.5333333333333333 Test: 0.5666666666666667\n",
      "420 Train: 0.5208333333333334 Test: 0.5666666666666667\n",
      "430 Train: 0.5333333333333333 Test: 0.6166666666666667\n",
      "440 Train: 0.5541666666666667 Test: 0.5833333333333334\n",
      "450 Train: 0.575 Test: 0.6166666666666667\n",
      "460 Train: 0.5833333333333334 Test: 0.5833333333333334\n",
      "470 Train: 0.49583333333333335 Test: 0.6\n",
      "480 Train: 0.5125 Test: 0.5833333333333334\n",
      "490 Train: 0.6166666666666667 Test: 0.6\n",
      "500 Train: 0.5333333333333333 Test: 0.6333333333333333\n",
      "510 Train: 0.525 Test: 0.6333333333333333\n",
      "520 Train: 0.5333333333333333 Test: 0.6166666666666667\n",
      "530 Train: 0.5541666666666667 Test: 0.6\n",
      "540 Train: 0.5791666666666667 Test: 0.6666666666666666\n",
      "550 Train: 0.575 Test: 0.6166666666666667\n",
      "560 Train: 0.5416666666666666 Test: 0.6333333333333333\n",
      "570 Train: 0.5833333333333334 Test: 0.6333333333333333\n",
      "580 Train: 0.5166666666666667 Test: 0.6833333333333333\n",
      "590 Train: 0.5 Test: 0.6666666666666666\n",
      "600 Train: 0.5625 Test: 0.6333333333333333\n",
      "610 Train: 0.5083333333333333 Test: 0.6333333333333333\n",
      "620 Train: 0.5291666666666667 Test: 0.6666666666666666\n",
      "630 Train: 0.5458333333333333 Test: 0.65\n",
      "640 Train: 0.5041666666666667 Test: 0.6833333333333333\n",
      "650 Train: 0.55 Test: 0.65\n",
      "660 Train: 0.5375 Test: 0.6833333333333333\n",
      "670 Train: 0.5166666666666667 Test: 0.6166666666666667\n",
      "680 Train: 0.5291666666666667 Test: 0.65\n",
      "690 Train: 0.55 Test: 0.6666666666666666\n",
      "700 Train: 0.4625 Test: 0.6666666666666666\n",
      "710 Train: 0.5583333333333333 Test: 0.6666666666666666\n",
      "720 Train: 0.5416666666666666 Test: 0.6666666666666666\n",
      "730 Train: 0.5708333333333333 Test: 0.6833333333333333\n",
      "740 Train: 0.5708333333333333 Test: 0.7333333333333333\n",
      "750 Train: 0.6166666666666667 Test: 0.7166666666666667\n",
      "760 Train: 0.55 Test: 0.6833333333333333\n",
      "770 Train: 0.5291666666666667 Test: 0.7\n",
      "780 Train: 0.5625 Test: 0.6666666666666666\n",
      "790 Train: 0.5375 Test: 0.7\n",
      "800 Train: 0.575 Test: 0.7\n",
      "810 Train: 0.575 Test: 0.7166666666666667\n",
      "820 Train: 0.5625 Test: 0.7166666666666667\n",
      "830 Train: 0.6166666666666667 Test: 0.7\n",
      "840 Train: 0.5708333333333333 Test: 0.7166666666666667\n",
      "850 Train: 0.5708333333333333 Test: 0.6833333333333333\n",
      "860 Train: 0.5375 Test: 0.7333333333333333\n",
      "870 Train: 0.5583333333333333 Test: 0.7333333333333333\n",
      "880 Train: 0.5791666666666667 Test: 0.6833333333333333\n",
      "890 Train: 0.525 Test: 0.7166666666666667\n",
      "900 Train: 0.525 Test: 0.7166666666666667\n",
      "910 Train: 0.5125 Test: 0.7\n",
      "920 Train: 0.5583333333333333 Test: 0.7333333333333333\n",
      "930 Train: 0.55 Test: 0.6833333333333333\n",
      "940 Train: 0.5458333333333333 Test: 0.7\n",
      "950 Train: 0.5791666666666667 Test: 0.7166666666666667\n",
      "960 Train: 0.55 Test: 0.7\n",
      "970 Train: 0.5666666666666667 Test: 0.7166666666666667\n",
      "980 Train: 0.5666666666666667 Test: 0.7\n",
      "990 Train: 0.5791666666666667 Test: 0.7\n",
      "1000 Train: 0.55 Test: 0.7333333333333333\n",
      "1010 Train: 0.5125 Test: 0.7166666666666667\n",
      "1020 Train: 0.5708333333333333 Test: 0.7166666666666667\n",
      "1030 Train: 0.5333333333333333 Test: 0.7166666666666667\n",
      "1040 Train: 0.5833333333333334 Test: 0.7333333333333333\n",
      "1050 Train: 0.5708333333333333 Test: 0.7\n",
      "1060 Train: 0.5333333333333333 Test: 0.7\n",
      "1070 Train: 0.5375 Test: 0.7333333333333333\n",
      "1080 Train: 0.55 Test: 0.7166666666666667\n",
      "1090 Train: 0.525 Test: 0.7\n",
      "1100 Train: 0.55 Test: 0.6833333333333333\n",
      "1110 Train: 0.5416666666666666 Test: 0.7166666666666667\n",
      "1120 Train: 0.55 Test: 0.7166666666666667\n",
      "1130 Train: 0.5083333333333333 Test: 0.7166666666666667\n",
      "1140 Train: 0.5708333333333333 Test: 0.7333333333333333\n",
      "1150 Train: 0.5833333333333334 Test: 0.7166666666666667\n",
      "1160 Train: 0.5166666666666667 Test: 0.7166666666666667\n",
      "1170 Train: 0.5125 Test: 0.7166666666666667\n",
      "1180 Train: 0.5375 Test: 0.7166666666666667\n",
      "1190 Train: 0.5333333333333333 Test: 0.7166666666666667\n",
      "1200 Train: 0.5875 Test: 0.7166666666666667\n",
      "1210 Train: 0.575 Test: 0.7166666666666667\n",
      "1220 Train: 0.5625 Test: 0.7166666666666667\n",
      "1230 Train: 0.5333333333333333 Test: 0.7\n"
     ]
    },
    {
     "ename": "KeyboardInterrupt",
     "evalue": "",
     "output_type": "error",
     "traceback": [
      "\u001b[0;31m---------------------------------------------------------------------------\u001b[0m",
      "\u001b[0;31mKeyboardInterrupt\u001b[0m                         Traceback (most recent call last)",
      "\u001b[0;32m<ipython-input-13-d4b7afeff903>\u001b[0m in \u001b[0;36m<module>\u001b[0;34m\u001b[0m\n\u001b[1;32m     11\u001b[0m     \u001b[0;32mfor\u001b[0m \u001b[0mi\u001b[0m\u001b[0;34m,\u001b[0m \u001b[0;34m(\u001b[0m\u001b[0min_viz\u001b[0m\u001b[0;34m,\u001b[0m \u001b[0m_\u001b[0m\u001b[0;34m,\u001b[0m \u001b[0mlabel\u001b[0m\u001b[0;34m)\u001b[0m \u001b[0;32min\u001b[0m \u001b[0menumerate\u001b[0m\u001b[0;34m(\u001b[0m\u001b[0mtrain_loader\u001b[0m\u001b[0;34m,\u001b[0m \u001b[0;36m0\u001b[0m\u001b[0;34m)\u001b[0m\u001b[0;34m:\u001b[0m\u001b[0;34m\u001b[0m\u001b[0;34m\u001b[0m\u001b[0m\n\u001b[1;32m     12\u001b[0m \u001b[0;34m\u001b[0m\u001b[0m\n\u001b[0;32m---> 13\u001b[0;31m         \u001b[0min_viz\u001b[0m \u001b[0;34m=\u001b[0m \u001b[0min_viz\u001b[0m\u001b[0;34m.\u001b[0m\u001b[0mto\u001b[0m\u001b[0;34m(\u001b[0m\u001b[0mdevice\u001b[0m\u001b[0;34m)\u001b[0m\u001b[0;34m\u001b[0m\u001b[0;34m\u001b[0m\u001b[0m\n\u001b[0m\u001b[1;32m     14\u001b[0m         \u001b[0mlabel\u001b[0m \u001b[0;34m=\u001b[0m \u001b[0mlabel\u001b[0m\u001b[0;34m.\u001b[0m\u001b[0mto\u001b[0m\u001b[0;34m(\u001b[0m\u001b[0mdevice\u001b[0m\u001b[0;34m)\u001b[0m\u001b[0;34m\u001b[0m\u001b[0;34m\u001b[0m\u001b[0m\n\u001b[1;32m     15\u001b[0m         \u001b[0;31m# Forward pass of the network.\u001b[0m\u001b[0;34m\u001b[0m\u001b[0;34m\u001b[0m\u001b[0;34m\u001b[0m\u001b[0m\n",
      "\u001b[0;31mKeyboardInterrupt\u001b[0m: "
     ]
    }
   ],
   "source": [
    "train_accs = []\n",
    "test_accs = []\n",
    "train_loss = []\n",
    "test_loss = []\n",
    "for epoch in range(1,args.epochs+1):\n",
    "    # Training loop.\n",
    "    net.train()\n",
    "    correct = 0\n",
    "    batch_loss = 0\n",
    "    train_acc = 0\n",
    "    for i, (in_viz, _, label) in enumerate(train_loader, 0):\n",
    "\n",
    "        in_viz = in_viz.to(device)\n",
    "        label = label.to(device)\n",
    "        # Forward pass of the network.\n",
    "        #print(in_viz.shape)\n",
    "        out = net.forward(in_viz)\n",
    "        #print(out_tact.shape)\n",
    "        # Calculate loss.\n",
    "        #print(label.shape)\n",
    "        loss = criterion(out, label)\n",
    "        #print(loss)\n",
    "\n",
    "        batch_loss += loss.cpu().data.item()\n",
    "        # Reset gradients to zero.\n",
    "        optimizer.zero_grad()\n",
    "        # Backward pass of the network.\n",
    "        loss.backward()\n",
    "        # Update weights.\n",
    "        optimizer.step()\n",
    "\n",
    "        _, predicted = torch.max(out.data, 1)\n",
    "        correct += (predicted == label).sum().item()\n",
    "\n",
    "    # Reset training stats.\n",
    "    train_acc = correct/len(train_loader.dataset)\n",
    "    train_loss.append(batch_loss/len(train_loader.dataset))\n",
    "    train_accs.append(train_acc)\n",
    "    #print(train_acc, batch_loss)\n",
    "\n",
    "    # testing\n",
    "    net.eval()\n",
    "    correct = 0\n",
    "    batch_loss = 0\n",
    "    test_acc = 0\n",
    "    with torch.no_grad():\n",
    "        for i, (in_viz, _, label) in enumerate(test_loader, 0):\n",
    "            in_viz = in_viz.to(device)\n",
    "            # Forward pass of the network.\n",
    "            out = net.forward(in_viz)\n",
    "            label = label.to(device)\n",
    "            _, predicted = torch.max(out.data, 1)\n",
    "            correct += (predicted == label).sum().item()\n",
    "            # Calculate loss.\n",
    "            loss = criterion(out, label)\n",
    "            batch_loss += loss.cpu().data.item()\n",
    "\n",
    "    test_loss.append(batch_loss/len(test_loader.dataset))\n",
    "    test_acc = correct/len(test_loader.dataset)\n",
    "    test_accs.append(test_acc)\n",
    "    if epoch%10 == 0:\n",
    "        print(epoch, 'Train:', train_acc, 'Test:', test_acc)"
   ]
  },
  {
   "cell_type": "code",
   "execution_count": 14,
   "metadata": {},
   "outputs": [],
   "source": [
    "model_parameters = filter(lambda p: p.requires_grad, net.parameters())\n",
    "params = sum([np.prod(p.size()) for p in model_parameters])"
   ]
  },
  {
   "cell_type": "code",
   "execution_count": 15,
   "metadata": {},
   "outputs": [
    {
     "data": {
      "text/plain": [
       "31634"
      ]
     },
     "execution_count": 15,
     "metadata": {},
     "output_type": "execute_result"
    }
   ],
   "source": [
    "params"
   ]
  },
  {
   "cell_type": "code",
   "execution_count": 16,
   "metadata": {},
   "outputs": [],
   "source": [
    "import matplotlib.pyplot as plt"
   ]
  },
  {
   "cell_type": "code",
   "execution_count": 17,
   "metadata": {},
   "outputs": [
    {
     "data": {
      "text/plain": [
       "0.75"
      ]
     },
     "execution_count": 17,
     "metadata": {},
     "output_type": "execute_result"
    }
   ],
   "source": [
    "np.max(test_accs)"
   ]
  },
  {
   "cell_type": "code",
   "execution_count": 18,
   "metadata": {},
   "outputs": [
    {
     "data": {
      "image/png": "[encoded data removed]",
      "text/plain": [
       "<Figure size 1080x216 with 2 Axes>"
      ]
     },
     "metadata": {
      "needs_background": "light"
     },
     "output_type": "display_data"
    }
   ],
   "source": [
    "fig, ax = plt.subplots(2, figsize=(15,3))\n",
    "ax[0].plot(train_accs)\n",
    "ax[0].plot(test_accs)\n",
    "ax[0].set_ylabel('Accuracy')\n",
    "ax[0].legend(['Train', 'Test'])\n",
    "\n",
    "ax[1].plot(train_loss) \n",
    "ax[1].plot(test_loss)\n",
    "ax[1].set_ylabel('Loss')\n",
    "ax[1].legend(['Train', 'Test'])\n",
    "\n",
    "plt.show()"
   ]
  },
  {
   "cell_type": "code",
   "execution_count": null,
   "metadata": {},
   "outputs": [],
   "source": []
  }
 ],
 "metadata": {
  "kernelspec": {
   "display_name": "Python 3",
   "language": "python",
   "name": "python3"
  },
  "language_info": {
   "codemirror_mode": {
    "name": "ipython",
    "version": 3
   },
   "file_extension": ".py",
   "mimetype": "text/x-python",
   "name": "python",
   "nbconvert_exporter": "python",
   "pygments_lexer": "ipython3",
   "version": "3.6.8"
  }
 },
 "nbformat": 4,
 "nbformat_minor": 2
}
