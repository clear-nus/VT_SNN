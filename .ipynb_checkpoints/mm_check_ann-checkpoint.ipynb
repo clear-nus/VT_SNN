{
 "cells": [
  {
   "cell_type": "code",
   "execution_count": 1,
   "metadata": {},
   "outputs": [],
   "source": [
    "from datetime import datetime\n",
    "import matplotlib.pyplot as plt\n",
    "from torch.utils.data import Dataset, DataLoader\n",
    "import zipfile\n",
    "import torch\n",
    "from torch import nn\n",
    "import numpy as np\n",
    "import copy\n",
    "from pathlib import Path\n",
    "\n",
    "# ref_name = 'models_and_stats2/mlp_lstm_vision_0'\n",
    "# device = torch.device('cuda:2')\n",
    "# num_epochs = 2000"
   ]
  },
  {
   "cell_type": "code",
   "execution_count": 2,
   "metadata": {},
   "outputs": [],
   "source": [
    "class FLAGS():\n",
    "    def __init__(self):\n",
    "        self.data_dir = '/home/tasbolat/some_python_examples/data_VT_SNN/'\n",
    "        self.batch_size = 8\n",
    "        self.sample_file = 1\n",
    "        self.lr = 0.0001\n",
    "        self.epochs = 400\n",
    "args = FLAGS()\n",
    "\n",
    "device = torch.device(\"cuda:1\")\n"
   ]
  },
  {
   "cell_type": "code",
   "execution_count": 19,
   "metadata": {},
   "outputs": [],
   "source": [
    "# Dataset definition\n",
    "class ViTacDataset(Dataset):\n",
    "    def __init__(self, datasetPath, sampleFile):\n",
    "        self.path = datasetPath \n",
    "        self.samples = np.loadtxt(sampleFile).astype('int')\n",
    "        self.vis = torch.load(Path(self.path+ \"pooled_vis/\")  / \"ds_vis.pt\")\n",
    "        tact = torch.load(Path(self.path) / \"tact.pt\")\n",
    "        self.tact = tact.reshape(tact.shape[0], -1, tact.shape[-1])\n",
    "\n",
    "    def __getitem__(self, index):\n",
    "        inputIndex  = self.samples[index, 0]\n",
    "        classLabel  = self.samples[index, 1]\n",
    "        return self.tact[inputIndex], self.vis[inputIndex], classLabel\n",
    "\n",
    "    def __len__(self):\n",
    "        return self.samples.shape[0]"
   ]
  },
  {
   "cell_type": "code",
   "execution_count": 20,
   "metadata": {},
   "outputs": [],
   "source": [
    "# Dataset and dataLoader instances.\n",
    "split_list = ['80_20_1','80_20_2','80_20_3','80_20_4','80_20_5']"
   ]
  },
  {
   "cell_type": "code",
   "execution_count": 21,
   "metadata": {},
   "outputs": [],
   "source": [
    "#data_dir = '/home/tasbolat/some_python_examples/data_VT_SNN/'\n",
    "\n",
    "\n",
    "#sample_file = 1\n",
    "trainingSet = ViTacDataset(datasetPath = args.data_dir, sampleFile = args.data_dir + \"/train_\" + split_list[args.sample_file-1] + \".txt\")\n",
    "train_loader = DataLoader(dataset=trainingSet, batch_size=args.batch_size, shuffle=False, num_workers=8)\n",
    " \n",
    "testingSet = ViTacDataset(datasetPath = args.data_dir, sampleFile  = args.data_dir + \"/test_\" + split_list[args.sample_file-1] + \".txt\")\n",
    "test_loader = DataLoader(dataset=testingSet, batch_size=args.batch_size, shuffle=False, num_workers=8)"
   ]
  },
  {
   "cell_type": "code",
   "execution_count": 22,
   "metadata": {},
   "outputs": [
    {
     "data": {
      "text/plain": [
       "(torch.Size([156, 325]), torch.Size([2, 63, 50, 325]))"
      ]
     },
     "execution_count": 22,
     "metadata": {},
     "output_type": "execute_result"
    }
   ],
   "source": [
    "trainingSet[0][0].shape, trainingSet[0][1].shape"
   ]
  },
  {
   "cell_type": "code",
   "execution_count": 52,
   "metadata": {},
   "outputs": [],
   "source": [
    "class MultiMLP_LSTM(nn.Module):\n",
    "\n",
    "    def __init__(self):\n",
    "        super(MultiMLP_LSTM, self).__init__()\n",
    "        self.input_size = 1000+78*2\n",
    "        self.hidden_dim = 30\n",
    "        self.batch_size = 8\n",
    "        self.num_layers = 1\n",
    "\n",
    "        # Define the LSTM layer\n",
    "        self.gru = nn.GRU(self.input_size, self.hidden_dim, self.num_layers)\n",
    "\n",
    "        # Define the output layer\n",
    "        self.fc = nn.Linear(self.hidden_dim, 20)\n",
    "        \n",
    "        #self.pool_vis = nn.AvgPool3d((1,5,5), padding=0, stride=(1,7,7))\n",
    "        self.fc_vis = nn.Linear(63*50*2, self.input_size-78*2)\n",
    "\n",
    "\n",
    "    def forward(self, in_tact, in_vis):\n",
    "\n",
    "        in_vis = in_vis.reshape([in_vis.shape[0], 325, 50*63*2])\n",
    "        #print('in vis:', in_vis.shape)\n",
    "        viz_embeddings = self.fc_vis(in_vis).permute(1,0,2)\n",
    "        #print('viz embeddings:', viz_embeddings.shape)\n",
    "        in_tact = in_tact.permute(2,0,1)\n",
    "        #print('tact embeddings:', in_tact.shape)\n",
    "        \n",
    "        embeddings = torch.cat([viz_embeddings, in_tact], dim=2)\n",
    "        #print('embeddings:', embeddings.shape)        \n",
    "        # GRU input type: (seq_len, batch, input_size)\n",
    "        out, hidden = self.gru(embeddings)\n",
    "        out = out.permute(1,0,2)\n",
    "        #print('out: ', out.shape)\n",
    "        \n",
    "        # Only take the output from the final timetep\n",
    "        #print('out:', out.shape)\n",
    "        y_pred = self.fc(out[:, -1, :])\n",
    "        \n",
    "        return y_pred"
   ]
  },
  {
   "cell_type": "code",
   "execution_count": 53,
   "metadata": {},
   "outputs": [],
   "source": [
    "train_accs = []\n",
    "test_accs = []\n",
    "train_loss = []\n",
    "test_loss = []"
   ]
  },
  {
   "cell_type": "code",
   "execution_count": 54,
   "metadata": {},
   "outputs": [],
   "source": [
    "net = MultiMLP_LSTM().to(device)\n",
    "# Create snn loss instance.\n",
    "criterion = nn.CrossEntropyLoss()\n",
    "# Define optimizer module.\n",
    "optimizer = torch.optim.RMSprop(net.parameters(), lr = args.lr)"
   ]
  },
  {
   "cell_type": "code",
   "execution_count": 55,
   "metadata": {},
   "outputs": [
    {
     "name": "stdout",
     "output_type": "stream",
     "text": [
      "1 Train: 0.14166666666666666 Test: 0\n",
      "2 Train: 0.37083333333333335 Test: 0\n"
     ]
    },
    {
     "ename": "KeyboardInterrupt",
     "evalue": "",
     "output_type": "error",
     "traceback": [
      "\u001b[0;31m---------------------------------------------------------------------------\u001b[0m",
      "\u001b[0;31mKeyboardInterrupt\u001b[0m                         Traceback (most recent call last)",
      "\u001b[0;32m<ipython-input-55-9a4a22194ae7>\u001b[0m in \u001b[0;36m<module>\u001b[0;34m\u001b[0m\n\u001b[1;32m     22\u001b[0m         \u001b[0moptimizer\u001b[0m\u001b[0;34m.\u001b[0m\u001b[0mzero_grad\u001b[0m\u001b[0;34m(\u001b[0m\u001b[0;34m)\u001b[0m\u001b[0;34m\u001b[0m\u001b[0;34m\u001b[0m\u001b[0m\n\u001b[1;32m     23\u001b[0m         \u001b[0;31m# Backward pass of the network.\u001b[0m\u001b[0;34m\u001b[0m\u001b[0;34m\u001b[0m\u001b[0;34m\u001b[0m\u001b[0m\n\u001b[0;32m---> 24\u001b[0;31m         \u001b[0mloss\u001b[0m\u001b[0;34m.\u001b[0m\u001b[0mbackward\u001b[0m\u001b[0;34m(\u001b[0m\u001b[0;34m)\u001b[0m\u001b[0;34m\u001b[0m\u001b[0;34m\u001b[0m\u001b[0m\n\u001b[0m\u001b[1;32m     25\u001b[0m         \u001b[0;31m# Update weights.\u001b[0m\u001b[0;34m\u001b[0m\u001b[0;34m\u001b[0m\u001b[0;34m\u001b[0m\u001b[0m\n\u001b[1;32m     26\u001b[0m         \u001b[0moptimizer\u001b[0m\u001b[0;34m.\u001b[0m\u001b[0mstep\u001b[0m\u001b[0;34m(\u001b[0m\u001b[0;34m)\u001b[0m\u001b[0;34m\u001b[0m\u001b[0;34m\u001b[0m\u001b[0m\n",
      "\u001b[0;32m~/tas_python_env/lib/python3.6/site-packages/torch/tensor.py\u001b[0m in \u001b[0;36mbackward\u001b[0;34m(self, gradient, retain_graph, create_graph)\u001b[0m\n\u001b[1;32m    164\u001b[0m                 \u001b[0mproducts\u001b[0m\u001b[0;34m.\u001b[0m \u001b[0mDefaults\u001b[0m \u001b[0mto\u001b[0m\u001b[0;31m \u001b[0m\u001b[0;31m`\u001b[0m\u001b[0;31m`\u001b[0m\u001b[0;32mFalse\u001b[0m\u001b[0;31m`\u001b[0m\u001b[0;31m`\u001b[0m\u001b[0;34m.\u001b[0m\u001b[0;34m\u001b[0m\u001b[0;34m\u001b[0m\u001b[0m\n\u001b[1;32m    165\u001b[0m         \"\"\"\n\u001b[0;32m--> 166\u001b[0;31m         \u001b[0mtorch\u001b[0m\u001b[0;34m.\u001b[0m\u001b[0mautograd\u001b[0m\u001b[0;34m.\u001b[0m\u001b[0mbackward\u001b[0m\u001b[0;34m(\u001b[0m\u001b[0mself\u001b[0m\u001b[0;34m,\u001b[0m \u001b[0mgradient\u001b[0m\u001b[0;34m,\u001b[0m \u001b[0mretain_graph\u001b[0m\u001b[0;34m,\u001b[0m \u001b[0mcreate_graph\u001b[0m\u001b[0;34m)\u001b[0m\u001b[0;34m\u001b[0m\u001b[0;34m\u001b[0m\u001b[0m\n\u001b[0m\u001b[1;32m    167\u001b[0m \u001b[0;34m\u001b[0m\u001b[0m\n\u001b[1;32m    168\u001b[0m     \u001b[0;32mdef\u001b[0m \u001b[0mregister_hook\u001b[0m\u001b[0;34m(\u001b[0m\u001b[0mself\u001b[0m\u001b[0;34m,\u001b[0m \u001b[0mhook\u001b[0m\u001b[0;34m)\u001b[0m\u001b[0;34m:\u001b[0m\u001b[0;34m\u001b[0m\u001b[0;34m\u001b[0m\u001b[0m\n",
      "\u001b[0;32m~/tas_python_env/lib/python3.6/site-packages/torch/autograd/__init__.py\u001b[0m in \u001b[0;36mbackward\u001b[0;34m(tensors, grad_tensors, retain_graph, create_graph, grad_variables)\u001b[0m\n\u001b[1;32m     97\u001b[0m     Variable._execution_engine.run_backward(\n\u001b[1;32m     98\u001b[0m         \u001b[0mtensors\u001b[0m\u001b[0;34m,\u001b[0m \u001b[0mgrad_tensors\u001b[0m\u001b[0;34m,\u001b[0m \u001b[0mretain_graph\u001b[0m\u001b[0;34m,\u001b[0m \u001b[0mcreate_graph\u001b[0m\u001b[0;34m,\u001b[0m\u001b[0;34m\u001b[0m\u001b[0;34m\u001b[0m\u001b[0m\n\u001b[0;32m---> 99\u001b[0;31m         allow_unreachable=True)  # allow_unreachable flag\n\u001b[0m\u001b[1;32m    100\u001b[0m \u001b[0;34m\u001b[0m\u001b[0m\n\u001b[1;32m    101\u001b[0m \u001b[0;34m\u001b[0m\u001b[0m\n",
      "\u001b[0;31mKeyboardInterrupt\u001b[0m: "
     ]
    }
   ],
   "source": [
    "for epoch in range(1, args.epochs+1):\n",
    "    # Training loop.\n",
    "    net.train()\n",
    "    correct = 0\n",
    "    batch_loss = 0\n",
    "    train_acc = 0\n",
    "    for i, (in_tac, in_vis, label) in enumerate(train_loader, 0):\n",
    "\n",
    "        in_vis = in_vis.to(device)\n",
    "        in_tac = in_tac.to(device)\n",
    "        #in_vis = in_vis.squeeze().permute(0,1,4,2,3)\n",
    "        #print(in_vis.shape)\n",
    "        label = label.to(device)\n",
    "        # Forward pass of the network.\n",
    "        out_tact = net.forward(in_tac, in_vis)\n",
    "        # Calculate loss.\n",
    "        loss = criterion(out_tact, label)\n",
    "        #print(loss)\n",
    "\n",
    "        batch_loss += loss.cpu().data.item()\n",
    "        # Reset gradients to zero.\n",
    "        optimizer.zero_grad()\n",
    "        # Backward pass of the network.\n",
    "        loss.backward()\n",
    "        # Update weights.\n",
    "        optimizer.step()\n",
    "\n",
    "        _, predicted = torch.max(out_tact.data, 1)\n",
    "        correct += (predicted == label).sum().item()\n",
    "\n",
    "    # Reset training stats.\n",
    "    train_acc = correct/len(train_loader.dataset)\n",
    "    train_loss.append(batch_loss/len(train_loader.dataset))\n",
    "    train_accs.append(train_acc)\n",
    "    #print(train_acc, batch_loss)\n",
    "\n",
    "    # testing\n",
    "    net.eval()\n",
    "    correct = 0\n",
    "    batch_loss = 0\n",
    "    test_acc = 0\n",
    "    with torch.no_grad():\n",
    "        for i, (in_tac, in_vis, label) in enumerate(test_loader, 0):\n",
    "            in_vis = in_vis.to(device)\n",
    "            in_tac = in_tac.to(device)\n",
    "\n",
    "            # Forward pass of the network.\n",
    "            out_tact = net.forward(in_tac, in_vis)\n",
    "            label = label.to(device)\n",
    "            _, predicted = torch.max(out_tact.data, 1)\n",
    "            correct += (predicted == label).sum().item()\n",
    "            # Calculate loss.\n",
    "            loss = criterion(out_tact, label)\n",
    "            batch_loss += loss.cpu().data.item()\n",
    "\n",
    "    test_loss.append(batch_loss/len(test_loader.dataset))\n",
    "    test_acc = correct/len(test_loader.dataset)\n",
    "    test_accs.append(test_acc)\n",
    "    if epoch%1 == 0:\n",
    "        print(epoch, 'Train:', train_acc, 'Test:', test_acc)"
   ]
  },
  {
   "cell_type": "code",
   "execution_count": 77,
   "metadata": {},
   "outputs": [
    {
     "data": {
      "image/png": "[encoded data removed]",
      "text/plain": [
       "<Figure size 1080x504 with 2 Axes>"
      ]
     },
     "metadata": {
      "needs_background": "light"
     },
     "output_type": "display_data"
    }
   ],
   "source": [
    "fig, ax = plt.subplots(2, figsize=(15,7))\n",
    "ax[0].plot(train_loss)\n",
    "ax[0].plot(test_loss)\n",
    "ax[0].legend(['Train', 'Test'])\n",
    "ax[0].set_xlabel('Epochs')\n",
    "ax[0].set_ylabel('Loss')\n",
    "\n",
    "ax[1].plot(train_accs)\n",
    "ax[1].plot(test_accs)\n",
    "ax[1].legend(['Train', 'Test'])\n",
    "ax[1].set_xlabel('Epochs')\n",
    "ax[1].set_ylabel('Accuracy')\n",
    "\n",
    "plt.show()"
   ]
  },
  {
   "cell_type": "code",
   "execution_count": null,
   "metadata": {},
   "outputs": [],
   "source": []
  }
 ],
 "metadata": {
  "kernelspec": {
   "display_name": "Python 3",
   "language": "python",
   "name": "python3"
  },
  "language_info": {
   "codemirror_mode": {
    "name": "ipython",
    "version": 3
   },
   "file_extension": ".py",
   "mimetype": "text/x-python",
   "name": "python",
   "nbconvert_exporter": "python",
   "pygments_lexer": "ipython3",
   "version": "3.6.8"
  }
 },
 "nbformat": 4,
 "nbformat_minor": 2
}
