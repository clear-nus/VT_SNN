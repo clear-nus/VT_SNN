{
 "cells": [
  {
   "cell_type": "code",
   "execution_count": 242,
   "metadata": {},
   "outputs": [],
   "source": [
    "import torch\n",
    "import numpy as np\n",
    "from pathlib import Path\n",
    "import logging\n",
    "from torch.utils.data import DataLoader\n",
    "from dataset import ViTacDataset\n",
    "from torch import nn\n",
    "import matplotlib.pyplot as plt\n",
    "from sklearn.svm import SVC\n",
    "from sklearn.svm import LinearSVC\n",
    "from sklearn.metrics import accuracy_score\n",
    "from sklearn.model_selection import train_test_split"
   ]
  },
  {
   "cell_type": "markdown",
   "metadata": {},
   "source": [
    "### Prepare data"
   ]
  },
  {
   "cell_type": "code",
   "execution_count": 28,
   "metadata": {},
   "outputs": [],
   "source": [
    "class FLAGS():\n",
    "    def __init__(self):\n",
    "        self.data_dir = '/home/tasbolat/some_python_examples/data_VT_SNN/'\n",
    "        self.batch_size = 8\n",
    "        self.sample_file = 1\n",
    "        self.lr = 0.01\n",
    "        self.epochs = 100\n",
    "args = FLAGS()"
   ]
  },
  {
   "cell_type": "code",
   "execution_count": 29,
   "metadata": {},
   "outputs": [],
   "source": [
    "train_dataset = ViTacDataset(\n",
    "    path=args.data_dir, sample_file=f\"train_80_20_{args.sample_file}.txt\"\n",
    ")\n",
    "train_loader = DataLoader(\n",
    "    dataset=train_dataset, batch_size=args.batch_size, shuffle=True, num_workers=4\n",
    ")\n",
    "test_dataset = ViTacDataset(\n",
    "    path=args.data_dir, sample_file=f\"test_80_20_{args.sample_file}.txt\"\n",
    ")\n",
    "test_loader = DataLoader(\n",
    "    dataset=test_dataset, batch_size=args.batch_size, shuffle=True, num_workers=4\n",
    ")"
   ]
  },
  {
   "cell_type": "code",
   "execution_count": 30,
   "metadata": {},
   "outputs": [
    {
     "data": {
      "text/plain": [
       "(torch.Size([240, 156, 325]), torch.Size([60, 156, 325]))"
      ]
     },
     "execution_count": 30,
     "metadata": {},
     "output_type": "execute_result"
    }
   ],
   "source": [
    "big_train_dataset = []#torch.zeros(240, 156, 325)\n",
    "\n",
    "labels = []#torch.zeros(240)\n",
    "\n",
    "for i, (in_tact, _, _, label) in enumerate(train_loader, 0):\n",
    "\n",
    "    big_train_dataset.append(in_tact.squeeze())\n",
    "\n",
    "    labels.append(label)\n",
    "\n",
    "    \n",
    "\n",
    "big_test_dataset = []#torch.zeros(240, 156, 325)\n",
    "\n",
    "labels_test = []#torch.zeros(240)\n",
    "\n",
    "for i, (in_tact, _, _, label) in enumerate(test_loader, 0):\n",
    "\n",
    "    big_test_dataset.append(in_tact.squeeze())\n",
    "\n",
    "    labels_test.append(label)\n",
    "    \n",
    "big_train_dataset = torch.cat(big_train_dataset,0)\n",
    "\n",
    "big_test_dataset = torch.cat(big_test_dataset,0)\n",
    "\n",
    "big_train_dataset.shape, big_test_dataset.shape"
   ]
  },
  {
   "cell_type": "code",
   "execution_count": 406,
   "metadata": {},
   "outputs": [],
   "source": [
    "### Get length"
   ]
  },
  {
   "cell_type": "code",
   "execution_count": 442,
   "metadata": {},
   "outputs": [
    {
     "data": {
      "text/plain": [
       "33"
      ]
     },
     "execution_count": 442,
     "metadata": {},
     "output_type": "execute_result"
    }
   ],
   "source": [
    "lengths_ = np.linspace(10,320,32, dtype=int)\n",
    "lengths = lengths_.tolist()\n",
    "lengths.append(325)\n",
    "len(lengths)"
   ]
  },
  {
   "cell_type": "code",
   "execution_count": 444,
   "metadata": {},
   "outputs": [],
   "source": [
    "\n",
    "length = lengths_[-1]\n",
    "\n",
    "X = torch.sum(big_train_dataset[...,:length], dim=2).cpu().numpy()\n",
    "X_test = torch.sum(big_test_dataset[...,:length], dim=2).cpu().numpy()\n",
    "y = torch.cat(labels).cpu().numpy()\n",
    "y_test = torch.cat(labels_test).cpu().numpy()"
   ]
  },
  {
   "cell_type": "code",
   "execution_count": 245,
   "metadata": {},
   "outputs": [],
   "source": [
    "X_train, X_val, y_train, y_val = train_test_split(X, y, test_size=0.08, stratify=y, random_state=42)"
   ]
  },
  {
   "cell_type": "code",
   "execution_count": 246,
   "metadata": {},
   "outputs": [
    {
     "data": {
      "text/plain": [
       "((220, 156), (20, 156), (60, 156))"
      ]
     },
     "execution_count": 246,
     "metadata": {},
     "output_type": "execute_result"
    }
   ],
   "source": [
    "X_train.shape, X_val.shape, X_test.shape"
   ]
  },
  {
   "cell_type": "code",
   "execution_count": null,
   "metadata": {},
   "outputs": [],
   "source": [
    "svc = SVC(tol=0.00001, max_iter=5000)"
   ]
  },
  {
   "cell_type": "code",
   "execution_count": 271,
   "metadata": {},
   "outputs": [
    {
     "data": {
      "text/plain": [
       "SVC(C=4e-05, cache_size=200, class_weight=None, coef0=0.0,\n",
       "  decision_function_shape='ovr', degree=3, gamma='auto_deprecated',\n",
       "  kernel='linear', max_iter=3000, probability=False, random_state=21,\n",
       "  shrinking=True, tol=0.0001, verbose=False)"
      ]
     },
     "execution_count": 271,
     "metadata": {},
     "output_type": "execute_result"
    }
   ],
   "source": [
    "svc = SVC(C=0.00004,random_state=21, kernel='linear', max_iter=3000, tol=0.0001) # 0.00004\n",
    "svc.fit(X_train, y_train)"
   ]
  },
  {
   "cell_type": "code",
   "execution_count": 272,
   "metadata": {},
   "outputs": [],
   "source": [
    "y_train_pred = svc.predict(X_train)\n",
    "y_val_pred = svc.predict(X_val)\n",
    "y_test_pred = svc.predict(X_test)"
   ]
  },
  {
   "cell_type": "code",
   "execution_count": 273,
   "metadata": {},
   "outputs": [
    {
     "data": {
      "text/plain": [
       "(0.9681818181818181, 0.85, 0.8333333333333334)"
      ]
     },
     "execution_count": 273,
     "metadata": {},
     "output_type": "execute_result"
    }
   ],
   "source": [
    "accuracy_score(y_train, y_train_pred), accuracy_score(y_val, y_val_pred), accuracy_score(y_test, y_test_pred)"
   ]
  },
  {
   "cell_type": "code",
   "execution_count": 286,
   "metadata": {},
   "outputs": [],
   "source": [
    "from sklearn.model_selection import GridSearchCV\n",
    "from sklearn.model_selection import StratifiedKFold"
   ]
  },
  {
   "cell_type": "code",
   "execution_count": 310,
   "metadata": {},
   "outputs": [
    {
     "data": {
      "text/plain": [
       "(240, 156)"
      ]
     },
     "execution_count": 310,
     "metadata": {},
     "output_type": "execute_result"
    }
   ],
   "source": [
    "X.shape"
   ]
  },
  {
   "cell_type": "code",
   "execution_count": 338,
   "metadata": {},
   "outputs": [],
   "source": [
    "skf = StratifiedKFold(n_splits=12)"
   ]
  },
  {
   "cell_type": "code",
   "execution_count": 347,
   "metadata": {},
   "outputs": [],
   "source": [
    "param_grid = {'C':np.linspace(0.000001, 3, 10000),}"
   ]
  },
  {
   "cell_type": "code",
   "execution_count": 348,
   "metadata": {},
   "outputs": [],
   "source": [
    "svc = SVC(tol=0.00001, max_iter=3000, kernel='linear')\n",
    "search = GridSearchCV(svc, param_grid, cv=skf,n_jobs=-1, scoring='accuracy')"
   ]
  },
  {
   "cell_type": "code",
   "execution_count": 349,
   "metadata": {},
   "outputs": [
    {
     "data": {
      "text/plain": [
       "GridSearchCV(cv=StratifiedKFold(n_splits=12, random_state=None, shuffle=False),\n",
       "       error_score='raise-deprecating',\n",
       "       estimator=SVC(C=1.0, cache_size=200, class_weight=None, coef0=0.0,\n",
       "  decision_function_shape='ovr', degree=3, gamma='auto_deprecated',\n",
       "  kernel='linear', max_iter=3000, probability=False, random_state=None,\n",
       "  shrinking=True, tol=1e-05, verbose=False),\n",
       "       fit_params=None, iid='warn', n_jobs=-1,\n",
       "       param_grid={'C': array([1.0000e-06, 3.0103e-04, ..., 2.9997e+00, 3.0000e+00])},\n",
       "       pre_dispatch='2*n_jobs', refit=True, return_train_score='warn',\n",
       "       scoring='accuracy', verbose=0)"
      ]
     },
     "execution_count": 349,
     "metadata": {},
     "output_type": "execute_result"
    }
   ],
   "source": [
    "search.fit(X, y)"
   ]
  },
  {
   "cell_type": "code",
   "execution_count": 350,
   "metadata": {},
   "outputs": [
    {
     "data": {
      "text/plain": [
       "StratifiedKFold(n_splits=12, random_state=None, shuffle=False)"
      ]
     },
     "execution_count": 350,
     "metadata": {},
     "output_type": "execute_result"
    }
   ],
   "source": [
    "search.cv"
   ]
  },
  {
   "cell_type": "code",
   "execution_count": 364,
   "metadata": {},
   "outputs": [
    {
     "data": {
      "text/plain": [
       "{'C': 0.00030102990299029904}"
      ]
     },
     "execution_count": 364,
     "metadata": {},
     "output_type": "execute_result"
    }
   ],
   "source": [
    "search.bgirs"
   ]
  },
  {
   "cell_type": "code",
   "execution_count": 373,
   "metadata": {},
   "outputs": [
    {
     "data": {
      "text/plain": [
       "1"
      ]
     },
     "execution_count": 373,
     "metadata": {},
     "output_type": "execute_result"
    }
   ],
   "source": [
    "search.best_index_"
   ]
  },
  {
   "cell_type": "code",
   "execution_count": 446,
   "metadata": {},
   "outputs": [
    {
     "data": {
      "text/plain": [
       "0.00030102990299029904"
      ]
     },
     "execution_count": 446,
     "metadata": {},
     "output_type": "execute_result"
    }
   ],
   "source": [
    "search.best_estimator_.C"
   ]
  },
  {
   "cell_type": "code",
   "execution_count": 376,
   "metadata": {},
   "outputs": [
    {
     "data": {
      "text/plain": [
       "0.08281086214313246"
      ]
     },
     "execution_count": 376,
     "metadata": {},
     "output_type": "execute_result"
    }
   ],
   "source": [
    "search.cv_results_['mean_test_score'][search.best_index_]\n",
    "search.cv_results_['std_test_score'][search.best_index_]"
   ]
  },
  {
   "cell_type": "code",
   "execution_count": 235,
   "metadata": {},
   "outputs": [],
   "source": [
    "#np.linspace(0.000001, 3, 100)"
   ]
  },
  {
   "cell_type": "code",
   "execution_count": 240,
   "metadata": {},
   "outputs": [],
   "source": [
    "max_val_accuracy = 0\n",
    "current_C = 0\n",
    "for C in np.linspace(0.000001, 3, 10000):\n",
    "    svc = SVC(C=C,random_state=21, kernel='linear', max_iter=3000, tol=0.0001) # 0.00004\n",
    "    svc.fit(X_train, y_train)\n",
    "    y_val_pred = svc.predict(X_val)\n",
    "    \n",
    "    val_accuracy = accuracy_score(y_val, y_val_pred)\n",
    "    if val_accuracy > max_val_accuracy:\n",
    "        current_C = C\n",
    "        max_val_accuracy = val_accuracy"
   ]
  },
  {
   "cell_type": "code",
   "execution_count": 241,
   "metadata": {},
   "outputs": [
    {
     "data": {
      "text/plain": [
       "(0.75, 0.00030102990299029904)"
      ]
     },
     "execution_count": 241,
     "metadata": {},
     "output_type": "execute_result"
    }
   ],
   "source": [
    "max_val_accuracy, current_C"
   ]
  },
  {
   "cell_type": "code",
   "execution_count": null,
   "metadata": {},
   "outputs": [],
   "source": [
    "y = torch.cat(labels).cpu().numpy()\n",
    "y_test = torch.cat(labels_test).cpu().numpy()\n",
    "\n",
    "# prepare parameters\n",
    "skf = StratifiedKFold(n_splits=12)\n",
    "param_grid = {'C':np.linspace(0.000001, 3, 10),} #10000\n",
    "\n",
    "# collect statistics\n",
    "cv_std = []\n",
    "cv_mean = []\n",
    "test_accs = []\n",
    "C_params = []\n",
    "\n",
    "for length in lengths:\n",
    "    \n",
    "    print(length)\n",
    "    # get data\n",
    "    X = torch.sum(big_train_dataset[...,:length], dim=2).cpu().numpy()\n",
    "    X_test = torch.sum(big_test_dataset[...,:length], dim=2).cpu().numpy()\n",
    "    \n",
    "    # define clf\n",
    "    svc = SVC(tol=0.00001, max_iter=5000, kernel='linear')\n",
    "    search = GridSearchCV(svc, param_grid, cv=skf,n_jobs=-1, scoring='accuracy')\n",
    "    search.fit(X, y)\n",
    "    \n",
    "    # collect statistics\n",
    "    cv_std.append( search.cv_results_['std_test_score'][search.best_index_] )\n",
    "    cv_mean.append(search.cv_results_['mean_test_score'][search.best_index_])\n",
    "    C_params.append(search.best_estimator_.C)\n",
    "    \n",
    "    # get test result based on the best estimator\n",
    "    y_test_pred = search.best_estimator_.predict(X_test)\n",
    "    test_accs.append(accuracy_score(y_test, y_test_pred))"
   ]
  },
  {
   "cell_type": "code",
   "execution_count": null,
   "metadata": {},
   "outputs": [],
   "source": []
  }
 ],
 "metadata": {
  "kernelspec": {
   "display_name": "Python 3",
   "language": "python",
   "name": "python3"
  },
  "language_info": {
   "codemirror_mode": {
    "name": "ipython",
    "version": 3
   },
   "file_extension": ".py",
   "mimetype": "text/x-python",
   "name": "python",
   "nbconvert_exporter": "python",
   "pygments_lexer": "ipython3",
   "version": "3.6.8"
  }
 },
 "nbformat": 4,
 "nbformat_minor": 2
}
