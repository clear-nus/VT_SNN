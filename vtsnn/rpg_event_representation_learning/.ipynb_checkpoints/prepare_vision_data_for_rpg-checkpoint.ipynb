{
 "cells": [
  {
   "cell_type": "code",
   "execution_count": 12,
   "metadata": {},
   "outputs": [],
   "source": [
    "import matplotlib.pyplot as plt\n",
    "from torch.utils.data import Dataset, DataLoader\n",
    "from IPython.display import HTML\n",
    "import seaborn as sn\n",
    "import torch\n",
    "import numpy as np\n",
    "import torch.nn as nn\n",
    "from scipy.io import loadmat\n",
    "import pandas as pd\n",
    "import tqdm"
   ]
  },
  {
   "cell_type": "code",
   "execution_count": 4,
   "metadata": {},
   "outputs": [],
   "source": [
    "### give path to original spike data\n",
    "path = \"/datasets/eventdata/batch2/\"\n",
    "save_dir = \"../../data_VT_SNN/vis_rpg_data/\""
   ]
  },
  {
   "cell_type": "code",
   "execution_count": 5,
   "metadata": {},
   "outputs": [],
   "source": [
    "class TrajStartEnd():\n",
    "    def __init__(self, obj_name, path = path):\n",
    "        self.path = path\n",
    "        self.obj_name = obj_name\n",
    "        self.obj_path = self.path + 'traj_start_ends/' + obj_name + '.startend'\n",
    "        self.traj_start_end = np.array(open(self.obj_path, \"r\").read().split(\" \")).astype(float) "
   ]
  },
  {
   "cell_type": "code",
   "execution_count": 37,
   "metadata": {},
   "outputs": [],
   "source": [
    "x0 = 230#180\n",
    "y0 = 100#0\n",
    "# path = '/datasets/eventdata/batch2/'\n",
    "obj_name = '107-b_pepsi_bottle_12'\n",
    "file_path = path + \"prophesee_recordings/\" + obj_name\n",
    "td_data = loadmat(file_path + \"_td.mat\")['td_data']\n",
    "df=pd.DataFrame(columns=['x', 'y', 'polarity', 'timestamp'])\n",
    "a = td_data['x'][0][0]\n",
    "b = td_data['y'][0][0]\n",
    "\n",
    "mask_y = (b >= 100)\n",
    "mask_x = (a >= 230) & (a < 430)\n",
    "a1 = a[ mask_x & mask_y ] - 230\n",
    "b1 = b[ mask_x & mask_y ] - 100\n",
    "df.x = a1.flatten()\n",
    "df.y = b1.flatten()\n",
    "# df.timestamp = td_data['ts'][0][0].flatten()/1000000.0 # spiking time in microseconds, convert to seconds\n",
    "# df.x = td_data['x'][0][0].flatten() - x0 # x coordinate\n",
    "# df.y = td_data['y'][0][0].flatten() - y0 # y coordinate\n",
    "# df.polarity = td_data['p'][0][0].flatten() # polarity with value -1 or 1\n",
    "\n",
    "# start_time = float(open(file_path + \".start\", \"r\").read())\n",
    "# trajStartEnd = TrajStartEnd(obj_name, path)\n",
    "# delta_time = start_time - trajStartEnd.traj_start_end[0]\n",
    "# trajStartEnd.traj_start_end += delta_time"
   ]
  },
  {
   "cell_type": "code",
   "execution_count": 39,
   "metadata": {},
   "outputs": [
    {
     "data": {
      "text/plain": [
       "array([  0,   1,   2,   3,   4,   5,   6,   7,   8,   9,  10,  11,  12,\n",
       "        13,  14,  15,  16,  17,  18,  19,  20,  21,  22,  23,  24,  25,\n",
       "        26,  27,  28,  29,  30,  31,  32,  33,  34,  35,  36,  37,  38,\n",
       "        39,  40,  41,  42,  43,  44,  45,  46,  47,  48,  49,  50,  51,\n",
       "        52,  53,  54,  55,  56,  57,  58,  59,  60,  61,  62,  63,  64,\n",
       "        65,  66,  67,  68,  69,  70,  71,  72,  73,  74,  75,  76,  77,\n",
       "        78,  79,  80,  81,  82,  83,  84,  85,  86,  87,  88,  89,  90,\n",
       "        91,  92,  93,  94,  95,  96,  97,  98,  99, 100, 101, 102, 103,\n",
       "       104, 105, 106, 107, 108, 109, 110, 111, 112, 113, 114, 115, 116,\n",
       "       117, 118, 119, 120, 121, 122, 123, 124, 125, 126, 127, 128, 129,\n",
       "       130, 131, 132, 133, 134, 135, 136, 137, 138, 139, 140, 141, 142,\n",
       "       143, 144, 145, 146, 147, 148, 149, 150, 151, 152, 153, 154, 155,\n",
       "       156, 157, 158, 159, 160, 161, 162, 163, 164, 165, 166, 167, 168,\n",
       "       169, 170, 171, 172, 173, 174, 175, 176, 177, 178, 179, 180, 181,\n",
       "       182, 183, 184, 185, 186, 187, 188, 189, 190, 191, 192, 193, 194,\n",
       "       195, 196, 197, 198, 199, 200, 201, 202, 203, 204, 205, 206, 207,\n",
       "       208, 209, 210, 211, 212, 213, 214, 215, 216, 217, 218, 219, 220,\n",
       "       221, 222, 223, 224, 225, 226, 227, 228, 229, 230, 231, 232, 233,\n",
       "       234, 235, 236, 237, 238, 239, 240, 241, 242, 243, 244, 245, 246,\n",
       "       247, 248, 249], dtype=uint16)"
      ]
     },
     "execution_count": 39,
     "metadata": {},
     "output_type": "execute_result"
    }
   ],
   "source": [
    "np.unique(b1)"
   ]
  },
  {
   "cell_type": "code",
   "execution_count": 29,
   "metadata": {},
   "outputs": [
    {
     "data": {
      "text/plain": [
       "array([283, 406, 424, ..., 421, 329, 474], dtype=uint16)"
      ]
     },
     "execution_count": 29,
     "metadata": {},
     "output_type": "execute_result"
    }
   ],
   "source": [
    "td_data['x'][0][0].flatten()"
   ]
  },
  {
   "cell_type": "code",
   "execution_count": 7,
   "metadata": {},
   "outputs": [],
   "source": [
    "#df = df[(df.timestamp >= trajStartEnd.traj_start_end[3]) & (df.timestamp < trajStartEnd.traj_start_end[3] + 6.0)]"
   ]
  },
  {
   "cell_type": "code",
   "execution_count": 8,
   "metadata": {},
   "outputs": [],
   "source": [
    "#df=df.reindex(columns=['x', 'y', 'timestamp', 'polarity'])"
   ]
  },
  {
   "cell_type": "code",
   "execution_count": 9,
   "metadata": {},
   "outputs": [],
   "source": [
    "# batch2\n",
    "list_of_objects2 = [\n",
    "    '107-a_pepsi_bottle',\n",
    "    '107-b_pepsi_bottle',\n",
    "    '107-c_pepsi_bottle',\n",
    "    '107-d_pepsi_bottle',\n",
    "    '107-e_pepsi_bottle',\n",
    "    '108-a_tuna_fish_can',\n",
    "    '108-b_tuna_fish_can',\n",
    "    '108-c_tuna_fish_can',\n",
    "    '108-d_tuna_fish_can',\n",
    "    '108-e_tuna_fish_can',\n",
    "    '109-a_soymilk',\n",
    "    '109-b_soymilk',\n",
    "    '109-c_soymilk',\n",
    "    '109-d_soymilk',\n",
    "    '109-e_soymilk',\n",
    "    '110-a_coffee_can',\n",
    "    '110-b_coffee_can',\n",
    "    '110-c_coffee_can',\n",
    "    '110-d_coffee_can',\n",
    "    '110-e_coffee_can'\n",
    "]"
   ]
  },
  {
   "cell_type": "code",
   "execution_count": 46,
   "metadata": {},
   "outputs": [
    {
     "name": "stderr",
     "output_type": "stream",
     "text": [
      "100%|██████████| 20/20 [00:01<00:00, 10.29it/s]\n"
     ]
    }
   ],
   "source": [
    "overall_count = -1\n",
    "\n",
    "for obj in tqdm.tqdm(list_of_objects2):\n",
    "    for i in range(1,21):\n",
    "        overall_count+=1\n",
    "        str_i = str(i)\n",
    "        if i < 10:\n",
    "            str_i = '0' + str_i\n",
    "        obj_name = obj + \"_\" + str_i\n",
    "        # read data\n",
    "        path = '/datasets/eventdata/batch2/'\n",
    "        file_path = path + \"prophesee_recordings/\" + obj_name\n",
    "        td_data = loadmat(file_path + \"_td.mat\")['td_data']\n",
    "        df=pd.DataFrame(columns=['x', 'y', 'polarity', 'timestamp'])\n",
    "        \n",
    "        a = td_data['x'][0][0]\n",
    "        b = td_data['y'][0][0]\n",
    "\n",
    "        mask_y = (b >= 100)\n",
    "        mask_x = (a >= 230) & (a < 430)\n",
    "        a1 = a[ mask_x & mask_y ] - 230\n",
    "        b1 = b[ mask_x & mask_y ] - 100\n",
    "        df.x = a1.flatten()\n",
    "        df.y = b1.flatten()\n",
    "        df.polarity = td_data['p'][0][0][ mask_x & mask_y ].flatten() # polarity with value -1 or 1\n",
    "        df.timestamp = td_data['ts'][0][0][ mask_x & mask_y ].flatten()/1000000.0 # spiking time in microseconds, convert to seconds\n",
    "        df = df.reset_index()        \n",
    "        #df.timestamp = td_data['ts'][0][0].flatten()/1000000.0 # spiking time in microseconds, convert to seconds\n",
    "        #df.x = td_data['x'][0][0].flatten() - x0 # x coordinate\n",
    "        #df.y = td_data['y'][0][0].flatten() - y0 # y coordinate\n",
    "        #df.polarity = td_data['p'][0][0].flatten() # polarity with value -1 or 1\n",
    "\n",
    "        start_time = float(open(file_path + \".start\", \"r\").read())\n",
    "        trajStartEnd = TrajStartEnd(obj_name, path)\n",
    "        delta_time = start_time - trajStartEnd.traj_start_end[0]\n",
    "        trajStartEnd.traj_start_end += delta_time\n",
    "        trajStartEnd.traj_start_end = trajStartEnd.traj_start_end - trajStartEnd.traj_start_end[0]\n",
    "\n",
    "        df = df[(df.timestamp >= trajStartEnd.traj_start_end[3]) & (df.timestamp < trajStartEnd.traj_start_end[3] + 6.5)]\n",
    "        df=df.reindex(columns=['x', 'y', 'timestamp', 'polarity'])\n",
    "        np.save(save_dir + str(overall_count) +'_vis.npy', df.values)\n",
    "        break"
   ]
  },
  {
   "cell_type": "code",
   "execution_count": 52,
   "metadata": {},
   "outputs": [
    {
     "data": {
      "text/plain": [
       "array([  0,   1,   2,   3,   4,   5,   6,   7,   8,   9,  10,  11,  12,\n",
       "        13,  14,  15,  16,  17,  18,  19,  20,  21,  22,  23,  24,  25,\n",
       "        26,  27,  28,  29,  30,  31,  32,  33,  34,  35,  36,  37,  38,\n",
       "        39,  40,  41,  42,  43,  44,  45,  46,  47,  48,  49,  50,  51,\n",
       "        52,  53,  54,  55,  56,  57,  58,  59,  60,  61,  62,  63,  64,\n",
       "        65,  66,  67,  68,  69,  70,  71,  72,  73,  74,  75,  76,  77,\n",
       "        78,  79,  80,  81,  82,  83,  84,  85,  86,  87,  88,  89,  90,\n",
       "        91,  92,  93,  94,  95,  96,  97,  98,  99, 100, 101, 102, 103,\n",
       "       104, 105, 106, 107, 108, 109, 110, 111, 112, 113, 114, 115, 116,\n",
       "       117, 118, 119, 120, 121, 122, 123, 124, 125, 126, 127, 128, 129,\n",
       "       130, 131, 132, 133, 134, 135, 136, 137, 138, 139, 140, 141, 142,\n",
       "       143, 144, 145, 146, 147, 148, 149, 150, 151, 152, 153, 154, 155,\n",
       "       156, 157, 158, 159, 160, 161, 162, 163, 164, 165, 166, 167, 168,\n",
       "       169, 170, 171, 172, 173, 174, 175, 176, 177, 178, 179, 180, 181,\n",
       "       182, 183, 184, 185, 186, 187, 188, 189, 190, 191, 192, 193, 194,\n",
       "       195, 196, 197, 198, 199, 200, 201, 202, 203, 204, 205, 206, 207,\n",
       "       208, 209, 210, 211, 212, 213, 214, 215, 216, 217, 218, 219, 220,\n",
       "       221, 222, 223, 224, 225, 226, 227, 228, 229, 230, 231, 232, 233,\n",
       "       234, 235, 236, 237, 238, 239, 240, 241, 242, 243, 244, 245, 246,\n",
       "       247, 248, 249], dtype=uint16)"
      ]
     },
     "execution_count": 52,
     "metadata": {},
     "output_type": "execute_result"
    }
   ],
   "source": [
    "np.unique(df.y.values)"
   ]
  },
  {
   "cell_type": "code",
   "execution_count": 45,
   "metadata": {},
   "outputs": [
    {
     "data": {
      "text/plain": [
       "array([nan, nan, nan, ..., nan, nan, nan], dtype=object)"
      ]
     },
     "execution_count": 45,
     "metadata": {},
     "output_type": "execute_result"
    }
   ],
   "source": [
    "np.unique(df.polarity.values)"
   ]
  },
  {
   "cell_type": "code",
   "execution_count": null,
   "metadata": {},
   "outputs": [],
   "source": []
  }
 ],
 "metadata": {
  "kernelspec": {
   "display_name": "Python 3",
   "language": "python",
   "name": "python3"
  },
  "language_info": {
   "codemirror_mode": {
    "name": "ipython",
    "version": 3
   },
   "file_extension": ".py",
   "mimetype": "text/x-python",
   "name": "python",
   "nbconvert_exporter": "python",
   "pygments_lexer": "ipython3",
   "version": "3.6.8"
  }
 },
 "nbformat": 4,
 "nbformat_minor": 2
}
