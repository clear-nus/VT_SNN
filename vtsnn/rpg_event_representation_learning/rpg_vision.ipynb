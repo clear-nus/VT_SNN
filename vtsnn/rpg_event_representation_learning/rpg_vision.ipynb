{
 "cells": [
  {
   "cell_type": "markdown",
   "metadata": {},
   "source": [
    "# EST\n",
    "\n",
    "Train tactile data using Event Spike Tensor framework. This code has some modifications:\n",
    "1. The classifier is changed from RESNET to simpler model since tactile is not that big\n",
    "2. We map event data into $5\\times7\\times9$ tensor\n",
    "3. We use pre-trained kernels given in the repo"
   ]
  },
  {
   "cell_type": "code",
   "execution_count": 13,
   "metadata": {},
   "outputs": [],
   "source": [
    "import matplotlib.pyplot as plt\n",
    "from torch.utils.data import Dataset, DataLoader\n",
    "from IPython.display import HTML\n",
    "from sklearn.metrics import confusion_matrix\n",
    "import seaborn as sn\n",
    "import torch\n",
    "import numpy as np\n",
    "import torch.nn as nn\n",
    "from utils.loader2 import Loader\n",
    "from utils.models import Classifier"
   ]
  },
  {
   "cell_type": "code",
   "execution_count": 14,
   "metadata": {},
   "outputs": [],
   "source": [
    "# Dataset definition\n",
    "class RawDataset(Dataset):\n",
    "    def __init__(self, datasetPath, sampleFile, modals=0):\n",
    "        self.path = datasetPath \n",
    "        self.samples = np.loadtxt(sampleFile, dtype=str)\n",
    "        \n",
    "\n",
    "    def __getitem__(self, index):\n",
    "        inputIndex  = self.samples[index, 0]\n",
    "        classLabel  = int(self.samples[index, 1])\n",
    "        #desiredClass = torch.zeros((20, 1, 1, 1))\n",
    "        #desiredClass[classLabel,...] = 1\n",
    "        inputSpikes = torch.FloatTensor( np.load(self.path + inputIndex + '_vis.npy') )\n",
    "        return inputSpikes, classLabel\n",
    "        \n",
    "    def __len__(self):\n",
    "        return self.samples.shape[0]"
   ]
  },
  {
   "cell_type": "code",
   "execution_count": 15,
   "metadata": {},
   "outputs": [],
   "source": [
    "device = torch.device('cuda:2')"
   ]
  },
  {
   "cell_type": "code",
   "execution_count": 16,
   "metadata": {},
   "outputs": [],
   "source": [
    "class FLAGS3():\n",
    "    def __init__(self):\n",
    "        self.batch_size = 4\n",
    "        self.data_dir = '/home/tasbolat/some_python_examples/data_VT_SNN/'\n",
    "        self.sample_file = 1\n",
    "        self.lr = 1e-4\n",
    "        self.epochs = 40\n",
    "args = FLAGS3()\n",
    "\n",
    "class FLAGS():\n",
    "    def __init__(self):\n",
    "        self.batch_size = args.batch_size\n",
    "        self.pin_memory =True\n",
    "        self.num_workers = 1\n",
    "        self.device = device\n",
    "flags = FLAGS()"
   ]
  },
  {
   "cell_type": "code",
   "execution_count": 17,
   "metadata": {},
   "outputs": [
    {
     "data": {
      "text/plain": [
       "torch.Size([115822, 4])"
      ]
     },
     "execution_count": 17,
     "metadata": {},
     "output_type": "execute_result"
    }
   ],
   "source": [
    "# Dataset and dataLoader instances.\n",
    "split_list = ['80_20_1','80_20_2','80_20_3','80_20_4','80_20_5']\n",
    "\n",
    "    \n",
    "trainingSet = RawDataset(datasetPath = args.data_dir + 'vis_rpg_data/', \n",
    "                        sampleFile = args.data_dir + \"/train_\" + split_list[args.sample_file] + \".txt\")\n",
    "train_loader = Loader(trainingSet, flags, device=device)    \n",
    "\n",
    "testingSet = RawDataset(datasetPath = args.data_dir + 'vis_rpg_data/', \n",
    "                        sampleFile  = args.data_dir + \"/test_\" + split_list[args.sample_file] + \".txt\")\n",
    "test_loader = Loader(testingSet, flags, device=device)\n",
    "in1, _  = trainingSet[7]\n",
    "in1.shape"
   ]
  },
  {
   "cell_type": "code",
   "execution_count": 18,
   "metadata": {
    "scrolled": true
   },
   "outputs": [
    {
     "data": {
      "text/plain": [
       "173.69230769230768"
      ]
     },
     "execution_count": 18,
     "metadata": {},
     "output_type": "execute_result"
    }
   ],
   "source": [
    "13548/78"
   ]
  },
  {
   "cell_type": "code",
   "execution_count": 19,
   "metadata": {},
   "outputs": [],
   "source": [
    "model = Classifier(num_classes=20).to(device)\n",
    "optimizer = torch.optim.Adam(model.parameters(), lr=args.lr)\n",
    "lr_scheduler = torch.optim.lr_scheduler.ExponentialLR(optimizer, 0.5)"
   ]
  },
  {
   "cell_type": "code",
   "execution_count": 20,
   "metadata": {},
   "outputs": [
    {
     "data": {
      "text/plain": [
       "0.0001"
      ]
     },
     "execution_count": 20,
     "metadata": {},
     "output_type": "execute_result"
    }
   ],
   "source": [
    "args.lr"
   ]
  },
  {
   "cell_type": "code",
   "execution_count": 21,
   "metadata": {},
   "outputs": [
    {
     "data": {
      "text/plain": [
       "240"
      ]
     },
     "execution_count": 21,
     "metadata": {},
     "output_type": "execute_result"
    }
   ],
   "source": [
    "len(trainingSet)"
   ]
  },
  {
   "cell_type": "code",
   "execution_count": 26,
   "metadata": {},
   "outputs": [],
   "source": [
    "train_loss = []\n",
    "train_acc = []\n",
    "test_loss = []\n",
    "test_acc = []"
   ]
  },
  {
   "cell_type": "code",
   "execution_count": 27,
   "metadata": {},
   "outputs": [],
   "source": [
    "criterion = torch.nn.CrossEntropyLoss()"
   ]
  },
  {
   "cell_type": "code",
   "execution_count": 28,
   "metadata": {
    "scrolled": true
   },
   "outputs": [
    {
     "name": "stdout",
     "output_type": "stream",
     "text": [
      "Train loss: 0.2708499997854233 Test loss: 0.19064340591430665\n",
      "Train accuracy: 0.6291666666666667 Test accuracy: 0.6833333333333333\n",
      "Train loss: 0.16052509049574534 Test loss: 0.2464035451412201\n",
      "Train accuracy: 0.8333333333333334 Test accuracy: 0.7166666666666667\n",
      "Train loss: 0.1396813879410426 Test loss: 0.24538474877675373\n",
      "Train accuracy: 0.8208333333333333 Test accuracy: 0.7333333333333333\n",
      "Train loss: 0.1284633234143257 Test loss: 0.20603249867757162\n",
      "Train accuracy: 0.8708333333333333 Test accuracy: 0.7666666666666667\n",
      "Train loss: 0.0767586961388588 Test loss: 0.24222279290358226\n",
      "Train accuracy: 0.925 Test accuracy: 0.7666666666666667\n",
      "Train loss: 0.07722681425511838 Test loss: 0.3101997723182042\n",
      "Train accuracy: 0.9291666666666667 Test accuracy: 0.6666666666666666\n",
      "Train loss: 0.06915407727162043 Test loss: 0.2048302521308263\n",
      "Train accuracy: 0.9291666666666667 Test accuracy: 0.75\n",
      "Train loss: 0.027796061833699544 Test loss: 0.1832550565401713\n",
      "Train accuracy: 0.9875 Test accuracy: 0.7666666666666667\n",
      "Train loss: 0.029325967530409495 Test loss: 0.23180078268051146\n",
      "Train accuracy: 0.975 Test accuracy: 0.7833333333333333\n",
      "Train loss: 0.02526092082262039 Test loss: 0.2175535003344218\n",
      "Train accuracy: 0.9875 Test accuracy: 0.8\n",
      "Train loss: 0.01221820836265882 Test loss: 0.1564668913682302\n",
      "Train accuracy: 1.0 Test accuracy: 0.8666666666666667\n",
      "Train loss: 0.020298665513594945 Test loss: 0.21243875821431477\n",
      "Train accuracy: 0.9875 Test accuracy: 0.8333333333333334\n",
      "Train loss: 0.015991817166407903 Test loss: 0.17788416743278504\n",
      "Train accuracy: 0.9875 Test accuracy: 0.8833333333333333\n",
      "Train loss: 0.01563657969236374 Test loss: 0.15617818931738536\n",
      "Train accuracy: 0.9958333333333333 Test accuracy: 0.85\n",
      "Train loss: 0.006463771065076192 Test loss: 0.1510907550652822\n",
      "Train accuracy: 1.0 Test accuracy: 0.8666666666666667\n",
      "Train loss: 0.006748486558596293 Test loss: 0.1579269250233968\n",
      "Train accuracy: 1.0 Test accuracy: 0.8666666666666667\n",
      "Train loss: 0.00834757387638092 Test loss: 0.15505147178967793\n",
      "Train accuracy: 0.9958333333333333 Test accuracy: 0.8333333333333334\n",
      "Train loss: 0.01164021814862887 Test loss: 0.19491613308588665\n",
      "Train accuracy: 0.9875 Test accuracy: 0.7833333333333333\n",
      "Train loss: 0.0073319541911284125 Test loss: 0.18667086958885193\n",
      "Train accuracy: 0.9958333333333333 Test accuracy: 0.85\n",
      "Train loss: 0.006707831720511119 Test loss: 0.2067727933327357\n",
      "Train accuracy: 1.0 Test accuracy: 0.85\n",
      "Train loss: 0.00832649568716685 Test loss: 0.19310933748881023\n",
      "Train accuracy: 1.0 Test accuracy: 0.85\n",
      "Train loss: 0.004845531284809112 Test loss: 0.1909210979938507\n",
      "Train accuracy: 1.0 Test accuracy: 0.8666666666666667\n",
      "Train loss: 0.0056187532842159275 Test loss: 0.19800424575805664\n",
      "Train accuracy: 1.0 Test accuracy: 0.85\n",
      "Train loss: 0.005025654286146164 Test loss: 0.21737231413523356\n",
      "Train accuracy: 1.0 Test accuracy: 0.85\n",
      "Train loss: 0.0031203354398409524 Test loss: 0.1963480254014333\n",
      "Train accuracy: 1.0 Test accuracy: 0.85\n",
      "Train loss: 0.005644173423449198 Test loss: 0.21161598165829976\n",
      "Train accuracy: 1.0 Test accuracy: 0.8333333333333334\n",
      "Train loss: 0.004469044506549835 Test loss: 0.1912810722986857\n",
      "Train accuracy: 0.9958333333333333 Test accuracy: 0.85\n",
      "Train loss: 0.0053495367368062334 Test loss: 0.2112458089987437\n",
      "Train accuracy: 1.0 Test accuracy: 0.85\n",
      "Train loss: 0.002830323576927185 Test loss: 0.2147081176439921\n",
      "Train accuracy: 1.0 Test accuracy: 0.85\n"
     ]
    },
    {
     "ename": "KeyboardInterrupt",
     "evalue": "",
     "output_type": "error",
     "traceback": [
      "\u001b[0;31m---------------------------------------------------------------------------\u001b[0m",
      "\u001b[0;31mKeyboardInterrupt\u001b[0m                         Traceback (most recent call last)",
      "\u001b[0;32m<ipython-input-28-b1a027a2416a>\u001b[0m in \u001b[0;36m<module>\u001b[0;34m\u001b[0m\n\u001b[1;32m      7\u001b[0m         \u001b[0mout\u001b[0m\u001b[0;34m,\u001b[0m \u001b[0mvox\u001b[0m \u001b[0;34m=\u001b[0m \u001b[0mmodel\u001b[0m\u001b[0;34m.\u001b[0m\u001b[0mforward\u001b[0m\u001b[0;34m(\u001b[0m\u001b[0mevents\u001b[0m\u001b[0;34m)\u001b[0m\u001b[0;34m\u001b[0m\u001b[0;34m\u001b[0m\u001b[0m\n\u001b[1;32m      8\u001b[0m         \u001b[0mloss\u001b[0m \u001b[0;34m=\u001b[0m \u001b[0mcriterion\u001b[0m\u001b[0;34m(\u001b[0m\u001b[0mout\u001b[0m\u001b[0;34m,\u001b[0m \u001b[0mlabels\u001b[0m\u001b[0;34m)\u001b[0m\u001b[0;34m\u001b[0m\u001b[0;34m\u001b[0m\u001b[0m\n\u001b[0;32m----> 9\u001b[0;31m         \u001b[0mloss\u001b[0m\u001b[0;34m.\u001b[0m\u001b[0mbackward\u001b[0m\u001b[0;34m(\u001b[0m\u001b[0;34m)\u001b[0m\u001b[0;34m\u001b[0m\u001b[0;34m\u001b[0m\u001b[0m\n\u001b[0m\u001b[1;32m     10\u001b[0m         \u001b[0moptimizer\u001b[0m\u001b[0;34m.\u001b[0m\u001b[0mstep\u001b[0m\u001b[0;34m(\u001b[0m\u001b[0;34m)\u001b[0m\u001b[0;34m\u001b[0m\u001b[0;34m\u001b[0m\u001b[0m\n\u001b[1;32m     11\u001b[0m         \u001b[0m_\u001b[0m\u001b[0;34m,\u001b[0m \u001b[0mpredicted\u001b[0m \u001b[0;34m=\u001b[0m \u001b[0mtorch\u001b[0m\u001b[0;34m.\u001b[0m\u001b[0mmax\u001b[0m\u001b[0;34m(\u001b[0m\u001b[0mout\u001b[0m\u001b[0;34m.\u001b[0m\u001b[0mdata\u001b[0m\u001b[0;34m,\u001b[0m \u001b[0;36m1\u001b[0m\u001b[0;34m)\u001b[0m\u001b[0;34m\u001b[0m\u001b[0;34m\u001b[0m\u001b[0m\n",
      "\u001b[0;32m~/tas_python_env/lib/python3.6/site-packages/torch/tensor.py\u001b[0m in \u001b[0;36mbackward\u001b[0;34m(self, gradient, retain_graph, create_graph)\u001b[0m\n\u001b[1;32m    164\u001b[0m                 \u001b[0mproducts\u001b[0m\u001b[0;34m.\u001b[0m \u001b[0mDefaults\u001b[0m \u001b[0mto\u001b[0m\u001b[0;31m \u001b[0m\u001b[0;31m`\u001b[0m\u001b[0;31m`\u001b[0m\u001b[0;32mFalse\u001b[0m\u001b[0;31m`\u001b[0m\u001b[0;31m`\u001b[0m\u001b[0;34m.\u001b[0m\u001b[0;34m\u001b[0m\u001b[0;34m\u001b[0m\u001b[0m\n\u001b[1;32m    165\u001b[0m         \"\"\"\n\u001b[0;32m--> 166\u001b[0;31m         \u001b[0mtorch\u001b[0m\u001b[0;34m.\u001b[0m\u001b[0mautograd\u001b[0m\u001b[0;34m.\u001b[0m\u001b[0mbackward\u001b[0m\u001b[0;34m(\u001b[0m\u001b[0mself\u001b[0m\u001b[0;34m,\u001b[0m \u001b[0mgradient\u001b[0m\u001b[0;34m,\u001b[0m \u001b[0mretain_graph\u001b[0m\u001b[0;34m,\u001b[0m \u001b[0mcreate_graph\u001b[0m\u001b[0;34m)\u001b[0m\u001b[0;34m\u001b[0m\u001b[0;34m\u001b[0m\u001b[0m\n\u001b[0m\u001b[1;32m    167\u001b[0m \u001b[0;34m\u001b[0m\u001b[0m\n\u001b[1;32m    168\u001b[0m     \u001b[0;32mdef\u001b[0m \u001b[0mregister_hook\u001b[0m\u001b[0;34m(\u001b[0m\u001b[0mself\u001b[0m\u001b[0;34m,\u001b[0m \u001b[0mhook\u001b[0m\u001b[0;34m)\u001b[0m\u001b[0;34m:\u001b[0m\u001b[0;34m\u001b[0m\u001b[0;34m\u001b[0m\u001b[0m\n",
      "\u001b[0;32m~/tas_python_env/lib/python3.6/site-packages/torch/autograd/__init__.py\u001b[0m in \u001b[0;36mbackward\u001b[0;34m(tensors, grad_tensors, retain_graph, create_graph, grad_variables)\u001b[0m\n\u001b[1;32m     97\u001b[0m     Variable._execution_engine.run_backward(\n\u001b[1;32m     98\u001b[0m         \u001b[0mtensors\u001b[0m\u001b[0;34m,\u001b[0m \u001b[0mgrad_tensors\u001b[0m\u001b[0;34m,\u001b[0m \u001b[0mretain_graph\u001b[0m\u001b[0;34m,\u001b[0m \u001b[0mcreate_graph\u001b[0m\u001b[0;34m,\u001b[0m\u001b[0;34m\u001b[0m\u001b[0;34m\u001b[0m\u001b[0m\n\u001b[0;32m---> 99\u001b[0;31m         allow_unreachable=True)  # allow_unreachable flag\n\u001b[0m\u001b[1;32m    100\u001b[0m \u001b[0;34m\u001b[0m\u001b[0m\n\u001b[1;32m    101\u001b[0m \u001b[0;34m\u001b[0m\u001b[0m\n",
      "\u001b[0;31mKeyboardInterrupt\u001b[0m: "
     ]
    }
   ],
   "source": [
    "for epoch in range(1, args.epochs+1):\n",
    "    sum_loss = 0\n",
    "    correct = 0\n",
    "    model.train()\n",
    "    for events, labels in train_loader:\n",
    "        optimizer.zero_grad()\n",
    "        out, vox = model.forward(events)\n",
    "        loss = criterion(out, labels)\n",
    "        loss.backward()\n",
    "        optimizer.step()\n",
    "        _, predicted = torch.max(out.data, 1)\n",
    "        correct += (predicted == labels).sum().item()  \n",
    "        sum_loss += loss.item()\n",
    "    if epoch % 10 == 9:\n",
    "        lr_scheduler.step()\n",
    "    training_loss = sum_loss/ len(trainingSet)\n",
    "    training_accuracy = correct / len(trainingSet)\n",
    "    train_loss.append(training_loss)\n",
    "    train_acc.append(training_accuracy)\n",
    "    \n",
    "    \n",
    "    model.eval()\n",
    "    correct = 0\n",
    "    sum_loss = 0\n",
    "    model.eval()\n",
    "    with torch.no_grad():\n",
    "        for events, labels in test_loader:       \n",
    "            out, vox = model.forward(events)\n",
    "            loss = criterion(out, labels)\n",
    "            _, predicted = torch.max(out.data, 1)\n",
    "            correct += (predicted == labels).sum().item()        \n",
    "            sum_loss += loss.item()\n",
    "    validation_loss = sum_loss / len(testingSet)\n",
    "    validation_accuracy = correct / len(testingSet)\n",
    "    test_loss.append(validation_loss)\n",
    "    test_acc.append(validation_accuracy)\n",
    "    \n",
    "    if epoch%1==0:\n",
    "        print('Train loss:', training_loss, 'Test loss:', validation_loss)\n",
    "        print('Train accuracy:', training_accuracy, 'Test accuracy:', validation_accuracy)"
   ]
  },
  {
   "cell_type": "code",
   "execution_count": 24,
   "metadata": {},
   "outputs": [
    {
     "data": {
      "image/png": "[encoded data removed]",
      "text/plain": [
       "<Figure size 1080x504 with 2 Axes>"
      ]
     },
     "metadata": {
      "needs_background": "light"
     },
     "output_type": "display_data"
    }
   ],
   "source": [
    "fig, ax = plt.subplots(nrows=2, figsize=(15,7))\n",
    "\n",
    "ax[0].plot(train_loss, label='Training')\n",
    "ax[0].plot(test_loss, label='Testing')\n",
    "\n",
    "ax[0].set_xlabel('Epoch')\n",
    "ax[0].set_ylabel('Loss')\n",
    "ax[0].legend()\n",
    "\n",
    "ax[1].plot(train_acc, label='Training')\n",
    "ax[1].plot(test_acc, label='Testing')\n",
    "ax[1].set_xlabel('Epoch')\n",
    "ax[1].set_ylabel('Accuracy')\n",
    "ax[1].legend()\n",
    "#lt.savefig(ref_name + \"_\" + str(k) + \"_stat_plot.png\")\n",
    "plt.show()"
   ]
  },
  {
   "cell_type": "code",
   "execution_count": null,
   "metadata": {},
   "outputs": [],
   "source": [
    "#torch.save(model.state_dict(), 'rpg_baseline' + \".pt\")"
   ]
  }
 ],
 "metadata": {
  "kernelspec": {
   "display_name": "Python 3",
   "language": "python",
   "name": "python3"
  },
  "language_info": {
   "codemirror_mode": {
    "name": "ipython",
    "version": 3
   },
   "file_extension": ".py",
   "mimetype": "text/x-python",
   "name": "python",
   "nbconvert_exporter": "python",
   "pygments_lexer": "ipython3",
   "version": "3.6.8"
  }
 },
 "nbformat": 4,
 "nbformat_minor": 2
}
