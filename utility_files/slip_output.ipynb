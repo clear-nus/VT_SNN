{
 "cells": [
  {
   "cell_type": "code",
   "execution_count": 84,
   "metadata": {},
   "outputs": [],
   "source": [
    "import sys, os\n",
    "CURRENT_TEST_DIR = os.getcwd()\n",
    "sys.path.append(CURRENT_TEST_DIR + \"/../../VT_SNN/\")"
   ]
  },
  {
   "cell_type": "code",
   "execution_count": 85,
   "metadata": {},
   "outputs": [],
   "source": [
    "import numpy as np\n",
    "import matplotlib.pyplot as plt\n",
    "from snn_models.baseline_snn import SlayerMLP\n",
    "from snn_models.multimodal_snn import SlayerMM\n",
    "from dataset import ViTacDataset, ViTacMMDataset\n",
    "from torch.utils.data import DataLoader\n",
    "import slayerSNN as snn\n",
    "\n",
    "import torch\n",
    "import pandas as pd\n",
    "from os import listdir\n",
    "from os.path import isfile, join\n",
    "import copy\n",
    "import seaborn as sns\n",
    "\n",
    "device = torch.device(\"cuda:0\")"
   ]
  },
  {
   "cell_type": "code",
   "execution_count": 86,
   "metadata": {},
   "outputs": [],
   "source": [
    "params = {\n",
    "    \"neuron\": {\n",
    "        \"type\": \"SRMALPHA\",\n",
    "        \"theta\": 10, # activation threshold\n",
    "        \"tauSr\": 10.0, # time constant for srm kernel\n",
    "        \"tauRef\": 1.0, # refractory kernel time constant\n",
    "        \"scaleRef\": 2, # refractory kernel constant relative to theta\n",
    "        \"tauRho\": 1, # pdf\n",
    "        \"scaleRho\": 1, # membrane potential \n",
    "    },\n",
    "    \"simulation\": {\"Ts\": 1.0, \"tSample\": 325, \"nSample\": 1},\n",
    "}\n",
    "\n",
    "net_tact = SlayerMLP(params, 156, 32, 2).to(device)\n",
    "net_vis = SlayerMLP(params, (50, 63, 2), 32, 2).to(device)\n",
    "net_mm = SlayerMM(params,2).to(device)"
   ]
  },
  {
   "cell_type": "code",
   "execution_count": 90,
   "metadata": {},
   "outputs": [],
   "source": [
    "# tact_run_dir = '/home/tasbolat/tas_python_env/.guild/runs/9fabec7798a94750bacc09a89873c848/tac_weights_700_05.pt'\n",
    "# vis_run_dir = '/home/tasbolat/tas_python_env/.guild/runs/eeb0be632c0c458cb228ee0a0f5b067b/vis_weights_500_05.pt'\n",
    "# mm_run_dir = '/home/tasbolat/tas_python_env/.guild/runs/69a7a91be54d4eb0bdb3df3d36d7a2ea/mm_weights_500_04.pt'\n",
    "\n",
    "tact_run_dir = '/home/tasbolat/tas_python_env/.guild/runs/1fb5f1ef21394fd9885c53fe4dc6ac52/tac_weights_700_05.pt'\n",
    "vis_run_dir = '/home/tasbolat/tas_python_env/.guild/runs/db9f5129dffe423782370a789d4f5c5e/vis_weights_500_05.pt'\n",
    "mm_run_dir = '/home/tasbolat/tas_python_env/.guild/runs/8706a321646c49218aca6ae83d4d3fc9/mm_weights_500_05.pt'\n",
    "\n",
    "\n",
    "data_dir = '/home/tasbolat/some_python_examples/data_VT_SNN_new/slip_data/'"
   ]
  },
  {
   "cell_type": "code",
   "execution_count": 91,
   "metadata": {},
   "outputs": [],
   "source": [
    "def load_model(path_to_model, model_type):\n",
    "    if model_type == 'tac':\n",
    "        net = copy.deepcopy(net_tact)\n",
    "    elif model_type == 'vis':\n",
    "        net = copy.deepcopy(net_vis)\n",
    "    elif model_type == 'mm':\n",
    "        net = copy.deepcopy(net_mm)\n",
    "    \n",
    "    net.load_state_dict(torch.load(path_to_model))\n",
    "    return net"
   ]
  },
  {
   "cell_type": "code",
   "execution_count": 92,
   "metadata": {},
   "outputs": [
    {
     "data": {
      "text/plain": [
       "SlayerMLP(\n",
       "  (slayer): spikeLayer()\n",
       "  (fc1): _denseLayer(156, 32, kernel_size=(1, 1, 1), stride=(1, 1, 1), bias=False)\n",
       "  (fc2): _denseLayer(32, 2, kernel_size=(1, 1, 1), stride=(1, 1, 1), bias=False)\n",
       ")"
      ]
     },
     "execution_count": 92,
     "metadata": {},
     "output_type": "execute_result"
    }
   ],
   "source": [
    "net_vis = load_model(vis_run_dir, 'vis')\n",
    "net_vis.eval()\n",
    "\n",
    "net_mm = load_model(mm_run_dir, 'mm')\n",
    "net_mm.eval()\n",
    "\n",
    "net_tact = load_model(tact_run_dir, 'tac')\n",
    "net_tact.eval()"
   ]
  },
  {
   "cell_type": "code",
   "execution_count": 93,
   "metadata": {},
   "outputs": [],
   "source": [
    "sample_file = 5\n",
    "test_dataset = ViTacMMDataset(\n",
    "    path=data_dir, sample_file=f\"test_80_20_{sample_file}.txt\", output_size=20\n",
    ")\n",
    "test_loader = DataLoader(\n",
    "    dataset=test_dataset, batch_size=80, shuffle=False, num_workers=4\n",
    ")"
   ]
  },
  {
   "cell_type": "code",
   "execution_count": 94,
   "metadata": {},
   "outputs": [],
   "source": [
    "import math\n",
    "\n",
    "def quat_angle2(q1,q2):\n",
    "    dotp=np.dot(q1,q2)/np.linalg.norm(q1)/np.linalg.norm(q2)\n",
    "    return np.arccos(dotp)/math.pi*180"
   ]
  },
  {
   "cell_type": "code",
   "execution_count": 95,
   "metadata": {},
   "outputs": [
    {
     "data": {
      "image/png": "[encoded data removed]",
      "text/plain": [
       "<Figure size 432x288 with 1 Axes>"
      ]
     },
     "metadata": {},
     "output_type": "display_data"
    }
   ],
   "source": [
    "recording = np.loadtxt(\"rotate_03.worldobj\")\n",
    "rec_len = recording.shape[0]\n",
    "time_vec = recording[:,1] + recording[:,2] * 10**-9\n",
    "time_vec -= time_vec[0]\n",
    "abs_angle = np.array([quat_angle2(recording[0,6:10],recording[i,6:10]) for i in range(rec_len)])\n",
    "plt.plot((time_vec[124:143]-time_vec[124]) * 1000, abs_angle[124:143])\n",
    "plt.yscale(\"log\")"
   ]
  },
  {
   "cell_type": "code",
   "execution_count": 96,
   "metadata": {},
   "outputs": [],
   "source": [
    "def plot_spikes(example, model_type):\n",
    "    tact, vis, _, label = example\n",
    "    input_index = 0\n",
    "    tact = tact.unsqueeze(0).to(device=\"cuda\")\n",
    "    vis = vis.unsqueeze(0).to(device=\"cuda\")\n",
    "    if model_type == 'vis':\n",
    "        out_spike = net_vis.forward(vis)\n",
    "    elif model_type == 'tac':\n",
    "        out_spike = net_tact.forward(tact)\n",
    "    else:\n",
    "        out_spike = net_mm.forward(tact, vis)\n",
    "        \n",
    "    ss = out_spike.squeeze().detach().cpu().numpy()\n",
    "    lab = np.argmax(np.sum(ss, axis=1))\n",
    "    return ss, lab"
   ]
  },
  {
   "cell_type": "code",
   "execution_count": 100,
   "metadata": {},
   "outputs": [],
   "source": [
    "example = 12\n",
    "output_spikes = {}\n",
    "labels = {}\n",
    "for mode_type in ['tac', 'vis', 'mm']:\n",
    "    _, _, _,label = test_dataset[example]\n",
    "    output_spikes[mode_type], _ = plot_spikes(test_dataset[example], mode_type)"
   ]
  },
  {
   "cell_type": "code",
   "execution_count": 101,
   "metadata": {},
   "outputs": [
    {
     "name": "stdout",
     "output_type": "stream",
     "text": [
      "1\n"
     ]
    }
   ],
   "source": [
    "print(label)"
   ]
  },
  {
   "cell_type": "code",
   "execution_count": 102,
   "metadata": {},
   "outputs": [
    {
     "data": {
      "image/png": "[encoded data removed]",
      "text/plain": [
       "<Figure size 252x252 with 4 Axes>"
      ]
     },
     "metadata": {},
     "output_type": "display_data"
    }
   ],
   "source": [
    "sns.set(rc={\"xtick.bottom\" : True, \"ytick.left\" : True, 'font.sans-serif': 'Liberation Sans'},context='paper',\n",
    "        style='white', palette='Set1')\n",
    "fig, ax = plt.subplots(figsize=[3.5, 3.5], nrows=4, sharex=True, gridspec_kw={'height_ratios': [2.5, 1, 1, 1]})\n",
    "# ax = ax.tolist()\n",
    "# ax = [ax[3]] + ax[:3]\n",
    "cols = [sns.palettes.color_palette('Set1')[1], sns.palettes.color_palette('Set1')[0], sns.palettes.color_palette('Set1')[2]]\n",
    "cols_tact = [cols[0]] * 1 + [cols[1]]\n",
    "cols_corr = [cols[0]] * 1 + [cols[2]]\n",
    "ax[1].eventplot([np.argwhere(output_spikes['tac'][i] == 1).flatten() for i in range(2)], colors=cols_corr)\n",
    "plt.xticks(np.arange(0, 150, 50), np.arange(0, 150, 50) * (0.15/150))\n",
    "# ax[1].set_xticks(np.arange(0, 150, 10), minor=True)\n",
    "# ax[1].tick_params(axis='x', which='minor')\n",
    "ax[1].tick_params(labelsize=12)\n",
    "ax[2].eventplot([np.argwhere(output_spikes['vis'][i] == 1).flatten() for i in range(2)], colors=cols_corr)\n",
    "ax[3].eventplot([np.argwhere(output_spikes['mm'][i] == 1).flatten() for i in range(2)], colors=cols_corr)\n",
    "plt.xticks(np.arange(0, 150, 50), np.arange(0, 150, 50) * (0.15/150))\n",
    "ax[2].set_xticks(np.arange(0, 150, 10), minor=True)\n",
    "ax[2].tick_params(axis='x', which='minor')\n",
    "ax[1].set_ylim([-0.5, 1.5])\n",
    "ax[2].set_ylim([-0.5, 1.5])\n",
    "ax[3].set_ylim([-0.5, 1.5])\n",
    "plt.xlim([0, 150])\n",
    "ax[2].set_yticks([])\n",
    "ax[1].set_yticks([])\n",
    "ax[3].set_yticks([])\n",
    "# plot.yticks(np.arange(0.4, 1.1, .1))\n",
    "ax[2].tick_params(labelsize=12)\n",
    "ax[1].set_ylabel('Tactile', fontsize=9)\n",
    "ax[2].set_ylabel('Vision', fontsize=9)\n",
    "ax[3].set_ylabel('Combined', fontsize=9)\n",
    "\n",
    "ax[1].set_yticks(np.arange(0, 2, 1), minor=True)\n",
    "ax[1].tick_params(axis='y', which='minor')\n",
    "ax[2].set_yticks(np.arange(0, 2, 1), minor=True)\n",
    "ax[2].tick_params(axis='y', which='minor')\n",
    "ax[3].set_yticks(np.arange(0, 2, 1), minor=True)\n",
    "ax[3].tick_params(axis='y', which='minor')\n",
    "\n",
    "\n",
    "ax[0].plot((time_vec[124:143]-time_vec[124]) * 1000, abs_angle[124:143])\n",
    "ax[0].set_yscale(\"log\")\n",
    "\n",
    "ax[3].tick_params(labelsize=9)\n",
    "plt.xticks(fontsize=9)\n",
    "# plot.yticks(fontsize=12)\n",
    "plt.xlabel('Time (s)', fontsize=9)\n",
    "# plot.ylabel('Tactile Spikes', fontsize=14)\n",
    "plt.tight_layout()\n",
    "plt.savefig('slip_class_output_new_L_w.pdf', dpi=300, bbox_inches='tight')\n",
    "plt.show()"
   ]
  },
  {
   "cell_type": "code",
   "execution_count": 103,
   "metadata": {},
   "outputs": [
    {
     "data": {
      "text/plain": [
       "(150,)"
      ]
     },
     "execution_count": 103,
     "metadata": {},
     "output_type": "execute_result"
    }
   ],
   "source": [
    "output_spikes['tac'][0].shape"
   ]
  },
  {
   "cell_type": "code",
   "execution_count": null,
   "metadata": {},
   "outputs": [],
   "source": []
  },
  {
   "cell_type": "code",
   "execution_count": null,
   "metadata": {},
   "outputs": [],
   "source": []
  }
 ],
 "metadata": {
  "kernelspec": {
   "display_name": "Python 3",
   "language": "python",
   "name": "python3"
  },
  "language_info": {
   "codemirror_mode": {
    "name": "ipython",
    "version": 3
   },
   "file_extension": ".py",
   "mimetype": "text/x-python",
   "name": "python",
   "nbconvert_exporter": "python",
   "pygments_lexer": "ipython3",
   "version": "3.6.8"
  }
 },
 "nbformat": 4,
 "nbformat_minor": 2
}
