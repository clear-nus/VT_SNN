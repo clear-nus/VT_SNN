{
 "cells": [
  {
   "cell_type": "code",
   "execution_count": 1,
   "metadata": {},
   "outputs": [],
   "source": [
    "import pandas as pd\n",
    "import numpy as np"
   ]
  },
  {
   "cell_type": "code",
   "execution_count": 9,
   "metadata": {},
   "outputs": [],
   "source": [
    "df = pd.read_csv('/home/tasbolat/some_python_examples/VT_SNN/rpg_event_representation_learning/jun16_rests.csv')"
   ]
  },
  {
   "cell_type": "code",
   "execution_count": 10,
   "metadata": {},
   "outputs": [
    {
     "data": {
      "text/plain": [
       "Index(['run', 'operation', 'started', 'time', 'status', 'label', 'batch_size',\n",
       "       'epochs', 'tsample', 'tsr_stop', 'sc_true', 'sc_false', 'lr', 'theta',\n",
       "       'tauRho', 'sample_file', 'hidden_size', 'loss_type', 'output_size',\n",
       "       'finger_type', 'loss_train', 'max_acc_train', 'loss_test',\n",
       "       'max_acc_test', 'acc_test', 'acc_train', 'bin_duration', 'modes',\n",
       "       'n_sample_per_object', 'remove_outlier', 'save_dir', 'selection',\n",
       "       'tactile_path', 'threshold', 'trajectory_path', 'video_path'],\n",
       "      dtype='object')"
      ]
     },
     "execution_count": 10,
     "metadata": {},
     "output_type": "execute_result"
    }
   ],
   "source": [
    "df.columns"
   ]
  },
  {
   "cell_type": "code",
   "execution_count": 11,
   "metadata": {},
   "outputs": [],
   "source": [
    "df = df[['operation', 'label', 'acc_test', 'max_acc_test', 'finger_type', 'sample_file']]"
   ]
  },
  {
   "cell_type": "code",
   "execution_count": 12,
   "metadata": {
    "scrolled": false
   },
   "outputs": [
    {
     "data": {
      "text/html": [
       "<div>\n",
       "<style scoped>\n",
       "    .dataframe tbody tr th:only-of-type {\n",
       "        vertical-align: middle;\n",
       "    }\n",
       "\n",
       "    .dataframe tbody tr th {\n",
       "        vertical-align: top;\n",
       "    }\n",
       "\n",
       "    .dataframe thead th {\n",
       "        text-align: right;\n",
       "    }\n",
       "</style>\n",
       "<table border=\"1\" class=\"dataframe\">\n",
       "  <thead>\n",
       "    <tr style=\"text-align: right;\">\n",
       "      <th></th>\n",
       "      <th>operation</th>\n",
       "      <th>label</th>\n",
       "      <th>acc_test</th>\n",
       "      <th>max_acc_test</th>\n",
       "      <th>finger_type</th>\n",
       "      <th>sample_file</th>\n",
       "    </tr>\n",
       "  </thead>\n",
       "  <tbody>\n",
       "    <tr>\n",
       "      <th>0</th>\n",
       "      <td>vtsnn6:tact-snn-2</td>\n",
       "      <td>batch_size=8 checkpoint_dir=. data_dir=/…/jun1...</td>\n",
       "      <td>0.466667</td>\n",
       "      <td>0.533333</td>\n",
       "      <td>0.0</td>\n",
       "      <td>3.0</td>\n",
       "    </tr>\n",
       "    <tr>\n",
       "      <th>1</th>\n",
       "      <td>vtsnn6:tact-snn-2</td>\n",
       "      <td>batch_size=8 checkpoint_dir=. data_dir=/…/jun1...</td>\n",
       "      <td>0.400000</td>\n",
       "      <td>0.466667</td>\n",
       "      <td>0.0</td>\n",
       "      <td>3.0</td>\n",
       "    </tr>\n",
       "    <tr>\n",
       "      <th>2</th>\n",
       "      <td>vtsnn6:tact-snn-2</td>\n",
       "      <td>batch_size=8 checkpoint_dir=. data_dir=/…/jun1...</td>\n",
       "      <td>0.466667</td>\n",
       "      <td>0.533333</td>\n",
       "      <td>0.0</td>\n",
       "      <td>3.0</td>\n",
       "    </tr>\n",
       "    <tr>\n",
       "      <th>3</th>\n",
       "      <td>vtsnn6:tact-snn-2</td>\n",
       "      <td>batch_size=8 checkpoint_dir=. data_dir=/…/jun1...</td>\n",
       "      <td>0.466667</td>\n",
       "      <td>0.466667</td>\n",
       "      <td>0.0</td>\n",
       "      <td>3.0</td>\n",
       "    </tr>\n",
       "    <tr>\n",
       "      <th>4</th>\n",
       "      <td>vtsnn6:tact-snn-2</td>\n",
       "      <td>batch_size=8 checkpoint_dir=. data_dir=/…/jun1...</td>\n",
       "      <td>0.000000</td>\n",
       "      <td>0.400000</td>\n",
       "      <td>0.0</td>\n",
       "      <td>3.0</td>\n",
       "    </tr>\n",
       "    <tr>\n",
       "      <th>...</th>\n",
       "      <td>...</td>\n",
       "      <td>...</td>\n",
       "      <td>...</td>\n",
       "      <td>...</td>\n",
       "      <td>...</td>\n",
       "      <td>...</td>\n",
       "    </tr>\n",
       "    <tr>\n",
       "      <th>60</th>\n",
       "      <td>vtsnn6:prepare-data</td>\n",
       "      <td>bin_duration=0.02 modes=tac n_sample_per_objec...</td>\n",
       "      <td>NaN</td>\n",
       "      <td>NaN</td>\n",
       "      <td>NaN</td>\n",
       "      <td>NaN</td>\n",
       "    </tr>\n",
       "    <tr>\n",
       "      <th>61</th>\n",
       "      <td>vtsnn6:prepare-data</td>\n",
       "      <td>bin_duration=0.02 modes=tac n_sample_per_objec...</td>\n",
       "      <td>NaN</td>\n",
       "      <td>NaN</td>\n",
       "      <td>NaN</td>\n",
       "      <td>NaN</td>\n",
       "    </tr>\n",
       "    <tr>\n",
       "      <th>62</th>\n",
       "      <td>vtsnn6:prepare-data</td>\n",
       "      <td>bin_duration=0.02 modes=tac n_sample_per_objec...</td>\n",
       "      <td>NaN</td>\n",
       "      <td>NaN</td>\n",
       "      <td>NaN</td>\n",
       "      <td>NaN</td>\n",
       "    </tr>\n",
       "    <tr>\n",
       "      <th>63</th>\n",
       "      <td>vtsnn6:prepare-data</td>\n",
       "      <td>bin_duration=0.02 modes=tac n_sample_per_objec...</td>\n",
       "      <td>NaN</td>\n",
       "      <td>NaN</td>\n",
       "      <td>NaN</td>\n",
       "      <td>NaN</td>\n",
       "    </tr>\n",
       "    <tr>\n",
       "      <th>64</th>\n",
       "      <td>vtsnn6:prepare-data</td>\n",
       "      <td>bin_duration=0.02 modes=tac n_sample_per_objec...</td>\n",
       "      <td>NaN</td>\n",
       "      <td>NaN</td>\n",
       "      <td>NaN</td>\n",
       "      <td>NaN</td>\n",
       "    </tr>\n",
       "  </tbody>\n",
       "</table>\n",
       "<p>65 rows × 6 columns</p>\n",
       "</div>"
      ],
      "text/plain": [
       "              operation                                              label  \\\n",
       "0     vtsnn6:tact-snn-2  batch_size=8 checkpoint_dir=. data_dir=/…/jun1...   \n",
       "1     vtsnn6:tact-snn-2  batch_size=8 checkpoint_dir=. data_dir=/…/jun1...   \n",
       "2     vtsnn6:tact-snn-2  batch_size=8 checkpoint_dir=. data_dir=/…/jun1...   \n",
       "3     vtsnn6:tact-snn-2  batch_size=8 checkpoint_dir=. data_dir=/…/jun1...   \n",
       "4     vtsnn6:tact-snn-2  batch_size=8 checkpoint_dir=. data_dir=/…/jun1...   \n",
       "..                  ...                                                ...   \n",
       "60  vtsnn6:prepare-data  bin_duration=0.02 modes=tac n_sample_per_objec...   \n",
       "61  vtsnn6:prepare-data  bin_duration=0.02 modes=tac n_sample_per_objec...   \n",
       "62  vtsnn6:prepare-data  bin_duration=0.02 modes=tac n_sample_per_objec...   \n",
       "63  vtsnn6:prepare-data  bin_duration=0.02 modes=tac n_sample_per_objec...   \n",
       "64  vtsnn6:prepare-data  bin_duration=0.02 modes=tac n_sample_per_objec...   \n",
       "\n",
       "    acc_test  max_acc_test  finger_type  sample_file  \n",
       "0   0.466667      0.533333          0.0          3.0  \n",
       "1   0.400000      0.466667          0.0          3.0  \n",
       "2   0.466667      0.533333          0.0          3.0  \n",
       "3   0.466667      0.466667          0.0          3.0  \n",
       "4   0.000000      0.400000          0.0          3.0  \n",
       "..       ...           ...          ...          ...  \n",
       "60       NaN           NaN          NaN          NaN  \n",
       "61       NaN           NaN          NaN          NaN  \n",
       "62       NaN           NaN          NaN          NaN  \n",
       "63       NaN           NaN          NaN          NaN  \n",
       "64       NaN           NaN          NaN          NaN  \n",
       "\n",
       "[65 rows x 6 columns]"
      ]
     },
     "execution_count": 12,
     "metadata": {},
     "output_type": "execute_result"
    }
   ],
   "source": [
    "df"
   ]
  },
  {
   "cell_type": "code",
   "execution_count": 21,
   "metadata": {},
   "outputs": [],
   "source": [
    "left = df.finger_type==0\n",
    "right = df.finger_type==1\n",
    "rpg = df.operation.str.contains('rpg')\n",
    "snn = df.operation.str.contains('tact-snn')\n",
    "v = df.label.str.contains('dummy_v')\n",
    "x = df.label.str.contains('dummy_x')\n",
    "y = df.label.str.contains('dummy_y')\n",
    "z = df.label.str.contains('dummy_z')\n",
    "w = df.label.str.contains('dummy_w')"
   ]
  },
  {
   "cell_type": "markdown",
   "metadata": {},
   "source": [
    "### V"
   ]
  },
  {
   "cell_type": "code",
   "execution_count": 31,
   "metadata": {},
   "outputs": [
    {
     "data": {
      "text/html": [
       "<div>\n",
       "<style scoped>\n",
       "    .dataframe tbody tr th:only-of-type {\n",
       "        vertical-align: middle;\n",
       "    }\n",
       "\n",
       "    .dataframe tbody tr th {\n",
       "        vertical-align: top;\n",
       "    }\n",
       "\n",
       "    .dataframe thead th {\n",
       "        text-align: right;\n",
       "    }\n",
       "</style>\n",
       "<table border=\"1\" class=\"dataframe\">\n",
       "  <thead>\n",
       "    <tr style=\"text-align: right;\">\n",
       "      <th></th>\n",
       "      <th>operation</th>\n",
       "      <th>label</th>\n",
       "      <th>acc_test</th>\n",
       "      <th>max_acc_test</th>\n",
       "      <th>finger_type</th>\n",
       "      <th>sample_file</th>\n",
       "    </tr>\n",
       "  </thead>\n",
       "  <tbody>\n",
       "    <tr>\n",
       "      <th>9</th>\n",
       "      <td>vtsnn6:tac_rpg_2</td>\n",
       "      <td>batch_size=4 checkpoint_dir=. data_dir=/…/jun1...</td>\n",
       "      <td>0.666667</td>\n",
       "      <td>0.666667</td>\n",
       "      <td>1.0</td>\n",
       "      <td>3.0</td>\n",
       "    </tr>\n",
       "    <tr>\n",
       "      <th>19</th>\n",
       "      <td>vtsnn6:tac_rpg_2</td>\n",
       "      <td>batch_size=4 checkpoint_dir=. data_dir=/…/jun1...</td>\n",
       "      <td>0.600000</td>\n",
       "      <td>0.666667</td>\n",
       "      <td>1.0</td>\n",
       "      <td>2.0</td>\n",
       "    </tr>\n",
       "    <tr>\n",
       "      <th>20</th>\n",
       "      <td>vtsnn6:tac_rpg_2</td>\n",
       "      <td>batch_size=4 checkpoint_dir=. data_dir=/…/jun1...</td>\n",
       "      <td>0.600000</td>\n",
       "      <td>0.600000</td>\n",
       "      <td>1.0</td>\n",
       "      <td>3.0</td>\n",
       "    </tr>\n",
       "    <tr>\n",
       "      <th>28</th>\n",
       "      <td>vtsnn6:tac_rpg_2</td>\n",
       "      <td>batch_size=4 checkpoint_dir=. data_dir=/…/jun1...</td>\n",
       "      <td>0.533333</td>\n",
       "      <td>0.600000</td>\n",
       "      <td>1.0</td>\n",
       "      <td>1.0</td>\n",
       "    </tr>\n",
       "    <tr>\n",
       "      <th>31</th>\n",
       "      <td>vtsnn6:tac_rpg_2</td>\n",
       "      <td>batch_size=4 checkpoint_dir=. data_dir=/…/jun1...</td>\n",
       "      <td>0.600000</td>\n",
       "      <td>0.666667</td>\n",
       "      <td>1.0</td>\n",
       "      <td>2.0</td>\n",
       "    </tr>\n",
       "    <tr>\n",
       "      <th>40</th>\n",
       "      <td>vtsnn6:tac_rpg_2</td>\n",
       "      <td>batch_size=4 checkpoint_dir=. data_dir=/…/jun1...</td>\n",
       "      <td>0.600000</td>\n",
       "      <td>0.600000</td>\n",
       "      <td>1.0</td>\n",
       "      <td>1.0</td>\n",
       "    </tr>\n",
       "  </tbody>\n",
       "</table>\n",
       "</div>"
      ],
      "text/plain": [
       "           operation                                              label  \\\n",
       "9   vtsnn6:tac_rpg_2  batch_size=4 checkpoint_dir=. data_dir=/…/jun1...   \n",
       "19  vtsnn6:tac_rpg_2  batch_size=4 checkpoint_dir=. data_dir=/…/jun1...   \n",
       "20  vtsnn6:tac_rpg_2  batch_size=4 checkpoint_dir=. data_dir=/…/jun1...   \n",
       "28  vtsnn6:tac_rpg_2  batch_size=4 checkpoint_dir=. data_dir=/…/jun1...   \n",
       "31  vtsnn6:tac_rpg_2  batch_size=4 checkpoint_dir=. data_dir=/…/jun1...   \n",
       "40  vtsnn6:tac_rpg_2  batch_size=4 checkpoint_dir=. data_dir=/…/jun1...   \n",
       "\n",
       "    acc_test  max_acc_test  finger_type  sample_file  \n",
       "9   0.666667      0.666667          1.0          3.0  \n",
       "19  0.600000      0.666667          1.0          2.0  \n",
       "20  0.600000      0.600000          1.0          3.0  \n",
       "28  0.533333      0.600000          1.0          1.0  \n",
       "31  0.600000      0.666667          1.0          2.0  \n",
       "40  0.600000      0.600000          1.0          1.0  "
      ]
     },
     "execution_count": 31,
     "metadata": {},
     "output_type": "execute_result"
    }
   ],
   "source": [
    "df.loc[rpg & right & v]"
   ]
  },
  {
   "cell_type": "code",
   "execution_count": 33,
   "metadata": {},
   "outputs": [
    {
     "data": {
      "text/plain": [
       "0.6333333551883698"
      ]
     },
     "execution_count": 33,
     "metadata": {},
     "output_type": "execute_result"
    }
   ],
   "source": [
    "df.loc[rpg & right & v, 'max_acc_test'].mean()"
   ]
  },
  {
   "cell_type": "code",
   "execution_count": 42,
   "metadata": {},
   "outputs": [
    {
     "data": {
      "text/plain": [
       "0.5777777930100759"
      ]
     },
     "execution_count": 42,
     "metadata": {},
     "output_type": "execute_result"
    }
   ],
   "source": [
    "df.loc[snn & right & v, 'max_acc_test'].mean()"
   ]
  },
  {
   "cell_type": "markdown",
   "metadata": {},
   "source": [
    "## w"
   ]
  },
  {
   "cell_type": "code",
   "execution_count": 34,
   "metadata": {},
   "outputs": [
    {
     "data": {
      "text/html": [
       "<div>\n",
       "<style scoped>\n",
       "    .dataframe tbody tr th:only-of-type {\n",
       "        vertical-align: middle;\n",
       "    }\n",
       "\n",
       "    .dataframe tbody tr th {\n",
       "        vertical-align: top;\n",
       "    }\n",
       "\n",
       "    .dataframe thead th {\n",
       "        text-align: right;\n",
       "    }\n",
       "</style>\n",
       "<table border=\"1\" class=\"dataframe\">\n",
       "  <thead>\n",
       "    <tr style=\"text-align: right;\">\n",
       "      <th></th>\n",
       "      <th>operation</th>\n",
       "      <th>label</th>\n",
       "      <th>acc_test</th>\n",
       "      <th>max_acc_test</th>\n",
       "      <th>finger_type</th>\n",
       "      <th>sample_file</th>\n",
       "    </tr>\n",
       "  </thead>\n",
       "  <tbody>\n",
       "    <tr>\n",
       "      <th>8</th>\n",
       "      <td>vtsnn6:tac_rpg_2</td>\n",
       "      <td>batch_size=4 checkpoint_dir=. data_dir=/…/jun1...</td>\n",
       "      <td>0.733333</td>\n",
       "      <td>0.733333</td>\n",
       "      <td>1.0</td>\n",
       "      <td>3.0</td>\n",
       "    </tr>\n",
       "    <tr>\n",
       "      <th>18</th>\n",
       "      <td>vtsnn6:tac_rpg_2</td>\n",
       "      <td>batch_size=4 checkpoint_dir=. data_dir=/…/jun1...</td>\n",
       "      <td>0.400000</td>\n",
       "      <td>0.466667</td>\n",
       "      <td>1.0</td>\n",
       "      <td>2.0</td>\n",
       "    </tr>\n",
       "    <tr>\n",
       "      <th>23</th>\n",
       "      <td>vtsnn6:tac_rpg_2</td>\n",
       "      <td>batch_size=4 checkpoint_dir=. data_dir=/…/jun1...</td>\n",
       "      <td>0.666667</td>\n",
       "      <td>0.733333</td>\n",
       "      <td>1.0</td>\n",
       "      <td>3.0</td>\n",
       "    </tr>\n",
       "    <tr>\n",
       "      <th>27</th>\n",
       "      <td>vtsnn6:tac_rpg_2</td>\n",
       "      <td>batch_size=4 checkpoint_dir=. data_dir=/…/jun1...</td>\n",
       "      <td>0.466667</td>\n",
       "      <td>0.466667</td>\n",
       "      <td>1.0</td>\n",
       "      <td>1.0</td>\n",
       "    </tr>\n",
       "    <tr>\n",
       "      <th>34</th>\n",
       "      <td>vtsnn6:tac_rpg_2</td>\n",
       "      <td>batch_size=4 checkpoint_dir=. data_dir=/…/jun1...</td>\n",
       "      <td>0.333333</td>\n",
       "      <td>0.600000</td>\n",
       "      <td>1.0</td>\n",
       "      <td>2.0</td>\n",
       "    </tr>\n",
       "    <tr>\n",
       "      <th>41</th>\n",
       "      <td>vtsnn6:tac_rpg_2</td>\n",
       "      <td>batch_size=4 checkpoint_dir=. data_dir=/…/jun1...</td>\n",
       "      <td>0.466667</td>\n",
       "      <td>0.466667</td>\n",
       "      <td>1.0</td>\n",
       "      <td>1.0</td>\n",
       "    </tr>\n",
       "  </tbody>\n",
       "</table>\n",
       "</div>"
      ],
      "text/plain": [
       "           operation                                              label  \\\n",
       "8   vtsnn6:tac_rpg_2  batch_size=4 checkpoint_dir=. data_dir=/…/jun1...   \n",
       "18  vtsnn6:tac_rpg_2  batch_size=4 checkpoint_dir=. data_dir=/…/jun1...   \n",
       "23  vtsnn6:tac_rpg_2  batch_size=4 checkpoint_dir=. data_dir=/…/jun1...   \n",
       "27  vtsnn6:tac_rpg_2  batch_size=4 checkpoint_dir=. data_dir=/…/jun1...   \n",
       "34  vtsnn6:tac_rpg_2  batch_size=4 checkpoint_dir=. data_dir=/…/jun1...   \n",
       "41  vtsnn6:tac_rpg_2  batch_size=4 checkpoint_dir=. data_dir=/…/jun1...   \n",
       "\n",
       "    acc_test  max_acc_test  finger_type  sample_file  \n",
       "8   0.733333      0.733333          1.0          3.0  \n",
       "18  0.400000      0.466667          1.0          2.0  \n",
       "23  0.666667      0.733333          1.0          3.0  \n",
       "27  0.466667      0.466667          1.0          1.0  \n",
       "34  0.333333      0.600000          1.0          2.0  \n",
       "41  0.466667      0.466667          1.0          1.0  "
      ]
     },
     "execution_count": 34,
     "metadata": {},
     "output_type": "execute_result"
    }
   ],
   "source": [
    "df.loc[rpg & right & w]"
   ]
  },
  {
   "cell_type": "code",
   "execution_count": 35,
   "metadata": {},
   "outputs": [
    {
     "data": {
      "text/plain": [
       "0.5777777880430222"
      ]
     },
     "execution_count": 35,
     "metadata": {},
     "output_type": "execute_result"
    }
   ],
   "source": [
    "df.loc[rpg & right & w, 'max_acc_test'].mean()"
   ]
  },
  {
   "cell_type": "code",
   "execution_count": 48,
   "metadata": {},
   "outputs": [
    {
     "data": {
      "text/html": [
       "<div>\n",
       "<style scoped>\n",
       "    .dataframe tbody tr th:only-of-type {\n",
       "        vertical-align: middle;\n",
       "    }\n",
       "\n",
       "    .dataframe tbody tr th {\n",
       "        vertical-align: top;\n",
       "    }\n",
       "\n",
       "    .dataframe thead th {\n",
       "        text-align: right;\n",
       "    }\n",
       "</style>\n",
       "<table border=\"1\" class=\"dataframe\">\n",
       "  <thead>\n",
       "    <tr style=\"text-align: right;\">\n",
       "      <th></th>\n",
       "      <th>operation</th>\n",
       "      <th>label</th>\n",
       "      <th>acc_test</th>\n",
       "      <th>max_acc_test</th>\n",
       "      <th>finger_type</th>\n",
       "      <th>sample_file</th>\n",
       "    </tr>\n",
       "  </thead>\n",
       "  <tbody>\n",
       "    <tr>\n",
       "      <th>44</th>\n",
       "      <td>vtsnn6:tact-snn-2</td>\n",
       "      <td>batch_size=8 checkpoint_dir=. data_dir=/…/jun1...</td>\n",
       "      <td>0.400000</td>\n",
       "      <td>0.600000</td>\n",
       "      <td>1.0</td>\n",
       "      <td>3.0</td>\n",
       "    </tr>\n",
       "    <tr>\n",
       "      <th>48</th>\n",
       "      <td>vtsnn6:tact-snn-2</td>\n",
       "      <td>batch_size=8 checkpoint_dir=. data_dir=/…/jun1...</td>\n",
       "      <td>0.533333</td>\n",
       "      <td>0.666667</td>\n",
       "      <td>1.0</td>\n",
       "      <td>2.0</td>\n",
       "    </tr>\n",
       "    <tr>\n",
       "      <th>51</th>\n",
       "      <td>vtsnn6:tact-snn-2</td>\n",
       "      <td>batch_size=8 checkpoint_dir=. data_dir=/…/jun1...</td>\n",
       "      <td>0.400000</td>\n",
       "      <td>0.400000</td>\n",
       "      <td>1.0</td>\n",
       "      <td>1.0</td>\n",
       "    </tr>\n",
       "  </tbody>\n",
       "</table>\n",
       "</div>"
      ],
      "text/plain": [
       "            operation                                              label  \\\n",
       "44  vtsnn6:tact-snn-2  batch_size=8 checkpoint_dir=. data_dir=/…/jun1...   \n",
       "48  vtsnn6:tact-snn-2  batch_size=8 checkpoint_dir=. data_dir=/…/jun1...   \n",
       "51  vtsnn6:tact-snn-2  batch_size=8 checkpoint_dir=. data_dir=/…/jun1...   \n",
       "\n",
       "    acc_test  max_acc_test  finger_type  sample_file  \n",
       "44  0.400000      0.600000          1.0          3.0  \n",
       "48  0.533333      0.666667          1.0          2.0  \n",
       "51  0.400000      0.400000          1.0          1.0  "
      ]
     },
     "execution_count": 48,
     "metadata": {},
     "output_type": "execute_result"
    }
   ],
   "source": [
    "df.loc[snn & right & w]"
   ]
  },
  {
   "cell_type": "code",
   "execution_count": 43,
   "metadata": {},
   "outputs": [
    {
     "data": {
      "text/plain": [
       "0.5555555721124014"
      ]
     },
     "execution_count": 43,
     "metadata": {},
     "output_type": "execute_result"
    }
   ],
   "source": [
    "df.loc[snn & right & w, 'max_acc_test'].mean()"
   ]
  },
  {
   "cell_type": "markdown",
   "metadata": {},
   "source": [
    "### x"
   ]
  },
  {
   "cell_type": "code",
   "execution_count": 36,
   "metadata": {},
   "outputs": [
    {
     "data": {
      "text/html": [
       "<div>\n",
       "<style scoped>\n",
       "    .dataframe tbody tr th:only-of-type {\n",
       "        vertical-align: middle;\n",
       "    }\n",
       "\n",
       "    .dataframe tbody tr th {\n",
       "        vertical-align: top;\n",
       "    }\n",
       "\n",
       "    .dataframe thead th {\n",
       "        text-align: right;\n",
       "    }\n",
       "</style>\n",
       "<table border=\"1\" class=\"dataframe\">\n",
       "  <thead>\n",
       "    <tr style=\"text-align: right;\">\n",
       "      <th></th>\n",
       "      <th>operation</th>\n",
       "      <th>label</th>\n",
       "      <th>acc_test</th>\n",
       "      <th>max_acc_test</th>\n",
       "      <th>finger_type</th>\n",
       "      <th>sample_file</th>\n",
       "    </tr>\n",
       "  </thead>\n",
       "  <tbody>\n",
       "    <tr>\n",
       "      <th>6</th>\n",
       "      <td>vtsnn6:tac_rpg_2</td>\n",
       "      <td>batch_size=4 checkpoint_dir=. data_dir=/…/jun1...</td>\n",
       "      <td>0.400000</td>\n",
       "      <td>0.466667</td>\n",
       "      <td>1.0</td>\n",
       "      <td>3.0</td>\n",
       "    </tr>\n",
       "    <tr>\n",
       "      <th>16</th>\n",
       "      <td>vtsnn6:tac_rpg_2</td>\n",
       "      <td>batch_size=4 checkpoint_dir=. data_dir=/…/jun1...</td>\n",
       "      <td>0.466667</td>\n",
       "      <td>0.533333</td>\n",
       "      <td>1.0</td>\n",
       "      <td>2.0</td>\n",
       "    </tr>\n",
       "    <tr>\n",
       "      <th>21</th>\n",
       "      <td>vtsnn6:tac_rpg_2</td>\n",
       "      <td>batch_size=4 checkpoint_dir=. data_dir=/…/jun1...</td>\n",
       "      <td>0.466667</td>\n",
       "      <td>0.533333</td>\n",
       "      <td>1.0</td>\n",
       "      <td>3.0</td>\n",
       "    </tr>\n",
       "    <tr>\n",
       "      <th>26</th>\n",
       "      <td>vtsnn6:tac_rpg_2</td>\n",
       "      <td>batch_size=4 checkpoint_dir=. data_dir=/…/jun1...</td>\n",
       "      <td>0.200000</td>\n",
       "      <td>0.266667</td>\n",
       "      <td>1.0</td>\n",
       "      <td>1.0</td>\n",
       "    </tr>\n",
       "    <tr>\n",
       "      <th>36</th>\n",
       "      <td>vtsnn6:tac_rpg_2</td>\n",
       "      <td>batch_size=4 checkpoint_dir=. data_dir=/…/jun1...</td>\n",
       "      <td>0.466667</td>\n",
       "      <td>0.600000</td>\n",
       "      <td>1.0</td>\n",
       "      <td>2.0</td>\n",
       "    </tr>\n",
       "    <tr>\n",
       "      <th>43</th>\n",
       "      <td>vtsnn6:tac_rpg_2</td>\n",
       "      <td>batch_size=4 checkpoint_dir=. data_dir=/…/jun1...</td>\n",
       "      <td>0.333333</td>\n",
       "      <td>0.466667</td>\n",
       "      <td>1.0</td>\n",
       "      <td>1.0</td>\n",
       "    </tr>\n",
       "  </tbody>\n",
       "</table>\n",
       "</div>"
      ],
      "text/plain": [
       "           operation                                              label  \\\n",
       "6   vtsnn6:tac_rpg_2  batch_size=4 checkpoint_dir=. data_dir=/…/jun1...   \n",
       "16  vtsnn6:tac_rpg_2  batch_size=4 checkpoint_dir=. data_dir=/…/jun1...   \n",
       "21  vtsnn6:tac_rpg_2  batch_size=4 checkpoint_dir=. data_dir=/…/jun1...   \n",
       "26  vtsnn6:tac_rpg_2  batch_size=4 checkpoint_dir=. data_dir=/…/jun1...   \n",
       "36  vtsnn6:tac_rpg_2  batch_size=4 checkpoint_dir=. data_dir=/…/jun1...   \n",
       "43  vtsnn6:tac_rpg_2  batch_size=4 checkpoint_dir=. data_dir=/…/jun1...   \n",
       "\n",
       "    acc_test  max_acc_test  finger_type  sample_file  \n",
       "6   0.400000      0.466667          1.0          3.0  \n",
       "16  0.466667      0.533333          1.0          2.0  \n",
       "21  0.466667      0.533333          1.0          3.0  \n",
       "26  0.200000      0.266667          1.0          1.0  \n",
       "36  0.466667      0.600000          1.0          2.0  \n",
       "43  0.333333      0.466667          1.0          1.0  "
      ]
     },
     "execution_count": 36,
     "metadata": {},
     "output_type": "execute_result"
    }
   ],
   "source": [
    "df.loc[rpg & right & x]"
   ]
  },
  {
   "cell_type": "code",
   "execution_count": 37,
   "metadata": {},
   "outputs": [
    {
     "data": {
      "text/plain": [
       "0.47777779400348663"
      ]
     },
     "execution_count": 37,
     "metadata": {},
     "output_type": "execute_result"
    }
   ],
   "source": [
    "df.loc[rpg & right & x, 'max_acc_test'].mean()"
   ]
  },
  {
   "cell_type": "code",
   "execution_count": 44,
   "metadata": {},
   "outputs": [
    {
     "data": {
      "text/plain": [
       "0.35555556416511536"
      ]
     },
     "execution_count": 44,
     "metadata": {},
     "output_type": "execute_result"
    }
   ],
   "source": [
    "df.loc[snn & right & x, 'max_acc_test'].mean()"
   ]
  },
  {
   "cell_type": "markdown",
   "metadata": {},
   "source": [
    "## y"
   ]
  },
  {
   "cell_type": "code",
   "execution_count": 38,
   "metadata": {},
   "outputs": [
    {
     "data": {
      "text/plain": [
       "0.5555555721124014"
      ]
     },
     "execution_count": 38,
     "metadata": {},
     "output_type": "execute_result"
    }
   ],
   "source": [
    "df.loc[rpg & right & y, 'max_acc_test'].mean()"
   ]
  },
  {
   "cell_type": "code",
   "execution_count": 45,
   "metadata": {},
   "outputs": [
    {
     "data": {
      "text/plain": [
       "0.4000000059604645"
      ]
     },
     "execution_count": 45,
     "metadata": {},
     "output_type": "execute_result"
    }
   ],
   "source": [
    "df.loc[snn & right & y, 'max_acc_test'].mean()"
   ]
  },
  {
   "cell_type": "markdown",
   "metadata": {},
   "source": [
    "## z"
   ]
  },
  {
   "cell_type": "code",
   "execution_count": 41,
   "metadata": {},
   "outputs": [
    {
     "data": {
      "text/html": [
       "<div>\n",
       "<style scoped>\n",
       "    .dataframe tbody tr th:only-of-type {\n",
       "        vertical-align: middle;\n",
       "    }\n",
       "\n",
       "    .dataframe tbody tr th {\n",
       "        vertical-align: top;\n",
       "    }\n",
       "\n",
       "    .dataframe thead th {\n",
       "        text-align: right;\n",
       "    }\n",
       "</style>\n",
       "<table border=\"1\" class=\"dataframe\">\n",
       "  <thead>\n",
       "    <tr style=\"text-align: right;\">\n",
       "      <th></th>\n",
       "      <th>operation</th>\n",
       "      <th>label</th>\n",
       "      <th>acc_test</th>\n",
       "      <th>max_acc_test</th>\n",
       "      <th>finger_type</th>\n",
       "      <th>sample_file</th>\n",
       "    </tr>\n",
       "  </thead>\n",
       "  <tbody>\n",
       "    <tr>\n",
       "      <th>7</th>\n",
       "      <td>vtsnn6:tac_rpg_2</td>\n",
       "      <td>batch_size=4 checkpoint_dir=. data_dir=/…/jun1...</td>\n",
       "      <td>0.466667</td>\n",
       "      <td>0.600000</td>\n",
       "      <td>1.0</td>\n",
       "      <td>3.0</td>\n",
       "    </tr>\n",
       "    <tr>\n",
       "      <th>14</th>\n",
       "      <td>vtsnn6:tac_rpg_2</td>\n",
       "      <td>batch_size=4 checkpoint_dir=. data_dir=/…/jun1...</td>\n",
       "      <td>0.533333</td>\n",
       "      <td>0.533333</td>\n",
       "      <td>1.0</td>\n",
       "      <td>2.0</td>\n",
       "    </tr>\n",
       "    <tr>\n",
       "      <th>24</th>\n",
       "      <td>vtsnn6:tac_rpg_2</td>\n",
       "      <td>batch_size=4 checkpoint_dir=. data_dir=/…/jun1...</td>\n",
       "      <td>0.800000</td>\n",
       "      <td>0.800000</td>\n",
       "      <td>1.0</td>\n",
       "      <td>1.0</td>\n",
       "    </tr>\n",
       "    <tr>\n",
       "      <th>32</th>\n",
       "      <td>vtsnn6:tac_rpg_2</td>\n",
       "      <td>batch_size=4 checkpoint_dir=. data_dir=/…/jun1...</td>\n",
       "      <td>0.400000</td>\n",
       "      <td>0.533333</td>\n",
       "      <td>1.0</td>\n",
       "      <td>3.0</td>\n",
       "    </tr>\n",
       "    <tr>\n",
       "      <th>39</th>\n",
       "      <td>vtsnn6:tac_rpg_2</td>\n",
       "      <td>batch_size=4 checkpoint_dir=. data_dir=/…/jun1...</td>\n",
       "      <td>0.533333</td>\n",
       "      <td>0.600000</td>\n",
       "      <td>1.0</td>\n",
       "      <td>2.0</td>\n",
       "    </tr>\n",
       "    <tr>\n",
       "      <th>45</th>\n",
       "      <td>vtsnn6:tac_rpg_2</td>\n",
       "      <td>batch_size=4 checkpoint_dir=. data_dir=/…/jun1...</td>\n",
       "      <td>0.666667</td>\n",
       "      <td>0.733333</td>\n",
       "      <td>1.0</td>\n",
       "      <td>1.0</td>\n",
       "    </tr>\n",
       "  </tbody>\n",
       "</table>\n",
       "</div>"
      ],
      "text/plain": [
       "           operation                                              label  \\\n",
       "7   vtsnn6:tac_rpg_2  batch_size=4 checkpoint_dir=. data_dir=/…/jun1...   \n",
       "14  vtsnn6:tac_rpg_2  batch_size=4 checkpoint_dir=. data_dir=/…/jun1...   \n",
       "24  vtsnn6:tac_rpg_2  batch_size=4 checkpoint_dir=. data_dir=/…/jun1...   \n",
       "32  vtsnn6:tac_rpg_2  batch_size=4 checkpoint_dir=. data_dir=/…/jun1...   \n",
       "39  vtsnn6:tac_rpg_2  batch_size=4 checkpoint_dir=. data_dir=/…/jun1...   \n",
       "45  vtsnn6:tac_rpg_2  batch_size=4 checkpoint_dir=. data_dir=/…/jun1...   \n",
       "\n",
       "    acc_test  max_acc_test  finger_type  sample_file  \n",
       "7   0.466667      0.600000          1.0          3.0  \n",
       "14  0.533333      0.533333          1.0          2.0  \n",
       "24  0.800000      0.800000          1.0          1.0  \n",
       "32  0.400000      0.533333          1.0          3.0  \n",
       "39  0.533333      0.600000          1.0          2.0  \n",
       "45  0.666667      0.733333          1.0          1.0  "
      ]
     },
     "execution_count": 41,
     "metadata": {},
     "output_type": "execute_result"
    }
   ],
   "source": [
    "df.loc[rpg & right & z]"
   ]
  },
  {
   "cell_type": "code",
   "execution_count": 47,
   "metadata": {},
   "outputs": [
    {
     "data": {
      "text/html": [
       "<div>\n",
       "<style scoped>\n",
       "    .dataframe tbody tr th:only-of-type {\n",
       "        vertical-align: middle;\n",
       "    }\n",
       "\n",
       "    .dataframe tbody tr th {\n",
       "        vertical-align: top;\n",
       "    }\n",
       "\n",
       "    .dataframe thead th {\n",
       "        text-align: right;\n",
       "    }\n",
       "</style>\n",
       "<table border=\"1\" class=\"dataframe\">\n",
       "  <thead>\n",
       "    <tr style=\"text-align: right;\">\n",
       "      <th></th>\n",
       "      <th>operation</th>\n",
       "      <th>label</th>\n",
       "      <th>acc_test</th>\n",
       "      <th>max_acc_test</th>\n",
       "      <th>finger_type</th>\n",
       "      <th>sample_file</th>\n",
       "    </tr>\n",
       "  </thead>\n",
       "  <tbody>\n",
       "    <tr>\n",
       "      <th>53</th>\n",
       "      <td>vtsnn6:tact-snn-2</td>\n",
       "      <td>batch_size=8 checkpoint_dir=. data_dir=/…/jun1...</td>\n",
       "      <td>0.333333</td>\n",
       "      <td>0.400000</td>\n",
       "      <td>1.0</td>\n",
       "      <td>3.0</td>\n",
       "    </tr>\n",
       "    <tr>\n",
       "      <th>57</th>\n",
       "      <td>vtsnn6:tact-snn-2</td>\n",
       "      <td>batch_size=8 checkpoint_dir=. data_dir=/…/jun1...</td>\n",
       "      <td>0.200000</td>\n",
       "      <td>0.266667</td>\n",
       "      <td>1.0</td>\n",
       "      <td>2.0</td>\n",
       "    </tr>\n",
       "    <tr>\n",
       "      <th>59</th>\n",
       "      <td>vtsnn6:tact-snn-2</td>\n",
       "      <td>batch_size=8 checkpoint_dir=. data_dir=/…/jun1...</td>\n",
       "      <td>0.400000</td>\n",
       "      <td>0.666667</td>\n",
       "      <td>1.0</td>\n",
       "      <td>1.0</td>\n",
       "    </tr>\n",
       "  </tbody>\n",
       "</table>\n",
       "</div>"
      ],
      "text/plain": [
       "            operation                                              label  \\\n",
       "53  vtsnn6:tact-snn-2  batch_size=8 checkpoint_dir=. data_dir=/…/jun1...   \n",
       "57  vtsnn6:tact-snn-2  batch_size=8 checkpoint_dir=. data_dir=/…/jun1...   \n",
       "59  vtsnn6:tact-snn-2  batch_size=8 checkpoint_dir=. data_dir=/…/jun1...   \n",
       "\n",
       "    acc_test  max_acc_test  finger_type  sample_file  \n",
       "53  0.333333      0.400000          1.0          3.0  \n",
       "57  0.200000      0.266667          1.0          2.0  \n",
       "59  0.400000      0.666667          1.0          1.0  "
      ]
     },
     "execution_count": 47,
     "metadata": {},
     "output_type": "execute_result"
    }
   ],
   "source": [
    "df.loc[snn & right & z]"
   ]
  },
  {
   "cell_type": "code",
   "execution_count": 46,
   "metadata": {},
   "outputs": [
    {
     "data": {
      "text/plain": [
       "0.4444444576899211"
      ]
     },
     "execution_count": 46,
     "metadata": {},
     "output_type": "execute_result"
    }
   ],
   "source": [
    "df.loc[snn & right & z, 'max_acc_test'].mean()"
   ]
  },
  {
   "cell_type": "code",
   "execution_count": 39,
   "metadata": {},
   "outputs": [
    {
     "data": {
      "text/plain": [
       "0.6333333551883698"
      ]
     },
     "execution_count": 39,
     "metadata": {},
     "output_type": "execute_result"
    }
   ],
   "source": [
    "df.loc[rpg & right & z, 'max_acc_test'].mean()"
   ]
  },
  {
   "cell_type": "code",
   "execution_count": null,
   "metadata": {},
   "outputs": [],
   "source": []
  },
  {
   "cell_type": "code",
   "execution_count": null,
   "metadata": {},
   "outputs": [],
   "source": []
  },
  {
   "cell_type": "code",
   "execution_count": null,
   "metadata": {},
   "outputs": [],
   "source": []
  },
  {
   "cell_type": "code",
   "execution_count": null,
   "metadata": {},
   "outputs": [],
   "source": []
  },
  {
   "cell_type": "code",
   "execution_count": null,
   "metadata": {},
   "outputs": [],
   "source": []
  },
  {
   "cell_type": "code",
   "execution_count": null,
   "metadata": {},
   "outputs": [],
   "source": []
  },
  {
   "cell_type": "code",
   "execution_count": null,
   "metadata": {},
   "outputs": [],
   "source": []
  },
  {
   "cell_type": "code",
   "execution_count": null,
   "metadata": {},
   "outputs": [],
   "source": []
  },
  {
   "cell_type": "code",
   "execution_count": 14,
   "metadata": {},
   "outputs": [
    {
     "data": {
      "text/plain": [
       "nan"
      ]
     },
     "execution_count": 14,
     "metadata": {},
     "output_type": "execute_result"
    }
   ],
   "source": [
    "df.loc[rpg & left, 'max_acc_test'].mean()"
   ]
  },
  {
   "cell_type": "code",
   "execution_count": 15,
   "metadata": {},
   "outputs": [
    {
     "data": {
      "text/plain": [
       "0.5755555729071299"
      ]
     },
     "execution_count": 15,
     "metadata": {},
     "output_type": "execute_result"
    }
   ],
   "source": [
    "df.loc[rpg & right, 'max_acc_test'].mean()"
   ]
  },
  {
   "cell_type": "code",
   "execution_count": 16,
   "metadata": {},
   "outputs": [
    {
     "data": {
      "text/plain": [
       "nan"
      ]
     },
     "execution_count": 16,
     "metadata": {},
     "output_type": "execute_result"
    }
   ],
   "source": [
    "df.loc[rpg & ( (~ right) & (~ left) ), 'max_acc_test'].mean()"
   ]
  },
  {
   "cell_type": "code",
   "execution_count": 17,
   "metadata": {},
   "outputs": [
    {
     "data": {
      "text/plain": [
       "0.44000001152356466"
      ]
     },
     "execution_count": 17,
     "metadata": {},
     "output_type": "execute_result"
    }
   ],
   "source": [
    "df.loc[snn & left, 'max_acc_test'].mean()"
   ]
  },
  {
   "cell_type": "code",
   "execution_count": 18,
   "metadata": {},
   "outputs": [
    {
     "data": {
      "text/plain": [
       "0.46666667858759564"
      ]
     },
     "execution_count": 18,
     "metadata": {},
     "output_type": "execute_result"
    }
   ],
   "source": [
    "df.loc[snn & right, 'max_acc_test'].mean()"
   ]
  },
  {
   "cell_type": "code",
   "execution_count": 19,
   "metadata": {},
   "outputs": [
    {
     "data": {
      "text/plain": [
       "nan"
      ]
     },
     "execution_count": 19,
     "metadata": {},
     "output_type": "execute_result"
    }
   ],
   "source": [
    "df.loc[snn & ( (~ right) & (~ left) ), 'max_acc_test'].mean()"
   ]
  },
  {
   "cell_type": "code",
   "execution_count": 20,
   "metadata": {},
   "outputs": [
    {
     "data": {
      "text/plain": [
       "44    0.600000\n",
       "46    0.466667\n",
       "47    0.333333\n",
       "48    0.666667\n",
       "49    0.600000\n",
       "50    0.400000\n",
       "51    0.400000\n",
       "52    0.266667\n",
       "53    0.400000\n",
       "54    0.666667\n",
       "55    0.466667\n",
       "56    0.466667\n",
       "57    0.266667\n",
       "58    0.333333\n",
       "59    0.666667\n",
       "Name: max_acc_test, dtype: float64"
      ]
     },
     "execution_count": 20,
     "metadata": {},
     "output_type": "execute_result"
    }
   ],
   "source": [
    "df.loc[snn & right, 'max_acc_test']"
   ]
  },
  {
   "cell_type": "code",
   "execution_count": null,
   "metadata": {},
   "outputs": [],
   "source": []
  },
  {
   "cell_type": "code",
   "execution_count": null,
   "metadata": {},
   "outputs": [],
   "source": []
  }
 ],
 "metadata": {
  "kernelspec": {
   "display_name": "Python 3",
   "language": "python",
   "name": "python3"
  },
  "language_info": {
   "codemirror_mode": {
    "name": "ipython",
    "version": 3
   },
   "file_extension": ".py",
   "mimetype": "text/x-python",
   "name": "python",
   "nbconvert_exporter": "python",
   "pygments_lexer": "ipython3",
   "version": "3.6.8"
  }
 },
 "nbformat": 4,
 "nbformat_minor": 4
}
