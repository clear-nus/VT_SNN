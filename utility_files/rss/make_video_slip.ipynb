{
 "cells": [
  {
   "cell_type": "code",
   "execution_count": 1,
   "metadata": {},
   "outputs": [],
   "source": [
    "%matplotlib inline\n",
    "import seaborn as sns\n",
    "import numpy as np\n",
    "import matplotlib.pyplot as plt\n",
    "import pickle\n",
    "import matplotlib\n",
    "import matplotlib.animation as animation\n",
    "\n",
    "\n",
    "sns.set(rc={\"xtick.bottom\" : True, \"ytick.left\" : True, 'font.sans-serif': 'Liberation Sans'},context='paper',\n",
    "        style='white', palette='Set1')"
   ]
  },
  {
   "cell_type": "code",
   "execution_count": 2,
   "metadata": {},
   "outputs": [],
   "source": [
    "output_spikes_L = pickle.load(open('slip_output_L.pkl', 'rb'))\n",
    "#output_spikes_L = pickle.load(open('slip_output_L_negative.pkl', 'rb'))"
   ]
  },
  {
   "cell_type": "code",
   "execution_count": 3,
   "metadata": {},
   "outputs": [
    {
     "data": {
      "text/plain": [
       "Text(0.5, 0, 'Time (s)')"
      ]
     },
     "execution_count": 3,
     "metadata": {},
     "output_type": "execute_result"
    },
    {
     "data": {
      "image/png": "[encoded data removed]",
      "text/plain": [
       "<Figure size 756x180 with 3 Axes>"
      ]
     },
     "metadata": {},
     "output_type": "display_data"
    }
   ],
   "source": [
    "fig, ax = plt.subplots(figsize=[10.5, 2.5], nrows=3, sharex=True)\n",
    "cols = [sns.palettes.color_palette('Set1')[1], sns.palettes.color_palette('Set1')[0], sns.palettes.color_palette('Set1')[2]]\n",
    "#cols_tact = [cols[0]] * 1 + [cols[1]]\n",
    "#cols_corr = [cols[0]] * 1 + [cols[2]]\n",
    "cols_corr = [cols[0]]*2\n",
    "plt.xlim([0, 150])\n",
    "plt.xticks(np.arange(0, 150, 50), np.arange(0, 150, 50) * (0.15/150))\n",
    "ax[0].set_yticks([])\n",
    "ax[1].set_yticks([])\n",
    "ax[2].set_yticks([])\n",
    "ax[2].tick_params(labelsize=12)\n",
    "ax[0].set_ylabel('Tactile', fontsize=12)\n",
    "ax[1].set_ylabel('Vision', fontsize=12)\n",
    "ax[2].set_ylabel('Combined', fontsize=12)\n",
    "ax[0].set_ylim([-0.5, 1.5])\n",
    "ax[1].set_ylim([-0.5, 1.5])\n",
    "ax[2].set_ylim([-0.5, 1.5])\n",
    "ax[0].set_yticks(np.arange(0, 2, 1), minor=True)\n",
    "ax[0].tick_params(axis='y', which='minor')\n",
    "ax[1].set_yticks(np.arange(0, 2, 1), minor=True)\n",
    "ax[1].tick_params(axis='y', which='minor')\n",
    "ax[2].set_yticks(np.arange(0, 2, 1), minor=True)\n",
    "ax[2].tick_params(axis='y', which='minor')\n",
    "plt.xlabel('Time (s)', fontsize=9)\n"
   ]
  },
  {
   "cell_type": "code",
   "execution_count": 4,
   "metadata": {},
   "outputs": [],
   "source": [
    "# set writer\n",
    "Writer = animation.writers['ffmpeg']\n",
    "writer = Writer(fps=100, metadata=dict(artist='Me'), bitrate=5000)"
   ]
  },
  {
   "cell_type": "code",
   "execution_count": 5,
   "metadata": {},
   "outputs": [],
   "source": [
    "def animate(t):\n",
    "    print(t)\n",
    "    ax[0].eventplot([np.argwhere(output_spikes_L['tac'][:,:t][i] == 1).flatten() for i in range(2)], colors=cols_corr)\n",
    "    ax[1].eventplot([np.argwhere(output_spikes_L['vis'][:,:t][i] == 1).flatten() for i in range(2)], colors=cols_corr)\n",
    "    ax[2].eventplot([np.argwhere(output_spikes_L['mm'][:,:t][i] == 1).flatten() for i in range(2)], colors=cols_corr)"
   ]
  },
  {
   "cell_type": "code",
   "execution_count": 6,
   "metadata": {},
   "outputs": [
    {
     "name": "stdout",
     "output_type": "stream",
     "text": [
      "0\n",
      "0\n",
      "1\n",
      "2\n",
      "3\n",
      "4\n",
      "5\n",
      "6\n",
      "7\n",
      "8\n",
      "9\n",
      "10\n",
      "11\n",
      "12\n",
      "13\n",
      "14\n",
      "15\n",
      "16\n",
      "17\n",
      "18\n",
      "19\n",
      "20\n",
      "21\n",
      "22\n",
      "23\n",
      "24\n",
      "25\n",
      "26\n",
      "27\n",
      "28\n",
      "29\n",
      "30\n",
      "31\n",
      "32\n",
      "33\n",
      "34\n",
      "35\n",
      "36\n",
      "37\n",
      "38\n",
      "39\n",
      "40\n",
      "41\n",
      "42\n",
      "43\n",
      "44\n",
      "45\n",
      "46\n",
      "47\n",
      "48\n",
      "49\n",
      "50\n",
      "51\n",
      "52\n",
      "53\n",
      "54\n",
      "55\n",
      "56\n",
      "57\n",
      "58\n",
      "59\n",
      "60\n",
      "61\n",
      "62\n",
      "63\n",
      "64\n",
      "65\n",
      "66\n",
      "67\n",
      "68\n",
      "69\n",
      "70\n",
      "71\n",
      "72\n",
      "73\n",
      "74\n",
      "75\n",
      "76\n",
      "77\n",
      "78\n",
      "79\n",
      "80\n",
      "81\n",
      "82\n",
      "83\n",
      "84\n",
      "85\n",
      "86\n",
      "87\n",
      "88\n",
      "89\n",
      "90\n",
      "91\n",
      "92\n",
      "93\n",
      "94\n",
      "95\n",
      "96\n",
      "97\n",
      "98\n",
      "99\n",
      "100\n",
      "101\n",
      "102\n",
      "103\n",
      "104\n",
      "105\n",
      "106\n",
      "107\n",
      "108\n",
      "109\n",
      "110\n",
      "111\n",
      "112\n",
      "113\n",
      "114\n",
      "115\n",
      "116\n",
      "117\n",
      "118\n",
      "119\n",
      "120\n",
      "121\n",
      "122\n",
      "123\n",
      "124\n",
      "125\n",
      "126\n",
      "127\n",
      "128\n",
      "129\n",
      "130\n",
      "131\n",
      "132\n",
      "133\n",
      "134\n",
      "135\n",
      "136\n",
      "137\n",
      "138\n",
      "139\n",
      "140\n",
      "141\n",
      "142\n",
      "143\n",
      "144\n",
      "145\n",
      "146\n",
      "147\n",
      "148\n",
      "149\n"
     ]
    }
   ],
   "source": [
    "ani = matplotlib.animation.FuncAnimation(fig, animate, frames=150, repeat=True)\n",
    "ani.save('../vision2/slip_L_positive2.mp4', writer=writer)"
   ]
  },
  {
   "cell_type": "code",
   "execution_count": 7,
   "metadata": {},
   "outputs": [],
   "source": [
    "plt.close()"
   ]
  }
 ],
 "metadata": {
  "kernelspec": {
   "display_name": "Python 3",
   "language": "python",
   "name": "python3"
  },
  "language_info": {
   "codemirror_mode": {
    "name": "ipython",
    "version": 3
   },
   "file_extension": ".py",
   "mimetype": "text/x-python",
   "name": "python",
   "nbconvert_exporter": "python",
   "pygments_lexer": "ipython3",
   "version": "3.6.8"
  }
 },
 "nbformat": 4,
 "nbformat_minor": 2
}
