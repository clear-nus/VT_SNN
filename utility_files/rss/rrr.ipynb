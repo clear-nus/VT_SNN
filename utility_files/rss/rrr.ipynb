{
 "cells": [
  {
   "cell_type": "code",
   "execution_count": 1,
   "metadata": {},
   "outputs": [],
   "source": [
    "import pandas as pd\n",
    "import numpy as np\n",
    "import seaborn as sns\n",
    "from matplotlib.legend import Legend\n",
    "import matplotlib.pyplot as plt"
   ]
  },
  {
   "cell_type": "code",
   "execution_count": 2,
   "metadata": {},
   "outputs": [
    {
     "data": {
      "text/plain": [
       "(0.746090909090909, 0.0610877975398071)"
      ]
     },
     "execution_count": 2,
     "metadata": {},
     "output_type": "execute_result"
    }
   ],
   "source": [
    "tact_cnn3d = np.array([0.75, 0.75, 0.63, 0.64, 0.8, 0.79, 0.75, 0.76, 0.816, 0.815, 0.706])\n",
    "np.mean(tact_cnn3d), np.std(tact_cnn3d)"
   ]
  },
  {
   "cell_type": "code",
   "execution_count": 3,
   "metadata": {},
   "outputs": [
    {
     "data": {
      "text/plain": [
       "(0.7999997999999999, 0.04082491069628934)"
      ]
     },
     "execution_count": 3,
     "metadata": {},
     "output_type": "execute_result"
    }
   ],
   "source": [
    "mm_cnn3d = np.array([0.783333,0.733333,0.800000,0.850000,0.833333])\n",
    "np.mean(mm_cnn3d), np.std(mm_cnn3d)"
   ]
  },
  {
   "cell_type": "code",
   "execution_count": 4,
   "metadata": {},
   "outputs": [
    {
     "data": {
      "text/plain": [
       "(0.676666, 0.022607864905824268)"
      ]
     },
     "execution_count": 4,
     "metadata": {},
     "output_type": "execute_result"
    }
   ],
   "source": [
    "vis_cnn3d = np.array([0.666666, 0.649999, 0.716666, 0.683333, 0.666666])\n",
    "np.mean(vis_cnn3d), np.std(vis_cnn3d)"
   ]
  },
  {
   "cell_type": "code",
   "execution_count": 5,
   "metadata": {},
   "outputs": [
    {
     "data": {
      "text/plain": [
       "(0.5041654166666666, 0.05892813935415791)"
      ]
     },
     "execution_count": 5,
     "metadata": {},
     "output_type": "execute_result"
    }
   ],
   "source": [
    "tact_ann = np.array([0.533333, 0.533333, 0.55, 0.433333, 0.5, 0.46666, 0.58,0.56,0.48666, 0.413333, 0.413333, 0.58])\n",
    "np.mean(tact_ann), np.std(tact_ann)"
   ]
  },
  {
   "cell_type": "code",
   "execution_count": 6,
   "metadata": {},
   "outputs": [
    {
     "data": {
      "text/plain": [
       "(0.4396331852357143, 0.06198202664438084)"
      ]
     },
     "execution_count": 6,
     "metadata": {},
     "output_type": "execute_result"
    }
   ],
   "source": [
    "mm_ann = np.array([0.44999,0.483333,0.416,0.4,0.5, 0.5133333,0.5133333, 0.385555, 0.41666666, 0.5133333333, 0.35, 0.5, 0.37666, 0.33666])\n",
    "np.mean(mm_ann), np.std(mm_ann)"
   ]
  },
  {
   "cell_type": "code",
   "execution_count": 7,
   "metadata": {},
   "outputs": [
    {
     "data": {
      "text/plain": [
       "(0.42904728571428574, 0.0539462191253323)"
      ]
     },
     "execution_count": 7,
     "metadata": {},
     "output_type": "execute_result"
    }
   ],
   "source": [
    "vis_ann = np.array([0.400000, 0.400000, 0.449999, 0.383333, 0.483333, 0.363333, 0.523333])\n",
    "np.mean(vis_ann), np.std(vis_ann)"
   ]
  },
  {
   "cell_type": "code",
   "execution_count": null,
   "metadata": {},
   "outputs": [],
   "source": []
  },
  {
   "cell_type": "code",
   "execution_count": 8,
   "metadata": {},
   "outputs": [],
   "source": [
    "df_obj = pd.DataFrame(\n",
    "    {'Tactile (mean)':[0.71, 0.71, 0.50, 0.75],\n",
    "    'Tactile (std)':[0.045, 0.023, 0.059, 0.061],\n",
    "    'Vision (mean)':[0.73, 0.72, 0.43, 0.68],\n",
    "     'Vision (std)':[0.064, 0.065, 0.054, 0.022],\n",
    "    'Combined (mean)':[0.81, 0.80, 0.44, 0.80],\n",
    "    'Combined (std)':[0.039, 0.048, 0.062, 0.041]},\n",
    "    index = [\n",
    "        'SNN L', 'SNN L_w', 'ANN (MLP-GRU)', 'ANN (CNN-3D)'\n",
    "    ]\n",
    ")"
   ]
  },
  {
   "cell_type": "code",
   "execution_count": 9,
   "metadata": {},
   "outputs": [
    {
     "data": {
      "text/html": [
       "<div>\n",
       "<style scoped>\n",
       "    .dataframe tbody tr th:only-of-type {\n",
       "        vertical-align: middle;\n",
       "    }\n",
       "\n",
       "    .dataframe tbody tr th {\n",
       "        vertical-align: top;\n",
       "    }\n",
       "\n",
       "    .dataframe thead th {\n",
       "        text-align: right;\n",
       "    }\n",
       "</style>\n",
       "<table border=\"1\" class=\"dataframe\">\n",
       "  <thead>\n",
       "    <tr style=\"text-align: right;\">\n",
       "      <th></th>\n",
       "      <th>Tactile (mean)</th>\n",
       "      <th>Tactile (std)</th>\n",
       "      <th>Vision (mean)</th>\n",
       "      <th>Vision (std)</th>\n",
       "      <th>Combined (mean)</th>\n",
       "      <th>Combined (std)</th>\n",
       "    </tr>\n",
       "  </thead>\n",
       "  <tbody>\n",
       "    <tr>\n",
       "      <th>SNN L</th>\n",
       "      <td>0.71</td>\n",
       "      <td>0.045</td>\n",
       "      <td>0.73</td>\n",
       "      <td>0.064</td>\n",
       "      <td>0.81</td>\n",
       "      <td>0.039</td>\n",
       "    </tr>\n",
       "    <tr>\n",
       "      <th>SNN L_w</th>\n",
       "      <td>0.71</td>\n",
       "      <td>0.023</td>\n",
       "      <td>0.72</td>\n",
       "      <td>0.065</td>\n",
       "      <td>0.80</td>\n",
       "      <td>0.048</td>\n",
       "    </tr>\n",
       "    <tr>\n",
       "      <th>ANN (MLP-GRU)</th>\n",
       "      <td>0.50</td>\n",
       "      <td>0.059</td>\n",
       "      <td>0.43</td>\n",
       "      <td>0.054</td>\n",
       "      <td>0.44</td>\n",
       "      <td>0.062</td>\n",
       "    </tr>\n",
       "    <tr>\n",
       "      <th>ANN (CNN-3D)</th>\n",
       "      <td>0.75</td>\n",
       "      <td>0.061</td>\n",
       "      <td>0.68</td>\n",
       "      <td>0.022</td>\n",
       "      <td>0.80</td>\n",
       "      <td>0.041</td>\n",
       "    </tr>\n",
       "  </tbody>\n",
       "</table>\n",
       "</div>"
      ],
      "text/plain": [
       "               Tactile (mean)  Tactile (std)  Vision (mean)  Vision (std)  \\\n",
       "SNN L                    0.71          0.045           0.73         0.064   \n",
       "SNN L_w                  0.71          0.023           0.72         0.065   \n",
       "ANN (MLP-GRU)            0.50          0.059           0.43         0.054   \n",
       "ANN (CNN-3D)             0.75          0.061           0.68         0.022   \n",
       "\n",
       "               Combined (mean)  Combined (std)  \n",
       "SNN L                     0.81           0.039  \n",
       "SNN L_w                   0.80           0.048  \n",
       "ANN (MLP-GRU)             0.44           0.062  \n",
       "ANN (CNN-3D)              0.80           0.041  "
      ]
     },
     "execution_count": 9,
     "metadata": {},
     "output_type": "execute_result"
    }
   ],
   "source": [
    "df_obj"
   ]
  },
  {
   "cell_type": "code",
   "execution_count": 10,
   "metadata": {},
   "outputs": [
    {
     "data": {
      "text/plain": [
       "Index(['Tactile (mean)', 'Tactile (std)', 'Vision (mean)', 'Vision (std)',\n",
       "       'Combined (mean)', 'Combined (std)'],\n",
       "      dtype='object')"
      ]
     },
     "execution_count": 10,
     "metadata": {},
     "output_type": "execute_result"
    }
   ],
   "source": [
    "df_obj.columns"
   ]
  },
  {
   "cell_type": "code",
   "execution_count": 11,
   "metadata": {},
   "outputs": [],
   "source": [
    "ind = np.arange(3)\n",
    "width = 0.35"
   ]
  },
  {
   "cell_type": "code",
   "execution_count": 12,
   "metadata": {},
   "outputs": [],
   "source": [
    "means_SNN_L = df_obj[['Tactile (mean)', 'Vision (mean)', 'Combined (mean)']].loc['SNN L'].values\n",
    "std_SNN_L = df_obj[['Tactile (std)', 'Vision (std)', 'Combined (std)']].loc['SNN L'].values"
   ]
  },
  {
   "cell_type": "code",
   "execution_count": 13,
   "metadata": {},
   "outputs": [
    {
     "data": {
      "image/png": "[encoded data removed]",
      "text/plain": [
       "<Figure size 432x288 with 1 Axes>"
      ]
     },
     "metadata": {
      "needs_background": "light"
     },
     "output_type": "display_data"
    }
   ],
   "source": [
    "p1 = plt.bar(ind, means_SNN_L, width, yerr=std_SNN_L)"
   ]
  },
  {
   "cell_type": "code",
   "execution_count": 14,
   "metadata": {},
   "outputs": [],
   "source": [
    "a = pd.read_csv('early_class_obj_class.csv')"
   ]
  },
  {
   "cell_type": "code",
   "execution_count": 15,
   "metadata": {},
   "outputs": [
    {
     "data": {
      "text/html": [
       "<div>\n",
       "<style scoped>\n",
       "    .dataframe tbody tr th:only-of-type {\n",
       "        vertical-align: middle;\n",
       "    }\n",
       "\n",
       "    .dataframe tbody tr th {\n",
       "        vertical-align: top;\n",
       "    }\n",
       "\n",
       "    .dataframe thead th {\n",
       "        text-align: right;\n",
       "    }\n",
       "</style>\n",
       "<table border=\"1\" class=\"dataframe\">\n",
       "  <thead>\n",
       "    <tr style=\"text-align: right;\">\n",
       "      <th></th>\n",
       "      <th>Accuracy</th>\n",
       "      <th>Modality</th>\n",
       "      <th>SampleFile</th>\n",
       "      <th>Length</th>\n",
       "      <th>Loss function</th>\n",
       "      <th>t</th>\n",
       "    </tr>\n",
       "  </thead>\n",
       "  <tbody>\n",
       "    <tr>\n",
       "      <th>0</th>\n",
       "      <td>0.05</td>\n",
       "      <td>Vision</td>\n",
       "      <td>5</td>\n",
       "      <td>0</td>\n",
       "      <td>Spike Count</td>\n",
       "      <td>0.00</td>\n",
       "    </tr>\n",
       "    <tr>\n",
       "      <th>1</th>\n",
       "      <td>0.05</td>\n",
       "      <td>Vision</td>\n",
       "      <td>5</td>\n",
       "      <td>1</td>\n",
       "      <td>Spike Count</td>\n",
       "      <td>0.02</td>\n",
       "    </tr>\n",
       "    <tr>\n",
       "      <th>2</th>\n",
       "      <td>0.05</td>\n",
       "      <td>Vision</td>\n",
       "      <td>5</td>\n",
       "      <td>2</td>\n",
       "      <td>Spike Count</td>\n",
       "      <td>0.04</td>\n",
       "    </tr>\n",
       "    <tr>\n",
       "      <th>3</th>\n",
       "      <td>0.05</td>\n",
       "      <td>Vision</td>\n",
       "      <td>5</td>\n",
       "      <td>3</td>\n",
       "      <td>Spike Count</td>\n",
       "      <td>0.06</td>\n",
       "    </tr>\n",
       "    <tr>\n",
       "      <th>4</th>\n",
       "      <td>0.05</td>\n",
       "      <td>Vision</td>\n",
       "      <td>5</td>\n",
       "      <td>4</td>\n",
       "      <td>Spike Count</td>\n",
       "      <td>0.08</td>\n",
       "    </tr>\n",
       "  </tbody>\n",
       "</table>\n",
       "</div>"
      ],
      "text/plain": [
       "   Accuracy Modality  SampleFile  Length Loss function     t\n",
       "0      0.05   Vision           5       0   Spike Count  0.00\n",
       "1      0.05   Vision           5       1   Spike Count  0.02\n",
       "2      0.05   Vision           5       2   Spike Count  0.04\n",
       "3      0.05   Vision           5       3   Spike Count  0.06\n",
       "4      0.05   Vision           5       4   Spike Count  0.08"
      ]
     },
     "execution_count": 15,
     "metadata": {},
     "output_type": "execute_result"
    }
   ],
   "source": [
    "a.head()"
   ]
  },
  {
   "cell_type": "code",
   "execution_count": 16,
   "metadata": {},
   "outputs": [],
   "source": [
    "b = a[a.t == 6.48]"
   ]
  },
  {
   "cell_type": "code",
   "execution_count": 17,
   "metadata": {},
   "outputs": [
    {
     "data": {
      "text/html": [
       "<div>\n",
       "<style scoped>\n",
       "    .dataframe tbody tr th:only-of-type {\n",
       "        vertical-align: middle;\n",
       "    }\n",
       "\n",
       "    .dataframe tbody tr th {\n",
       "        vertical-align: top;\n",
       "    }\n",
       "\n",
       "    .dataframe thead th {\n",
       "        text-align: right;\n",
       "    }\n",
       "</style>\n",
       "<table border=\"1\" class=\"dataframe\">\n",
       "  <thead>\n",
       "    <tr style=\"text-align: right;\">\n",
       "      <th></th>\n",
       "      <th>Accuracy</th>\n",
       "      <th>Modality</th>\n",
       "      <th>SampleFile</th>\n",
       "      <th>Length</th>\n",
       "      <th>Loss function</th>\n",
       "      <th>t</th>\n",
       "    </tr>\n",
       "  </thead>\n",
       "  <tbody>\n",
       "    <tr>\n",
       "      <th>11699</th>\n",
       "      <td>0.750000</td>\n",
       "      <td>Tactile</td>\n",
       "      <td>5</td>\n",
       "      <td>324</td>\n",
       "      <td>Weighted Spike Count</td>\n",
       "      <td>6.48</td>\n",
       "    </tr>\n",
       "    <tr>\n",
       "      <th>12024</th>\n",
       "      <td>0.716667</td>\n",
       "      <td>Tactile</td>\n",
       "      <td>4</td>\n",
       "      <td>324</td>\n",
       "      <td>Weighted Spike Count</td>\n",
       "      <td>6.48</td>\n",
       "    </tr>\n",
       "    <tr>\n",
       "      <th>12349</th>\n",
       "      <td>0.700000</td>\n",
       "      <td>Tactile</td>\n",
       "      <td>3</td>\n",
       "      <td>324</td>\n",
       "      <td>Weighted Spike Count</td>\n",
       "      <td>6.48</td>\n",
       "    </tr>\n",
       "    <tr>\n",
       "      <th>12674</th>\n",
       "      <td>0.733333</td>\n",
       "      <td>Tactile</td>\n",
       "      <td>2</td>\n",
       "      <td>324</td>\n",
       "      <td>Weighted Spike Count</td>\n",
       "      <td>6.48</td>\n",
       "    </tr>\n",
       "    <tr>\n",
       "      <th>12999</th>\n",
       "      <td>0.700000</td>\n",
       "      <td>Tactile</td>\n",
       "      <td>1</td>\n",
       "      <td>324</td>\n",
       "      <td>Weighted Spike Count</td>\n",
       "      <td>6.48</td>\n",
       "    </tr>\n",
       "  </tbody>\n",
       "</table>\n",
       "</div>"
      ],
      "text/plain": [
       "       Accuracy Modality  SampleFile  Length         Loss function     t\n",
       "11699  0.750000  Tactile           5     324  Weighted Spike Count  6.48\n",
       "12024  0.716667  Tactile           4     324  Weighted Spike Count  6.48\n",
       "12349  0.700000  Tactile           3     324  Weighted Spike Count  6.48\n",
       "12674  0.733333  Tactile           2     324  Weighted Spike Count  6.48\n",
       "12999  0.700000  Tactile           1     324  Weighted Spike Count  6.48"
      ]
     },
     "execution_count": 17,
     "metadata": {},
     "output_type": "execute_result"
    }
   ],
   "source": [
    "b.tail()"
   ]
  },
  {
   "cell_type": "code",
   "execution_count": 18,
   "metadata": {},
   "outputs": [],
   "source": [
    "tact_snn_L_w = b[(b.Modality == 'Tactile') & (b['Loss function'] == 'Weighted Spike Count')]['Accuracy'].values"
   ]
  },
  {
   "cell_type": "code",
   "execution_count": 19,
   "metadata": {},
   "outputs": [],
   "source": [
    "tact_snn_L_w = np.array([0.75, 0.71666667, 0.7, 0.73333333, 0.7, 0.8, 0.688888, 0.66666, 0.78, 0.657, 0.6688])"
   ]
  },
  {
   "cell_type": "code",
   "execution_count": 20,
   "metadata": {},
   "outputs": [
    {
     "data": {
      "text/plain": [
       "(0.714668, 0.04470073057952675)"
      ]
     },
     "execution_count": 20,
     "metadata": {},
     "output_type": "execute_result"
    }
   ],
   "source": [
    "np.mean(tact_snn_L_w), np.std(tact_snn_L_w)"
   ]
  },
  {
   "cell_type": "code",
   "execution_count": 21,
   "metadata": {},
   "outputs": [],
   "source": [
    "tact_snn_L = b[(b.Modality == 'Tactile') & (b['Loss function'] == 'Spike Count')]['Accuracy'].values"
   ]
  },
  {
   "cell_type": "code",
   "execution_count": 22,
   "metadata": {},
   "outputs": [],
   "source": [
    "tact_snn_L = np.array([0.68333333, 0.749666 , 0.66666667, 0.7 , 0.7 , 0.705, 0.736666, 0.7057, 0.7057])"
   ]
  },
  {
   "cell_type": "code",
   "execution_count": 23,
   "metadata": {},
   "outputs": [
    {
     "data": {
      "text/plain": [
       "(0.7058591111111111, 0.02352543125751057)"
      ]
     },
     "execution_count": 23,
     "metadata": {},
     "output_type": "execute_result"
    }
   ],
   "source": [
    "np.mean(tact_snn_L), np.std(tact_snn_L)"
   ]
  },
  {
   "cell_type": "code",
   "execution_count": 24,
   "metadata": {},
   "outputs": [],
   "source": [
    "vis_snn_L = b[(b.Modality == 'Vision') & (b['Loss function'] == 'Spike Count')]['Accuracy'].values"
   ]
  },
  {
   "cell_type": "code",
   "execution_count": 25,
   "metadata": {},
   "outputs": [],
   "source": [
    "vis_snn_L = np.array([0.71666667, 0.71666667, 0.83333333, 0.7       , 0.6666  , 0.823333, 0.66666])"
   ]
  },
  {
   "cell_type": "code",
   "execution_count": 26,
   "metadata": {},
   "outputs": [
    {
     "data": {
      "text/plain": [
       "(0.7318942385714285, 0.0639763125554052)"
      ]
     },
     "execution_count": 26,
     "metadata": {},
     "output_type": "execute_result"
    }
   ],
   "source": [
    "np.mean(vis_snn_L), np.std(vis_snn_L)"
   ]
  },
  {
   "cell_type": "code",
   "execution_count": 27,
   "metadata": {},
   "outputs": [],
   "source": [
    "vis_snn_L_w = b[(b.Modality == 'Vision') & (b['Loss function'] == 'Weighted Spike Count')]['Accuracy'].values"
   ]
  },
  {
   "cell_type": "code",
   "execution_count": 28,
   "metadata": {},
   "outputs": [],
   "source": [
    "vis_snn_L_w = np.array([0.6 , 0.83333333, 0.73333333, 0.71666667, 0.73333333, 0.7533333, 0.69])"
   ]
  },
  {
   "cell_type": "code",
   "execution_count": 29,
   "metadata": {},
   "outputs": [
    {
     "data": {
      "text/plain": [
       "(0.722857137142857, 0.06498909404757731)"
      ]
     },
     "execution_count": 29,
     "metadata": {},
     "output_type": "execute_result"
    }
   ],
   "source": [
    "np.mean(vis_snn_L_w), np.std(vis_snn_L_w)"
   ]
  },
  {
   "cell_type": "code",
   "execution_count": 30,
   "metadata": {},
   "outputs": [],
   "source": [
    "mm_snn_L = b[(b.Modality == 'Combined') & (b['Loss function'] == 'Spike Count')]['Accuracy'].values"
   ]
  },
  {
   "cell_type": "code",
   "execution_count": 31,
   "metadata": {},
   "outputs": [],
   "source": [
    "mm_snn_L = np.array([0.86666667, 0.81666667, 0.82, 0.734, 0.8, 0.81666667])"
   ]
  },
  {
   "cell_type": "code",
   "execution_count": 32,
   "metadata": {},
   "outputs": [],
   "source": [
    "mm_snn_L_w = b[(b.Modality == 'Combined') & (b['Loss function'] == 'Weighted Spike Count')]['Accuracy'].values"
   ]
  },
  {
   "cell_type": "code",
   "execution_count": 33,
   "metadata": {},
   "outputs": [],
   "source": [
    "mm_snn_L_w = np.array([0.84       , 0.86       , 0.81666667, 0.73333333, 0.83333333,\n",
    "       0.78333333, 0.8       , 0.75666667, 0.73333333, 0.8       ,\n",
    "       0.85      , 0.83333333, 0.85       , 0.78333333, 0.76666])"
   ]
  },
  {
   "cell_type": "code",
   "execution_count": 34,
   "metadata": {},
   "outputs": [
    {
     "data": {
      "text/plain": [
       "(0.8026662213333332, 0.040846988683897176)"
      ]
     },
     "execution_count": 34,
     "metadata": {},
     "output_type": "execute_result"
    }
   ],
   "source": [
    "np.mean(mm_snn_L_w), np.std(mm_snn_L_w)"
   ]
  },
  {
   "cell_type": "code",
   "execution_count": 42,
   "metadata": {},
   "outputs": [],
   "source": [
    "rests = [\n",
    "[tact_snn_L, tact_snn_L_w, tact_ann, tact_cnn3d],\n",
    "[vis_snn_L, vis_snn_L_w, vis_ann, vis_cnn3d],\n",
    "[mm_snn_L, mm_snn_L_w, mm_ann, mm_cnn3d]\n",
    "]"
   ]
  },
  {
   "cell_type": "code",
   "execution_count": 45,
   "metadata": {},
   "outputs": [],
   "source": [
    "import pickle\n",
    "pickle.dump(rests, open('obj_class_rests.pkl', 'wb'))"
   ]
  },
  {
   "cell_type": "code",
   "execution_count": null,
   "metadata": {},
   "outputs": [],
   "source": []
  }
 ],
 "metadata": {
  "kernelspec": {
   "display_name": "Python 3",
   "language": "python",
   "name": "python3"
  },
  "language_info": {
   "codemirror_mode": {
    "name": "ipython",
    "version": 3
   },
   "file_extension": ".py",
   "mimetype": "text/x-python",
   "name": "python",
   "nbconvert_exporter": "python",
   "pygments_lexer": "ipython3",
   "version": "3.6.8"
  }
 },
 "nbformat": 4,
 "nbformat_minor": 2
}
