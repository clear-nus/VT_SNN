{
 "cells": [
  {
   "cell_type": "code",
   "execution_count": 1,
   "metadata": {},
   "outputs": [],
   "source": [
    "import pandas as pd\n",
    "import numpy as np\n",
    "import seaborn as sns\n",
    "from matplotlib.legend import Legend\n",
    "import matplotlib.pyplot as plt"
   ]
  },
  {
   "cell_type": "code",
   "execution_count": 2,
   "metadata": {},
   "outputs": [
    {
     "data": {
      "text/plain": [
       "(0.90999918, 0.020000360000000005)"
      ]
     },
     "execution_count": 2,
     "metadata": {},
     "output_type": "execute_result"
    }
   ],
   "source": [
    "tact_snn_L_w = np.array([0.899999,0.899999,0.899999,0.899999,0.9499999])\n",
    "np.mean(tact_snn_L_w), np.std(tact_snn_L_w)"
   ]
  },
  {
   "cell_type": "code",
   "execution_count": 3,
   "metadata": {},
   "outputs": [
    {
     "data": {
      "text/plain": [
       "(0.8199995999999998, 0.06782341778648432)"
      ]
     },
     "execution_count": 3,
     "metadata": {},
     "output_type": "execute_result"
    }
   ],
   "source": [
    "tact_snn_L = np.array([0.800000,0.850000,0.899999,0.850000,0.699999])\n",
    "np.mean(tact_snn_L), np.std(tact_snn_L)"
   ]
  },
  {
   "cell_type": "code",
   "execution_count": 4,
   "metadata": {},
   "outputs": [
    {
     "data": {
      "text/plain": [
       "(0.8699994, 0.059999533333518505)"
      ]
     },
     "execution_count": 4,
     "metadata": {},
     "output_type": "execute_result"
    }
   ],
   "source": [
    "tact_ann = np.array([0.800000,0.949999,0.800000,0.899999,0.899999])\n",
    "np.mean(tact_ann), np.std(tact_ann)"
   ]
  },
  {
   "cell_type": "code",
   "execution_count": 5,
   "metadata": {},
   "outputs": [
    {
     "data": {
      "text/plain": [
       "(0.4399998, 0.08602322942182537)"
      ]
     },
     "execution_count": 5,
     "metadata": {},
     "output_type": "execute_result"
    }
   ],
   "source": [
    "tact_cnn3d = np.array([0.400000, 0.5, 0.550000, 0.449999, 0.300000])\n",
    "np.mean(tact_cnn3d), np.std(tact_cnn3d)"
   ]
  },
  {
   "cell_type": "code",
   "execution_count": 6,
   "metadata": {},
   "outputs": [
    {
     "data": {
      "text/plain": [
       "(0.55, 0.09999999999999999)"
      ]
     },
     "execution_count": 6,
     "metadata": {},
     "output_type": "execute_result"
    }
   ],
   "source": [
    "vis_ann = np.array([1.0, 1.0, 1.0, 1.0, 1.0, 1.0])\n",
    "vis_snn_L = np.array([1.0, 1.0, 1.0, 1.0, 1.0, 1.0])\n",
    "vis_snn_L_w = np.array([1.0, 1.0, 1.0, 1.0, 1.0, 1.0])\n",
    "vis_cnn3d = np.array([0.5, 0.5, 0.5, 0.5, 0.75])\n",
    "np.mean(vis_cnn3d), np.std(vis_cnn3d)"
   ]
  },
  {
   "cell_type": "code",
   "execution_count": 7,
   "metadata": {},
   "outputs": [
    {
     "data": {
      "text/plain": [
       "(0.76999778, 0.11661999320559746)"
      ]
     },
     "execution_count": 7,
     "metadata": {},
     "output_type": "execute_result"
    }
   ],
   "source": [
    "mm_ann = np.array([1.0, 1.0, 1.0, 1.0, 1.0, 1.0])\n",
    "mm_snn_L = np.array([1.0, 1.0, 1.0, 1.0, 1.0, 1.0])\n",
    "mm_snn_L_w = np.array([1.0, 1.0, 1.0, 1.0, 1.0, 1.0])\n",
    "mm_cnn3d = np.array([0.6, 0.8999999, 0.75, 0.899999, 0.69999])\n",
    "np.mean(mm_cnn3d), np.std(mm_cnn3d)"
   ]
  },
  {
   "cell_type": "code",
   "execution_count": 8,
   "metadata": {},
   "outputs": [],
   "source": [
    "rests = [\n",
    "[tact_snn_L, tact_snn_L_w, tact_ann, tact_cnn3d],\n",
    "[vis_snn_L, vis_snn_L_w, vis_ann, vis_cnn3d],\n",
    "[mm_snn_L, mm_snn_L_w, mm_ann, mm_cnn3d]\n",
    "]"
   ]
  },
  {
   "cell_type": "code",
   "execution_count": 9,
   "metadata": {},
   "outputs": [],
   "source": [
    "import pickle\n",
    "pickle.dump(rests, open('slip_rests.pkl', 'wb'))"
   ]
  },
  {
   "cell_type": "code",
   "execution_count": null,
   "metadata": {},
   "outputs": [],
   "source": []
  }
 ],
 "metadata": {
  "kernelspec": {
   "display_name": "Python 3",
   "language": "python",
   "name": "python3"
  },
  "language_info": {
   "codemirror_mode": {
    "name": "ipython",
    "version": 3
   },
   "file_extension": ".py",
   "mimetype": "text/x-python",
   "name": "python",
   "nbconvert_exporter": "python",
   "pygments_lexer": "ipython3",
   "version": "3.6.8"
  }
 },
 "nbformat": 4,
 "nbformat_minor": 2
}
