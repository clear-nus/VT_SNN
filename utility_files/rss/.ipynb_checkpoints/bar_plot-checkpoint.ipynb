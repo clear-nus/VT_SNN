{
 "cells": [
  {
   "cell_type": "code",
   "execution_count": 1,
   "metadata": {},
   "outputs": [],
   "source": [
    "%matplotlib inline"
   ]
  },
  {
   "cell_type": "code",
   "execution_count": 2,
   "metadata": {},
   "outputs": [],
   "source": [
    "import pickle\n",
    "import pandas as pd\n",
    "import seaborn as sns\n",
    "import matplotlib.pyplot as plt\n",
    "from matplotlib.legend import Legend\n",
    "#from matplotlib import rc\n",
    "import matplotlib\n",
    "# matplotlib.rcParams['text.usetex']=True\n",
    "# matplotlib.rcParams['text.latex.unicode']=True"
   ]
  },
  {
   "cell_type": "code",
   "execution_count": 3,
   "metadata": {},
   "outputs": [],
   "source": [
    "[\n",
    "[tact_snn_L, tact_snn_L_w, tact_ann, tact_cnn3d],\n",
    "[vis_snn_L, vis_snn_L_w, vis_ann, vis_cnn3d],\n",
    "[mm_snn_L, mm_snn_L_w, mm_ann, mm_cnn3d]\n",
    "] = pickle.load(open('obj_class_rests.pkl', 'rb'))"
   ]
  },
  {
   "cell_type": "code",
   "execution_count": 4,
   "metadata": {},
   "outputs": [],
   "source": [
    "def lr(some_array, name):\n",
    "    l = []\n",
    "    for i in some_array:\n",
    "        l.append(name)\n",
    "    return l"
   ]
  },
  {
   "cell_type": "code",
   "execution_count": 5,
   "metadata": {},
   "outputs": [],
   "source": [
    "all_tactile = tact_snn_L.tolist() + tact_snn_L_w.tolist()+tact_ann.tolist()+tact_cnn3d.tolist()\n",
    "all_tactile_mod = lr(tact_snn_L, 'Tactile') + lr(tact_snn_L_w, 'Tactile')+lr(tact_ann, 'Tactile') + lr(tact_cnn3d, 'Tactile')\n",
    "all_tactile_type = lr(tact_snn_L, 'SNN L')+lr(tact_snn_L_w, 'SNN Lw')+lr(tact_ann, 'ANN (MLP-GRU)')+lr(tact_cnn3d, 'ANN (CNN3D)')\n",
    "\n",
    "all_vision = vis_snn_L.tolist() + vis_snn_L_w.tolist()+vis_ann.tolist()+vis_cnn3d.tolist()\n",
    "all_vision_mod = lr(vis_snn_L, 'Vision') + lr(vis_snn_L_w, 'Vision')+lr(vis_ann, 'Vision') + lr(vis_cnn3d, 'Vision')\n",
    "all_vision_type = lr(vis_snn_L, 'SNN L')+lr(vis_snn_L_w, 'SNN Lw')+lr(vis_ann, 'ANN (MLP-GRU)')+lr(vis_cnn3d, 'ANN (CNN3D)')\n",
    "\n",
    "all_mm = mm_snn_L.tolist() + mm_snn_L_w.tolist()+mm_ann.tolist()+mm_cnn3d.tolist()\n",
    "all_mm_mod = lr(mm_snn_L, 'Combined') + lr(mm_snn_L_w, 'Combined')+lr(mm_ann, 'Combined') + lr(mm_cnn3d, 'Combined')\n",
    "all_mm_type = lr(mm_snn_L, 'SNN L')+lr(mm_snn_L_w, 'SNN Lw')+lr(mm_ann, 'ANN (MLP-GRU)')+lr(mm_cnn3d, 'ANN (CNN3D)')"
   ]
  },
  {
   "cell_type": "code",
   "execution_count": 6,
   "metadata": {},
   "outputs": [],
   "source": [
    "df = pd.DataFrame(\n",
    "    {'Accuracies':all_tactile +all_vision+all_mm,\n",
    "    'Modality':all_tactile_mod+all_vision_mod+all_mm_mod,\n",
    "    'Type': all_tactile_type+all_vision_type+all_mm_type}\n",
    ")"
   ]
  },
  {
   "cell_type": "code",
   "execution_count": 7,
   "metadata": {},
   "outputs": [],
   "source": [
    "sns.set_context('paper')\n",
    "sns.set_style('whitegrid')\n",
    "sns.set(rc={\"xtick.bottom\" : True, 'font.sans-serif': 'Liberation Sans'}, context='paper', style='whitegrid', palette='Set1')"
   ]
  },
  {
   "cell_type": "code",
   "execution_count": 8,
   "metadata": {},
   "outputs": [
    {
     "data": {
      "text/html": [
       "<div>\n",
       "<style scoped>\n",
       "    .dataframe tbody tr th:only-of-type {\n",
       "        vertical-align: middle;\n",
       "    }\n",
       "\n",
       "    .dataframe tbody tr th {\n",
       "        vertical-align: top;\n",
       "    }\n",
       "\n",
       "    .dataframe thead th {\n",
       "        text-align: right;\n",
       "    }\n",
       "</style>\n",
       "<table border=\"1\" class=\"dataframe\">\n",
       "  <thead>\n",
       "    <tr style=\"text-align: right;\">\n",
       "      <th></th>\n",
       "      <th>Accuracies</th>\n",
       "      <th>Modality</th>\n",
       "      <th>Type</th>\n",
       "    </tr>\n",
       "  </thead>\n",
       "  <tbody>\n",
       "    <tr>\n",
       "      <th>0</th>\n",
       "      <td>0.683333</td>\n",
       "      <td>Tactile</td>\n",
       "      <td>SNN L</td>\n",
       "    </tr>\n",
       "    <tr>\n",
       "      <th>1</th>\n",
       "      <td>0.749666</td>\n",
       "      <td>Tactile</td>\n",
       "      <td>SNN L</td>\n",
       "    </tr>\n",
       "    <tr>\n",
       "      <th>2</th>\n",
       "      <td>0.666667</td>\n",
       "      <td>Tactile</td>\n",
       "      <td>SNN L</td>\n",
       "    </tr>\n",
       "    <tr>\n",
       "      <th>3</th>\n",
       "      <td>0.700000</td>\n",
       "      <td>Tactile</td>\n",
       "      <td>SNN L</td>\n",
       "    </tr>\n",
       "    <tr>\n",
       "      <th>4</th>\n",
       "      <td>0.700000</td>\n",
       "      <td>Tactile</td>\n",
       "      <td>SNN L</td>\n",
       "    </tr>\n",
       "  </tbody>\n",
       "</table>\n",
       "</div>"
      ],
      "text/plain": [
       "   Accuracies Modality   Type\n",
       "0    0.683333  Tactile  SNN L\n",
       "1    0.749666  Tactile  SNN L\n",
       "2    0.666667  Tactile  SNN L\n",
       "3    0.700000  Tactile  SNN L\n",
       "4    0.700000  Tactile  SNN L"
      ]
     },
     "execution_count": 8,
     "metadata": {},
     "output_type": "execute_result"
    }
   ],
   "source": [
    "df.head()"
   ]
  },
  {
   "cell_type": "code",
   "execution_count": 9,
   "metadata": {},
   "outputs": [],
   "source": [
    "# bar plot and box plot\n",
    "def change_width(ax, new_value) :\n",
    "    for patch in ax.patches :\n",
    "        current_width = patch.get_width()\n",
    "        diff = current_width - new_value\n",
    "\n",
    "        # we change the bar width\n",
    "        patch.set_width(new_value)\n",
    "\n",
    "        # we recenter the bar\n",
    "        patch.set_x(patch.get_x() + diff * .5)\n"
   ]
  },
  {
   "cell_type": "code",
   "execution_count": 14,
   "metadata": {},
   "outputs": [
    {
     "data": {
      "image/png": "[encoded data removed]",
      "text/plain": [
       "<Figure size 720x360 with 1 Axes>"
      ]
     },
     "metadata": {},
     "output_type": "display_data"
    }
   ],
   "source": [
    "fig, ax = plt.subplots(figsize=(10,5))\n",
    "sns.barplot(ax=ax, x=\"Type\", y=\"Accuracies\", hue='Modality', data=df, order=['ANN (MLP-GRU)', 'ANN (CNN3D)', 'SNN L', 'SNN Lw'])\n",
    "#change_width(ax, .15)\n",
    "handles, labels = ax.get_legend_handles_labels()\n",
    "ax.legend_.remove()\n",
    "\n",
    "leg = Legend(ax, handles=handles, labels=labels,loc='upper left', frameon=True, prop={'size': 14})\n",
    "ax.add_artist(leg)\n",
    "\n",
    "\n",
    "plt.xticks(fontsize=12)\n",
    "plt.yticks(fontsize=12)\n",
    "plt.ylabel('Test Accuracy', fontsize=14)\n",
    "plt.xlabel(' ')\n",
    "\n",
    "plt.tight_layout(True)\n",
    "ax.set_xticklabels(['ANN (MLP-GRU)', 'ANN (CNN3D)', 'SNN (L)', 'SNN (L_w)'])\n",
    "plt.savefig('bar_plot_object_class.svg', dpi=300)\n",
    "plt.show()"
   ]
  },
  {
   "cell_type": "code",
   "execution_count": null,
   "metadata": {},
   "outputs": [],
   "source": []
  }
 ],
 "metadata": {
  "kernelspec": {
   "display_name": "Python 3",
   "language": "python",
   "name": "python3"
  },
  "language_info": {
   "codemirror_mode": {
    "name": "ipython",
    "version": 3
   },
   "file_extension": ".py",
   "mimetype": "text/x-python",
   "name": "python",
   "nbconvert_exporter": "python",
   "pygments_lexer": "ipython3",
   "version": "3.6.8"
  }
 },
 "nbformat": 4,
 "nbformat_minor": 2
}
