{
 "cells": [
  {
   "cell_type": "code",
   "execution_count": 1,
   "metadata": {},
   "outputs": [],
   "source": [
    "import sys, os\n",
    "CURRENT_TEST_DIR = os.getcwd()\n",
    "sys.path.append(CURRENT_TEST_DIR + \"/../../VT_SNN/\")"
   ]
  },
  {
   "cell_type": "code",
   "execution_count": 2,
   "metadata": {},
   "outputs": [],
   "source": [
    "import numpy as np\n",
    "import matplotlib.pyplot as plt\n",
    "from snn_models.baseline_snn import SlayerMLP\n",
    "from snn_models.multimodal_snn import SlayerMM\n",
    "from dataset import ViTacDataset, ViTacMMDataset\n",
    "from torch.utils.data import DataLoader\n",
    "import slayerSNN as snn\n",
    "\n",
    "import torch\n",
    "import pandas as pd\n",
    "from os import listdir\n",
    "from os.path import isfile, join\n",
    "import copy\n",
    "import seaborn as sns\n",
    "\n",
    "device = torch.device(\"cuda:0\")"
   ]
  },
  {
   "cell_type": "code",
   "execution_count": 3,
   "metadata": {},
   "outputs": [],
   "source": [
    "params = {\n",
    "    \"neuron\": {\n",
    "        \"type\": \"SRMALPHA\",\n",
    "        \"theta\": 10, # activation threshold\n",
    "        \"tauSr\": 10.0, # time constant for srm kernel\n",
    "        \"tauRef\": 1.0, # refractory kernel time constant\n",
    "        \"scaleRef\": 2, # refractory kernel constant relative to theta\n",
    "        \"tauRho\": 1, # pdf\n",
    "        \"scaleRho\": 1, # membrane potential \n",
    "    },\n",
    "    \"simulation\": {\"Ts\": 1.0, \"tSample\": 325, \"nSample\": 1},\n",
    "}\n",
    "\n",
    "net_tact = SlayerMLP(params, 156, 32, 20).to(device)\n",
    "net_vis = SlayerMLP(params, (50, 63, 2), 32, 20).to(device)\n",
    "net_mm = SlayerMM(params,20).to(device)"
   ]
  },
  {
   "cell_type": "code",
   "execution_count": 12,
   "metadata": {},
   "outputs": [],
   "source": [
    "directory_to_runs = '/home/tasbolat/tas_python_env/.guild/runs/'\n",
    "data_dir = '/home/tasbolat/some_python_examples/data_VT_SNN_new/'"
   ]
  },
  {
   "cell_type": "code",
   "execution_count": 13,
   "metadata": {},
   "outputs": [],
   "source": [
    "#run_name  = #'4ada5363c943412aaf0bf37e61398992' #'13cf44d896b946999067f6e4f5fa2c86'"
   ]
  },
  {
   "cell_type": "code",
   "execution_count": 56,
   "metadata": {},
   "outputs": [],
   "source": [
    "mm_runs_new = [\n",
    "'12f06916', \n",
    "'ced5bf55',\n",
    "'dd8e8dd2',   \n",
    "'12b108a6',\n",
    "'1b19cc6d', \n",
    "'acdbf5ed',\n",
    "'30e1a8c1',  \n",
    "'39ff9500', \n",
    "'a9281368',  \n",
    "'3c316b01',  \n",
    "'9bbb533a',  \n",
    "'dd21a59a',  \n",
    "'52c9737a',\n",
    "'5ca63e57']\n",
    "vis_runs_new = [\n",
    "'0f714578',\n",
    "'51839937',\n",
    "'3975d648', \n",
    "'93ea2c1c', \n",
    "'ac54c3cf']\n",
    "\n",
    "\n",
    "vis_runs= ['55b85704',\n",
    "'2337db84',\n",
    "'9261c0d7',\n",
    "'0f39285a',\n",
    "'d697498b']\n",
    "mm_runs = ['29cd0e9b',\n",
    "'d2d73407',\n",
    "'67fa81c8',\n",
    "'0cf69475',\n",
    "'d1ac2793']\n",
    "\n",
    "\n",
    "all_runs = vis_runs+mm_runs+vis_runs_new+mm_runs_new\n",
    "comments=['old_loss', 'old_loss','old_loss','old_loss','old_loss','old_loss', 'old_loss','old_loss','old_loss','old_loss',\n",
    "          'new_loss','new_loss','new_loss','new_loss',\n",
    "          'new_loss','new_loss','new_loss','new_loss',\n",
    "          'new_loss','new_loss','new_loss','new_loss',\n",
    "         'new_loss','new_loss','new_loss','new_loss',\n",
    "         'new_loss','new_loss','new_loss']\n",
    "\n",
    "# all_runs = tac_runs+vis_runs+tac_runs_new+vis_runs_new\n",
    "# comments=['old_loss', 'old_loss','old_loss','old_loss','new_loss','new_loss','new_loss','new_loss']"
   ]
  },
  {
   "cell_type": "code",
   "execution_count": 57,
   "metadata": {},
   "outputs": [
    {
     "data": {
      "text/plain": [
       "(29, 29)"
      ]
     },
     "execution_count": 57,
     "metadata": {},
     "output_type": "execute_result"
    }
   ],
   "source": [
    "len(all_runs), len(comments)"
   ]
  },
  {
   "cell_type": "code",
   "execution_count": 58,
   "metadata": {},
   "outputs": [],
   "source": [
    "def small_run_name(run_name):\n",
    "    subfolders = [ f.path for f in os.scandir(directory_to_runs) if f.is_dir() ]\n",
    "    for some_name in subfolders:\n",
    "        if run_name in some_name:\n",
    "            print(some_name)\n",
    "            return some_name[-32:]\n",
    "    return -1"
   ]
  },
  {
   "cell_type": "code",
   "execution_count": 59,
   "metadata": {},
   "outputs": [],
   "source": [
    "def parse_run(run_name, epoch_number=500):\n",
    "    if len(run_name) < 10:\n",
    "        run_name = small_run_name(run_name)\n",
    "    list_of_models = [f for f in listdir(directory_to_runs + run_name) if isfile(join(directory_to_runs + run_name, f))]\n",
    "    for some_model in list_of_models:\n",
    "        if not ('weights' in some_model):\n",
    "            continue\n",
    "        if int(some_model[-9:-6]) == epoch_number:\n",
    "            if 'tac' in some_model:\n",
    "                model_type = 'tac'\n",
    "            elif 'vis' in some_model:\n",
    "                model_type = 'vis'\n",
    "            else:\n",
    "                model_type = 'mm'\n",
    "            sample_number = int(some_model[-5:-3])\n",
    "            break\n",
    "    return model_type, sample_number, directory_to_runs+run_name+'/'+some_model"
   ]
  },
  {
   "cell_type": "code",
   "execution_count": 60,
   "metadata": {},
   "outputs": [],
   "source": [
    "def load_model(path_to_model, model_type):\n",
    "    if model_type == 'tac':\n",
    "        net = copy.deepcopy(net_tact)\n",
    "    elif model_type == 'vis':\n",
    "        net = copy.deepcopy(net_vis)\n",
    "    elif model_type == 'mm':\n",
    "        net = copy.deepcopy(net_mm)\n",
    "    \n",
    "    net.load_state_dict(torch.load(path_to_model))\n",
    "    return net"
   ]
  },
  {
   "cell_type": "code",
   "execution_count": 61,
   "metadata": {},
   "outputs": [],
   "source": [
    "def get_acc_df(model_type, sample_file, pToModel, comment='old_pass'):\n",
    "    net = load_model(pToModel, model_type)\n",
    "    net.eval()\n",
    "    \n",
    "    test_dataset = ViTacMMDataset(\n",
    "        path=data_dir, sample_file=f\"test_80_20_{sample_file}.txt\", output_size=20\n",
    "    )\n",
    "    test_loader = DataLoader(\n",
    "        dataset=test_dataset, batch_size=80, shuffle=False, num_workers=4\n",
    "    )\n",
    "    \n",
    "    all_outputs = []\n",
    "    with torch.no_grad():\n",
    "        for k, (tact, vis, target, label) in enumerate(test_loader):\n",
    "            tact = tact.to(device)\n",
    "            vis = vis.to(device)\n",
    "            if model_type == 'tac':\n",
    "                output = net.forward(tact)\n",
    "            elif model_type == 'vis':\n",
    "                output = net.forward(vis)\n",
    "            elif model_type == 'mm':\n",
    "                output = net.forward(tact, vis)\n",
    "            all_outputs.append([label, output])\n",
    "\n",
    "        accs = {\n",
    "                'Accuracy':[],\n",
    "                'model_type':[],\n",
    "                'SampleFile':[],\n",
    "                'Length':[],\n",
    "                'Comment':[]\n",
    "            }\n",
    "\n",
    "        for t in range(0, 325, 1):\n",
    "            correct_tact = 0\n",
    "            correct_mm = 0\n",
    "            for label, output_tact  in all_outputs:\n",
    "\n",
    "                output_tact = output_tact[...,:t]\n",
    "                correct_tact += torch.sum(snn.predict.getClass(output_tact) == label).data.item()\n",
    "                #correct_mm += torch.sum(snn.predict.getClass(output_mm) == label).data.item()\n",
    "\n",
    "            accs['Accuracy'].append(correct_tact/len(test_loader.dataset))\n",
    "            accs['model_type'].append(model_type)\n",
    "            accs['SampleFile'].append(sample_file)\n",
    "            accs['Length'].append(t)\n",
    "            accs['Comment'].append(comment)\n",
    "            \n",
    "    return pd.DataFrame(accs)"
   ]
  },
  {
   "cell_type": "code",
   "execution_count": 62,
   "metadata": {},
   "outputs": [
    {
     "name": "stdout",
     "output_type": "stream",
     "text": [
      "/home/tasbolat/tas_python_env/.guild/runs/55b85704fb40463a87e9259a40e525d7\n",
      "/home/tasbolat/tas_python_env/.guild/runs/2337db8426894303bf1e89f35cfc2089\n",
      "/home/tasbolat/tas_python_env/.guild/runs/9261c0d745134135ba30adb922e320e7\n",
      "/home/tasbolat/tas_python_env/.guild/runs/0f39285a77a740629f648321b4663e0f\n",
      "/home/tasbolat/tas_python_env/.guild/runs/d697498bf83b44bab20d03fc00429be5\n",
      "/home/tasbolat/tas_python_env/.guild/runs/29cd0e9baa0b46fb9bb405201d5bfcd8\n",
      "/home/tasbolat/tas_python_env/.guild/runs/d2d73407c4a94d538c0d1308697d12e7\n",
      "/home/tasbolat/tas_python_env/.guild/runs/67fa81c8cf2d4c71b4f578a164d2e1be\n",
      "/home/tasbolat/tas_python_env/.guild/runs/0cf69475cadb482a9c4b73613752433d\n",
      "/home/tasbolat/tas_python_env/.guild/runs/d1ac2793fd3846d795bf42b140c4ba1e\n",
      "/home/tasbolat/tas_python_env/.guild/runs/0f714578fec24df8a4d6332b1ddf9816\n",
      "/home/tasbolat/tas_python_env/.guild/runs/5183993764de412b88c1ecb11eacbacb\n",
      "/home/tasbolat/tas_python_env/.guild/runs/3975d648786c4bbca349c64acc508402\n",
      "/home/tasbolat/tas_python_env/.guild/runs/93ea2c1cb6594cd7a9265c8706a03b9f\n",
      "/home/tasbolat/tas_python_env/.guild/runs/ac54c3cfc0884eeebd3ddbbdf81d5b50\n",
      "/home/tasbolat/tas_python_env/.guild/runs/12f069166956475f91d9e3fd07218956\n",
      "/home/tasbolat/tas_python_env/.guild/runs/ced5bf55389c4ef5a56b34b3bc899cb1\n",
      "/home/tasbolat/tas_python_env/.guild/runs/dd8e8dd246114e2c9139608e8d718d8f\n",
      "/home/tasbolat/tas_python_env/.guild/runs/12b108a66f744ca6addb1761ca4728e3\n",
      "/home/tasbolat/tas_python_env/.guild/runs/1b19cc6d77634cf29d99e683be442cca\n",
      "/home/tasbolat/tas_python_env/.guild/runs/acdbf5ed3408448495082e24ebbf7014\n",
      "/home/tasbolat/tas_python_env/.guild/runs/30e1a8c12bc345fe8c0bfc708df4e9f5\n",
      "/home/tasbolat/tas_python_env/.guild/runs/39ff9500876f43d993d24ad1284ba631\n",
      "/home/tasbolat/tas_python_env/.guild/runs/a9281368f9824602bc0c459cf7298a37\n",
      "/home/tasbolat/tas_python_env/.guild/runs/3c316b018fbc4b85bea9ca04b3b03910\n",
      "/home/tasbolat/tas_python_env/.guild/runs/9bbb533ada784dc0abb0b13969586bd6\n",
      "/home/tasbolat/tas_python_env/.guild/runs/dd21a59a715f42b6a9c5857bcf628743\n",
      "/home/tasbolat/tas_python_env/.guild/runs/52c9737ac0de4539886dc93f9a74fb0a\n",
      "/home/tasbolat/tas_python_env/.guild/runs/5ca63e5757f34584a52fb8b3100ccd6c\n"
     ]
    }
   ],
   "source": [
    "all_dfs = []\n",
    "for run_name, comment in zip(all_runs, comments):\n",
    "    model_type, sample_file, pToModel = parse_run(run_name)\n",
    "    df = get_acc_df(model_type, sample_file, pToModel, comment=comment)\n",
    "    all_dfs.append(df)"
   ]
  },
  {
   "cell_type": "code",
   "execution_count": 63,
   "metadata": {},
   "outputs": [],
   "source": [
    "import pickle\n",
    "all_dfs_tac = pickle.load(open('tact_res.pk', 'rb'))\n",
    "all_dfs_new = all_dfs + all_dfs_tac"
   ]
  },
  {
   "cell_type": "code",
   "execution_count": 70,
   "metadata": {},
   "outputs": [],
   "source": [
    "df = pd.concat(all_dfs_new)\n",
    "df = df.assign(t=df.Length*0.02)"
   ]
  },
  {
   "cell_type": "code",
   "execution_count": 71,
   "metadata": {},
   "outputs": [
    {
     "data": {
      "text/plain": [
       "(13000, 6)"
      ]
     },
     "execution_count": 71,
     "metadata": {},
     "output_type": "execute_result"
    }
   ],
   "source": [
    "df.shape"
   ]
  },
  {
   "cell_type": "code",
   "execution_count": 72,
   "metadata": {},
   "outputs": [],
   "source": [
    "df.model_type = df.model_type.map({'vis':'Vision', \n",
    "                  'tac':'Tactile',\n",
    "                  'mm':'Combined'})\n",
    "\n",
    "df.Comment = df.Comment.map({'old_loss':'SpikeCount', \n",
    "                  'new_loss':'WeightedSpikeCount'})"
   ]
  },
  {
   "cell_type": "code",
   "execution_count": 80,
   "metadata": {},
   "outputs": [],
   "source": [
    "df = df.rename(columns={'model_type':'Modality', 'Comment':'Loss function'})"
   ]
  },
  {
   "cell_type": "code",
   "execution_count": 81,
   "metadata": {},
   "outputs": [],
   "source": [
    "sns.set_context('paper')\n",
    "sns.set_style('whitegrid')\n",
    "sns.set(rc={\"xtick.bottom\" : True, 'font.sans-serif': 'Liberation Sans'}, context='paper', style='whitegrid', palette='Set1')"
   ]
  },
  {
   "cell_type": "code",
   "execution_count": 97,
   "metadata": {},
   "outputs": [
    {
     "data": {
      "text/plain": [
       "array([0. , 0.5, 1. , 1.5, 2. , 2.5, 3. , 3.5, 4. , 4.5, 5. , 5.5, 6. ])"
      ]
     },
     "execution_count": 97,
     "metadata": {},
     "output_type": "execute_result"
    }
   ],
   "source": [
    "np.arange(0,6.5,0.5)"
   ]
  },
  {
   "cell_type": "code",
   "execution_count": 98,
   "metadata": {},
   "outputs": [
    {
     "data": {
      "text/plain": [
       "array([  0,  10,  20,  30,  40,  50,  60,  70,  80,  90, 100, 110, 120,\n",
       "       130, 140, 150, 160, 170, 180, 190, 200, 210, 220, 230, 240, 250,\n",
       "       260, 270, 280, 290, 300, 310, 320])"
      ]
     },
     "execution_count": 98,
     "metadata": {},
     "output_type": "execute_result"
    }
   ],
   "source": [
    "np.arange(0, 325, 10)"
   ]
  },
  {
   "cell_type": "code",
   "execution_count": 109,
   "metadata": {},
   "outputs": [
    {
     "data": {
      "text/plain": [
       "['Modality',\n",
       " 'Tactile',\n",
       " 'Vision',\n",
       " 'Combined',\n",
       " 'Loss function',\n",
       " 'SpikeCount',\n",
       " 'WeightedSpikeCount']"
      ]
     },
     "execution_count": 109,
     "metadata": {},
     "output_type": "execute_result"
    }
   ],
   "source": [
    "labels"
   ]
  },
  {
   "cell_type": "code",
   "execution_count": 118,
   "metadata": {},
   "outputs": [],
   "source": [
    "from matplotlib.legend import Legend"
   ]
  },
  {
   "cell_type": "code",
   "execution_count": 126,
   "metadata": {},
   "outputs": [
    {
     "data": {
      "image/png": "[encoded data removed]",
      "text/plain": [
       "<Figure size 432x288 with 1 Axes>"
      ]
     },
     "metadata": {},
     "output_type": "display_data"
    }
   ],
   "source": [
    "fig, ax = plt.subplots()\n",
    "ax = sns.lineplot(x='t', y='Accuracy', hue='Modality', data = df, style='Loss function', ci='sd', linewidth=2, hue_order=['Tactile','Vision', 'Combined'])\n",
    "handles, labels = ax.get_legend_handles_labels()\n",
    "ax.legend_.remove()\n",
    "\n",
    "leg = Legend(ax, handles=handles[1:4], labels=labels[1:4], loc='upper left', frameon=True, prop={'size': 14})\n",
    "ax.add_artist(leg)\n",
    "leg = Legend(ax, handles=handles[5:], labels=labels[5:],loc='lower right', frameon=True, prop={'size': 14})\n",
    "ax.add_artist(leg)\n",
    "\n",
    "ax.set_xticks(np.arange(0,6.5,0.25), minor=True)\n",
    "ax.tick_params(axis='x', which='minor')\n",
    "ax.set_xlim([0,6.5])\n",
    "ax.set_ylim([0,1])\n",
    "\n",
    "plt.xticks(fontsize=12)\n",
    "plt.yticks(fontsize=12)\n",
    "plt.xlabel('Time (s)', fontsize=14)\n",
    "plt.ylabel('Test Accuracy', fontsize=14)\n",
    "plt.tight_layout(True)\n",
    "plt.savefig('object_det_over_time.pdf', dpi=300)\n",
    "plt.show()"
   ]
  },
  {
   "cell_type": "code",
   "execution_count": 129,
   "metadata": {},
   "outputs": [
    {
     "data": {
      "text/plain": [
       "(0.7512000000000001, 0.06156102663211521)"
      ]
     },
     "execution_count": 129,
     "metadata": {},
     "output_type": "execute_result"
    }
   ],
   "source": [
    "ttt = np.array([0.75,0.64,0.8,0.75,0.816])\n",
    "np.mean(ttt), np.std(ttt)"
   ]
  },
  {
   "cell_type": "code",
   "execution_count": 132,
   "metadata": {},
   "outputs": [
    {
     "data": {
      "text/plain": [
       "(0.5193331999999999, 0.05017312959503322)"
      ]
     },
     "execution_count": 132,
     "metadata": {},
     "output_type": "execute_result"
    }
   ],
   "source": [
    "ttt_ann = np.array([0.533333,0.5,0.58,0.55,0.433333])\n",
    "np.mean(ttt_ann), np.std(ttt_ann)"
   ]
  },
  {
   "cell_type": "code",
   "execution_count": 130,
   "metadata": {},
   "outputs": [
    {
     "data": {
      "text/plain": [
       "(0.7999997999999999, 0.04082491069628934)"
      ]
     },
     "execution_count": 130,
     "metadata": {},
     "output_type": "execute_result"
    }
   ],
   "source": [
    "mmm = np.array([0.783333,0.733333,0.800000,0.850000,0.833333])\n",
    "np.mean(mmm), np.std(mmm)"
   ]
  },
  {
   "cell_type": "code",
   "execution_count": 133,
   "metadata": {},
   "outputs": [
    {
     "data": {
      "text/plain": [
       "(0.4498646, 0.03812347655500479)"
      ]
     },
     "execution_count": 133,
     "metadata": {},
     "output_type": "execute_result"
    }
   ],
   "source": [
    "mmm_ann = np.array([0.44999,0.483333,0.416,0.4,0.5])\n",
    "np.mean(mmm_ann), np.std(mmm_ann)"
   ]
  },
  {
   "cell_type": "code",
   "execution_count": 131,
   "metadata": {},
   "outputs": [
    {
     "data": {
      "text/plain": [
       "(0.676666, 0.022607864905824268)"
      ]
     },
     "execution_count": 131,
     "metadata": {},
     "output_type": "execute_result"
    }
   ],
   "source": [
    "vvv = np.array([0.666666, 0.649999, 0.716666, 0.683333, 0.666666])\n",
    "np.mean(vvv), np.std(vvv)"
   ]
  },
  {
   "cell_type": "code",
   "execution_count": null,
   "metadata": {},
   "outputs": [],
   "source": [
    "vvv_ann = np.array([0.400000, 0.400000, 0.449999, 0.383333, 0.483333])\n",
    "np.mean(vvv), np.std(vvv)"
   ]
  },
  {
   "cell_type": "raw",
   "metadata": {},
   "source": [
    "net = load_model(pToModel, mt)\n",
    "net.eval()\n",
    "\n",
    "test_dataset = ViTacMMDataset(\n",
    "            path=data_dir, sample_file=f\"test_80_20_{sample_file}.txt\", output_size=20\n",
    ")\n",
    "test_loader = DataLoader(\n",
    "    dataset=test_dataset, batch_size=80, shuffle=False, num_workers=4\n",
    ")\n",
    "\n",
    "%%time\n",
    "all_outputs = []\n",
    "with torch.no_grad():\n",
    "    for k, (tact, vis, target, label) in enumerate(test_loader):\n",
    "        tact = tact.to(device)\n",
    "        vis = vis.to(device)\n",
    "        if model_type == 'tac':\n",
    "            output = net.forward(tact)\n",
    "        elif model_type == 'vis':\n",
    "            output = net.forward(vis)\n",
    "        elif model_type == 'mm':\n",
    "            output = net.forward(tact, vis)\n",
    "        all_outputs.append([label, output])\n",
    "        \n",
    "    accs = {\n",
    "            'Accuracy':[],\n",
    "            'model_type':[],\n",
    "            'SampleFile':[],\n",
    "            'Length':[],\n",
    "            'Comment':[]\n",
    "        }\n",
    "        \n",
    "    for t in range(0, 325, 1):\n",
    "        correct_tact = 0\n",
    "        correct_mm = 0\n",
    "        for label, output_tact  in all_outputs:\n",
    "\n",
    "            output_tact = output_tact[...,:t]\n",
    "            correct_tact += torch.sum(snn.predict.getClass(output_tact) == label).data.item()\n",
    "            #correct_mm += torch.sum(snn.predict.getClass(output_mm) == label).data.item()\n",
    "\n",
    "        accs['Accuracy'].append(correct_tact/len(test_loader.dataset))\n",
    "        accs['model_type'].append(model_type)\n",
    "        accs['SampleFile'].append(sample_file)\n",
    "        accs['Length'].append(t)\n",
    "        accs['Comment'].append(comment)"
   ]
  },
  {
   "cell_type": "code",
   "execution_count": null,
   "metadata": {},
   "outputs": [],
   "source": []
  }
 ],
 "metadata": {
  "kernelspec": {
   "display_name": "Python 3",
   "language": "python",
   "name": "python3"
  },
  "language_info": {
   "codemirror_mode": {
    "name": "ipython",
    "version": 3
   },
   "file_extension": ".py",
   "mimetype": "text/x-python",
   "name": "python",
   "nbconvert_exporter": "python",
   "pygments_lexer": "ipython3",
   "version": "3.6.8"
  }
 },
 "nbformat": 4,
 "nbformat_minor": 2
}
