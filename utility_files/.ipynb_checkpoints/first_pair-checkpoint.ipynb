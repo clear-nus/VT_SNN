{
 "cells": [
  {
   "cell_type": "code",
   "execution_count": 1,
   "metadata": {},
   "outputs": [],
   "source": [
    "import pandas as pd\n",
    "import numpy as np"
   ]
  },
  {
   "cell_type": "code",
   "execution_count": 9,
   "metadata": {},
   "outputs": [],
   "source": [
    "df = pd.read_csv('/home/tasbolat/some_python_examples/VT_SNN/rpg_event_representation_learning/jun16_rests.csv')"
   ]
  },
  {
   "cell_type": "code",
   "execution_count": 10,
   "metadata": {},
   "outputs": [
    {
     "data": {
      "text/plain": [
       "Index(['run', 'operation', 'started', 'time', 'status', 'label', 'batch_size',\n",
       "       'epochs', 'tsample', 'tsr_stop', 'sc_true', 'sc_false', 'lr', 'theta',\n",
       "       'tauRho', 'sample_file', 'hidden_size', 'loss_type', 'output_size',\n",
       "       'finger_type', 'loss_train', 'max_acc_train', 'loss_test',\n",
       "       'max_acc_test', 'acc_test', 'acc_train', 'bin_duration', 'modes',\n",
       "       'n_sample_per_object', 'remove_outlier', 'save_dir', 'selection',\n",
       "       'tactile_path', 'threshold', 'trajectory_path', 'video_path'],\n",
       "      dtype='object')"
      ]
     },
     "execution_count": 10,
     "metadata": {},
     "output_type": "execute_result"
    }
   ],
   "source": [
    "df.columns"
   ]
  },
  {
   "cell_type": "code",
   "execution_count": 11,
   "metadata": {},
   "outputs": [],
   "source": [
    "df = df[['operation', 'label', 'acc_test', 'max_acc_test', 'finger_type', 'sample_file']]"
   ]
  },
  {
   "cell_type": "code",
   "execution_count": 12,
   "metadata": {
    "scrolled": false
   },
   "outputs": [
    {
     "data": {
      "text/html": [
       "<div>\n",
       "<style scoped>\n",
       "    .dataframe tbody tr th:only-of-type {\n",
       "        vertical-align: middle;\n",
       "    }\n",
       "\n",
       "    .dataframe tbody tr th {\n",
       "        vertical-align: top;\n",
       "    }\n",
       "\n",
       "    .dataframe thead th {\n",
       "        text-align: right;\n",
       "    }\n",
       "</style>\n",
       "<table border=\"1\" class=\"dataframe\">\n",
       "  <thead>\n",
       "    <tr style=\"text-align: right;\">\n",
       "      <th></th>\n",
       "      <th>operation</th>\n",
       "      <th>label</th>\n",
       "      <th>acc_test</th>\n",
       "      <th>max_acc_test</th>\n",
       "      <th>finger_type</th>\n",
       "      <th>sample_file</th>\n",
       "    </tr>\n",
       "  </thead>\n",
       "  <tbody>\n",
       "    <tr>\n",
       "      <th>0</th>\n",
       "      <td>vtsnn6:tact-snn-2</td>\n",
       "      <td>batch_size=8 checkpoint_dir=. data_dir=/…/jun1...</td>\n",
       "      <td>0.466667</td>\n",
       "      <td>0.533333</td>\n",
       "      <td>0.0</td>\n",
       "      <td>3.0</td>\n",
       "    </tr>\n",
       "    <tr>\n",
       "      <th>1</th>\n",
       "      <td>vtsnn6:tact-snn-2</td>\n",
       "      <td>batch_size=8 checkpoint_dir=. data_dir=/…/jun1...</td>\n",
       "      <td>0.400000</td>\n",
       "      <td>0.466667</td>\n",
       "      <td>0.0</td>\n",
       "      <td>3.0</td>\n",
       "    </tr>\n",
       "    <tr>\n",
       "      <th>2</th>\n",
       "      <td>vtsnn6:tact-snn-2</td>\n",
       "      <td>batch_size=8 checkpoint_dir=. data_dir=/…/jun1...</td>\n",
       "      <td>0.466667</td>\n",
       "      <td>0.533333</td>\n",
       "      <td>0.0</td>\n",
       "      <td>3.0</td>\n",
       "    </tr>\n",
       "    <tr>\n",
       "      <th>3</th>\n",
       "      <td>vtsnn6:tact-snn-2</td>\n",
       "      <td>batch_size=8 checkpoint_dir=. data_dir=/…/jun1...</td>\n",
       "      <td>0.466667</td>\n",
       "      <td>0.466667</td>\n",
       "      <td>0.0</td>\n",
       "      <td>3.0</td>\n",
       "    </tr>\n",
       "    <tr>\n",
       "      <th>4</th>\n",
       "      <td>vtsnn6:tact-snn-2</td>\n",
       "      <td>batch_size=8 checkpoint_dir=. data_dir=/…/jun1...</td>\n",
       "      <td>0.000000</td>\n",
       "      <td>0.400000</td>\n",
       "      <td>0.0</td>\n",
       "      <td>3.0</td>\n",
       "    </tr>\n",
       "    <tr>\n",
       "      <th>...</th>\n",
       "      <td>...</td>\n",
       "      <td>...</td>\n",
       "      <td>...</td>\n",
       "      <td>...</td>\n",
       "      <td>...</td>\n",
       "      <td>...</td>\n",
       "    </tr>\n",
       "    <tr>\n",
       "      <th>60</th>\n",
       "      <td>vtsnn6:prepare-data</td>\n",
       "      <td>bin_duration=0.02 modes=tac n_sample_per_objec...</td>\n",
       "      <td>NaN</td>\n",
       "      <td>NaN</td>\n",
       "      <td>NaN</td>\n",
       "      <td>NaN</td>\n",
       "    </tr>\n",
       "    <tr>\n",
       "      <th>61</th>\n",
       "      <td>vtsnn6:prepare-data</td>\n",
       "      <td>bin_duration=0.02 modes=tac n_sample_per_objec...</td>\n",
       "      <td>NaN</td>\n",
       "      <td>NaN</td>\n",
       "      <td>NaN</td>\n",
       "      <td>NaN</td>\n",
       "    </tr>\n",
       "    <tr>\n",
       "      <th>62</th>\n",
       "      <td>vtsnn6:prepare-data</td>\n",
       "      <td>bin_duration=0.02 modes=tac n_sample_per_objec...</td>\n",
       "      <td>NaN</td>\n",
       "      <td>NaN</td>\n",
       "      <td>NaN</td>\n",
       "      <td>NaN</td>\n",
       "    </tr>\n",
       "    <tr>\n",
       "      <th>63</th>\n",
       "      <td>vtsnn6:prepare-data</td>\n",
       "      <td>bin_duration=0.02 modes=tac n_sample_per_objec...</td>\n",
       "      <td>NaN</td>\n",
       "      <td>NaN</td>\n",
       "      <td>NaN</td>\n",
       "      <td>NaN</td>\n",
       "    </tr>\n",
       "    <tr>\n",
       "      <th>64</th>\n",
       "      <td>vtsnn6:prepare-data</td>\n",
       "      <td>bin_duration=0.02 modes=tac n_sample_per_objec...</td>\n",
       "      <td>NaN</td>\n",
       "      <td>NaN</td>\n",
       "      <td>NaN</td>\n",
       "      <td>NaN</td>\n",
       "    </tr>\n",
       "  </tbody>\n",
       "</table>\n",
       "<p>65 rows × 6 columns</p>\n",
       "</div>"
      ],
      "text/plain": [
       "              operation                                              label  \\\n",
       "0     vtsnn6:tact-snn-2  batch_size=8 checkpoint_dir=. data_dir=/…/jun1...   \n",
       "1     vtsnn6:tact-snn-2  batch_size=8 checkpoint_dir=. data_dir=/…/jun1...   \n",
       "2     vtsnn6:tact-snn-2  batch_size=8 checkpoint_dir=. data_dir=/…/jun1...   \n",
       "3     vtsnn6:tact-snn-2  batch_size=8 checkpoint_dir=. data_dir=/…/jun1...   \n",
       "4     vtsnn6:tact-snn-2  batch_size=8 checkpoint_dir=. data_dir=/…/jun1...   \n",
       "..                  ...                                                ...   \n",
       "60  vtsnn6:prepare-data  bin_duration=0.02 modes=tac n_sample_per_objec...   \n",
       "61  vtsnn6:prepare-data  bin_duration=0.02 modes=tac n_sample_per_objec...   \n",
       "62  vtsnn6:prepare-data  bin_duration=0.02 modes=tac n_sample_per_objec...   \n",
       "63  vtsnn6:prepare-data  bin_duration=0.02 modes=tac n_sample_per_objec...   \n",
       "64  vtsnn6:prepare-data  bin_duration=0.02 modes=tac n_sample_per_objec...   \n",
       "\n",
       "    acc_test  max_acc_test  finger_type  sample_file  \n",
       "0   0.466667      0.533333          0.0          3.0  \n",
       "1   0.400000      0.466667          0.0          3.0  \n",
       "2   0.466667      0.533333          0.0          3.0  \n",
       "3   0.466667      0.466667          0.0          3.0  \n",
       "4   0.000000      0.400000          0.0          3.0  \n",
       "..       ...           ...          ...          ...  \n",
       "60       NaN           NaN          NaN          NaN  \n",
       "61       NaN           NaN          NaN          NaN  \n",
       "62       NaN           NaN          NaN          NaN  \n",
       "63       NaN           NaN          NaN          NaN  \n",
       "64       NaN           NaN          NaN          NaN  \n",
       "\n",
       "[65 rows x 6 columns]"
      ]
     },
     "execution_count": 12,
     "metadata": {},
     "output_type": "execute_result"
    }
   ],
   "source": [
    "df"
   ]
  },
  {
   "cell_type": "code",
   "execution_count": 13,
   "metadata": {},
   "outputs": [],
   "source": [
    "left = df.finger_type==0\n",
    "right = df.finger_type==1\n",
    "rpg = df.operation.str.contains('rpg')\n",
    "snn = df.operation.str.contains('tact-snn')\n",
    "v = df.label.str.contains('dummy_v')\n",
    "x = df.label.str.contains('dummy_v')\n",
    "y = df.label.str.contains('dummy_v')\n",
    "z = df.label.str.contains('dummy_v')\n",
    "w = df.label.str.contains('dummy_v')"
   ]
  },
  {
   "cell_type": "code",
   "execution_count": 14,
   "metadata": {},
   "outputs": [
    {
     "data": {
      "text/plain": [
       "nan"
      ]
     },
     "execution_count": 14,
     "metadata": {},
     "output_type": "execute_result"
    }
   ],
   "source": [
    "df.loc[rpg & left, 'max_acc_test'].mean()"
   ]
  },
  {
   "cell_type": "code",
   "execution_count": 15,
   "metadata": {},
   "outputs": [
    {
     "data": {
      "text/plain": [
       "0.5755555729071299"
      ]
     },
     "execution_count": 15,
     "metadata": {},
     "output_type": "execute_result"
    }
   ],
   "source": [
    "df.loc[rpg & right, 'max_acc_test'].mean()"
   ]
  },
  {
   "cell_type": "code",
   "execution_count": 16,
   "metadata": {},
   "outputs": [
    {
     "data": {
      "text/plain": [
       "nan"
      ]
     },
     "execution_count": 16,
     "metadata": {},
     "output_type": "execute_result"
    }
   ],
   "source": [
    "df.loc[rpg & ( (~ right) & (~ left) ), 'max_acc_test'].mean()"
   ]
  },
  {
   "cell_type": "code",
   "execution_count": 17,
   "metadata": {},
   "outputs": [
    {
     "data": {
      "text/plain": [
       "0.44000001152356466"
      ]
     },
     "execution_count": 17,
     "metadata": {},
     "output_type": "execute_result"
    }
   ],
   "source": [
    "df.loc[snn & left, 'max_acc_test'].mean()"
   ]
  },
  {
   "cell_type": "code",
   "execution_count": 18,
   "metadata": {},
   "outputs": [
    {
     "data": {
      "text/plain": [
       "0.46666667858759564"
      ]
     },
     "execution_count": 18,
     "metadata": {},
     "output_type": "execute_result"
    }
   ],
   "source": [
    "df.loc[snn & right, 'max_acc_test'].mean()"
   ]
  },
  {
   "cell_type": "code",
   "execution_count": 19,
   "metadata": {},
   "outputs": [
    {
     "data": {
      "text/plain": [
       "nan"
      ]
     },
     "execution_count": 19,
     "metadata": {},
     "output_type": "execute_result"
    }
   ],
   "source": [
    "df.loc[snn & ( (~ right) & (~ left) ), 'max_acc_test'].mean()"
   ]
  },
  {
   "cell_type": "code",
   "execution_count": 20,
   "metadata": {},
   "outputs": [
    {
     "data": {
      "text/plain": [
       "44    0.600000\n",
       "46    0.466667\n",
       "47    0.333333\n",
       "48    0.666667\n",
       "49    0.600000\n",
       "50    0.400000\n",
       "51    0.400000\n",
       "52    0.266667\n",
       "53    0.400000\n",
       "54    0.666667\n",
       "55    0.466667\n",
       "56    0.466667\n",
       "57    0.266667\n",
       "58    0.333333\n",
       "59    0.666667\n",
       "Name: max_acc_test, dtype: float64"
      ]
     },
     "execution_count": 20,
     "metadata": {},
     "output_type": "execute_result"
    }
   ],
   "source": [
    "df.loc[snn & right, 'max_acc_test']"
   ]
  },
  {
   "cell_type": "code",
   "execution_count": null,
   "metadata": {},
   "outputs": [],
   "source": []
  },
  {
   "cell_type": "code",
   "execution_count": null,
   "metadata": {},
   "outputs": [],
   "source": []
  }
 ],
 "metadata": {
  "kernelspec": {
   "display_name": "Python 3",
   "language": "python",
   "name": "python3"
  },
  "language_info": {
   "codemirror_mode": {
    "name": "ipython",
    "version": 3
   },
   "file_extension": ".py",
   "mimetype": "text/x-python",
   "name": "python",
   "nbconvert_exporter": "python",
   "pygments_lexer": "ipython3",
   "version": "3.6.8"
  }
 },
 "nbformat": 4,
 "nbformat_minor": 4
}
