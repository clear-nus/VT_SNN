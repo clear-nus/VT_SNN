{
 "cells": [
  {
   "cell_type": "code",
   "execution_count": 27,
   "metadata": {},
   "outputs": [],
   "source": [
    "import sys, os\n",
    "CURRENT_TEST_DIR = os.getcwd()\n",
    "sys.path.append(CURRENT_TEST_DIR + \"/../../VT_SNN/\")"
   ]
  },
  {
   "cell_type": "code",
   "execution_count": 28,
   "metadata": {},
   "outputs": [],
   "source": [
    "import numpy as np\n",
    "import matplotlib.pyplot as plt\n",
    "from snn_models.baseline_snn import SlayerMLP\n",
    "from snn_models.multimodal_snn import SlayerMM\n",
    "from dataset import ViTacDataset, ViTacMMDataset\n",
    "from torch.utils.data import DataLoader\n",
    "import slayerSNN as snn\n",
    "\n",
    "import torch\n",
    "import pandas as pd\n",
    "from os import listdir\n",
    "from os.path import isfile, join\n",
    "import copy\n",
    "import seaborn as sns\n",
    "\n",
    "device = torch.device(\"cuda:0\")"
   ]
  },
  {
   "cell_type": "code",
   "execution_count": 29,
   "metadata": {},
   "outputs": [],
   "source": [
    "params = {\n",
    "    \"neuron\": {\n",
    "        \"type\": \"SRMALPHA\",\n",
    "        \"theta\": 10, # activation threshold\n",
    "        \"tauSr\": 10.0, # time constant for srm kernel\n",
    "        \"tauRef\": 1.0, # refractory kernel time constant\n",
    "        \"scaleRef\": 2, # refractory kernel constant relative to theta\n",
    "        \"tauRho\": 1, # pdf\n",
    "        \"scaleRho\": 1, # membrane potential \n",
    "    },\n",
    "    \"simulation\": {\"Ts\": 1.0, \"tSample\": 325, \"nSample\": 1},\n",
    "}\n",
    "\n",
    "net_tact = SlayerMLP(params, 156, 32, 2).to(device)\n",
    "net_vis = SlayerMLP(params, (50, 63, 2), 32, 2).to(device)\n",
    "net_mm = SlayerMM(params,2).to(device)"
   ]
  },
  {
   "cell_type": "code",
   "execution_count": 39,
   "metadata": {},
   "outputs": [],
   "source": [
    "directory_to_runs = '/home/tasbolat/tas_python_env/.guild/runs/'\n",
    "data_dir = '/home/tasbolat/some_python_examples/data_VT_SNN_new/slip_data/'"
   ]
  },
  {
   "cell_type": "code",
   "execution_count": 40,
   "metadata": {},
   "outputs": [],
   "source": [
    "#run_name  = #'4ada5363c943412aaf0bf37e61398992' #'13cf44d896b946999067f6e4f5fa2c86'"
   ]
  },
  {
   "cell_type": "code",
   "execution_count": 41,
   "metadata": {},
   "outputs": [],
   "source": [
    "mm_runs_new = ['8706a321', \n",
    "'c181c8c6',\n",
    "'fe12dcdd',\n",
    "'d0788980',\n",
    "'e449e306']\n",
    "vis_runs_new = ['db9f5129', \n",
    "'7bc708fd',\n",
    "'5edcdf2f',\n",
    "'761ab9ea',\n",
    "'9d5f4a00',\n",
    "]\n",
    "\n",
    "\n",
    "vis_runs= ['eeb0be63', \n",
    "'b8eea9f5',\n",
    "'afd08322',\n",
    "'3804e8a4',\n",
    "'3e43219f',]\n",
    "mm_runs = ['a2a98011',\n",
    "'69a7a91b',\n",
    "'14e82e6f',\n",
    "'33c9f37b',\n",
    "'ddd2fc70'\n",
    "]\n",
    "\n",
    "tact_runs = [\n",
    "    '9fabec77', \n",
    "'6bf74717',  \n",
    "'d1faa930',\n",
    "'a268c3ed',  \n",
    "'2f051fdc',\n",
    "'40a2ee53'\n",
    "]\n",
    "tact_runs_new=[\n",
    "    '1fb5f1ef',\n",
    "'2cdfcfbe',\n",
    "'adb06482', \n",
    "'75c55bb0',\n",
    "]\n",
    "\n",
    "\n",
    "all_runs = tact_runs+vis_runs+mm_runs+tact_runs_new+vis_runs_new+mm_runs_new\n",
    "comments=['old_loss']*16+['new_loss']*14\n",
    "\n",
    "# all_runs = tac_runs+vis_runs+tac_runs_new+vis_runs_new\n",
    "# comments=['old_loss', 'old_loss','old_loss','old_loss','new_loss','new_loss','new_loss','new_loss']"
   ]
  },
  {
   "cell_type": "code",
   "execution_count": 42,
   "metadata": {},
   "outputs": [
    {
     "data": {
      "text/plain": [
       "(30, 30)"
      ]
     },
     "execution_count": 42,
     "metadata": {},
     "output_type": "execute_result"
    }
   ],
   "source": [
    "len(all_runs), len(comments)"
   ]
  },
  {
   "cell_type": "code",
   "execution_count": 43,
   "metadata": {},
   "outputs": [],
   "source": [
    "def small_run_name(run_name):\n",
    "    subfolders = [ f.path for f in os.scandir(directory_to_runs) if f.is_dir() ]\n",
    "    for some_name in subfolders:\n",
    "        if run_name in some_name:\n",
    "            print(some_name)\n",
    "            return some_name[-32:]\n",
    "    return -1"
   ]
  },
  {
   "cell_type": "code",
   "execution_count": 44,
   "metadata": {},
   "outputs": [],
   "source": [
    "def parse_run(run_name, epoch_number=500):\n",
    "    if len(run_name) < 10:\n",
    "        run_name = small_run_name(run_name)\n",
    "    list_of_models = [f for f in listdir(directory_to_runs + run_name) if isfile(join(directory_to_runs + run_name, f))]\n",
    "    for some_model in list_of_models:\n",
    "        if not ('weights' in some_model):\n",
    "            continue\n",
    "        if int(some_model[-9:-6]) == epoch_number:\n",
    "            if 'tac' in some_model:\n",
    "                model_type = 'tac'\n",
    "            elif 'vis' in some_model:\n",
    "                model_type = 'vis'\n",
    "            else:\n",
    "                model_type = 'mm'\n",
    "            sample_number = int(some_model[-5:-3])\n",
    "            break\n",
    "    return model_type, sample_number, directory_to_runs+run_name+'/'+some_model"
   ]
  },
  {
   "cell_type": "code",
   "execution_count": 45,
   "metadata": {},
   "outputs": [],
   "source": [
    "def load_model(path_to_model, model_type):\n",
    "    if model_type == 'tac':\n",
    "        net = copy.deepcopy(net_tact)\n",
    "    elif model_type == 'vis':\n",
    "        net = copy.deepcopy(net_vis)\n",
    "    elif model_type == 'mm':\n",
    "        net = copy.deepcopy(net_mm)\n",
    "    \n",
    "    net.load_state_dict(torch.load(path_to_model))\n",
    "    return net"
   ]
  },
  {
   "cell_type": "code",
   "execution_count": 46,
   "metadata": {},
   "outputs": [],
   "source": [
    "def get_acc_df(model_type, sample_file, pToModel, comment='old_pass'):\n",
    "    net = load_model(pToModel, model_type)\n",
    "    net.eval()\n",
    "    \n",
    "    test_dataset = ViTacMMDataset(\n",
    "        path=data_dir, sample_file=f\"test_80_20_{sample_file}.txt\", output_size=2\n",
    "    )\n",
    "    test_loader = DataLoader(\n",
    "        dataset=test_dataset, batch_size=80, shuffle=False, num_workers=4\n",
    "    )\n",
    "    \n",
    "    all_outputs = []\n",
    "    with torch.no_grad():\n",
    "        for k, (tact, vis, target, label) in enumerate(test_loader):\n",
    "            tact = tact.to(device)\n",
    "            vis = vis.to(device)\n",
    "            if model_type == 'tac':\n",
    "                output = net.forward(tact)\n",
    "            elif model_type == 'vis':\n",
    "                output = net.forward(vis)\n",
    "            elif model_type == 'mm':\n",
    "                output = net.forward(tact, vis)\n",
    "            all_outputs.append([label, output])\n",
    "\n",
    "        accs = {\n",
    "                'Accuracy':[],\n",
    "                'model_type':[],\n",
    "                'SampleFile':[],\n",
    "                'Length':[],\n",
    "                'Comment':[]\n",
    "            }\n",
    "\n",
    "        for t in range(0, 325, 1):\n",
    "            correct_tact = 0\n",
    "            correct_mm = 0\n",
    "            for label, output_tact  in all_outputs:\n",
    "\n",
    "                output_tact = output_tact[...,:t]\n",
    "                correct_tact += torch.sum(snn.predict.getClass(output_tact) == label).data.item()\n",
    "                #correct_mm += torch.sum(snn.predict.getClass(output_mm) == label).data.item()\n",
    "\n",
    "            accs['Accuracy'].append(correct_tact/len(test_loader.dataset))\n",
    "            accs['model_type'].append(model_type)\n",
    "            accs['SampleFile'].append(sample_file)\n",
    "            accs['Length'].append(t)\n",
    "            accs['Comment'].append(comment)\n",
    "            \n",
    "    return pd.DataFrame(accs)"
   ]
  },
  {
   "cell_type": "code",
   "execution_count": 47,
   "metadata": {},
   "outputs": [
    {
     "name": "stdout",
     "output_type": "stream",
     "text": [
      "/home/tasbolat/tas_python_env/.guild/runs/9fabec7798a94750bacc09a89873c848\n",
      "/home/tasbolat/tas_python_env/.guild/runs/6bf74717f2354b0ca969d029739fc4c0\n",
      "/home/tasbolat/tas_python_env/.guild/runs/d1faa9300eac49c49696d5d7f7764ddf\n",
      "/home/tasbolat/tas_python_env/.guild/runs/a268c3ed7c45485999a3cdfcce88283a\n",
      "/home/tasbolat/tas_python_env/.guild/runs/2f051fdc0b5a4d91b98cd8490a80253f\n",
      "/home/tasbolat/tas_python_env/.guild/runs/40a2ee534b204f51b356ea4fe7023ba3\n",
      "/home/tasbolat/tas_python_env/.guild/runs/eeb0be632c0c458cb228ee0a0f5b067b\n",
      "/home/tasbolat/tas_python_env/.guild/runs/b8eea9f5eb4248c9a0e408652d2771ed\n",
      "/home/tasbolat/tas_python_env/.guild/runs/afd083223ce348dab47c80fe44955b60\n",
      "/home/tasbolat/tas_python_env/.guild/runs/3804e8a4b78b44b7a54d7be0679e3b72\n",
      "/home/tasbolat/tas_python_env/.guild/runs/3e43219fe3274bcc8d87712efb8b38da\n",
      "/home/tasbolat/tas_python_env/.guild/runs/a2a98011d11d42a5a2201fed125fdebc\n",
      "/home/tasbolat/tas_python_env/.guild/runs/69a7a91be54d4eb0bdb3df3d36d7a2ea\n",
      "/home/tasbolat/tas_python_env/.guild/runs/14e82e6fcd2d48fcb9251cf1f3779028\n",
      "/home/tasbolat/tas_python_env/.guild/runs/33c9f37b849544daae4be2299ade87d9\n",
      "/home/tasbolat/tas_python_env/.guild/runs/ddd2fc7028f84c3f973d2638fb62f34e\n",
      "/home/tasbolat/tas_python_env/.guild/runs/1fb5f1ef21394fd9885c53fe4dc6ac52\n",
      "/home/tasbolat/tas_python_env/.guild/runs/2cdfcfbea66d494abd7d5da6842e29a7\n",
      "/home/tasbolat/tas_python_env/.guild/runs/adb06482bafb4f60a63150fad278c757\n",
      "/home/tasbolat/tas_python_env/.guild/runs/75c55bb033134a8f9b500db944e80309\n",
      "/home/tasbolat/tas_python_env/.guild/runs/db9f5129dffe423782370a789d4f5c5e\n",
      "/home/tasbolat/tas_python_env/.guild/runs/7bc708fd861741e0bd60a958134b323f\n",
      "/home/tasbolat/tas_python_env/.guild/runs/5edcdf2f72d94a31aa8facf875674868\n",
      "/home/tasbolat/tas_python_env/.guild/runs/761ab9ea0e6c4618a602a2a9d0f316f1\n",
      "/home/tasbolat/tas_python_env/.guild/runs/9d5f4a0066204d6799aa3766afd2865a\n",
      "/home/tasbolat/tas_python_env/.guild/runs/8706a321646c49218aca6ae83d4d3fc9\n",
      "/home/tasbolat/tas_python_env/.guild/runs/c181c8c6f4d243ea9a38743d40445076\n",
      "/home/tasbolat/tas_python_env/.guild/runs/fe12dcdd1a35481f8ecc912f9973cd09\n",
      "/home/tasbolat/tas_python_env/.guild/runs/d07889807f3e4381bbfb0961e95828c9\n",
      "/home/tasbolat/tas_python_env/.guild/runs/e449e306b1d04f0b8a3b3a97e5d504a5\n"
     ]
    }
   ],
   "source": [
    "all_dfs = []\n",
    "for run_name, comment in zip(all_runs, comments):\n",
    "    model_type, sample_file, pToModel = parse_run(run_name)\n",
    "    df = get_acc_df(model_type, sample_file, pToModel, comment=comment)\n",
    "    all_dfs.append(df)"
   ]
  },
  {
   "cell_type": "code",
   "execution_count": 48,
   "metadata": {},
   "outputs": [],
   "source": [
    "# import pickle\n",
    "# all_dfs_tac = pickle.load(open('tact_res.pk', 'rb'))\n",
    "# all_dfs_new = all_dfs + all_dfs_tac"
   ]
  },
  {
   "cell_type": "code",
   "execution_count": 65,
   "metadata": {},
   "outputs": [
    {
     "data": {
      "text/plain": [
       "150"
      ]
     },
     "execution_count": 65,
     "metadata": {},
     "output_type": "execute_result"
    }
   ],
   "source": [
    "150"
   ]
  },
  {
   "cell_type": "code",
   "execution_count": 80,
   "metadata": {},
   "outputs": [],
   "source": [
    "df = pd.concat(all_dfs)\n",
    "df = df.assign(t=df.Length*0.001)"
   ]
  },
  {
   "cell_type": "code",
   "execution_count": 81,
   "metadata": {},
   "outputs": [
    {
     "data": {
      "text/plain": [
       "(9750, 6)"
      ]
     },
     "execution_count": 81,
     "metadata": {},
     "output_type": "execute_result"
    }
   ],
   "source": [
    "df.shape"
   ]
  },
  {
   "cell_type": "code",
   "execution_count": 82,
   "metadata": {},
   "outputs": [],
   "source": [
    "df.model_type = df.model_type.map({'vis':'Vision', \n",
    "                  'tac':'Tactile',\n",
    "                  'mm':'Combined'})\n",
    "\n",
    "df.Comment = df.Comment.map({'old_loss':'Spike Count', \n",
    "                  'new_loss':'Weighted Spike Count'})"
   ]
  },
  {
   "cell_type": "code",
   "execution_count": 83,
   "metadata": {},
   "outputs": [],
   "source": [
    "df = df.rename(columns={'model_type':'Modality', 'Comment':'Loss function'})"
   ]
  },
  {
   "cell_type": "code",
   "execution_count": 84,
   "metadata": {},
   "outputs": [],
   "source": [
    "sns.set_context('paper')\n",
    "sns.set_style('whitegrid')\n",
    "sns.set(rc={\"xtick.bottom\" : True, 'font.sans-serif': 'Liberation Sans'}, context='paper', style='whitegrid', palette='Set1')"
   ]
  },
  {
   "cell_type": "code",
   "execution_count": 85,
   "metadata": {},
   "outputs": [
    {
     "data": {
      "text/plain": [
       "array([0. , 0.5, 1. , 1.5, 2. , 2.5, 3. , 3.5, 4. , 4.5, 5. , 5.5, 6. ])"
      ]
     },
     "execution_count": 85,
     "metadata": {},
     "output_type": "execute_result"
    }
   ],
   "source": [
    "np.arange(0,6.5,0.5)"
   ]
  },
  {
   "cell_type": "code",
   "execution_count": 86,
   "metadata": {},
   "outputs": [
    {
     "data": {
      "text/plain": [
       "array([  0,  10,  20,  30,  40,  50,  60,  70,  80,  90, 100, 110, 120,\n",
       "       130, 140, 150, 160, 170, 180, 190, 200, 210, 220, 230, 240, 250,\n",
       "       260, 270, 280, 290, 300, 310, 320])"
      ]
     },
     "execution_count": 86,
     "metadata": {},
     "output_type": "execute_result"
    }
   ],
   "source": [
    "np.arange(0, 325, 10)"
   ]
  },
  {
   "cell_type": "code",
   "execution_count": 130,
   "metadata": {},
   "outputs": [],
   "source": [
    "from matplotlib.legend import Legend\n",
    "from matplotlib.ticker import (MultipleLocator, FormatStrFormatter,\n",
    "                               AutoMinorLocator)"
   ]
  },
  {
   "cell_type": "code",
   "execution_count": 140,
   "metadata": {},
   "outputs": [],
   "source": [
    "df.to_csv('results_slip.csv', index=False)"
   ]
  },
  {
   "cell_type": "code",
   "execution_count": 139,
   "metadata": {},
   "outputs": [
    {
     "data": {
      "image/png": "[encoded data removed]",
      "text/plain": [
       "<Figure size 432x288 with 1 Axes>"
      ]
     },
     "metadata": {},
     "output_type": "display_data"
    }
   ],
   "source": [
    "fig, ax = plt.subplots(figsize=(6,4))\n",
    "ax = sns.lineplot(x='t', y='Accuracy', hue='Modality', data = df, style='Loss function', ci='sd', linewidth=2, hue_order=['Tactile','Vision', 'Combined'])\n",
    "handles, labels = ax.get_legend_handles_labels()\n",
    "ax.legend_.remove()\n",
    "\n",
    "leg = Legend(ax, handles=handles[1:4], labels=labels[1:4], loc='upper left', frameon=True, prop={'size': 14})\n",
    "ax.add_artist(leg)\n",
    "\n",
    "leg = Legend(ax, handles=handles[5:], labels=labels[5:],loc='lower right', frameon=True, prop={'size': 14})\n",
    "ax.add_artist(leg)\n",
    "\n",
    "# leg = Legend(ax, handles=handles[1:4]+handles[5:], labels=labels[1:4]+labels[5:], loc='lower right', frameon=True, prop={'size': 14})\n",
    "# ax.add_artist(leg)\n",
    "\n",
    "# ax.set_xticks(, minor=True)\n",
    "# ax.tick_params(axis='x', which='minor')\n",
    "ax.set_xticks(np.arange(0,0.16,0.05), minor=False)\n",
    "ax.xaxis.set_minor_locator(AutoMinorLocator())\n",
    "ax.set_xlim([0,0.16])\n",
    "ax.set_ylim([0.4,1.19])\n",
    "\n",
    "plt.xticks(fontsize=12)\n",
    "plt.yticks(fontsize=12)\n",
    "plt.xlabel('Time (s)', fontsize=14)\n",
    "plt.ylabel('Test Accuracy', fontsize=14)\n",
    "plt.tight_layout(True)\n",
    "plt.savefig('slip_det_over_time_new.pdf', dpi=300)\n",
    "plt.show()"
   ]
  },
  {
   "cell_type": "code",
   "execution_count": 132,
   "metadata": {},
   "outputs": [
    {
     "data": {
      "text/plain": [
       "array([0.  , 0.05, 0.1 , 0.15])"
      ]
     },
     "execution_count": 132,
     "metadata": {},
     "output_type": "execute_result"
    }
   ],
   "source": [
    "0.800000  1.0\n",
    "0:04:05  completed  batch_size=8 checkp…  8           700     80       5         0.001  10     1       4            32           0          2            0.020000    1.0           15.841110  0.949999      0.800000  1.0\n",
    "0:04:11  completed  batch_size=8 checkp…  8           700     80       5         0.001  10     1       3            32           0          2            0.024000    1.0           9.776667   0.949999      0.850000  1.0\n",
    "0:04:10  completed  batch_size=8 checkp…  8           700     80       5         0.001  10     1       2            32           0          2            0.061333    1.0           9.278889   0.949999      0.899999  1.0\n",
    "0:03:42  completed  batch_size=8 checkp…  8           700     80       5         0.001  10     1       1            32           0          2            0.020666    1.0           13.512222  0.850000      0.850000  1.0\n",
    "0:06:47  completed  batch_size=8 checkp…  8           700     80       5         0.001  10     1       5            32           0          2            0.028333    1.0           17.060001  0.899999      0.699999 "
   ]
  },
  {
   "cell_type": "code",
   "execution_count": 141,
   "metadata": {},
   "outputs": [
    {
     "data": {
      "text/plain": [
       "(0.90999918, 0.020000360000000005)"
      ]
     },
     "execution_count": 141,
     "metadata": {},
     "output_type": "execute_result"
    }
   ],
   "source": [
    "ttt = np.array([0.899999,0.899999,0.899999,0.899999,0.9499999])\n",
    "np.mean(ttt), np.std(ttt)"
   ]
  },
  {
   "cell_type": "code",
   "execution_count": 142,
   "metadata": {},
   "outputs": [
    {
     "data": {
      "text/plain": [
       "(0.8199995999999998, 0.06782341778648432)"
      ]
     },
     "execution_count": 142,
     "metadata": {},
     "output_type": "execute_result"
    }
   ],
   "source": [
    "ttt2 = np.array([0.800000,0.850000,0.899999,0.850000,0.699999])\n",
    "np.mean(ttt2), np.std(ttt2)"
   ]
  },
  {
   "cell_type": "code",
   "execution_count": 143,
   "metadata": {},
   "outputs": [
    {
     "data": {
      "text/plain": [
       "(0.8699994, 0.059999533333518505)"
      ]
     },
     "execution_count": 143,
     "metadata": {},
     "output_type": "execute_result"
    }
   ],
   "source": [
    "ttt_ann = np.array([0.800000,0.949999,0.800000,0.899999,0.899999])\n",
    "np.mean(ttt_ann), np.std(ttt_ann)"
   ]
  },
  {
   "cell_type": "code",
   "execution_count": null,
   "metadata": {},
   "outputs": [],
   "source": [
    "([0.400000, 0.5, 0.550000, 0.449999, 0.300000])"
   ]
  },
  {
   "cell_type": "code",
   "execution_count": null,
   "metadata": {},
   "outputs": [],
   "source": []
  },
  {
   "cell_type": "code",
   "execution_count": null,
   "metadata": {},
   "outputs": [],
   "source": []
  },
  {
   "cell_type": "code",
   "execution_count": null,
   "metadata": {},
   "outputs": [],
   "source": []
  },
  {
   "cell_type": "code",
   "execution_count": 130,
   "metadata": {},
   "outputs": [
    {
     "data": {
      "text/plain": [
       "(0.7999997999999999, 0.04082491069628934)"
      ]
     },
     "execution_count": 130,
     "metadata": {},
     "output_type": "execute_result"
    }
   ],
   "source": [
    "mmm = np.array([0.783333])\n",
    "np.mean(mmm), np.std(mmm)"
   ]
  },
  {
   "cell_type": "code",
   "execution_count": 133,
   "metadata": {},
   "outputs": [
    {
     "data": {
      "text/plain": [
       "(0.4498646, 0.03812347655500479)"
      ]
     },
     "execution_count": 133,
     "metadata": {},
     "output_type": "execute_result"
    }
   ],
   "source": [
    "mmm_ann = np.array([0.44999,0.483333,0.416,0.4,0.5])\n",
    "np.mean(mmm_ann), np.std(mmm_ann)"
   ]
  },
  {
   "cell_type": "code",
   "execution_count": 131,
   "metadata": {},
   "outputs": [
    {
     "data": {
      "text/plain": [
       "(0.676666, 0.022607864905824268)"
      ]
     },
     "execution_count": 131,
     "metadata": {},
     "output_type": "execute_result"
    }
   ],
   "source": [
    "vvv = np.array([0.666666, 0.649999, 0.716666, 0.683333, 0.666666])\n",
    "np.mean(vvv), np.std(vvv)"
   ]
  },
  {
   "cell_type": "code",
   "execution_count": 134,
   "metadata": {},
   "outputs": [
    {
     "data": {
      "text/plain": [
       "(0.42333300000000007, 0.03741639569493566)"
      ]
     },
     "execution_count": 134,
     "metadata": {},
     "output_type": "execute_result"
    }
   ],
   "source": [
    "vvv_ann = np.array([0.400000, 0.400000, 0.449999, 0.383333, 0.483333])\n",
    "np.mean(vvv_ann), np.std(vvv_ann)"
   ]
  },
  {
   "cell_type": "raw",
   "metadata": {},
   "source": [
    "net = load_model(pToModel, mt)\n",
    "net.eval()\n",
    "\n",
    "test_dataset = ViTacMMDataset(\n",
    "            path=data_dir, sample_file=f\"test_80_20_{sample_file}.txt\", output_size=20\n",
    ")\n",
    "test_loader = DataLoader(\n",
    "    dataset=test_dataset, batch_size=80, shuffle=False, num_workers=4\n",
    ")\n",
    "\n",
    "%%time\n",
    "all_outputs = []\n",
    "with torch.no_grad():\n",
    "    for k, (tact, vis, target, label) in enumerate(test_loader):\n",
    "        tact = tact.to(device)\n",
    "        vis = vis.to(device)\n",
    "        if model_type == 'tac':\n",
    "            output = net.forward(tact)\n",
    "        elif model_type == 'vis':\n",
    "            output = net.forward(vis)\n",
    "        elif model_type == 'mm':\n",
    "            output = net.forward(tact, vis)\n",
    "        all_outputs.append([label, output])\n",
    "        \n",
    "    accs = {\n",
    "            'Accuracy':[],\n",
    "            'model_type':[],\n",
    "            'SampleFile':[],\n",
    "            'Length':[],\n",
    "            'Comment':[]\n",
    "        }\n",
    "        \n",
    "    for t in range(0, 325, 1):\n",
    "        correct_tact = 0\n",
    "        correct_mm = 0\n",
    "        for label, output_tact  in all_outputs:\n",
    "\n",
    "            output_tact = output_tact[...,:t]\n",
    "            correct_tact += torch.sum(snn.predict.getClass(output_tact) == label).data.item()\n",
    "            #correct_mm += torch.sum(snn.predict.getClass(output_mm) == label).data.item()\n",
    "\n",
    "        accs['Accuracy'].append(correct_tact/len(test_loader.dataset))\n",
    "        accs['model_type'].append(model_type)\n",
    "        accs['SampleFile'].append(sample_file)\n",
    "        accs['Length'].append(t)\n",
    "        accs['Comment'].append(comment)"
   ]
  },
  {
   "cell_type": "code",
   "execution_count": null,
   "metadata": {},
   "outputs": [],
   "source": []
  }
 ],
 "metadata": {
  "kernelspec": {
   "display_name": "Python 3",
   "language": "python",
   "name": "python3"
  },
  "language_info": {
   "codemirror_mode": {
    "name": "ipython",
    "version": 3
   },
   "file_extension": ".py",
   "mimetype": "text/x-python",
   "name": "python",
   "nbconvert_exporter": "python",
   "pygments_lexer": "ipython3",
   "version": "3.6.8"
  }
 },
 "nbformat": 4,
 "nbformat_minor": 2
}
