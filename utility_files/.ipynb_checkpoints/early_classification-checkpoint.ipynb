{
 "cells": [
  {
   "cell_type": "code",
   "execution_count": 137,
   "metadata": {},
   "outputs": [],
   "source": [
    "import sys, os\n",
    "CURRENT_TEST_DIR = os.getcwd()\n",
    "sys.path.append(CURRENT_TEST_DIR + \"/../../VT_SNN/\")"
   ]
  },
  {
   "cell_type": "code",
   "execution_count": 159,
   "metadata": {},
   "outputs": [],
   "source": [
    "import numpy as np\n",
    "import matplotlib.pyplot as plt\n",
    "from snn_models.baseline_snn import SlayerMLP\n",
    "from dataset import ViTacDataset, ViTacMMDataset\n",
    "from torch.utils.data import DataLoader\n",
    "import slayerSNN as snn\n",
    "\n",
    "import torch\n",
    "import pandas as pd\n",
    "from os import listdir\n",
    "from os.path import isfile, join\n",
    "import copy\n",
    "import seaborn as sns\n",
    "\n",
    "device = torch.device(\"cuda:0\")"
   ]
  },
  {
   "cell_type": "code",
   "execution_count": 139,
   "metadata": {},
   "outputs": [],
   "source": [
    "params = {\n",
    "    \"neuron\": {\n",
    "        \"type\": \"SRMALPHA\",\n",
    "        \"theta\": 10, # activation threshold\n",
    "        \"tauSr\": 10.0, # time constant for srm kernel\n",
    "        \"tauRef\": 1.0, # refractory kernel time constant\n",
    "        \"scaleRef\": 2, # refractory kernel constant relative to theta\n",
    "        \"tauRho\": 1, # pdf\n",
    "        \"scaleRho\": 1, # membrane potential \n",
    "    },\n",
    "    \"simulation\": {\"Ts\": 1.0, \"tSample\": 325, \"nSample\": 1},\n",
    "}\n",
    "net_tact = SlayerMLP(params, 156, 32, 20).to(device)\n",
    "net_vis = SlayerMLP(params, (50, 63, 2), 32, 20).to(device)"
   ]
  },
  {
   "cell_type": "code",
   "execution_count": 140,
   "metadata": {},
   "outputs": [],
   "source": [
    "directory_to_runs = '/home/tasbolat/tas_venv/.guild/runs/'\n",
    "data_dir = '/home/tasbolat/some_python_examples/data_VT_SNN_new/'"
   ]
  },
  {
   "cell_type": "code",
   "execution_count": 141,
   "metadata": {},
   "outputs": [],
   "source": [
    "run_name  = '4ada5363c943412aaf0bf37e61398992' #'13cf44d896b946999067f6e4f5fa2c86'"
   ]
  },
  {
   "cell_type": "code",
   "execution_count": 163,
   "metadata": {},
   "outputs": [],
   "source": [
    "tac_runs = ['f871ae9a86754760835c20d6b7493c97','f4ce3cf8130544e5b7dca848ef67adba']\n",
    "vis_runs = ['4ada5363c943412aaf0bf37e61398992', '2b02417384c04624bd0c89f72f438b54']\n",
    "\n",
    "tac_runs_new = ['eaddaec1','ca10dd90']\n",
    "vis_runs_new = ['61a9cd69', 'f80f2a12']"
   ]
  },
  {
   "cell_type": "code",
   "execution_count": 165,
   "metadata": {},
   "outputs": [],
   "source": [
    "all_runs = tac_runs+vis_runs+tac_runs_new+vis_runs_new"
   ]
  },
  {
   "cell_type": "code",
   "execution_count": 166,
   "metadata": {},
   "outputs": [],
   "source": [
    "def parse_run(run_name, epoch_number=500):\n",
    "    list_of_models = [f for f in listdir(directory_to_runs + run_name) if isfile(join(directory_to_runs + run_name, f))]\n",
    "    for some_model in list_of_models:\n",
    "        if not ('weights' in some_model):\n",
    "            continue\n",
    "        if int(some_model[-9:-6]) == epoch_number:\n",
    "            if 'tac' in some_model:\n",
    "                model_type = 'tac'\n",
    "            elif 'vis' in some_model:\n",
    "                model_type = 'vis'\n",
    "            else:\n",
    "                model_type = 'mm'\n",
    "            sample_number = int(some_model[-5:-3])\n",
    "            break\n",
    "    return model_type, sample_number, directory_to_runs+run_name+'/'+some_model"
   ]
  },
  {
   "cell_type": "code",
   "execution_count": 167,
   "metadata": {},
   "outputs": [],
   "source": [
    "def load_model(path_to_model, model_type):\n",
    "    if model_type == 'tac':\n",
    "        net = copy.deepcopy(net_tact)\n",
    "    elif model_type == 'vis':\n",
    "        net = copy.deepcopy(net_vis)\n",
    "    \n",
    "    net.load_state_dict(torch.load(path_to_model))\n",
    "    return net"
   ]
  },
  {
   "cell_type": "code",
   "execution_count": 168,
   "metadata": {},
   "outputs": [],
   "source": [
    "def get_acc_df(model_type, sample_file, pToModel, comment='old_pass'):\n",
    "    net = load_model(pToModel, model_type)\n",
    "    net.eval()\n",
    "    \n",
    "    test_dataset = ViTacMMDataset(\n",
    "        path=data_dir, sample_file=f\"test_80_20_{sample_file}.txt\", output_size=20\n",
    "    )\n",
    "    test_loader = DataLoader(\n",
    "        dataset=test_dataset, batch_size=80, shuffle=False, num_workers=4\n",
    "    )\n",
    "    \n",
    "    all_outputs = []\n",
    "    with torch.no_grad():\n",
    "        for k, (tact, vis, target, label) in enumerate(test_loader):\n",
    "            tact = tact.to(device)\n",
    "            vis = vis.to(device)\n",
    "            if model_type == 'tac':\n",
    "                output = net.forward(tact)\n",
    "            elif model_type == 'vis':\n",
    "                output = net.forward(vis)\n",
    "            elif model_type == 'mm':\n",
    "                output = net.forward(tact, vis)\n",
    "            all_outputs.append([label, output])\n",
    "\n",
    "        accs = {\n",
    "                'Accuracy':[],\n",
    "                'model_type':[],\n",
    "                'SampleFile':[],\n",
    "                'Length':[],\n",
    "                'Comment':[]\n",
    "            }\n",
    "\n",
    "        for t in range(0, 325, 1):\n",
    "            correct_tact = 0\n",
    "            correct_mm = 0\n",
    "            for label, output_tact  in all_outputs:\n",
    "\n",
    "                output_tact = output_tact[...,:t]\n",
    "                correct_tact += torch.sum(snn.predict.getClass(output_tact) == label).data.item()\n",
    "                #correct_mm += torch.sum(snn.predict.getClass(output_mm) == label).data.item()\n",
    "\n",
    "            accs['Accuracy'].append(correct_tact/len(test_loader.dataset))\n",
    "            accs['model_type'].append(model_type)\n",
    "            accs['SampleFile'].append(sample_file)\n",
    "            accs['Length'].append(t)\n",
    "            accs['Comment'].append(comment)\n",
    "            \n",
    "    return pd.DataFrame(accs)"
   ]
  },
  {
   "cell_type": "code",
   "execution_count": 169,
   "metadata": {},
   "outputs": [
    {
     "name": "stdout",
     "output_type": "stream",
     "text": [
      "SlayerMLP(\n",
      "  (slayer): spikeLayer()\n",
      "  (fc1): _denseLayer(156, 32, kernel_size=(1, 1, 1), stride=(1, 1, 1), bias=False)\n",
      "  (fc2): _denseLayer(32, 20, kernel_size=(1, 1, 1), stride=(1, 1, 1), bias=False)\n",
      ")\n",
      "SlayerMLP(\n",
      "  (slayer): spikeLayer()\n",
      "  (fc1): _denseLayer(156, 32, kernel_size=(1, 1, 1), stride=(1, 1, 1), bias=False)\n",
      "  (fc2): _denseLayer(32, 20, kernel_size=(1, 1, 1), stride=(1, 1, 1), bias=False)\n",
      ")\n",
      "SlayerMLP(\n",
      "  (slayer): spikeLayer()\n",
      "  (fc1): _denseLayer(2, 32, kernel_size=(63, 50, 1), stride=(1, 1, 1), bias=False)\n",
      "  (fc2): _denseLayer(32, 20, kernel_size=(1, 1, 1), stride=(1, 1, 1), bias=False)\n",
      ")\n",
      "SlayerMLP(\n",
      "  (slayer): spikeLayer()\n",
      "  (fc1): _denseLayer(2, 32, kernel_size=(63, 50, 1), stride=(1, 1, 1), bias=False)\n",
      "  (fc2): _denseLayer(32, 20, kernel_size=(1, 1, 1), stride=(1, 1, 1), bias=False)\n",
      ")\n"
     ]
    }
   ],
   "source": [
    "all_dfs = []\n",
    "for run_name in all_runs:\n",
    "    model_type, sample_file, pToModel = parse_run(run_name)\n",
    "    df = get_acc_df(model_type, sample_file, pToModel, comment='old_loss')\n",
    "    all_dfs.append(df)"
   ]
  },
  {
   "cell_type": "code",
   "execution_count": 170,
   "metadata": {},
   "outputs": [],
   "source": [
    "df = pd.concat(all_dfs)\n",
    "df = df.assign(t=df.Length*0.02)"
   ]
  },
  {
   "cell_type": "code",
   "execution_count": 171,
   "metadata": {},
   "outputs": [
    {
     "data": {
      "image/png": "[encoded data removed]",
      "text/plain": [
       "<Figure size 720x288 with 1 Axes>"
      ]
     },
     "metadata": {
      "needs_background": "light"
     },
     "output_type": "display_data"
    }
   ],
   "source": [
    "fig, ax = plt.subplots(figsize=(10,4))\n",
    "sns.lineplot(x='t', y='Accuracy', hue='model_type', data = df, style='Comment')\n",
    "plt.tight_layout(True)\n",
    "#fig.savefig('ParabolaRes.png')\n",
    "plt.show()"
   ]
  },
  {
   "cell_type": "raw",
   "metadata": {},
   "source": [
    "net = load_model(pToModel, mt)\n",
    "net.eval()\n",
    "\n",
    "test_dataset = ViTacMMDataset(\n",
    "            path=data_dir, sample_file=f\"test_80_20_{sample_file}.txt\", output_size=20\n",
    ")\n",
    "test_loader = DataLoader(\n",
    "    dataset=test_dataset, batch_size=80, shuffle=False, num_workers=4\n",
    ")\n",
    "\n",
    "%%time\n",
    "all_outputs = []\n",
    "with torch.no_grad():\n",
    "    for k, (tact, vis, target, label) in enumerate(test_loader):\n",
    "        tact = tact.to(device)\n",
    "        vis = vis.to(device)\n",
    "        if model_type == 'tac':\n",
    "            output = net.forward(tact)\n",
    "        elif model_type == 'vis':\n",
    "            output = net.forward(vis)\n",
    "        elif model_type == 'mm':\n",
    "            output = net.forward(tact, vis)\n",
    "        all_outputs.append([label, output])\n",
    "        \n",
    "    accs = {\n",
    "            'Accuracy':[],\n",
    "            'model_type':[],\n",
    "            'SampleFile':[],\n",
    "            'Length':[],\n",
    "            'Comment':[]\n",
    "        }\n",
    "        \n",
    "    for t in range(0, 325, 1):\n",
    "        correct_tact = 0\n",
    "        correct_mm = 0\n",
    "        for label, output_tact  in all_outputs:\n",
    "\n",
    "            output_tact = output_tact[...,:t]\n",
    "            correct_tact += torch.sum(snn.predict.getClass(output_tact) == label).data.item()\n",
    "            #correct_mm += torch.sum(snn.predict.getClass(output_mm) == label).data.item()\n",
    "\n",
    "        accs['Accuracy'].append(correct_tact/len(test_loader.dataset))\n",
    "        accs['model_type'].append(model_type)\n",
    "        accs['SampleFile'].append(sample_file)\n",
    "        accs['Length'].append(t)\n",
    "        accs['Comment'].append(comment)"
   ]
  },
  {
   "cell_type": "code",
   "execution_count": null,
   "metadata": {},
   "outputs": [],
   "source": []
  }
 ],
 "metadata": {
  "kernelspec": {
   "display_name": "Python 3",
   "language": "python",
   "name": "python3"
  },
  "language_info": {
   "codemirror_mode": {
    "name": "ipython",
    "version": 3
   },
   "file_extension": ".py",
   "mimetype": "text/x-python",
   "name": "python",
   "nbconvert_exporter": "python",
   "pygments_lexer": "ipython3",
   "version": "3.6.5"
  }
 },
 "nbformat": 4,
 "nbformat_minor": 2
}
