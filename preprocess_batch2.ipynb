{
 "cells": [
  {
   "cell_type": "code",
   "execution_count": 1,
   "metadata": {},
   "outputs": [],
   "source": [
    "%matplotlib inline\n",
    "import pandas as pd\n",
    "import numpy as np\n",
    "import matplotlib.pyplot as plt\n",
    "from tqdm import tqdm_notebook as tqdm\n",
    "from scipy.io import loadmat\n",
    "from joblib import Parallel, delayed"
   ]
  },
  {
   "cell_type": "code",
   "execution_count": 2,
   "metadata": {},
   "outputs": [],
   "source": [
    "class TrajStartEnd():\n",
    "    def __init__(self, obj_name, path = '/datasets/eventdata/batch2/'):\n",
    "        self.path = path\n",
    "        self.obj_name = obj_name\n",
    "        self.obj_path = self.path + 'traj_start_ends/' + obj_name + '.startend'\n",
    "        self.traj_start_end = np.array(open(self.obj_path, \"r\").read().split(\" \")).astype(float) "
   ]
  },
  {
   "cell_type": "code",
   "execution_count": 3,
   "metadata": {},
   "outputs": [],
   "source": [
    "class TactileData():\n",
    "    def __init__(self, obj_name, selection=\"full\", path = '/datasets/eventdata/batch2/'):\n",
    "        self.path = path\n",
    "        self.obj_name = obj_name\n",
    "#         self.path2 = traj_start_end_path\n",
    "        self.file_path_tac = self.path + 'aces_recordings/' + obj_name + '.tact'\n",
    "    \n",
    "        trajStartEnd = TrajStartEnd(obj_name, path)\n",
    "        self.traj_start_end = trajStartEnd.traj_start_end\n",
    "        \n",
    "        # read tact file\n",
    "        df = pd.read_csv(self.file_path_tac, delimiter=' ', names=['polarity', 'cell_index', 'timestamp_sec', 'timestamp_nsec'], dtype=int)\n",
    "        df = df.assign(timestamp=df.timestamp_sec + df.timestamp_nsec/1000000000)\n",
    "        df = df.drop(['timestamp_sec', 'timestamp_nsec'], axis=1)\n",
    "\n",
    "        # timestamp start from zero\n",
    "#         print(self.traj_start_end[1], df.timestamp[0])\n",
    "        df.timestamp = df.timestamp - self.traj_start_end[1]\n",
    "#         print(self.traj_start_end[1], df.timestamp[0])\n",
    "        if selection == 'full':\n",
    "            self.start_t = 0.0\n",
    "            _T = 8.5\n",
    "        elif selection == 'grasp':\n",
    "            self.start_t = self.traj_start_end[3] - self.traj_start_end[1]\n",
    "            _T = 4.0\n",
    "        elif selection == 'lift':\n",
    "            self.start_t = self.traj_start_end[4] - self.traj_start_end[1]\n",
    "            _T = 0.75\n",
    "        elif selection == 'hold':\n",
    "            self.start_t = self.traj_start_end[4] + 2.0 - self.traj_start_end[1]\n",
    "            _T = 1.25\n",
    "        elif selection == 'lift_hold':\n",
    "            self.start_t = self.traj_start_end[4] - self.traj_start_end[1]\n",
    "            _T = 2.0\n",
    "        elif selection == 'grasp_lift':\n",
    "            self.start_t = self.traj_start_end[3] - self.traj_start_end[1]\n",
    "            _T = 4.75\n",
    "        elif selection == 'grasp_lift_hold':\n",
    "            self.start_t = self.traj_start_end[3] - self.traj_start_end[1]\n",
    "            _T = 6.5\n",
    "        \n",
    "        self.df = df\n",
    "#         print(self.start_t, self.start_t + _T)\n",
    "        #self.df = df[(df.timestamp >= mask_start) & (df.timestamp <= mask_end)]\n",
    "        #self.df.timestamp = self.df.timestamp\n",
    "        # Cells are not used: 17 and 49\n",
    "        \n",
    "        # binarization\n",
    "        self.T = _T #4 #0.75 # 9 # 20\n",
    "        self.bin_duration = 0.001\n",
    "        self.threshold = 1\n",
    "        self.bin_number = int(np.floor(self.T/self.bin_duration))\n",
    "        self.binarized=False\n",
    "        self.data_matrix = np.zeros([80,2,self.bin_number], dtype=int)\n",
    "        \n",
    "    def binarize(self, bin_duration = 0.002):\n",
    "        \n",
    "        # check if already binarized\n",
    "        if self.binarized and self.bin_duration == bin_duration:\n",
    "            return self.data_matrix\n",
    "        \n",
    "        self.bin_duration = bin_duration\n",
    "        self.bin_number = int(np.floor(self.T/self.bin_duration))\n",
    "#         print(self.T/self.bin_duration, self.bin_number)\n",
    "        self.data_matrix = np.zeros([80,2,self.bin_number], dtype=int)\n",
    "        \n",
    "        pos_df = self.df[self.df.polarity==1]\n",
    "        neg_df = self.df[self.df.polarity==0]\n",
    "        \n",
    "        end_t = self.start_t + self.bin_duration\n",
    "        count = 0\n",
    "        \n",
    "        init_t = self.start_t\n",
    "        \n",
    "        while(end_t <= self.T + init_t): # start_t <= self.T\n",
    "#             print('Its:', count, self.start_t, end_t)\n",
    "        \n",
    "            _pos_count = pos_df[( (pos_df.timestamp >= self.start_t ) & (pos_df.timestamp < end_t ) )]\n",
    "            _pos_selective_cells = _pos_count.cell_index.value_counts() > self.threshold\n",
    "            if len(_pos_selective_cells):\n",
    "                self.data_matrix[_pos_selective_cells[_pos_selective_cells].index.values - 1, 0, count] = 1\n",
    "                \n",
    "            _neg_count = neg_df[( (neg_df.timestamp >= self.start_t ) & (neg_df.timestamp < end_t ) )]\n",
    "            _neg_selective_cells = _neg_count.cell_index.value_counts() > self.threshold\n",
    "            if len(_neg_selective_cells):\n",
    "                self.data_matrix[_neg_selective_cells[_neg_selective_cells].index.values - 1, 1, count] = 1\n",
    "\n",
    "            self.start_t = end_t\n",
    "            end_t += self.bin_duration\n",
    "            count += 1\n",
    "            \n",
    "        self.binarized = True\n",
    "        \n",
    "        self.data_matrix = np.delete(self.data_matrix, [16, 48], 0)\n",
    "        return self.data_matrix\n",
    "    \n",
    "    def clean(self):\n",
    "        self.data_matrix=[]\n",
    "        self.binarized=False"
   ]
  },
  {
   "cell_type": "code",
   "execution_count": 4,
   "metadata": {},
   "outputs": [],
   "source": [
    "class CameraData():\n",
    "    def __init__(self, obj_name, selection=\"full\", path = '/datasets/eventdata/batch2/'):\n",
    "        self.path = path\n",
    "\n",
    "        # propophesee hyperparameters\n",
    "        self.c = 2\n",
    "        self.w = 200#300\n",
    "        self.h = 250#350      \n",
    "        x0 = 180#230#180\n",
    "        y0 = 0#100#0\n",
    "        file_path = path + \"prophesee_recordings/\" + obj_name #+ \".start\" # _td.mat\n",
    "        start_time = float(open(file_path + \".start\", \"r\").read())\n",
    "        \n",
    "        trajStartEnd = TrajStartEnd(obj_name, path)\n",
    "        self.traj_start_end = trajStartEnd.traj_start_end\n",
    "        delta_time = start_time - self.traj_start_end[0]\n",
    "        self.traj_start_end += delta_time\n",
    "        self.traj_start_end = self.traj_start_end - self.traj_start_end[0]\n",
    "        \n",
    "        if selection == 'full':\n",
    "            self.start_t = self.traj_start_end[1]\n",
    "            _T = 8.5\n",
    "        elif selection == 'reaching':\n",
    "            self.start_t = self.traj_start_end[1]\n",
    "            _T = 2.0\n",
    "        elif selection == 'grasp':\n",
    "            self.start_t = self.traj_start_end[3]\n",
    "            _T = 4.0\n",
    "        elif selection == 'lift':\n",
    "            self.start_t = self.traj_start_end[4]\n",
    "            _T = 0.75\n",
    "        elif selection == 'hold':\n",
    "            self.start_t = self.traj_start_end[4] + 2.0\n",
    "            _T = 1.25\n",
    "        elif selection == 'lift_hold':\n",
    "            self.start_t = self.traj_start_end[4]\n",
    "            _T = 2.0\n",
    "        elif selection == 'grasp_lift':\n",
    "            self.start_t = self.traj_start_end[3]\n",
    "            _T = 4.75\n",
    "        elif selection == 'grasp_lift_hold':\n",
    "            self.start_t = self.traj_start_end[3]\n",
    "            _T = 6.5\n",
    "        \n",
    "        td_data = loadmat(file_path + \"_td.mat\")['td_data']\n",
    "        df=pd.DataFrame(columns=['x', 'y', 'polarity', 'timestamp'])\n",
    "        a = td_data['x'][0][0]\n",
    "        b = td_data['y'][0][0]\n",
    "\n",
    "        mask_y = (b >= 100)\n",
    "        mask_x = (a >= 230) & (a < 430)\n",
    "        a1 = a[ mask_x & mask_y ] - 230\n",
    "        b1 = b[ mask_x & mask_y ] - 100\n",
    "        df.x = a1.flatten()\n",
    "        df.y = b1.flatten()\n",
    "#         df.x = td_data['x'][0][0].flatten() - x0 # x coordinate\n",
    "#         df.y = td_data['y'][0][0].flatten() - y0 # y coordinate\n",
    "        df.polarity = td_data['p'][0][0][ mask_x & mask_y ].flatten() # polarity with value -1 or 1\n",
    "        df.timestamp = td_data['ts'][0][0][ mask_x & mask_y ].flatten()/1000000.0 # spiking time in microseconds, convert to seconds\n",
    "        df = df.reset_index()\n",
    "        self.df = df\n",
    "        \n",
    "        self.T = _T #20\n",
    "        self.bin_duration = -1.0 #0.002\n",
    "        self.bin_number = -1 #int(np.floor(self.T/self.bin_duration))\n",
    "        self.binarized = False\n",
    "        \n",
    "        self.data_matrix = []#np.zeros([self.c, self.w, self.h, self.bin_number], dtype=int)\n",
    "        self.threshold = 1\n",
    "        \n",
    "    def binarize(self, bin_duration = 0.02):\n",
    "        \n",
    "        self.bin_duration = bin_duration\n",
    "        self.bin_number = int(np.floor(self.T/self.bin_duration))\n",
    "#         print(self.T/self.bin_duration, self.bin_number, self.T)\n",
    "        self.data_matrix = np.zeros([self.c, self.w, self.h, self.bin_number], dtype=int)\n",
    "        #print(self.data_matrix.shape)\n",
    "        # self.data_matrix = np.zeros([self.c, 250, 200, self.bin_number], dtype=int)\n",
    "        \n",
    "        pos_df = self.df[self.df.polarity==1]\n",
    "        neg_df = self.df[self.df.polarity==-1]\n",
    "        #print(pos_df.shape, neg_df.shape)\n",
    "        \n",
    "        end_t = self.start_t + self.bin_duration\n",
    "        count = 0\n",
    "        \n",
    "        init_t = self.start_t\n",
    "        \n",
    "        while(end_t <= self.T + init_t): # start_t <= self.T\n",
    "#             print('Its:', count, self.start_t, end_t)\n",
    "        \n",
    "            _pos_count = pos_df[( (pos_df.timestamp >= self.start_t ) & (pos_df.timestamp < end_t ) )]\n",
    "#             print(_pos_count.shape)\n",
    "\n",
    "            b = pd.DataFrame(index=_pos_count.index)\n",
    "            #print(_pos_count['y'])\n",
    "            b = b.assign(xy = _pos_count['x'].astype(str) + '_' + _pos_count['y'].astype(str))\n",
    "            mask = b.xy.value_counts() >= self.threshold\n",
    "            some_array = mask[mask].index.values.astype(str)\n",
    "            #print(some_array)\n",
    "            xy = np.array(list(map(lambda x: x.split('_'), some_array))).astype(int)\n",
    "            if xy.shape[0] > 0:\n",
    "                self.data_matrix[0,xy[:,0],\n",
    "                                   xy[:,1], count] = 1\n",
    "                \n",
    "            _neg_count = neg_df[( (neg_df.timestamp >= self.start_t ) & (neg_df.timestamp < end_t ) )]\n",
    "            b = pd.DataFrame(index=_neg_count.index)\n",
    "            b = b.assign(xy = _neg_count['x'].astype(str) + '_' + _neg_count['y'].astype(str))\n",
    "            mask = b.xy.value_counts() >= self.threshold\n",
    "            some_array = mask[mask].index.values.astype(str)\n",
    "            xy = np.array(list(map(lambda x: x.split('_'), some_array))).astype(int)\n",
    "            if xy.shape[0] > 0:\n",
    "                self.data_matrix[1,xy[:,0],\n",
    "                                  xy[:,1], count] = 1\n",
    "            # print(_pos_count.shape[0] + _neg_count.shape[0])\n",
    "            \n",
    "\n",
    "\n",
    "            self.start_t = end_t\n",
    "            end_t += self.bin_duration\n",
    "            count += 1\n",
    "            \n",
    "        self.binarized = True\n",
    "        self.data_matrix = np.swapaxes(self.data_matrix, 1,2)\n",
    "        \n",
    "        return self.data_matrix\n",
    "    \n",
    "    def clean(self):\n",
    "        self.data_matrix=[]\n",
    "        self.binarized=False"
   ]
  },
  {
   "cell_type": "code",
   "execution_count": 5,
   "metadata": {},
   "outputs": [],
   "source": [
    "#file_path = '/datasets/eventdata/batch2/' + \"prophesee_recordings/\" + '107-a_pepsi_bottle_01'"
   ]
  },
  {
   "cell_type": "code",
   "execution_count": 6,
   "metadata": {},
   "outputs": [],
   "source": [
    "#td_data = loadmat(file_path + \"_td.mat\")['td_data']"
   ]
  },
  {
   "cell_type": "code",
   "execution_count": 7,
   "metadata": {},
   "outputs": [],
   "source": [
    "#td_data['x'][0][0].shape, td_data['y'][0][0].shape"
   ]
  },
  {
   "cell_type": "code",
   "execution_count": 8,
   "metadata": {},
   "outputs": [],
   "source": [
    "# a = td_data['x'][0][0]\n",
    "# b = td_data['y'][0][0]\n",
    "\n",
    "# mask_y = (b >= 100)\n",
    "# mask_x = (a >= 230) & (a < 430)\n",
    "\n",
    "# td_data['x'][0][0][ mask_x & mask_y ].shape\n",
    "# td_data['y'][0][0][ mask_x & mask_y ].shape"
   ]
  },
  {
   "cell_type": "code",
   "execution_count": 9,
   "metadata": {},
   "outputs": [],
   "source": [
    "# np.unique(td_data['x'][0][0][ mask_x & mask_y ]- 230)\n",
    "# np.unique(td_data['y'][0][0][ mask_x & mask_y ]- 100)"
   ]
  },
  {
   "cell_type": "code",
   "execution_count": 10,
   "metadata": {},
   "outputs": [],
   "source": [
    "# a.flatten().shape"
   ]
  },
  {
   "cell_type": "code",
   "execution_count": 11,
   "metadata": {},
   "outputs": [],
   "source": [
    "# b[(b >= 100)]-100"
   ]
  },
  {
   "cell_type": "code",
   "execution_count": 12,
   "metadata": {},
   "outputs": [],
   "source": [
    "# a[(a >= 230) & (a < 430)] - 230"
   ]
  },
  {
   "cell_type": "code",
   "execution_count": 13,
   "metadata": {},
   "outputs": [],
   "source": [
    "# aaa = CameraData('107-a_pepsi_bottle_01', \"grasp_lift_hold\", '/datasets/eventdata/batch2/')"
   ]
  },
  {
   "cell_type": "code",
   "execution_count": 14,
   "metadata": {},
   "outputs": [],
   "source": [
    "#np.unique(aaa.df.x)"
   ]
  },
  {
   "cell_type": "code",
   "execution_count": 15,
   "metadata": {},
   "outputs": [],
   "source": [
    "#np.unique(aaa.df.y)"
   ]
  },
  {
   "cell_type": "code",
   "execution_count": 16,
   "metadata": {},
   "outputs": [],
   "source": [
    "# bbb = aaa.binarize(0.02)"
   ]
  },
  {
   "cell_type": "code",
   "execution_count": 17,
   "metadata": {},
   "outputs": [],
   "source": [
    "def tact_bin_save(file_name, overall_count, bin_duration, path, selection, save_dir):\n",
    "    tac_data = TactileData(file_name, selection, path)\n",
    "    tacData = tac_data.binarize(bin_duration)\n",
    "    tac_data.clean()\n",
    "    np.save(save_dir + str(overall_count) + '_tact.npy', tacData.astype(np.uint8))"
   ]
  },
  {
   "cell_type": "code",
   "execution_count": 18,
   "metadata": {},
   "outputs": [],
   "source": [
    "def vis_bin_save(file_name, overall_count, bin_duration, path, selection, save_dir):\n",
    "    cam_data = CameraData(file_name, selection, path)\n",
    "    visData = cam_data.binarize(bin_duration)\n",
    "    np.save(save_dir + str(overall_count) + '_vis.npy', visData.astype(np.uint8))\n",
    "    cam_data.clean()"
   ]
  },
  {
   "cell_type": "code",
   "execution_count": 19,
   "metadata": {},
   "outputs": [],
   "source": [
    "class ViTacData():\n",
    "    def __init__(self, ViTacDataPath, save_dir, list_of_objects, selection=\"full\"):\n",
    "        self.path = ViTacDataPath\n",
    "        self.list_of_objects = list_of_objects\n",
    "        self.iters = 20\n",
    "        self.bin_duration = 0.002\n",
    "        self.save_dir = save_dir #\n",
    "        self.selection = selection\n",
    "        \n",
    "    def vis_bin_save(self, file_name, overall_count, bd):\n",
    "        cam_data = CameraData(file_name, self.selection, self.path)\n",
    "        visData = cam_data.binarize(self.bin_duration)\n",
    "        np.save(self.save_dir + str(overall_count) + '_vis.npy', visData.astype(np.uint8))\n",
    "        cam_data.clean()\n",
    "        \n",
    "    def binarize_save(self, bin_duration =0.002, modality=2):\n",
    "        self.bin_duration = bin_duration\n",
    "        'saves binarized tactile and prophesee data'\n",
    "        current_label = 0\n",
    "        overall_count = 0\n",
    "        big_list_tact = []\n",
    "        big_list_vis = []\n",
    "        for obj in self.list_of_objects:\n",
    "            print(obj, ' being processed ...')\n",
    "            for i in range(1, self.iters+1): #tqdm(range(1, self.iters+1)):\n",
    "                \n",
    "                i_str = str(i)\n",
    "                if i < 10:\n",
    "                    i_str = '0' + i_str\n",
    "                \n",
    "                file_name = obj + '_' + i_str\n",
    "                # tactile\n",
    "                if modality == 2 or modality == 0:\n",
    "                    big_list_tact.append([file_name, overall_count, self.bin_duration,\n",
    "                                     self.path, self.selection, self.save_dir])\n",
    "\n",
    "                if modality == 2 or modality == 1:\n",
    "                    big_list_vis.append([file_name, overall_count, self.bin_duration,\n",
    "                                     self.path, self.selection, self.save_dir])\n",
    "#                     cam_data = CameraData(file_name, self.selection, self.path)\n",
    "#                     visData = cam_data.binarize(self.bin_duration)\n",
    "#                     np.save(self.save_dir + str(overall_count) + '_vis.npy', visData.astype(np.uint8))\n",
    "#                     cam_data.clean()\n",
    "                overall_count+=1\n",
    "            current_label+=1\n",
    "        if modality == 2 or modality == 0:\n",
    "            Parallel(n_jobs=18)(delayed(tact_bin_save)(zz[0], zz[1], zz[2], zz[3], zz[4], zz[5]) for zz in big_list_tact)\n",
    "            print('Tactile has done')\n",
    "        if modality == 2 or modality == 1:\n",
    "            Parallel(n_jobs=10)(delayed(vis_bin_save)(zz[0], zz[1], zz[2], zz[3], zz[4], zz[5]) for zz in big_list_vis)"
   ]
  },
  {
   "cell_type": "code",
   "execution_count": 20,
   "metadata": {},
   "outputs": [],
   "source": [
    "# batch2\n",
    "list_of_objects2 = [\n",
    "    '107-a_pepsi_bottle',\n",
    "    '107-b_pepsi_bottle',\n",
    "    '107-c_pepsi_bottle',\n",
    "    '107-d_pepsi_bottle',\n",
    "    '107-e_pepsi_bottle',\n",
    "    '108-a_tuna_fish_can',\n",
    "    '108-b_tuna_fish_can',\n",
    "    '108-c_tuna_fish_can',\n",
    "    '108-d_tuna_fish_can',\n",
    "    '108-e_tuna_fish_can',\n",
    "    '109-a_soymilk',\n",
    "    '109-b_soymilk',\n",
    "    '109-c_soymilk',\n",
    "    '109-d_soymilk',\n",
    "    '109-e_soymilk',\n",
    "    '110-a_coffee_can',\n",
    "    '110-b_coffee_can',\n",
    "    '110-c_coffee_can',\n",
    "    '110-d_coffee_can',\n",
    "    '110-e_coffee_can'\n",
    "]"
   ]
  },
  {
   "cell_type": "code",
   "execution_count": 21,
   "metadata": {},
   "outputs": [],
   "source": [
    "ViTac = ViTacData('/datasets/eventdata/batch2/', 'bd_data/bd_002_grasp_lift_hold/', list_of_objects2, selection=\"grasp_lift_hold\")"
   ]
  },
  {
   "cell_type": "code",
   "execution_count": 22,
   "metadata": {
    "scrolled": false
   },
   "outputs": [
    {
     "name": "stdout",
     "output_type": "stream",
     "text": [
      "107-a_pepsi_bottle  being processed ...\n",
      "107-b_pepsi_bottle  being processed ...\n",
      "107-c_pepsi_bottle  being processed ...\n",
      "107-d_pepsi_bottle  being processed ...\n",
      "107-e_pepsi_bottle  being processed ...\n",
      "108-a_tuna_fish_can  being processed ...\n",
      "108-b_tuna_fish_can  being processed ...\n",
      "108-c_tuna_fish_can  being processed ...\n",
      "108-d_tuna_fish_can  being processed ...\n",
      "108-e_tuna_fish_can  being processed ...\n",
      "109-a_soymilk  being processed ...\n",
      "109-b_soymilk  being processed ...\n",
      "109-c_soymilk  being processed ...\n",
      "109-d_soymilk  being processed ...\n",
      "109-e_soymilk  being processed ...\n",
      "110-a_coffee_can  being processed ...\n",
      "110-b_coffee_can  being processed ...\n",
      "110-c_coffee_can  being processed ...\n",
      "110-d_coffee_can  being processed ...\n",
      "110-e_coffee_can  being processed ...\n",
      "Tactile has done\n",
      "CPU times: user 25.1 s, sys: 2.04 s, total: 27.1 s\n",
      "Wall time: 19min 10s\n"
     ]
    }
   ],
   "source": [
    "%%time\n",
    "ViTac.binarize_save(bin_duration=0.02, modality=2)"
   ]
  },
  {
   "cell_type": "code",
   "execution_count": 23,
   "metadata": {},
   "outputs": [
    {
     "ename": "NameError",
     "evalue": "name 'dsfsd' is not defined",
     "output_type": "error",
     "traceback": [
      "\u001b[0;31m---------------------------------------------------------------------------\u001b[0m",
      "\u001b[0;31mNameError\u001b[0m                                 Traceback (most recent call last)",
      "\u001b[0;32m<ipython-input-23-5e73d4e972e1>\u001b[0m in \u001b[0;36m<module>\u001b[0;34m\u001b[0m\n\u001b[0;32m----> 1\u001b[0;31m \u001b[0mdsfsd\u001b[0m\u001b[0;34m\u001b[0m\u001b[0;34m\u001b[0m\u001b[0m\n\u001b[0m",
      "\u001b[0;31mNameError\u001b[0m: name 'dsfsd' is not defined"
     ]
    }
   ],
   "source": [
    "dsfsd"
   ]
  },
  {
   "cell_type": "code",
   "execution_count": null,
   "metadata": {},
   "outputs": [],
   "source": [
    "test_labels = {'half_split':[], \n",
    "              '80_20_1':[],\n",
    "              '80_20_2':[],\n",
    "              '80_20_3':[],\n",
    "              '80_20_4':[],\n",
    "              '80_20_5':[]}\n",
    "train_labels = {'half_split':[], \n",
    "              '80_20_1':[],\n",
    "              '80_20_2':[],\n",
    "              '80_20_3':[],\n",
    "              '80_20_4':[],\n",
    "              '80_20_5':[]}\n",
    "current_label = -1\n",
    "overall_count = -1\n",
    "for obj in list_of_objects2:\n",
    "    current_label += 1\n",
    "    for i in range(0, 20):\n",
    "        overall_count+=1\n",
    "        if i in [1,3,5,7,9,11,13,15,17,19]:\n",
    "            test_labels['half_split'].append([overall_count, current_label])\n",
    "        else:\n",
    "            train_labels['half_split'].append([overall_count, current_label])\n",
    "            \n",
    "        if i in [3,5,14,17]:\n",
    "            test_labels['80_20_1'].append([overall_count, current_label])\n",
    "        else:\n",
    "            train_labels['80_20_1'].append([overall_count, current_label])\n",
    "            \n",
    "        if i in [2,6,15,16]:\n",
    "            test_labels['80_20_2'].append([overall_count, current_label])\n",
    "        else:\n",
    "            train_labels['80_20_2'].append([overall_count, current_label])\n",
    "            \n",
    "        if i in [1,3,11,19]:\n",
    "            test_labels['80_20_3'].append([overall_count, current_label])\n",
    "        else:\n",
    "            train_labels['80_20_3'].append([overall_count, current_label])\n",
    "            \n",
    "        if i in [4,8,13,18]:\n",
    "            test_labels['80_20_4'].append([overall_count, current_label])\n",
    "        else:\n",
    "            train_labels['80_20_4'].append([overall_count, current_label])\n",
    "            \n",
    "        if i in [7,9,12,17]:\n",
    "            test_labels['80_20_5'].append([overall_count, current_label])\n",
    "        else:\n",
    "            train_labels['80_20_5'].append([overall_count, current_label])"
   ]
  },
  {
   "cell_type": "code",
   "execution_count": null,
   "metadata": {},
   "outputs": [],
   "source": [
    "test_labels['80_20_4']"
   ]
  },
  {
   "cell_type": "code",
   "execution_count": null,
   "metadata": {},
   "outputs": [],
   "source": [
    "for split in train_labels:\n",
    "    np.random.shuffle(train_labels[split])\n",
    "    #np.savetxt(ViTac.save_dir + 'train_' + split + '.txt', np.array(train_labels[split], dtype=int), fmt='%d', delimiter='\\t')\n",
    "\n",
    "for split in test_labels:\n",
    "    np.random.shuffle(test_labels[split])\n",
    "    #np.savetxt(ViTac.save_dir + 'test_' + split + '.txt', np.array(test_labels[split], dtype=int), fmt='%d', delimiter='\\t')"
   ]
  },
  {
   "cell_type": "code",
   "execution_count": null,
   "metadata": {},
   "outputs": [],
   "source": [
    "#np.savetxt(ViTac.save_dir + \"train_temp_50.txt\", np.array(train_labels, dtype=int), fmt='%d', delimiter='\\t')\n",
    "#np.savetxt(ViTac.save_dir + \"test_temp_50.txt\", np.array(test_labels, dtype=int), fmt='%d')"
   ]
  },
  {
   "cell_type": "code",
   "execution_count": null,
   "metadata": {},
   "outputs": [],
   "source": [
    "#np.savetxt(ViTac.save_dir + \"train_temp_50.txt\", np.array(train_labels, dtype=int), fmt='%d', delimiter='\\t')\n",
    "#np.savetxt(ViTac.save_dir + \"test_temp_50.txt\", np.array(test_labels, dtype=int), fmt='%d')"
   ]
  },
  {
   "cell_type": "code",
   "execution_count": null,
   "metadata": {},
   "outputs": [],
   "source": [
    "#ViTac.save_dir"
   ]
  },
  {
   "cell_type": "code",
   "execution_count": null,
   "metadata": {},
   "outputs": [],
   "source": [
    "#list_of_objects[20]"
   ]
  },
  {
   "cell_type": "code",
   "execution_count": null,
   "metadata": {},
   "outputs": [],
   "source": [
    "aaa = np.array(new_train_labels[split])"
   ]
  },
  {
   "cell_type": "code",
   "execution_count": null,
   "metadata": {},
   "outputs": [],
   "source": []
  }
 ],
 "metadata": {
  "kernelspec": {
   "display_name": "Python 3",
   "language": "python",
   "name": "python3"
  },
  "language_info": {
   "codemirror_mode": {
    "name": "ipython",
    "version": 3
   },
   "file_extension": ".py",
   "mimetype": "text/x-python",
   "name": "python",
   "nbconvert_exporter": "python",
   "pygments_lexer": "ipython3",
   "version": "3.6.8"
  }
 },
 "nbformat": 4,
 "nbformat_minor": 2
}
