{
 "cells": [
  {
   "cell_type": "code",
   "execution_count": 130,
   "metadata": {},
   "outputs": [],
   "source": [
    "import torch\n",
    "import numpy as np\n",
    "import slayerSNN as snn\n",
    "from pathlib import Path\n",
    "import logging\n",
    "from torch.utils.data import DataLoader\n",
    "from torch.utils.data import Dataset\n",
    "import matplotlib.pyplot as plt"
   ]
  },
  {
   "cell_type": "code",
   "execution_count": 131,
   "metadata": {},
   "outputs": [],
   "source": [
    "output_size = 20\n",
    "lr = 0.01\n",
    "\n",
    "data_dir='/home/tasbolat/some_python_examples/data_VT_SNN/'\n",
    "batch_size=8\n",
    "sample_file=2\n",
    "epochs = 500"
   ]
  },
  {
   "cell_type": "code",
   "execution_count": 132,
   "metadata": {},
   "outputs": [],
   "source": [
    "params = {\n",
    "    \"neuron\": {\n",
    "        \"type\": \"SRMALPHA\",\n",
    "        \"theta\": 10,\n",
    "        \"tauSr\": 10.0,\n",
    "        \"tauRef\": 1.0,\n",
    "        \"scaleRef\": 2,\n",
    "        \"tauRho\": 1,\n",
    "        \"scaleRho\": 1,\n",
    "    },\n",
    "    \"simulation\": {\"Ts\": 1.0, \"tSample\": 325, \"nSample\": 1},\n",
    "    \"training\": {\n",
    "        \"error\": {\n",
    "            \"type\": \"NumSpikes\",  # \"NumSpikes\" or \"ProbSpikes\"\n",
    "            \"probSlidingWin\": 20,  # only valid for ProbSpikes\n",
    "            \"tgtSpikeRegion\": {  # valid for NumSpikes and ProbSpikes\n",
    "                \"start\": 0,\n",
    "                \"stop\": 325,\n",
    "            },\n",
    "            \"tgtSpikeCount\": {True: 150, False: 5},\n",
    "        }\n",
    "    },\n",
    "}"
   ]
  },
  {
   "cell_type": "code",
   "execution_count": 133,
   "metadata": {},
   "outputs": [],
   "source": [
    "def count_parameters(model):\n",
    "    return sum(p.numel() for p in model.parameters() if p.requires_grad)"
   ]
  },
  {
   "cell_type": "code",
   "execution_count": 134,
   "metadata": {},
   "outputs": [],
   "source": [
    "class ViTacMMDataset(Dataset):\n",
    "    def __init__(self, path, sample_file, output_size):\n",
    "        self.path = path\n",
    "        tact = torch.load(Path(path) / \"tact.pt\")\n",
    "        self.tact = tact.reshape(tact.shape[0], -1, 1, 1, tact.shape[-1])\n",
    "        self.ds_vis = torch.load(Path(path) / \"ds_vis.pt\")\n",
    "        self.samples = np.loadtxt(Path(path) / sample_file).astype(\"int\")\n",
    "        self.output_size = output_size\n",
    "\n",
    "    def __getitem__(self, index):\n",
    "        input_index = self.samples[index, 0]\n",
    "        class_label = self.samples[index, 1]\n",
    "        target_class = torch.zeros((self.output_size, 1, 1, 1))\n",
    "        target_class[class_label, ...] = 1\n",
    "\n",
    "        return (\n",
    "            self.tact[input_index],\n",
    "            self.ds_vis[input_index],\n",
    "            target_class,\n",
    "            class_label,\n",
    "        )\n",
    "\n",
    "    def __len__(self):\n",
    "        return self.samples.shape[0]"
   ]
  },
  {
   "cell_type": "code",
   "execution_count": 135,
   "metadata": {},
   "outputs": [],
   "source": [
    "train_dataset = ViTacMMDataset(\n",
    "    path=data_dir, sample_file=f\"train_80_20_{sample_file}.txt\", output_size=output_size\n",
    ")\n",
    "# train_loader = DataLoader(\n",
    "#     dataset=train_dataset, batch_size=batch_size, shuffle=False, num_workers=4\n",
    "# )\n",
    "test_dataset = ViTacMMDataset(\n",
    "    path=data_dir, sample_file=f\"test_80_20_{sample_file}.txt\", output_size=output_size\n",
    ")\n",
    "# test_loader = DataLoader(\n",
    "#     dataset=test_dataset, batch_size=batch_size, shuffle=False, num_workers=4\n",
    "# )"
   ]
  },
  {
   "cell_type": "code",
   "execution_count": null,
   "metadata": {},
   "outputs": [],
   "source": [
    "class ConcatDataset(torch.utils.data.Dataset):\n",
    "    def __init__(self, *datasets):\n",
    "        self.datasets = datasets\n",
    "\n",
    "    def __getitem__(self, i):\n",
    "        return tuple(d[i] for d in self.datasets)\n",
    "\n",
    "    def __len__(self):\n",
    "        return min(len(d) for d in self.datasets)\n",
    "\n",
    "loader = torch.utils.data.DataLoader(\n",
    "             ConcatDataset(\n",
    "                 train_dataset,\n",
    "                 test_dataset\n",
    "             ),\n",
    "             batch_size=batch_size=300, shuffle=True,\n",
    "             num_workers=args.workers, pin_memory=True)"
   ]
  },
  {
   "cell_type": "code",
   "execution_count": 136,
   "metadata": {},
   "outputs": [],
   "source": [
    "class EncoderVis(torch.nn.Module):\n",
    "    def __init__(self, netParams, output_size):\n",
    "        super(EncoderVis, self).__init__()\n",
    "        self.slayer = snn.layer(netParams['neuron'], netParams['simulation'])\n",
    "        self.fc1   = self.slayer.dense((50, 63, 2), output_size)\n",
    "    def forward(self, downsampled):\n",
    "        spikeLayer1 = self.slayer.spike(self.slayer.psp(downsampled)) # 32, 32, 16\n",
    "        spikeLayer5 = self.slayer.spike(self.fc1(self.slayer.psp(spikeLayer1))) #  10\n",
    "        self.spike_trains = [spikeLayer1]\n",
    "        return spikeLayer5\n",
    "\n",
    "class EncoderTact(torch.nn.Module):\n",
    "    def __init__(self, netParams, output_size):\n",
    "        super(EncoderTact, self).__init__()\n",
    "        slayer = snn.layer(netParams['neuron'], netParams['simulation'])\n",
    "        self.slayer = slayer\n",
    "        self.fc1   = slayer.dense(156, output_size)\n",
    "    def forward(self, spikeInput):\n",
    "        spikeLayer1 = self.slayer.spike(self.fc1(self.slayer.psp((spikeInput))))\n",
    "        self.spike_trains = []\n",
    "        return spikeLayer1\n",
    "\n",
    "class SlayerMM(torch.nn.Module):\n",
    "    def __init__(self, netParams, output_size):\n",
    "        super(SlayerMM, self).__init__()\n",
    "        slayer = snn.layer(netParams['neuron'], netParams['simulation'])\n",
    "        self.tactile = EncoderTact(netParams, 32)\n",
    "        self.vision = EncoderVis(netParams, 20)\n",
    "        self.slayer = slayer\n",
    "        self.fc1   = slayer.dense(52, output_size)\n",
    "\n",
    "    def forward(self, spikeInputTact, spikeInputVis):\n",
    "        spikeLayer1 = self.tactile(spikeInputTact)\n",
    "        spikeLayer2 = self.vision(spikeInputVis)\n",
    "        spikeAll = torch.cat([spikeLayer1, spikeLayer2], dim=1)\n",
    "        self.spike_trains = [spikeAll] + self.tactile.spike_trains + self.vision.spike_trains\n",
    "\n",
    "        out = self.slayer.spike(self.slayer.psp(self.fc1(spikeAll)))\n",
    "        return out"
   ]
  },
  {
   "cell_type": "code",
   "execution_count": 137,
   "metadata": {},
   "outputs": [],
   "source": [
    "class SlayerMLP(torch.nn.Module):\n",
    "    '''\n",
    "    2 layer MLP based on SLAYER used for tactile data\n",
    "    '''\n",
    "    def __init__(self, params, input_size, hidden_size, output_size):\n",
    "        super(SlayerMLP, self).__init__()\n",
    "        self.output_size = output_size\n",
    "        self.slayer = snn.layer(params[\"neuron\"], params[\"simulation\"])\n",
    "        self.fc1 = self.slayer.dense(input_size, hidden_size)\n",
    "        self.fc2 = self.slayer.dense(hidden_size, output_size)\n",
    "\n",
    "    def forward(self, spike_input):\n",
    "        spike_1 = self.slayer.spike(self.slayer.psp(self.fc1(spike_input)))\n",
    "        spike_output = self.slayer.spike(self.slayer.psp(self.fc2(spike_1)))\n",
    "        self.spike_trains = [spike_1]\n",
    "        return spike_output"
   ]
  },
  {
   "cell_type": "code",
   "execution_count": 138,
   "metadata": {},
   "outputs": [],
   "source": [
    "device = torch.device(\"cuda:2\")\n",
    "net = SlayerMM(params, output_size).to(device)"
   ]
  },
  {
   "cell_type": "code",
   "execution_count": 139,
   "metadata": {},
   "outputs": [],
   "source": [
    "# apply weights\n",
    "net_tact = SlayerMLP(params, 156,32,20).to(device)\n",
    "net_vis = EncoderVis(params, 20).to(device)"
   ]
  },
  {
   "cell_type": "code",
   "execution_count": 140,
   "metadata": {},
   "outputs": [
    {
     "data": {
      "text/plain": [
       "<All keys matched successfully>"
      ]
     },
     "execution_count": 140,
     "metadata": {},
     "output_type": "execute_result"
    }
   ],
   "source": [
    "net_tact.load_state_dict(torch.load('tactile_model.pt'))\n",
    "net_vis.load_state_dict(torch.load('vision_model.pt'))"
   ]
  },
  {
   "cell_type": "code",
   "execution_count": 141,
   "metadata": {},
   "outputs": [
    {
     "name": "stdout",
     "output_type": "stream",
     "text": [
      "0 torch.Size([32, 156, 1, 1, 1])\n",
      "1 torch.Size([20, 32, 1, 1, 1])\n"
     ]
    }
   ],
   "source": [
    "count = 0\n",
    "for param in net_tact.parameters():\n",
    "    print(count, param.data.shape)\n",
    "    count += 1"
   ]
  },
  {
   "cell_type": "code",
   "execution_count": 142,
   "metadata": {},
   "outputs": [],
   "source": [
    "with torch.no_grad():\n",
    "    # set tactile\n",
    "    net.tactile.fc1.weight = net_tact.fc1.weight\n",
    "    net.tactile.fc1.weight.requires_grad = False\n",
    "    # set vision\n",
    "    net.vision.fc1.weight = net_vis.fc1.weight\n",
    "    net.vision.fc1.weight.requires_grad = False"
   ]
  },
  {
   "cell_type": "code",
   "execution_count": 143,
   "metadata": {},
   "outputs": [
    {
     "data": {
      "text/plain": [
       "True"
      ]
     },
     "execution_count": 143,
     "metadata": {},
     "output_type": "execute_result"
    }
   ],
   "source": [
    "param.requires_grad"
   ]
  },
  {
   "cell_type": "code",
   "execution_count": 144,
   "metadata": {},
   "outputs": [
    {
     "name": "stdout",
     "output_type": "stream",
     "text": [
      "0 torch.Size([32, 156, 1, 1, 1]) False\n",
      "1 torch.Size([20, 2, 63, 50, 1]) False\n",
      "2 torch.Size([20, 52, 1, 1, 1]) True\n"
     ]
    }
   ],
   "source": [
    "count = 0\n",
    "for param in net.parameters():\n",
    "    print(count, param.data.shape, param.requires_grad)\n",
    "    count += 1"
   ]
  },
  {
   "cell_type": "code",
   "execution_count": 145,
   "metadata": {},
   "outputs": [
    {
     "data": {
      "text/plain": [
       "1040"
      ]
     },
     "execution_count": 145,
     "metadata": {},
     "output_type": "execute_result"
    }
   ],
   "source": [
    "count_parameters(net)"
   ]
  },
  {
   "cell_type": "code",
   "execution_count": 146,
   "metadata": {},
   "outputs": [],
   "source": [
    "error = snn.loss(params).to(device)\n",
    "optimizer = torch.optim.RMSprop(\n",
    "    net.parameters(), lr=0.01, weight_decay=0.5\n",
    ")"
   ]
  },
  {
   "cell_type": "code",
   "execution_count": 147,
   "metadata": {},
   "outputs": [
    {
     "name": "stdout",
     "output_type": "stream",
     "text": [
      "Epoch  50 ---------------------------------\n",
      "Train, Test acc:  1.0 0.6833333333333333\n",
      "Epoch  100 ---------------------------------\n",
      "Train, Test acc:  1.0 0.7\n",
      "Epoch  150 ---------------------------------\n",
      "Train, Test acc:  1.0 0.7166666666666667\n",
      "Epoch  200 ---------------------------------\n",
      "Train, Test acc:  1.0 0.7166666666666667\n",
      "Epoch  250 ---------------------------------\n",
      "Train, Test acc:  1.0 0.75\n",
      "Epoch  300 ---------------------------------\n",
      "Train, Test acc:  1.0 0.7333333333333333\n",
      "Epoch  350 ---------------------------------\n",
      "Train, Test acc:  1.0 0.75\n",
      "Epoch  400 ---------------------------------\n",
      "Train, Test acc:  1.0 0.75\n",
      "Epoch  450 ---------------------------------\n",
      "Train, Test acc:  1.0 0.75\n",
      "Epoch  500 ---------------------------------\n",
      "Train, Test acc:  1.0 0.7666666666666667\n"
     ]
    }
   ],
   "source": [
    "tr_losses=[]\n",
    "te_losses=[]\n",
    "tr_accs=[]\n",
    "te_accs=[]\n",
    "\n",
    "\n",
    "for epoch in range(1, epochs+1):\n",
    "    correct = 0\n",
    "    num_samples = 0\n",
    "    batch_loss = 0\n",
    "    net.train()\n",
    "    for i, (tact, vis, target, label) in enumerate(train_loader):\n",
    "        \n",
    "        tact = tact.to(device)\n",
    "        vis = vis.to(device)\n",
    "        target = target.to(device)\n",
    "        output = net.forward(tact, vis)\n",
    "        \n",
    "        correct += torch.sum(snn.predict.getClass(output) == label).data.item()\n",
    "        loss = error.numSpikes(output, target)\n",
    "        batch_loss += loss.item()\n",
    "\n",
    "        optimizer.zero_grad()\n",
    "        loss.backward()\n",
    "        optimizer.step()\n",
    "        \n",
    "    tr_losses.append(batch_loss / len(train_loader.dataset) )\n",
    "    tr_accs.append(correct / len(train_loader.dataset) )\n",
    "    \n",
    "    correct = 0\n",
    "    num_samples = 0\n",
    "    batch_loss = 0\n",
    "    net.eval()\n",
    "    with torch.no_grad():\n",
    "        for i, (tact, vis, target, label) in enumerate(test_loader):\n",
    "\n",
    "            tact = tact.to(device)\n",
    "            vis = vis.to(device)\n",
    "            target = target.to(device)\n",
    "            output = net.forward(tact, vis)\n",
    "\n",
    "            correct += torch.sum(snn.predict.getClass(output) == label).data.item()\n",
    "            loss = error.numSpikes(output, target)\n",
    "            batch_loss += loss.item()\n",
    "\n",
    "    te_losses.append(batch_loss / len(test_loader.dataset) )\n",
    "    te_accs.append(correct / len(test_loader.dataset) )\n",
    "    \n",
    "    if epoch%50 == 0:\n",
    "        print('Epoch ', epoch, '---------------------------------')\n",
    "        print('Train, Test acc: ', tr_accs[-1], te_accs[-1])"
   ]
  },
  {
   "cell_type": "code",
   "execution_count": 149,
   "metadata": {},
   "outputs": [],
   "source": [
    "torch.save(net.state_dict(), 'mm_model.pt')"
   ]
  },
  {
   "cell_type": "code",
   "execution_count": 148,
   "metadata": {},
   "outputs": [
    {
     "data": {
      "image/png": "[encoded data removed]",
      "text/plain": [
       "<Figure size 1080x504 with 2 Axes>"
      ]
     },
     "metadata": {
      "needs_background": "light"
     },
     "output_type": "display_data"
    }
   ],
   "source": [
    "fig, ax = plt.subplots(2, figsize=(15,7))\n",
    "ax[0].set_title('batch size = ' + str(batch_size) + ', lr = ' + str(lr))\n",
    "ax[0].plot(tr_losses)\n",
    "ax[0].plot(te_losses)\n",
    "ax[0].legend(['Train', 'Test'])\n",
    "ax[0].set_ylabel('Loss')\n",
    "\n",
    "ax[1].plot(tr_accs)\n",
    "ax[1].plot(te_accs)\n",
    "ax[1].legend(['Train', 'Test'])\n",
    "ax[1].set_ylabel('Accuracy')\n",
    "ax[1].set_xlabel('Epochs')\n",
    "plt.tight_layout()\n",
    "#fig.savefig('results/vis_'+str(batch_size) + '_' + str(lr) +'.png')\n",
    "\n",
    "plt.show()"
   ]
  },
  {
   "cell_type": "code",
   "execution_count": null,
   "metadata": {},
   "outputs": [],
   "source": []
  }
 ],
 "metadata": {
  "kernelspec": {
   "display_name": "Python 3",
   "language": "python",
   "name": "python3"
  },
  "language_info": {
   "codemirror_mode": {
    "name": "ipython",
    "version": 3
   },
   "file_extension": ".py",
   "mimetype": "text/x-python",
   "name": "python",
   "nbconvert_exporter": "python",
   "pygments_lexer": "ipython3",
   "version": "3.6.8"
  }
 },
 "nbformat": 4,
 "nbformat_minor": 2
}
