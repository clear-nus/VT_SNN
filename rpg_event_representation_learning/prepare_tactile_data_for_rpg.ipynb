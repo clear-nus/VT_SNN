{
 "cells": [
  {
   "cell_type": "code",
   "execution_count": 1,
   "metadata": {},
   "outputs": [],
   "source": [
    "%matplotlib inline\n",
    "import pandas as pd\n",
    "import numpy as np\n",
    "import matplotlib.pyplot as plt\n",
    "from tqdm import tqdm_notebook as tqdm\n",
    "import tqdm\n",
    "from scipy.io import loadmat\n",
    "from joblib import Parallel, delayed"
   ]
  },
  {
   "cell_type": "markdown",
   "metadata": {},
   "source": [
    "# TACTILE DATA PREPERATION\n",
    "\n",
    "This code converts non-uniformly distributed tactile data into rectangular shape tactile data: (39,1) -> (9,7)"
   ]
  },
  {
   "attachments": {
    "image.png": {
     "image/png": "[encoded data removed]"
    }
   },
   "cell_type": "markdown",
   "metadata": {},
   "source": [
    "![image.png](attachment:image.png)"
   ]
  },
  {
   "cell_type": "code",
   "execution_count": 2,
   "metadata": {},
   "outputs": [],
   "source": [
    "### give path to original spike data\n",
    "path = \"/home/tasbolat/some_python_examples/diag_data/batch2_final/\"\n",
    "save_dir = \"/home/tasbolat/some_python_examples/data_batch2_final_VT_SNN/tact_rpg_data/\""
   ]
  },
  {
   "cell_type": "code",
   "execution_count": 3,
   "metadata": {},
   "outputs": [],
   "source": [
    "import os\n",
    "if not os.path.exists(save_dir):\n",
    "    os.makedirs(save_dir)"
   ]
  },
  {
   "cell_type": "markdown",
   "metadata": {},
   "source": [
    "### Test one sample"
   ]
  },
  {
   "cell_type": "code",
   "execution_count": 4,
   "metadata": {},
   "outputs": [],
   "source": [
    "class TrajStartEnd():\n",
    "    def __init__(self, obj_name, path):\n",
    "        self.path = path\n",
    "        self.obj_name = obj_name\n",
    "        self.obj_path = self.path + 'traj_start_ends/' + obj_name + '.startend'\n",
    "        self.traj_start_end = np.array(open(self.obj_path, \"r\").read().split(\" \")).astype(float) "
   ]
  },
  {
   "cell_type": "code",
   "execution_count": 5,
   "metadata": {},
   "outputs": [],
   "source": [
    "# obj_name = \"110-c_coffee_can_02\"\n",
    "# df = pd.read_csv(\n",
    "#         path + \"aces_recordings/\"+ obj_name + '.tact',\n",
    "#         delimiter=\" \",\n",
    "#         names=[\"polarity\", \"cell_index\", \"timestamp\"],\n",
    "#         dtype={'polarity': int, 'cell_index': int, 'timestamp': float}\n",
    "#     )\n",
    "\n",
    "# trajStartEnd = TrajStartEnd(obj_name, path)\n",
    "# df = df[ (df.timestamp <= (6.5+trajStartEnd.traj_start_end[3])) & (df.timestamp > trajStartEnd.traj_start_end[3])]\n",
    "# df.timestamp = df.timestamp - trajStartEnd.traj_start_end[0]"
   ]
  },
  {
   "cell_type": "code",
   "execution_count": 6,
   "metadata": {},
   "outputs": [],
   "source": [
    "import pickle\n",
    "[right_map, left_map] = pickle.load(open('mappings.pkl', 'rb'))"
   ]
  },
  {
   "cell_type": "code",
   "execution_count": 7,
   "metadata": {},
   "outputs": [],
   "source": [
    "# mapping indices\n",
    "map_to_grid = {\n",
    "    1:[4,0],\n",
    "    2:[2,0],\n",
    "    3:[6,0],\n",
    "    4:[0,0],\n",
    "    5:[8,0],\n",
    "    7:[1,1],\n",
    "    9:[3,1],\n",
    "    6:[4,1],\n",
    "    10:[5,1],\n",
    "    8:[7,1],\n",
    "    11:[0,2],\n",
    "    12:[2,2],\n",
    "    16:[3,2],\n",
    "    15:[4,2],\n",
    "    17:[5,2],\n",
    "    14:[6,2],\n",
    "    13:[8,2],\n",
    "    18:[1,3],\n",
    "    20:[2,3],\n",
    "    21:[4,3],\n",
    "    22:[6,3],\n",
    "    19:[7,3],\n",
    "    25:[0,4],\n",
    "    29:[2,4],\n",
    "    23:[3,4],\n",
    "    27:[4,4],\n",
    "    28:[6,4],\n",
    "    24:[5,4],\n",
    "    26:[8,4],\n",
    "    30:[1,5],\n",
    "    33:[3,5],\n",
    "    34:[4,5],\n",
    "    31:[5,5],\n",
    "    32:[7,5],\n",
    "    35:[0,6],\n",
    "    37:[2,6],\n",
    "    39:[4,6],\n",
    "    38:[6,6],\n",
    "    36:[8,6]\n",
    "}"
   ]
  },
  {
   "cell_type": "code",
   "execution_count": 8,
   "metadata": {},
   "outputs": [],
   "source": [
    "# aaa = {\n",
    "# 'fake': list( map_to_grid.keys() ),\n",
    "# 'values': list( map_to_grid.values() )\n",
    "# }"
   ]
  },
  {
   "cell_type": "code",
   "execution_count": 9,
   "metadata": {},
   "outputs": [],
   "source": [
    "#right_map"
   ]
  },
  {
   "cell_type": "code",
   "execution_count": null,
   "metadata": {},
   "outputs": [],
   "source": []
  },
  {
   "cell_type": "code",
   "execution_count": null,
   "metadata": {},
   "outputs": [],
   "source": []
  },
  {
   "cell_type": "code",
   "execution_count": 10,
   "metadata": {},
   "outputs": [],
   "source": [
    "def create_space(x):\n",
    "    return map_to_grid[x][0], map_to_grid[x][1]\n",
    "# def create_space2(x):\n",
    "#     return map_to_grid[x][0], map_to_grid[x][1]"
   ]
  },
  {
   "cell_type": "code",
   "execution_count": 11,
   "metadata": {},
   "outputs": [],
   "source": [
    "#df.head()"
   ]
  },
  {
   "cell_type": "code",
   "execution_count": 12,
   "metadata": {},
   "outputs": [],
   "source": [
    "# df1 = df[df.cell_index <=40]\n",
    "# df2 = df[df.cell_index > 40]\n",
    "# df1 = df1.reset_index(drop=True)\n",
    "# df2 = df2.reset_index(drop=True)\n",
    "# df1.cell_index = df1.cell_index.map(left_map)\n",
    "# df2.cell_index = df2.cell_index.map(right_map)\n",
    "# a1 = np.array(df1.cell_index.apply(create_space).tolist())\n",
    "# a2 = np.array(df2.cell_index.apply(create_space).tolist())\n",
    "# df1 = df1.assign(x = a1[:,0]).assign(y=a1[:,1])\n",
    "# df2 = df2.assign(x = a2[:,0]).assign(y=a2[:,1])\n",
    "# df1=df1.reindex(columns=['x', 'y', 'timestamp', 'polarity'])\n",
    "# df2=df2.reindex(columns=['x', 'y', 'timestamp', 'polarity'])"
   ]
  },
  {
   "cell_type": "markdown",
   "metadata": {},
   "source": [
    "As shown above cell index is mapped into x and y coordinates"
   ]
  },
  {
   "cell_type": "markdown",
   "metadata": {},
   "source": [
    "### Do for all objs"
   ]
  },
  {
   "cell_type": "code",
   "execution_count": 13,
   "metadata": {},
   "outputs": [],
   "source": [
    "# batch2\n",
    "list_of_objects2 = [\n",
    "    \"107-a_pepsi_bottle\",\n",
    "    \"107-b_pepsi_bottle\",\n",
    "    \"107-c_pepsi_bottle\",\n",
    "    \"107-d_pepsi_bottle\",\n",
    "    \"107-e_pepsi_bottle\",\n",
    "    \"108-a_tuna_fish_can\",\n",
    "    \"108-b_tuna_fish_can\",\n",
    "    \"108-c_tuna_fish_can\",\n",
    "    \"108-d_tuna_fish_can\",\n",
    "    \"108-e_tuna_fish_can\",\n",
    "    \"109-a_soymilk\",\n",
    "    \"109-b_soymilk\",\n",
    "    \"109-c_soymilk\",\n",
    "    \"109-d_soymilk\",\n",
    "    \"109-e_soymilk\",\n",
    "    \"110-a_coffee_can\",\n",
    "    \"110-b_coffee_can\",\n",
    "    \"110-c_coffee_can\",\n",
    "    \"110-d_coffee_can\",\n",
    "    \"110-e_coffee_can\",\n",
    "]"
   ]
  },
  {
   "cell_type": "code",
   "execution_count": 14,
   "metadata": {},
   "outputs": [
    {
     "name": "stderr",
     "output_type": "stream",
     "text": [
      "100%|██████████| 20/20 [00:06<00:00,  3.05it/s]\n"
     ]
    }
   ],
   "source": [
    "overall_count = -1\n",
    "for obj in tqdm.tqdm(list_of_objects2):\n",
    "    for i in range(1,16):\n",
    "        overall_count+=1\n",
    "        str_i = str(i)\n",
    "        if i < 10:\n",
    "            str_i = '0' + str_i\n",
    "        obj_name = obj + \"_\" + str_i\n",
    "        # read data\n",
    "        df = pd.read_csv(\n",
    "            path + \"aces_recordings/\"+ obj_name + '.tact',\n",
    "            delimiter=\" \",\n",
    "            names=[\"polarity\", \"cell_index\", \"timestamp\"],\n",
    "            dtype={'polarity': int, 'cell_index': int, 'timestamp': float}\n",
    "        )\n",
    "        \n",
    "        trajStartEnd = TrajStartEnd(obj_name, path)\n",
    "        df = df[ (df.timestamp <= (6.5+trajStartEnd.traj_start_end[3])) & (df.timestamp > trajStartEnd.traj_start_end[3])]\n",
    "        df.timestamp = df.timestamp - trajStartEnd.traj_start_end[0]\n",
    "        df.loc[df.polarity==0, 'polarity']=-1\n",
    "        \n",
    "        df1 = df[df.cell_index <=40]\n",
    "        df2 = df[df.cell_index > 40]\n",
    "        df1 = df1.reset_index(drop=True)\n",
    "        df2 = df2.reset_index(drop=True)\n",
    "        df1.cell_index = df1.cell_index.map(left_map)\n",
    "        df2.cell_index = df2.cell_index.map(right_map)\n",
    "        a1 = np.array(df1.cell_index.apply(create_space).tolist())\n",
    "        a2 = np.array(df2.cell_index.apply(create_space).tolist())\n",
    "        df1 = df1.assign(x = a1[:,0]).assign(y=a1[:,1])\n",
    "        df2 = df2.assign(x = a2[:,0]).assign(y=a2[:,1])\n",
    "        df1=df1.reindex(columns=['x', 'y', 'timestamp', 'polarity'])\n",
    "        df2=df2.reindex(columns=['x', 'y', 'timestamp', 'polarity'])\n",
    "        \n",
    "        np.save(save_dir + str(overall_count) + '_left.npy', df1.values)\n",
    "        np.save(save_dir + str(overall_count) + '_right.npy', df2.values)"
   ]
  },
  {
   "cell_type": "code",
   "execution_count": null,
   "metadata": {},
   "outputs": [],
   "source": []
  },
  {
   "cell_type": "code",
   "execution_count": null,
   "metadata": {},
   "outputs": [],
   "source": []
  },
  {
   "cell_type": "code",
   "execution_count": null,
   "metadata": {},
   "outputs": [],
   "source": []
  }
 ],
 "metadata": {
  "kernelspec": {
   "display_name": "Python 3",
   "language": "python",
   "name": "python3"
  },
  "language_info": {
   "codemirror_mode": {
    "name": "ipython",
    "version": 3
   },
   "file_extension": ".py",
   "mimetype": "text/x-python",
   "name": "python",
   "nbconvert_exporter": "python",
   "pygments_lexer": "ipython3",
   "version": "3.6.8"
  }
 },
 "nbformat": 4,
 "nbformat_minor": 2
}
