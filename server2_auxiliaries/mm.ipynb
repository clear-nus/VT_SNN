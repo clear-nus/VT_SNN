{
 "cells": [
  {
   "cell_type": "code",
   "execution_count": 21,
   "metadata": {},
   "outputs": [],
   "source": [
    "import sys, os\n",
    "CURRENT_TEST_DIR = os.getcwd()\n",
    "sys.path.append(CURRENT_TEST_DIR + \"/../../VT_SNN/\")"
   ]
  },
  {
   "cell_type": "code",
   "execution_count": 22,
   "metadata": {},
   "outputs": [],
   "source": [
    "import torch\n",
    "import numpy as np\n",
    "import slayerSNN as snn\n",
    "from pathlib import Path\n",
    "import logging\n",
    "from snn_models.baseline_snn import SlayerMLP\n",
    "from snn_models.multimodal_snn import EncoderTact\n",
    "from torch.utils.data import DataLoader\n",
    "from dataset import ViTacDataset, ViTacMMDataset"
   ]
  },
  {
   "cell_type": "code",
   "execution_count": 23,
   "metadata": {},
   "outputs": [],
   "source": [
    "fname='../aux_rests/mm_old_loss_wo'"
   ]
  },
  {
   "cell_type": "code",
   "execution_count": 24,
   "metadata": {},
   "outputs": [],
   "source": [
    "class FLAGS():\n",
    "    def __init__(self):\n",
    "        self.data_dir = '/home/tasbolat/some_python_examples/data_VT_SNN_new/'\n",
    "        self.batch_size = 8\n",
    "        self.sample_file = 2\n",
    "        self.lr = 0.001\n",
    "        self.epochs = 500\n",
    "        self.output_size = 20\n",
    "        self.theta = 10\n",
    "        self.tauRho = 1\n",
    "        self.tsample= 325\n",
    "        self.tsr_stop = 325\n",
    "        self.sc_true = 150\n",
    "        self.sc_false = 5\n",
    "        self.hidden_size = 32\n",
    "args = FLAGS()"
   ]
  },
  {
   "cell_type": "code",
   "execution_count": 25,
   "metadata": {},
   "outputs": [],
   "source": [
    "params = {\n",
    "    \"neuron\": {\n",
    "        \"type\": \"SRMALPHA\",\n",
    "        \"theta\": args.theta, # activation threshold\n",
    "        \"tauSr\": 10.0,\n",
    "        \"tauRef\": 1.0,\n",
    "        \"scaleRef\": 2,\n",
    "        \"tauRho\": 1,\n",
    "        \"scaleRho\": 1,\n",
    "    },\n",
    "    \"simulation\": {\"Ts\": 1.0, \"tSample\": args.tsample, \"nSample\": 1},\n",
    "    \"training\": {\n",
    "        \"error\": {\n",
    "            \"type\": \"NumSpikes\",  # \"NumSpikes\" or \"ProbSpikes\"\n",
    "            \"tgtSpikeRegion\": {  # valid for NumSpikes and ProbSpikes\n",
    "                \"start\": 0,\n",
    "                \"stop\": 325,\n",
    "            },\n",
    "            \"tgtSpikeCount\": {True: args.sc_true, False: args.sc_false},\n",
    "        }\n",
    "    },\n",
    "}"
   ]
  },
  {
   "cell_type": "code",
   "execution_count": 26,
   "metadata": {},
   "outputs": [],
   "source": [
    "output_size = args.output_size # 20\n",
    "\n",
    "train_dataset = ViTacMMDataset(\n",
    "    path=args.data_dir, sample_file=f\"train_80_20_{args.sample_file}.txt\", output_size=args.output_size\n",
    ")\n",
    "train_loader = DataLoader(\n",
    "    dataset=train_dataset, batch_size=args.batch_size, shuffle=False, num_workers=4\n",
    ")\n",
    "test_dataset = ViTacMMDataset(\n",
    "    path=args.data_dir, sample_file=f\"test_80_20_{args.sample_file}.txt\", output_size=args.output_size\n",
    ")\n",
    "test_loader = DataLoader(\n",
    "    dataset=test_dataset, batch_size=args.batch_size, shuffle=False, num_workers=4\n",
    ")"
   ]
  },
  {
   "cell_type": "code",
   "execution_count": 27,
   "metadata": {},
   "outputs": [
    {
     "data": {
      "text/plain": [
       "240"
      ]
     },
     "execution_count": 27,
     "metadata": {},
     "output_type": "execute_result"
    }
   ],
   "source": [
    "len(train_dataset)"
   ]
  },
  {
   "cell_type": "code",
   "execution_count": 28,
   "metadata": {},
   "outputs": [
    {
     "data": {
      "text/plain": [
       "(torch.Size([156, 1, 1, 325]), torch.Size([2, 63, 50, 325]))"
      ]
     },
     "execution_count": 28,
     "metadata": {},
     "output_type": "execute_result"
    }
   ],
   "source": [
    "a,b,c, d = test_dataset[0]\n",
    "a.shape, b.shape"
   ]
  },
  {
   "cell_type": "code",
   "execution_count": 29,
   "metadata": {},
   "outputs": [
    {
     "data": {
      "text/plain": [
       "(tensor([0., 1.]), tensor([0., 1.]))"
      ]
     },
     "execution_count": 29,
     "metadata": {},
     "output_type": "execute_result"
    }
   ],
   "source": [
    "torch.unique(a), torch.unique(b)"
   ]
  },
  {
   "cell_type": "code",
   "execution_count": 30,
   "metadata": {},
   "outputs": [],
   "source": [
    "class EncoderVis(torch.nn.Module):\n",
    "    def __init__(self, netParams, output_size):\n",
    "        super(EncoderVis, self).__init__()\n",
    "        self.slayer = snn.layer(netParams['neuron'], netParams['simulation'])\n",
    "        self.fc1   = self.slayer.dense((50, 63, 2), output_size)\n",
    "    def forward(self, downsampled):\n",
    "        #spikeLayer1 = self.slayer.spike(self.slayer.psp(downsampled)) # 32, 32, 16\n",
    "        spikeLayer5 = self.slayer.spike(self.fc1(self.slayer.psp(downsampled))) #  10\n",
    "        #self.spike_trains = [spikeLayer1]\n",
    "        return spikeLayer5"
   ]
  },
  {
   "cell_type": "code",
   "execution_count": 31,
   "metadata": {},
   "outputs": [],
   "source": [
    "class SlayerMM(torch.nn.Module):\n",
    "    def __init__(self, netParams, output_size):\n",
    "        super(SlayerMM, self).__init__()\n",
    "        slayer = snn.layer(netParams['neuron'], netParams['simulation'])\n",
    "        self.tactile = EncoderTact(netParams, 50)\n",
    "        self.vision = EncoderVis(netParams, 10)\n",
    "        self.slayer = slayer\n",
    "        self.fc1   = slayer.dense(60, output_size)\n",
    "\n",
    "    def forward(self, spikeInputTact, spikeInputVis):\n",
    "        spikeLayer1 = self.tactile(spikeInputTact)\n",
    "        spikeLayer2 = self.vision(spikeInputVis)\n",
    "        spikeAll = torch.cat([spikeLayer1, spikeLayer2], dim=1)\n",
    "        #self.spike_trains = [spikeAll] + self.tactile.spike_trains + self.vision.spike_trains\n",
    "\n",
    "        out = self.slayer.spike(self.slayer.psp(self.fc1(spikeAll)))\n",
    "        return out"
   ]
  },
  {
   "cell_type": "code",
   "execution_count": 32,
   "metadata": {},
   "outputs": [],
   "source": [
    "device = torch.device(\"cuda:1\")\n",
    "net = SlayerMM(params, args.output_size).to(device)\n",
    "\n",
    "error = snn.loss(params).to(device)\n",
    "optimizer = torch.optim.RMSprop(\n",
    "    net.parameters(), lr=args.lr, weight_decay=0.5\n",
    ")"
   ]
  },
  {
   "cell_type": "code",
   "execution_count": 33,
   "metadata": {},
   "outputs": [
    {
     "data": {
      "text/plain": [
       "SlayerMM(\n",
       "  (tactile): EncoderTact(\n",
       "    (slayer): spikeLayer()\n",
       "    (fc1): _denseLayer(156, 50, kernel_size=(1, 1, 1), stride=(1, 1, 1), bias=False)\n",
       "  )\n",
       "  (vision): EncoderVis(\n",
       "    (slayer): spikeLayer()\n",
       "    (fc1): _denseLayer(2, 10, kernel_size=(63, 50, 1), stride=(1, 1, 1), bias=False)\n",
       "  )\n",
       "  (slayer): spikeLayer()\n",
       "  (fc1): _denseLayer(60, 20, kernel_size=(1, 1, 1), stride=(1, 1, 1), bias=False)\n",
       ")"
      ]
     },
     "execution_count": 33,
     "metadata": {},
     "output_type": "execute_result"
    }
   ],
   "source": [
    "net"
   ]
  },
  {
   "cell_type": "code",
   "execution_count": 34,
   "metadata": {},
   "outputs": [
    {
     "name": "stdout",
     "output_type": "stream",
     "text": [
      "Epoch: 10\n",
      "Accs (train, test): 0.5125 0.3\n",
      "Loss (train, test): 23.77527707417806 27.711181131998696\n",
      "Epoch: 20\n",
      "Accs (train, test): 0.7791666666666667 0.4666666666666667\n",
      "Loss (train, test): 15.592039362589519 22.74202651977539\n",
      "Epoch: 30\n",
      "Accs (train, test): 0.9208333333333333 0.55\n",
      "Loss (train, test): 9.72762877146403 19.623386255900066\n",
      "Epoch: 40\n",
      "Accs (train, test): 0.9875 0.7\n",
      "Loss (train, test): 6.087551514307658 17.551616923014322\n",
      "Epoch: 50\n",
      "Accs (train, test): 0.9833333333333333 0.65\n",
      "Loss (train, test): 4.4482630332310995 17.8219243367513\n",
      "Epoch: 60\n",
      "Accs (train, test): 1.0 0.6833333333333333\n",
      "Loss (train, test): 2.7435898502667744 16.354641723632813\n",
      "Epoch: 70\n",
      "Accs (train, test): 1.0 0.6666666666666666\n",
      "Loss (train, test): 2.020910221338272 16.01023152669271\n",
      "Epoch: 80\n",
      "Accs (train, test): 1.0 0.6666666666666666\n",
      "Loss (train, test): 2.042141044139862 15.12200050354004\n",
      "Epoch: 90\n",
      "Accs (train, test): 1.0 0.65\n",
      "Loss (train, test): 0.9867820103963216 16.334180768330892\n",
      "Epoch: 100\n",
      "Accs (train, test): 1.0 0.6666666666666666\n",
      "Loss (train, test): 0.8699294666449229 15.114666620890299\n",
      "Epoch: 110\n",
      "Accs (train, test): 1.0 0.6833333333333333\n",
      "Loss (train, test): 0.49533973534901937 15.04994888305664\n",
      "Epoch: 120\n",
      "Accs (train, test): 1.0 0.6833333333333333\n",
      "Loss (train, test): 0.483416648209095 14.954179509480793\n",
      "Epoch: 130\n",
      "Accs (train, test): 1.0 0.6666666666666666\n",
      "Loss (train, test): 0.3409038429458936 14.14856383005778\n",
      "Epoch: 140\n",
      "Accs (train, test): 0.9916666666666667 0.6666666666666666\n",
      "Loss (train, test): 1.0000512783726057 16.5017951965332\n",
      "Epoch: 150\n",
      "Accs (train, test): 1.0 0.7166666666666667\n",
      "Loss (train, test): 0.2418589765826861 14.169718043009441\n",
      "Epoch: 160\n",
      "Accs (train, test): 1.0 0.7166666666666667\n",
      "Loss (train, test): 0.2835833380619685 14.013179779052734\n",
      "Epoch: 170\n",
      "Accs (train, test): 1.0 0.7166666666666667\n",
      "Loss (train, test): 0.4528205156326294 14.20046189626058\n",
      "Epoch: 180\n",
      "Accs (train, test): 1.0 0.7833333333333333\n",
      "Loss (train, test): 0.15588462551434834 13.792000071207683\n",
      "Epoch: 190\n",
      "Accs (train, test): 1.0 0.75\n",
      "Loss (train, test): 0.13794872586925824 14.417229970296225\n",
      "Epoch: 200\n",
      "Accs (train, test): 1.0 0.7666666666666667\n",
      "Loss (train, test): 0.1799935944378376 13.856127866109212\n",
      "Epoch: 210\n",
      "Accs (train, test): 0.9875 0.7166666666666667\n",
      "Loss (train, test): 1.1161281565825145 12.94030729929606\n",
      "Epoch: 220\n",
      "Accs (train, test): 1.0 0.7666666666666667\n",
      "Loss (train, test): 0.10282693020999431 13.220846048990886\n",
      "Epoch: 230\n",
      "Accs (train, test): 1.0 0.7666666666666667\n",
      "Loss (train, test): 0.1426859022428592 13.60664087931315\n",
      "Epoch: 240\n",
      "Accs (train, test): 1.0 0.75\n",
      "Loss (train, test): 0.0830320564409097 13.249922879536946\n",
      "Epoch: 250\n",
      "Accs (train, test): 1.0 0.7666666666666667\n",
      "Loss (train, test): 0.18807692527770997 12.836512565612793\n",
      "Epoch: 260\n",
      "Accs (train, test): 1.0 0.7166666666666667\n",
      "Loss (train, test): 0.19351283001403013 16.054896863301597\n",
      "Epoch: 270\n",
      "Accs (train, test): 1.0 0.8\n",
      "Loss (train, test): 0.08463461982707182 13.006513277689615\n",
      "Epoch: 280\n",
      "Accs (train, test): 1.0 0.7833333333333333\n",
      "Loss (train, test): 0.07152564525604248 12.456486956278484\n",
      "Epoch: 290\n",
      "Accs (train, test): 1.0 0.7833333333333333\n",
      "Loss (train, test): 0.09251282177865505 13.219641304016113\n",
      "Epoch: 300\n",
      "Accs (train, test): 1.0 0.7333333333333333\n",
      "Loss (train, test): 0.24219231978058814 13.102204386393229\n",
      "Epoch: 310\n",
      "Accs (train, test): 1.0 0.7666666666666667\n",
      "Loss (train, test): 0.13121794909238815 12.995691998799641\n",
      "Epoch: 320\n",
      "Accs (train, test): 0.9958333333333333 0.7333333333333333\n",
      "Loss (train, test): 0.6929294869303704 14.343589146931967\n",
      "Epoch: 330\n",
      "Accs (train, test): 1.0 0.8\n",
      "Loss (train, test): 0.08521154038608074 13.08943583170573\n",
      "Epoch: 340\n",
      "Accs (train, test): 1.0 0.7166666666666667\n",
      "Loss (train, test): 0.3885448733965556 13.289717864990234\n",
      "Epoch: 350\n",
      "Accs (train, test): 1.0 0.8\n",
      "Loss (train, test): 0.0742884653309981 12.81146183013916\n",
      "Epoch: 360\n",
      "Accs (train, test): 1.0 0.7\n",
      "Loss (train, test): 0.1746794857084751 17.8684871673584\n",
      "Epoch: 370\n",
      "Accs (train, test): 1.0 0.7833333333333333\n",
      "Loss (train, test): 0.088121797144413 12.66533374786377\n",
      "Epoch: 380\n",
      "Accs (train, test): 1.0 0.7666666666666667\n",
      "Loss (train, test): 0.04453205329676469 13.098101997375489\n",
      "Epoch: 390\n",
      "Accs (train, test): 1.0 0.75\n",
      "Loss (train, test): 0.040410258000095685 12.595845731099446\n",
      "Epoch: 400\n",
      "Accs (train, test): 1.0 0.8\n",
      "Loss (train, test): 0.04782051468888918 12.65069154103597\n",
      "Epoch: 410\n",
      "Accs (train, test): 0.9958333333333333 0.7333333333333333\n",
      "Loss (train, test): 1.2120192353924115 13.4084103902181\n",
      "Epoch: 420\n",
      "Accs (train, test): 1.0 0.7666666666666667\n",
      "Loss (train, test): 0.13728846336404482 13.425487009684245\n",
      "Epoch: 430\n",
      "Accs (train, test): 1.0 0.7333333333333333\n",
      "Loss (train, test): 0.06620512939989567 12.919205156962077\n",
      "Epoch: 440\n",
      "Accs (train, test): 1.0 0.8\n",
      "Loss (train, test): 0.06774359184006849 12.412589899698894\n",
      "Epoch: 450\n",
      "Accs (train, test): 1.0 0.75\n",
      "Loss (train, test): 0.06679487265646458 12.613436317443847\n",
      "Epoch: 460\n",
      "Accs (train, test): 1.0 0.7833333333333333\n",
      "Loss (train, test): 0.0712692320967714 12.70687166849772\n",
      "Epoch: 470\n",
      "Accs (train, test): 1.0 0.7833333333333333\n",
      "Loss (train, test): 0.0472371822843949 12.604794756571453\n",
      "Epoch: 480\n",
      "Accs (train, test): 1.0 0.8\n",
      "Loss (train, test): 0.4549230750650167 12.350307528177897\n",
      "Epoch: 490\n",
      "Accs (train, test): 1.0 0.7666666666666667\n",
      "Loss (train, test): 0.043185898847877977 12.61753838857015\n",
      "Epoch: 500\n",
      "Accs (train, test): 1.0 0.8\n",
      "Loss (train, test): 0.04308333483835061 12.389461771647136\n"
     ]
    }
   ],
   "source": [
    "train_loss = []\n",
    "test_loss = []\n",
    "train_acc = []\n",
    "test_acc = []\n",
    "\n",
    "for epoch in range(1, args.epochs+1):\n",
    "    tr_correct = 0\n",
    "    btr_loss = 0\n",
    "    net.train()\n",
    "    for i, (tac, vis, target, label) in enumerate(train_loader):\n",
    "        tac = tac.to(device)\n",
    "        vis = vis.to(device)\n",
    "        target = target.to(device)\n",
    "        output = net.forward(tac, vis)\n",
    "        tr_correct += torch.sum(snn.predict.getClass(output) == label).data.item()\n",
    "        loss = error.numSpikes(output, target)\n",
    "        btr_loss += loss.item()\n",
    "        optimizer.zero_grad()\n",
    "        loss.backward()\n",
    "        optimizer.step()\n",
    "        \n",
    "    # Evaluate\n",
    "    te_correct = 0\n",
    "    bte_loss = 0\n",
    "    net.eval()\n",
    "    with torch.no_grad():\n",
    "        for i, (tac, vis, target, label) in enumerate(test_loader):\n",
    "            tac = tac.to(device)\n",
    "            vis = vis.to(device)\n",
    "            target = target.to(device)\n",
    "            output = net.forward( tac, vis)\n",
    "            te_correct += torch.sum(snn.predict.getClass(output) == label).data.item()\n",
    "            loss = error.numSpikes(output, target)\n",
    "            bte_loss += loss.item()\n",
    "\n",
    "    if epoch%10 == 0:\n",
    "        print('Epoch:', epoch)    \n",
    "        print('Accs (train, test):', tr_correct/len(train_dataset), te_correct/len(test_dataset))\n",
    "        print('Loss (train, test):', btr_loss/len(train_dataset), bte_loss/len(test_dataset))\n",
    "    \n",
    "    train_loss.append( btr_loss/len(train_dataset) )\n",
    "    test_loss.append( bte_loss/len(test_dataset) )\n",
    "    train_acc.append( tr_correct/len(train_dataset) )\n",
    "    test_acc.append( te_correct/len(test_dataset) )"
   ]
  },
  {
   "cell_type": "code",
   "execution_count": 35,
   "metadata": {},
   "outputs": [
    {
     "data": {
      "image/png": "[encoded data removed]",
      "text/plain": [
       "<Figure size 576x432 with 2 Axes>"
      ]
     },
     "metadata": {
      "needs_background": "light"
     },
     "output_type": "display_data"
    }
   ],
   "source": [
    "import matplotlib.pyplot as plt\n",
    "\n",
    "fig, ax = plt.subplots(2,figsize=(8,6))\n",
    "ax[0].plot(train_acc, 'b')\n",
    "ax[0].plot(test_acc, 'r')\n",
    "ax[0].legend(['Train', 'Test'])\n",
    "\n",
    "ax[1].plot(train_loss, 'b')\n",
    "ax[1].plot(test_loss, 'r')\n",
    "ax[1].legend(['Train', 'Test'])\n",
    "plt.tight_layout(True)\n",
    "plt.show()"
   ]
  },
  {
   "cell_type": "code",
   "execution_count": 36,
   "metadata": {},
   "outputs": [],
   "source": [
    "import pickle\n",
    "pickle.dump([train_acc, test_acc, train_loss, test_loss], open(fname + '.pk', 'wb'))"
   ]
  },
  {
   "cell_type": "code",
   "execution_count": 37,
   "metadata": {},
   "outputs": [],
   "source": [
    "torch.save(net.state_dict(), fname+'.pt')"
   ]
  },
  {
   "cell_type": "code",
   "execution_count": null,
   "metadata": {},
   "outputs": [],
   "source": []
  }
 ],
 "metadata": {
  "kernelspec": {
   "display_name": "Python 3",
   "language": "python",
   "name": "python3"
  },
  "language_info": {
   "codemirror_mode": {
    "name": "ipython",
    "version": 3
   },
   "file_extension": ".py",
   "mimetype": "text/x-python",
   "name": "python",
   "nbconvert_exporter": "python",
   "pygments_lexer": "ipython3",
   "version": "3.6.5"
  }
 },
 "nbformat": 4,
 "nbformat_minor": 2
}
