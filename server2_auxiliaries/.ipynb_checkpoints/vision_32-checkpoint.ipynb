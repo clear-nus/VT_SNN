{
 "cells": [
  {
   "cell_type": "code",
   "execution_count": 17,
   "metadata": {},
   "outputs": [],
   "source": [
    "import sys, os\n",
    "CURRENT_TEST_DIR = os.getcwd()\n",
    "sys.path.append(CURRENT_TEST_DIR + \"/../../VT_SNN/\")"
   ]
  },
  {
   "cell_type": "code",
   "execution_count": 18,
   "metadata": {},
   "outputs": [],
   "source": [
    "import torch\n",
    "import numpy as np\n",
    "import slayerSNN as snn\n",
    "from pathlib import Path\n",
    "import logging\n",
    "from snn_models.baseline_snn import SlayerMLP\n",
    "from snn_models.multimodal_snn import EncoderVis\n",
    "from torch.utils.data import DataLoader\n",
    "from dataset import ViTacDataset, ViTacMMDataset, ViTacVisDataset"
   ]
  },
  {
   "cell_type": "code",
   "execution_count": 19,
   "metadata": {},
   "outputs": [],
   "source": [
    "fname='../../aux_rests/vision_32_old_loss_with_outlier'"
   ]
  },
  {
   "cell_type": "code",
   "execution_count": 20,
   "metadata": {},
   "outputs": [],
   "source": [
    "class FLAGS():\n",
    "    def __init__(self):\n",
    "        self.data_dir = '/home/tasbolat/some_python_examples/data_VT_SNN_new/'\n",
    "        self.batch_size = 8\n",
    "        self.sample_file = 2\n",
    "        self.lr = 0.001\n",
    "        self.epochs = 500\n",
    "        self.output_size = 20\n",
    "        self.theta = 10\n",
    "        self.tauRho = 1\n",
    "        self.tsample= 325\n",
    "        self.tsr_stop = 325\n",
    "        self.sc_true = 150\n",
    "        self.sc_false = 5\n",
    "        self.hidden_size = 32\n",
    "args = FLAGS()"
   ]
  },
  {
   "cell_type": "code",
   "execution_count": 21,
   "metadata": {},
   "outputs": [],
   "source": [
    "params = {\n",
    "    \"neuron\": {\n",
    "        \"type\": \"SRMALPHA\",\n",
    "        \"theta\": args.theta, # activation threshold\n",
    "        \"tauSr\": 10.0,\n",
    "        \"tauRef\": 1.0,\n",
    "        \"scaleRef\": 2,\n",
    "        \"tauRho\": 1,\n",
    "        \"scaleRho\": 1,\n",
    "    },\n",
    "    \"simulation\": {\"Ts\": 1.0, \"tSample\": args.tsample, \"nSample\": 1},\n",
    "    \"training\": {\n",
    "        \"error\": {\n",
    "            \"type\": \"NumSpikes\",  # \"NumSpikes\" or \"ProbSpikes\"\n",
    "            \"tgtSpikeRegion\": {  # valid for NumSpikes and ProbSpikes\n",
    "                \"start\": 0,\n",
    "                \"stop\": 325,\n",
    "            },\n",
    "            \"tgtSpikeCount\": {True: args.sc_true, False: args.sc_false},\n",
    "        }\n",
    "    },\n",
    "}"
   ]
  },
  {
   "cell_type": "code",
   "execution_count": 22,
   "metadata": {},
   "outputs": [],
   "source": [
    "output_size = args.output_size # 20\n",
    "\n",
    "train_dataset = ViTacVisDataset(\n",
    "    path=args.data_dir, sample_file=f\"train_80_20_{args.sample_file}.txt\", output_size=args.output_size\n",
    ")\n",
    "train_loader = DataLoader(\n",
    "    dataset=train_dataset, batch_size=args.batch_size, shuffle=True, num_workers=4\n",
    ")\n",
    "test_dataset = ViTacVisDataset(\n",
    "    path=args.data_dir, sample_file=f\"test_80_20_{args.sample_file}.txt\", output_size=args.output_size\n",
    ")\n",
    "test_loader = DataLoader(\n",
    "    dataset=test_dataset, batch_size=args.batch_size, shuffle=False, num_workers=4\n",
    ")"
   ]
  },
  {
   "cell_type": "code",
   "execution_count": 23,
   "metadata": {},
   "outputs": [
    {
     "data": {
      "text/plain": [
       "240"
      ]
     },
     "execution_count": 23,
     "metadata": {},
     "output_type": "execute_result"
    }
   ],
   "source": [
    "len(train_dataset)"
   ]
  },
  {
   "cell_type": "code",
   "execution_count": 24,
   "metadata": {},
   "outputs": [],
   "source": [
    "a,b,c = test_dataset[0]"
   ]
  },
  {
   "cell_type": "code",
   "execution_count": 25,
   "metadata": {},
   "outputs": [
    {
     "data": {
      "text/plain": [
       "(torch.Size([2, 63, 50, 325]), torch.Size([20, 1, 1, 1]), 0)"
      ]
     },
     "execution_count": 25,
     "metadata": {},
     "output_type": "execute_result"
    }
   ],
   "source": [
    "a.shape, b.shape, c"
   ]
  },
  {
   "cell_type": "code",
   "execution_count": 26,
   "metadata": {},
   "outputs": [
    {
     "data": {
      "text/plain": [
       "tensor([0., 1.])"
      ]
     },
     "execution_count": 26,
     "metadata": {},
     "output_type": "execute_result"
    }
   ],
   "source": [
    "torch.unique(a)"
   ]
  },
  {
   "cell_type": "code",
   "execution_count": 27,
   "metadata": {},
   "outputs": [],
   "source": [
    "device = torch.device(\"cuda:0\")\n",
    "net = SlayerMLP(params, (50, 63, 2), args.hidden_size, args.output_size).to(device)\n",
    "\n",
    "error = snn.loss(params).to(device)\n",
    "optimizer = torch.optim.RMSprop(\n",
    "    net.parameters(), lr=args.lr, weight_decay=0.5\n",
    ")"
   ]
  },
  {
   "cell_type": "code",
   "execution_count": 28,
   "metadata": {},
   "outputs": [
    {
     "data": {
      "text/plain": [
       "SlayerMLP(\n",
       "  (slayer): spikeLayer()\n",
       "  (fc1): _denseLayer(2, 32, kernel_size=(63, 50, 1), stride=(1, 1, 1), bias=False)\n",
       "  (fc2): _denseLayer(32, 20, kernel_size=(1, 1, 1), stride=(1, 1, 1), bias=False)\n",
       ")"
      ]
     },
     "execution_count": 28,
     "metadata": {},
     "output_type": "execute_result"
    }
   ],
   "source": [
    "net"
   ]
  },
  {
   "cell_type": "code",
   "execution_count": 29,
   "metadata": {},
   "outputs": [
    {
     "name": "stdout",
     "output_type": "stream",
     "text": [
      "Epoch: 10\n",
      "Accs (train, test): 0.5458333333333333 0.45\n",
      "Loss (train, test): 21.346886316935223 24.62359224955241\n",
      "Epoch: 20\n",
      "Accs (train, test): 0.8375 0.5\n",
      "Loss (train, test): 12.473327795664469 20.796539942423504\n",
      "Epoch: 30\n",
      "Accs (train, test): 0.9416666666666667 0.6166666666666667\n",
      "Loss (train, test): 8.090737851460775 20.57666842142741\n",
      "Epoch: 40\n",
      "Accs (train, test): 0.9958333333333333 0.6833333333333333\n",
      "Loss (train, test): 4.09125018119812 19.348000971476235\n",
      "Epoch: 50\n",
      "Accs (train, test): 0.9875 0.6166666666666667\n",
      "Loss (train, test): 3.5271411915620168 19.5925651550293\n",
      "Epoch: 60\n",
      "Accs (train, test): 0.9916666666666667 0.5666666666666667\n",
      "Loss (train, test): 2.173358968893687 18.534129587809243\n",
      "Epoch: 70\n",
      "Accs (train, test): 1.0 0.6833333333333333\n",
      "Loss (train, test): 1.3222179661194484 18.36630833943685\n",
      "Epoch: 80\n",
      "Accs (train, test): 0.9958333333333333 0.7\n",
      "Loss (train, test): 0.8357691784699758 18.692000834147134\n",
      "Epoch: 90\n",
      "Accs (train, test): 1.0 0.7833333333333333\n",
      "Loss (train, test): 0.5339679519335429 16.76635913848877\n",
      "Epoch: 100\n",
      "Accs (train, test): 0.9916666666666667 0.7\n",
      "Loss (train, test): 1.0839872181415557 18.162539037068687\n",
      "Epoch: 110\n",
      "Accs (train, test): 1.0 0.7166666666666667\n",
      "Loss (train, test): 0.5070577010512352 17.05866641998291\n",
      "Epoch: 120\n",
      "Accs (train, test): 1.0 0.6833333333333333\n",
      "Loss (train, test): 0.20926282579700153 16.911282094319663\n",
      "Epoch: 130\n",
      "Accs (train, test): 1.0 0.7166666666666667\n",
      "Loss (train, test): 0.1636282153427601 17.130538177490234\n",
      "Epoch: 140\n",
      "Accs (train, test): 1.0 0.6833333333333333\n",
      "Loss (train, test): 0.3146923070152601 17.907897186279296\n",
      "Epoch: 150\n",
      "Accs (train, test): 1.0 0.7166666666666667\n",
      "Loss (train, test): 0.15153206139802933 16.92348747253418\n",
      "Epoch: 160\n",
      "Accs (train, test): 1.0 0.6666666666666666\n",
      "Loss (train, test): 0.12637179866433143 17.82330741882324\n",
      "Epoch: 170\n",
      "Accs (train, test): 1.0 0.7\n",
      "Loss (train, test): 0.09182692877948284 16.54864107767741\n",
      "Epoch: 180\n",
      "Accs (train, test): 1.0 0.7\n",
      "Loss (train, test): 0.08570513216157755 16.63669204711914\n",
      "Epoch: 190\n",
      "Accs (train, test): 1.0 0.6833333333333333\n",
      "Loss (train, test): 0.10850641752282779 16.465025266011555\n",
      "Epoch: 200\n",
      "Accs (train, test): 1.0 0.6833333333333333\n",
      "Loss (train, test): 0.10686539113521576 16.46271800994873\n",
      "Epoch: 210\n",
      "Accs (train, test): 1.0 0.6666666666666666\n",
      "Loss (train, test): 0.08567949247856935 16.496794128417967\n",
      "Epoch: 220\n",
      "Accs (train, test): 1.0 0.6666666666666666\n",
      "Loss (train, test): 0.079820516705513 16.709819793701172\n",
      "Epoch: 230\n",
      "Accs (train, test): 1.0 0.7166666666666667\n",
      "Loss (train, test): 0.06903205576042334 17.20153783162435\n",
      "Epoch: 240\n",
      "Accs (train, test): 1.0 0.7\n",
      "Loss (train, test): 0.0624102596193552 17.1123072942098\n",
      "Epoch: 250\n",
      "Accs (train, test): 1.0 0.7166666666666667\n",
      "Loss (train, test): 0.05062820675472419 16.84843546549479\n",
      "Epoch: 260\n",
      "Accs (train, test): 1.0 0.6833333333333333\n",
      "Loss (train, test): 0.11615385115146637 16.71574249267578\n",
      "Epoch: 270\n",
      "Accs (train, test): 1.0 0.6833333333333333\n",
      "Loss (train, test): 0.11741026019056638 16.443255996704103\n",
      "Epoch: 280\n",
      "Accs (train, test): 1.0 0.7\n",
      "Loss (train, test): 0.048737181598941484 16.582025655110677\n",
      "Epoch: 290\n",
      "Accs (train, test): 1.0 0.65\n",
      "Loss (train, test): 0.05875000314166148 17.087511825561524\n",
      "Epoch: 300\n",
      "Accs (train, test): 0.9958333333333333 0.6666666666666666\n",
      "Loss (train, test): 0.7830320717145999 17.765231450398762\n",
      "Epoch: 310\n",
      "Accs (train, test): 1.0 0.7\n",
      "Loss (train, test): 0.05624359274903933 16.474512100219727\n",
      "Epoch: 320\n",
      "Accs (train, test): 1.0 0.7166666666666667\n",
      "Loss (train, test): 0.08510256794591745 16.523487091064453\n",
      "Epoch: 330\n",
      "Accs (train, test): 1.0 0.7333333333333333\n",
      "Loss (train, test): 0.055647438516219457 15.932435862223308\n",
      "Epoch: 340\n",
      "Accs (train, test): 1.0 0.7\n",
      "Loss (train, test): 0.15626923342545826 16.149461555480958\n",
      "Epoch: 350\n",
      "Accs (train, test): 1.0 0.6833333333333333\n",
      "Loss (train, test): 0.5768846333026886 17.37535940806071\n",
      "Epoch: 360\n",
      "Accs (train, test): 1.0 0.7\n",
      "Loss (train, test): 0.06272436156868935 16.804050890604653\n",
      "Epoch: 370\n",
      "Accs (train, test): 1.0 0.7\n",
      "Loss (train, test): 0.06960256596406302 16.707615089416503\n",
      "Epoch: 380\n",
      "Accs (train, test): 0.9958333333333333 0.7166666666666667\n",
      "Loss (train, test): 0.4207051002730926 16.319230588277183\n",
      "Epoch: 390\n",
      "Accs (train, test): 1.0 0.7\n",
      "Loss (train, test): 0.04632051500181357 16.955461057027183\n",
      "Epoch: 400\n",
      "Accs (train, test): 1.0 0.6833333333333333\n",
      "Loss (train, test): 0.04373077017565568 16.52253843943278\n",
      "Epoch: 410\n",
      "Accs (train, test): 1.0 0.7166666666666667\n",
      "Loss (train, test): 0.05525000250587861 16.551153818766277\n",
      "Epoch: 420\n",
      "Accs (train, test): 1.0 0.7\n",
      "Loss (train, test): 1.078987199688951 17.177795028686525\n",
      "Epoch: 430\n",
      "Accs (train, test): 1.0 0.7166666666666667\n",
      "Loss (train, test): 0.041891027614474295 16.204127311706543\n",
      "Epoch: 440\n",
      "Accs (train, test): 1.0 0.6833333333333333\n",
      "Loss (train, test): 0.07710256737967332 16.36789716084798\n",
      "Epoch: 450\n",
      "Accs (train, test): 1.0 0.7166666666666667\n",
      "Loss (train, test): 0.327814099440972 16.440128517150878\n",
      "Epoch: 460\n",
      "Accs (train, test): 1.0 0.7\n",
      "Loss (train, test): 0.05050000231713057 16.4704870223999\n",
      "Epoch: 470\n",
      "Accs (train, test): 1.0 0.7\n",
      "Loss (train, test): 0.03378205293168624 16.528768475850423\n",
      "Epoch: 480\n",
      "Accs (train, test): 1.0 0.7\n",
      "Loss (train, test): 0.03385256603360176 16.67738482157389\n",
      "Epoch: 490\n",
      "Accs (train, test): 1.0 0.7\n",
      "Loss (train, test): 0.03781410499165456 16.27400042215983\n",
      "Epoch: 500\n",
      "Accs (train, test): 1.0 0.7166666666666667\n",
      "Loss (train, test): 0.031000001604358354 16.361486943562827\n"
     ]
    }
   ],
   "source": [
    "train_loss = []\n",
    "test_loss = []\n",
    "train_acc = []\n",
    "test_acc = []\n",
    "\n",
    "for epoch in range(1, args.epochs+1):\n",
    "    tr_correct = 0\n",
    "    btr_loss = 0\n",
    "    net.train()\n",
    "    for i, (vis, target, label) in enumerate(train_loader):\n",
    "        vis = vis.to(device)\n",
    "        target = target.to(device)\n",
    "        output = net.forward( vis)\n",
    "        tr_correct += torch.sum(snn.predict.getClass(output) == label).data.item()\n",
    "        loss = error.numSpikes(output, target)\n",
    "        btr_loss += loss.item()\n",
    "        optimizer.zero_grad()\n",
    "        loss.backward()\n",
    "        optimizer.step()\n",
    "        \n",
    "    # Evaluate\n",
    "    te_correct = 0\n",
    "    bte_loss = 0\n",
    "    net.eval()\n",
    "    with torch.no_grad():\n",
    "        for i, (vis, target, label) in enumerate(test_loader):\n",
    "            vis = vis.to(device)\n",
    "            target = target.to(device)\n",
    "            output = net.forward( vis)\n",
    "            te_correct += torch.sum(snn.predict.getClass(output) == label).data.item()\n",
    "            loss = error.numSpikes(output, target)\n",
    "            bte_loss += loss.item()\n",
    "\n",
    "    if epoch%10 == 0:\n",
    "        print('Epoch:', epoch)    \n",
    "        print('Accs (train, test):', tr_correct/len(train_dataset), te_correct/len(test_dataset))\n",
    "        print('Loss (train, test):', btr_loss/len(train_dataset), bte_loss/len(test_dataset))\n",
    "    \n",
    "    train_loss.append( btr_loss/len(train_dataset) )\n",
    "    test_loss.append( bte_loss/len(test_dataset) )\n",
    "    train_acc.append( tr_correct/len(train_dataset) )\n",
    "    test_acc.append( te_correct/len(test_dataset) )"
   ]
  },
  {
   "cell_type": "code",
   "execution_count": 30,
   "metadata": {},
   "outputs": [
    {
     "data": {
      "image/png": "[encoded data removed]",
      "text/plain": [
       "<Figure size 576x432 with 2 Axes>"
      ]
     },
     "metadata": {
      "needs_background": "light"
     },
     "output_type": "display_data"
    }
   ],
   "source": [
    "import matplotlib.pyplot as plt\n",
    "\n",
    "fig, ax = plt.subplots(2,figsize=(8,6))\n",
    "ax[0].plot(train_acc, 'b')\n",
    "ax[0].plot(test_acc, 'r')\n",
    "ax[0].legend(['Train', 'Test'])\n",
    "\n",
    "ax[1].plot(train_loss, 'b')\n",
    "ax[1].plot(test_loss, 'r')\n",
    "ax[1].legend(['Train', 'Test'])\n",
    "plt.tight_layout(True)\n",
    "plt.show()"
   ]
  },
  {
   "cell_type": "code",
   "execution_count": 31,
   "metadata": {},
   "outputs": [],
   "source": [
    "import pickle\n",
    "pickle.dump([train_acc, test_acc, train_loss, test_loss], open(fname + '.pk', 'wb'))"
   ]
  },
  {
   "cell_type": "code",
   "execution_count": 32,
   "metadata": {},
   "outputs": [],
   "source": [
    "torch.save(net.state_dict(), fname+'.pt')"
   ]
  },
  {
   "cell_type": "code",
   "execution_count": null,
   "metadata": {},
   "outputs": [],
   "source": []
  }
 ],
 "metadata": {
  "kernelspec": {
   "display_name": "Python 3",
   "language": "python",
   "name": "python3"
  },
  "language_info": {
   "codemirror_mode": {
    "name": "ipython",
    "version": 3
   },
   "file_extension": ".py",
   "mimetype": "text/x-python",
   "name": "python",
   "nbconvert_exporter": "python",
   "pygments_lexer": "ipython3",
   "version": "3.6.5"
  }
 },
 "nbformat": 4,
 "nbformat_minor": 2
}
