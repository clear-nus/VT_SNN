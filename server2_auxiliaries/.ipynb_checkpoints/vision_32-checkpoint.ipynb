{
 "cells": [
  {
   "cell_type": "code",
   "execution_count": 1,
   "metadata": {},
   "outputs": [],
   "source": [
    "import sys, os\n",
    "CURRENT_TEST_DIR = os.getcwd()\n",
    "sys.path.append(CURRENT_TEST_DIR + \"/../../VT_SNN/\")"
   ]
  },
  {
   "cell_type": "code",
   "execution_count": 2,
   "metadata": {},
   "outputs": [],
   "source": [
    "import torch\n",
    "import numpy as np\n",
    "import slayerSNN as snn\n",
    "from pathlib import Path\n",
    "import logging\n",
    "from snn_models.baseline_snn import SlayerMLP\n",
    "from snn_models.multimodal_snn import EncoderVis\n",
    "from torch.utils.data import DataLoader\n",
    "from dataset import ViTacDataset, ViTacMMDataset, ViTacVisDataset"
   ]
  },
  {
   "cell_type": "code",
   "execution_count": 3,
   "metadata": {},
   "outputs": [],
   "source": [
    "fname='../aux_rests/vision_32_old_loss'"
   ]
  },
  {
   "cell_type": "code",
   "execution_count": 4,
   "metadata": {},
   "outputs": [],
   "source": [
    "class FLAGS():\n",
    "    def __init__(self):\n",
    "        self.data_dir = '/home/tasbolat/some_python_examples/data_VT_SNN_new/'\n",
    "        self.batch_size = 8\n",
    "        self.sample_file = 2\n",
    "        self.lr = 0.001\n",
    "        self.epochs = 500\n",
    "        self.output_size = 20\n",
    "        self.theta = 10\n",
    "        self.tauRho = 1\n",
    "        self.tsample= 325\n",
    "        self.tsr_stop = 325\n",
    "        self.sc_true = 150\n",
    "        self.sc_false = 5\n",
    "        self.hidden_size = 32\n",
    "args = FLAGS()"
   ]
  },
  {
   "cell_type": "code",
   "execution_count": 5,
   "metadata": {},
   "outputs": [],
   "source": [
    "params = {\n",
    "    \"neuron\": {\n",
    "        \"type\": \"SRMALPHA\",\n",
    "        \"theta\": args.theta, # activation threshold\n",
    "        \"tauSr\": 10.0,\n",
    "        \"tauRef\": 1.0,\n",
    "        \"scaleRef\": 2,\n",
    "        \"tauRho\": 1,\n",
    "        \"scaleRho\": 1,\n",
    "    },\n",
    "    \"simulation\": {\"Ts\": 1.0, \"tSample\": args.tsample, \"nSample\": 1},\n",
    "    \"training\": {\n",
    "        \"error\": {\n",
    "            \"type\": \"NumSpikes\",  # \"NumSpikes\" or \"ProbSpikes\"\n",
    "            \"tgtSpikeRegion\": {  # valid for NumSpikes and ProbSpikes\n",
    "                \"start\": 0,\n",
    "                \"stop\": 325,\n",
    "            },\n",
    "            \"tgtSpikeCount\": {True: args.sc_true, False: args.sc_false},\n",
    "        }\n",
    "    },\n",
    "}"
   ]
  },
  {
   "cell_type": "code",
   "execution_count": 6,
   "metadata": {},
   "outputs": [],
   "source": [
    "output_size = args.output_size # 20\n",
    "\n",
    "train_dataset = ViTacVisDataset(\n",
    "    path=args.data_dir, sample_file=f\"train_80_20_{args.sample_file}.txt\", output_size=args.output_size\n",
    ")\n",
    "train_loader = DataLoader(\n",
    "    dataset=train_dataset, batch_size=args.batch_size, shuffle=True, num_workers=4\n",
    ")\n",
    "test_dataset = ViTacVisDataset(\n",
    "    path=args.data_dir, sample_file=f\"test_80_20_{args.sample_file}.txt\", output_size=args.output_size\n",
    ")\n",
    "test_loader = DataLoader(\n",
    "    dataset=test_dataset, batch_size=args.batch_size, shuffle=False, num_workers=4\n",
    ")"
   ]
  },
  {
   "cell_type": "code",
   "execution_count": 7,
   "metadata": {},
   "outputs": [
    {
     "data": {
      "text/plain": [
       "320"
      ]
     },
     "execution_count": 7,
     "metadata": {},
     "output_type": "execute_result"
    }
   ],
   "source": [
    "len(train_dataset)"
   ]
  },
  {
   "cell_type": "code",
   "execution_count": 8,
   "metadata": {},
   "outputs": [],
   "source": [
    "a,b,c = test_dataset[0]"
   ]
  },
  {
   "cell_type": "code",
   "execution_count": 9,
   "metadata": {},
   "outputs": [
    {
     "data": {
      "text/plain": [
       "(torch.Size([2, 63, 50, 325]), torch.Size([20, 1, 1, 1]), 0)"
      ]
     },
     "execution_count": 9,
     "metadata": {},
     "output_type": "execute_result"
    }
   ],
   "source": [
    "a.shape, b.shape, c"
   ]
  },
  {
   "cell_type": "code",
   "execution_count": 10,
   "metadata": {},
   "outputs": [
    {
     "data": {
      "text/plain": [
       "tensor([0., 1.])"
      ]
     },
     "execution_count": 10,
     "metadata": {},
     "output_type": "execute_result"
    }
   ],
   "source": [
    "torch.unique(a)"
   ]
  },
  {
   "cell_type": "code",
   "execution_count": 11,
   "metadata": {},
   "outputs": [],
   "source": [
    "device = torch.device(\"cuda:0\")\n",
    "net = SlayerMLP(params, (50, 63, 2), args.hidden_size, args.output_size).to(device)\n",
    "\n",
    "error = snn.loss(params).to(device)\n",
    "optimizer = torch.optim.RMSprop(\n",
    "    net.parameters(), lr=args.lr, weight_decay=0.5\n",
    ")"
   ]
  },
  {
   "cell_type": "code",
   "execution_count": 12,
   "metadata": {},
   "outputs": [
    {
     "data": {
      "text/plain": [
       "EncoderVis(\n",
       "  (slayer): spikeLayer()\n",
       "  (fc1): _denseLayer(2, 1024, kernel_size=(63, 50, 1), stride=(1, 1, 1), bias=False)\n",
       "  (fc2): _denseLayer(1024, 20, kernel_size=(1, 1, 1), stride=(1, 1, 1), bias=False)\n",
       ")"
      ]
     },
     "execution_count": 12,
     "metadata": {},
     "output_type": "execute_result"
    }
   ],
   "source": [
    "net"
   ]
  },
  {
   "cell_type": "code",
   "execution_count": 13,
   "metadata": {},
   "outputs": [
    {
     "name": "stdout",
     "output_type": "stream",
     "text": [
      "Epoch: 10\n",
      "Accs (train, test): 0.434375 0.2625\n",
      "Loss (train, test): 25.53571379184723 30.54906005859375\n",
      "Epoch: 20\n",
      "Accs (train, test): 0.690625 0.45\n",
      "Loss (train, test): 14.908182382583618 21.475576305389403\n",
      "Epoch: 30\n",
      "Accs (train, test): 0.884375 0.575\n",
      "Loss (train, test): 8.323894077539444 19.676980113983156\n",
      "Epoch: 40\n",
      "Accs (train, test): 0.9375 0.5625\n",
      "Loss (train, test): 5.016384628415108 19.893998622894287\n",
      "Epoch: 50\n",
      "Accs (train, test): 0.990625 0.6875\n",
      "Loss (train, test): 3.018523934483528 15.983518695831298\n",
      "Epoch: 60\n",
      "Accs (train, test): 0.9875 0.6125\n",
      "Loss (train, test): 3.2015577137470244 17.516480255126954\n",
      "Epoch: 70\n",
      "Accs (train, test): 0.975 0.6375\n",
      "Loss (train, test): 2.9072739705443382 18.493595314025878\n",
      "Epoch: 80\n",
      "Accs (train, test): 0.978125 0.65\n",
      "Loss (train, test): 1.841048077493906 18.275404453277588\n",
      "Epoch: 90\n",
      "Accs (train, test): 0.978125 0.6125\n",
      "Loss (train, test): 2.148072024434805 22.276480865478515\n",
      "Epoch: 100\n",
      "Accs (train, test): 0.975 0.7125\n",
      "Loss (train, test): 2.0226731207221746 16.420403909683227\n",
      "Epoch: 110\n",
      "Accs (train, test): 0.996875 0.6875\n",
      "Loss (train, test): 1.022572173178196 14.157364749908448\n",
      "Epoch: 120\n",
      "Accs (train, test): 0.984375 0.5625\n",
      "Loss (train, test): 0.9594181994907558 28.849653720855713\n",
      "Epoch: 130\n",
      "Accs (train, test): 0.98125 0.625\n",
      "Loss (train, test): 1.1814134500920772 15.838403224945068\n",
      "Epoch: 140\n",
      "Accs (train, test): 1.0 0.7375\n",
      "Loss (train, test): 0.9756057633087039 14.674134492874146\n",
      "Epoch: 150\n",
      "Accs (train, test): 0.9625 0.6625\n",
      "Loss (train, test): 2.332158464752138 18.5920768737793\n",
      "Epoch: 160\n",
      "Accs (train, test): 1.0 0.7\n",
      "Loss (train, test): 0.8066874876618385 15.26978759765625\n",
      "Epoch: 170\n",
      "Accs (train, test): 1.0 0.7125\n",
      "Loss (train, test): 0.2956827053800225 15.324192237854003\n",
      "Epoch: 180\n",
      "Accs (train, test): 0.9875 0.7125\n",
      "Loss (train, test): 0.9912114825099707 14.839961099624634\n",
      "Epoch: 190\n",
      "Accs (train, test): 0.978125 0.7375\n",
      "Loss (train, test): 1.9807499443180858 14.512306594848633\n",
      "Epoch: 200\n",
      "Accs (train, test): 0.996875 0.6125\n",
      "Loss (train, test): 0.8283894203603268 19.280403661727906\n",
      "Epoch: 210\n",
      "Accs (train, test): 0.915625 0.7\n",
      "Loss (train, test): 4.53637964297086 15.24501829147339\n",
      "Epoch: 220\n",
      "Accs (train, test): 1.0 0.775\n",
      "Loss (train, test): 0.0673269247636199 13.018307399749755\n",
      "Epoch: 230\n",
      "Accs (train, test): 1.0 0.7625\n",
      "Loss (train, test): 0.10317788328975439 13.346634578704833\n",
      "Epoch: 240\n",
      "Accs (train, test): 1.0 0.775\n",
      "Loss (train, test): 0.08632692000828683 14.372941637039185\n",
      "Epoch: 250\n",
      "Accs (train, test): 1.0 0.7625\n",
      "Loss (train, test): 0.11142789027653635 13.628730392456054\n",
      "Epoch: 260\n",
      "Accs (train, test): 1.0 0.725\n",
      "Loss (train, test): 0.05133173251524568 13.967537450790406\n",
      "Epoch: 270\n",
      "Accs (train, test): 1.0 0.75\n",
      "Loss (train, test): 0.0396778860129416 14.100614976882934\n",
      "Epoch: 280\n",
      "Accs (train, test): 1.0 0.775\n",
      "Loss (train, test): 0.03508173264563084 13.413038063049317\n",
      "Epoch: 290\n",
      "Accs (train, test): 1.0 0.7375\n",
      "Loss (train, test): 0.12752884840592743 13.045422840118409\n",
      "Epoch: 300\n",
      "Accs (train, test): 1.0 0.75\n",
      "Loss (train, test): 0.20299999741837382 13.752076530456543\n",
      "Epoch: 310\n",
      "Accs (train, test): 0.946875 0.725\n",
      "Loss (train, test): 3.8702162774279714 15.04484577178955\n",
      "Epoch: 320\n",
      "Accs (train, test): 1.0 0.725\n",
      "Loss (train, test): 0.044625001633539794 13.74301872253418\n",
      "Epoch: 330\n",
      "Accs (train, test): 1.0 0.725\n",
      "Loss (train, test): 0.35738942623138426 13.817807674407959\n",
      "Epoch: 340\n",
      "Accs (train, test): 0.95625 0.5375\n",
      "Loss (train, test): 3.3360382328275593 21.813518810272218\n",
      "Epoch: 350\n",
      "Accs (train, test): 0.98125 0.675\n",
      "Loss (train, test): 2.0727402265183628 15.668345403671264\n",
      "Epoch: 360\n",
      "Accs (train, test): 1.0 0.7125\n",
      "Loss (train, test): 0.056605772208422424 13.418268728256226\n",
      "Epoch: 370\n",
      "Accs (train, test): 1.0 0.7875\n",
      "Loss (train, test): 0.35800480265170337 13.714172506332398\n",
      "Epoch: 380\n",
      "Accs (train, test): 1.0 0.75\n",
      "Loss (train, test): 0.034014423936605455 13.805210828781128\n",
      "Epoch: 390\n",
      "Accs (train, test): 0.996875 0.75\n",
      "Loss (train, test): 0.8598557511344552 13.367749547958374\n",
      "Epoch: 400\n",
      "Accs (train, test): 0.928125 0.45\n",
      "Loss (train, test): 3.7043891954235733 25.721249103546143\n",
      "Epoch: 410\n",
      "Accs (train, test): 0.996875 0.6875\n",
      "Loss (train, test): 0.9561826746910811 15.640691947937011\n",
      "Epoch: 420\n",
      "Accs (train, test): 1.0 0.7625\n",
      "Loss (train, test): 0.08078365121036768 14.56046085357666\n",
      "Epoch: 430\n",
      "Accs (train, test): 1.0 0.725\n",
      "Loss (train, test): 0.04093750100582838 14.807230520248414\n",
      "Epoch: 440\n",
      "Accs (train, test): 1.0 0.7375\n",
      "Loss (train, test): 0.04120192532427609 14.415211391448974\n",
      "Epoch: 450\n",
      "Accs (train, test): 0.9375 0.675\n",
      "Loss (train, test): 4.2045239612460135 14.28474931716919\n",
      "Epoch: 460\n",
      "Accs (train, test): 1.0 0.7375\n",
      "Loss (train, test): 0.04828846333548427 13.390153312683106\n",
      "Epoch: 470\n",
      "Accs (train, test): 0.909375 0.6125\n",
      "Loss (train, test): 5.401321836560965 19.08876919746399\n",
      "Epoch: 480\n",
      "Accs (train, test): 1.0 0.8\n",
      "Loss (train, test): 0.029514424782246352 13.734268999099731\n",
      "Epoch: 490\n",
      "Accs (train, test): 1.0 0.7625\n",
      "Loss (train, test): 0.04847596362233162 13.281364917755127\n",
      "Epoch: 500\n",
      "Accs (train, test): 1.0 0.8\n",
      "Loss (train, test): 0.03369711702689528 14.648903846740723\n"
     ]
    }
   ],
   "source": [
    "train_loss = []\n",
    "test_loss = []\n",
    "train_acc = []\n",
    "test_acc = []\n",
    "\n",
    "for epoch in range(1, args.epochs+1):\n",
    "    tr_correct = 0\n",
    "    btr_loss = 0\n",
    "    net.train()\n",
    "    for i, (vis, target, label) in enumerate(train_loader):\n",
    "        vis = vis.to(device)\n",
    "        target = target.to(device)\n",
    "        output = net.forward( vis)\n",
    "        tr_correct += torch.sum(snn.predict.getClass(output) == label).data.item()\n",
    "        loss = error.numSpikes(output, target)\n",
    "        btr_loss += loss.item()\n",
    "        optimizer.zero_grad()\n",
    "        loss.backward()\n",
    "        optimizer.step()\n",
    "        \n",
    "    # Evaluate\n",
    "    te_correct = 0\n",
    "    bte_loss = 0\n",
    "    net.eval()\n",
    "    with torch.no_grad():\n",
    "        for i, (vis, target, label) in enumerate(test_loader):\n",
    "            vis = vis.to(device)\n",
    "            target = target.to(device)\n",
    "            output = net.forward( vis)\n",
    "            te_correct += torch.sum(snn.predict.getClass(output) == label).data.item()\n",
    "            loss = error.numSpikes(output, target)\n",
    "            bte_loss += loss.item()\n",
    "\n",
    "    if epoch%10 == 0:\n",
    "        print('Epoch:', epoch)    \n",
    "        print('Accs (train, test):', tr_correct/len(train_dataset), te_correct/len(test_dataset))\n",
    "        print('Loss (train, test):', btr_loss/len(train_dataset), bte_loss/len(test_dataset))\n",
    "    \n",
    "    train_loss.append( btr_loss/len(train_dataset) )\n",
    "    test_loss.append( bte_loss/len(test_dataset) )\n",
    "    train_acc.append( tr_correct/len(train_dataset) )\n",
    "    test_acc.append( te_correct/len(test_dataset) )"
   ]
  },
  {
   "cell_type": "code",
   "execution_count": 14,
   "metadata": {},
   "outputs": [
    {
     "data": {
      "image/png": "[encoded data removed]",
      "text/plain": [
       "<Figure size 576x432 with 2 Axes>"
      ]
     },
     "metadata": {
      "needs_background": "light"
     },
     "output_type": "display_data"
    }
   ],
   "source": [
    "import matplotlib.pyplot as plt\n",
    "\n",
    "fig, ax = plt.subplots(2,figsize=(8,6))\n",
    "ax[0].plot(train_acc, 'b')\n",
    "ax[0].plot(test_acc, 'r')\n",
    "ax[0].legend(['Train', 'Test'])\n",
    "\n",
    "ax[1].plot(train_loss, 'b')\n",
    "ax[1].plot(test_loss, 'r')\n",
    "ax[1].legend(['Train', 'Test'])\n",
    "plt.tight_layout(True)\n",
    "plt.show()"
   ]
  },
  {
   "cell_type": "code",
   "execution_count": 16,
   "metadata": {},
   "outputs": [],
   "source": [
    "import pickle\n",
    "pickle.dump([train_acc, test_acc, train_loss, test_loss], open(fname + '.pk', 'wb'))"
   ]
  },
  {
   "cell_type": "code",
   "execution_count": 17,
   "metadata": {},
   "outputs": [],
   "source": [
    "torch.save(net.state_dict(), fname+'.pt')"
   ]
  },
  {
   "cell_type": "code",
   "execution_count": null,
   "metadata": {},
   "outputs": [],
   "source": []
  }
 ],
 "metadata": {
  "kernelspec": {
   "display_name": "Python 3",
   "language": "python",
   "name": "python3"
  },
  "language_info": {
   "codemirror_mode": {
    "name": "ipython",
    "version": 3
   },
   "file_extension": ".py",
   "mimetype": "text/x-python",
   "name": "python",
   "nbconvert_exporter": "python",
   "pygments_lexer": "ipython3",
   "version": "3.6.5"
  }
 },
 "nbformat": 4,
 "nbformat_minor": 2
}
