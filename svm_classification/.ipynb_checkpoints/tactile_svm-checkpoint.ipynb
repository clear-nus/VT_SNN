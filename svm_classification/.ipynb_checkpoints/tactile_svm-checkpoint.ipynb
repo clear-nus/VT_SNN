{
 "cells": [
  {
   "cell_type": "code",
   "execution_count": 2,
   "metadata": {},
   "outputs": [],
   "source": [
    "import sys, os\n",
    "CURRENT_TEST_DIR = os.getcwd()\n",
    "sys.path.append(CURRENT_TEST_DIR + \"/../\")"
   ]
  },
  {
   "cell_type": "code",
   "execution_count": 3,
   "metadata": {},
   "outputs": [],
   "source": [
    "import torch\n",
    "import numpy as np\n",
    "from pathlib import Path\n",
    "import logging\n",
    "from torch.utils.data import DataLoader\n",
    "from dataset import ViTacDataset\n",
    "from torch import nn\n",
    "import matplotlib.pyplot as plt\n",
    "from sklearn.svm import SVC\n",
    "from sklearn.svm import LinearSVC\n",
    "from sklearn.metrics import accuracy_score\n",
    "from sklearn.model_selection import train_test_split"
   ]
  },
  {
   "cell_type": "markdown",
   "metadata": {},
   "source": [
    "### Prepare data"
   ]
  },
  {
   "cell_type": "code",
   "execution_count": 5,
   "metadata": {},
   "outputs": [],
   "source": [
    "class FLAGS():\n",
    "    def __init__(self):\n",
    "        self.data_dir = '/home/tasbolat/some_python_examples/data_VT_SNN_2/'\n",
    "        self.batch_size = 8\n",
    "        self.sample_file = 1\n",
    "        self.lr = 0.01\n",
    "        self.epochs = 100\n",
    "args = FLAGS()"
   ]
  },
  {
   "cell_type": "code",
   "execution_count": 7,
   "metadata": {},
   "outputs": [],
   "source": [
    "train_dataset = ViTacDataset(\n",
    "    path=args.data_dir, sample_file=f\"train_80_20_{args.sample_file}.txt\", output_size=20\n",
    ")\n",
    "train_loader = DataLoader(\n",
    "    dataset=train_dataset, batch_size=args.batch_size, shuffle=True, num_workers=4\n",
    ")\n",
    "test_dataset = ViTacDataset(\n",
    "    path=args.data_dir, sample_file=f\"test_80_20_{args.sample_file}.txt\", output_size=20\n",
    ")\n",
    "test_loader = DataLoader(\n",
    "    dataset=test_dataset, batch_size=args.batch_size, shuffle=True, num_workers=4\n",
    ")"
   ]
  },
  {
   "cell_type": "code",
   "execution_count": 8,
   "metadata": {},
   "outputs": [
    {
     "data": {
      "text/plain": [
       "(torch.Size([560, 156, 325]), torch.Size([140, 156, 325]))"
      ]
     },
     "execution_count": 8,
     "metadata": {},
     "output_type": "execute_result"
    }
   ],
   "source": [
    "big_train_dataset = []#torch.zeros(240, 156, 325)\n",
    "\n",
    "labels = []#torch.zeros(240)\n",
    "\n",
    "for i, (in_tact, _, _, label) in enumerate(train_loader, 0):\n",
    "\n",
    "    big_train_dataset.append(in_tact.squeeze())\n",
    "\n",
    "    labels.append(label)\n",
    "\n",
    "    \n",
    "\n",
    "big_test_dataset = []#torch.zeros(240, 156, 325)\n",
    "\n",
    "labels_test = []#torch.zeros(240)\n",
    "\n",
    "for i, (in_tact, _, _, label) in enumerate(test_loader, 0):\n",
    "\n",
    "    big_test_dataset.append(in_tact.squeeze())\n",
    "\n",
    "    labels_test.append(label)\n",
    "    \n",
    "big_train_dataset = torch.cat(big_train_dataset,0)\n",
    "\n",
    "big_test_dataset = torch.cat(big_test_dataset,0)\n",
    "\n",
    "big_train_dataset.shape, big_test_dataset.shape"
   ]
  },
  {
   "cell_type": "code",
   "execution_count": 9,
   "metadata": {},
   "outputs": [],
   "source": [
    "### Get length"
   ]
  },
  {
   "cell_type": "code",
   "execution_count": 10,
   "metadata": {},
   "outputs": [
    {
     "data": {
      "text/plain": [
       "33"
      ]
     },
     "execution_count": 10,
     "metadata": {},
     "output_type": "execute_result"
    }
   ],
   "source": [
    "lengths_ = np.linspace(10,320,32, dtype=int)\n",
    "lengths = lengths_.tolist()\n",
    "lengths.append(325)\n",
    "len(lengths)"
   ]
  },
  {
   "cell_type": "code",
   "execution_count": 11,
   "metadata": {},
   "outputs": [],
   "source": [
    "\n",
    "length = lengths_[-1]\n",
    "\n",
    "X = torch.sum(big_train_dataset[...,:length], dim=2).cpu().numpy()\n",
    "X_test = torch.sum(big_test_dataset[...,:length], dim=2).cpu().numpy()\n",
    "y = torch.cat(labels).cpu().numpy()\n",
    "y_test = torch.cat(labels_test).cpu().numpy()"
   ]
  },
  {
   "cell_type": "code",
   "execution_count": 115,
   "metadata": {},
   "outputs": [],
   "source": [
    "X_train, X_val, y_train, y_val = train_test_split(X, y, test_size=0.08, stratify=y, random_state=42)"
   ]
  },
  {
   "cell_type": "code",
   "execution_count": 116,
   "metadata": {},
   "outputs": [
    {
     "data": {
      "text/plain": [
       "((515, 156), (45, 156), (140, 156))"
      ]
     },
     "execution_count": 116,
     "metadata": {},
     "output_type": "execute_result"
    }
   ],
   "source": [
    "X_train.shape, X_val.shape, X_test.shape"
   ]
  },
  {
   "cell_type": "code",
   "execution_count": 117,
   "metadata": {},
   "outputs": [],
   "source": [
    "svc = SVC(tol=0.00001, max_iter=5000)"
   ]
  },
  {
   "cell_type": "code",
   "execution_count": 118,
   "metadata": {},
   "outputs": [
    {
     "data": {
      "text/plain": [
       "SVC(C=0.0018, cache_size=200, class_weight=None, coef0=0.0,\n",
       "  decision_function_shape='ovr', degree=3, gamma='auto_deprecated',\n",
       "  kernel='linear', max_iter=5000, probability=False, random_state=3,\n",
       "  shrinking=True, tol=1e-05, verbose=False)"
      ]
     },
     "execution_count": 118,
     "metadata": {},
     "output_type": "execute_result"
    }
   ],
   "source": [
    "svc = SVC(C=0.0018,random_state=3, kernel='linear', max_iter=5000, tol=0.00001) # 0.0018\n",
    "svc.fit(X_train, y_train)"
   ]
  },
  {
   "cell_type": "code",
   "execution_count": 119,
   "metadata": {},
   "outputs": [],
   "source": [
    "y_train_pred = svc.predict(X_train)\n",
    "y_val_pred = svc.predict(X_val)\n",
    "y_test_pred = svc.predict(X_test)"
   ]
  },
  {
   "cell_type": "code",
   "execution_count": 120,
   "metadata": {},
   "outputs": [
    {
     "data": {
      "text/plain": [
       "(0.9067961165048544, 0.4666666666666667, 0.42142857142857143)"
      ]
     },
     "execution_count": 120,
     "metadata": {},
     "output_type": "execute_result"
    }
   ],
   "source": [
    "accuracy_score(y_train, y_train_pred), accuracy_score(y_val, y_val_pred), accuracy_score(y_test, y_test_pred)"
   ]
  },
  {
   "cell_type": "code",
   "execution_count": 96,
   "metadata": {},
   "outputs": [],
   "source": [
    "from sklearn.model_selection import GridSearchCV\n",
    "from sklearn.model_selection import StratifiedKFold"
   ]
  },
  {
   "cell_type": "code",
   "execution_count": 97,
   "metadata": {},
   "outputs": [
    {
     "data": {
      "text/plain": [
       "(560, 156)"
      ]
     },
     "execution_count": 97,
     "metadata": {},
     "output_type": "execute_result"
    }
   ],
   "source": [
    "X.shape"
   ]
  },
  {
   "cell_type": "code",
   "execution_count": 98,
   "metadata": {},
   "outputs": [],
   "source": [
    "skf = StratifiedKFold(n_splits=12)"
   ]
  },
  {
   "cell_type": "code",
   "execution_count": 102,
   "metadata": {},
   "outputs": [],
   "source": [
    "param_grid = {'C':np.linspace(0.000001, 3, 100),}"
   ]
  },
  {
   "cell_type": "code",
   "execution_count": 104,
   "metadata": {},
   "outputs": [],
   "source": [
    "svc = SVC(tol=0.00001, max_iter=3000, kernel='linear')\n",
    "search = GridSearchCV(svc, param_grid, cv=skf,n_jobs=-1, scoring='accuracy')"
   ]
  },
  {
   "cell_type": "code",
   "execution_count": 105,
   "metadata": {},
   "outputs": [
    {
     "name": "stderr",
     "output_type": "stream",
     "text": [
      "/home/tasbolat/tas_python_env/lib/python3.6/site-packages/sklearn/model_selection/_search.py:842: DeprecationWarning: The default of the `iid` parameter will change from True to False in version 0.22 and will be removed in 0.24. This will change numeric results when test-set sizes are unequal.\n",
      "  DeprecationWarning)\n",
      "/home/tasbolat/tas_python_env/lib/python3.6/site-packages/sklearn/svm/base.py:244: ConvergenceWarning: Solver terminated early (max_iter=3000).  Consider pre-processing your data with StandardScaler or MinMaxScaler.\n",
      "  % self.max_iter, ConvergenceWarning)\n"
     ]
    },
    {
     "data": {
      "text/plain": [
       "GridSearchCV(cv=StratifiedKFold(n_splits=12, random_state=None, shuffle=False),\n",
       "       error_score='raise-deprecating',\n",
       "       estimator=SVC(C=1.0, cache_size=200, class_weight=None, coef0=0.0,\n",
       "  decision_function_shape='ovr', degree=3, gamma='auto_deprecated',\n",
       "  kernel='linear', max_iter=3000, probability=False, random_state=None,\n",
       "  shrinking=True, tol=1e-05, verbose=False),\n",
       "       fit_params=None, iid='warn', n_jobs=-1,\n",
       "       param_grid={'C': array([1.0000e-06, 3.0304e-02, ..., 2.9697e+00, 3.0000e+00])},\n",
       "       pre_dispatch='2*n_jobs', refit=True, return_train_score='warn',\n",
       "       scoring='accuracy', verbose=0)"
      ]
     },
     "execution_count": 105,
     "metadata": {},
     "output_type": "execute_result"
    }
   ],
   "source": [
    "search.fit(X, y)"
   ]
  },
  {
   "cell_type": "code",
   "execution_count": 106,
   "metadata": {},
   "outputs": [
    {
     "data": {
      "text/plain": [
       "StratifiedKFold(n_splits=12, random_state=None, shuffle=False)"
      ]
     },
     "execution_count": 106,
     "metadata": {},
     "output_type": "execute_result"
    }
   ],
   "source": [
    "search.cv"
   ]
  },
  {
   "cell_type": "code",
   "execution_count": 111,
   "metadata": {},
   "outputs": [
    {
     "data": {
      "text/plain": [
       "SVC(C=0.0303040202020202, cache_size=200, class_weight=None, coef0=0.0,\n",
       "  decision_function_shape='ovr', degree=3, gamma='auto_deprecated',\n",
       "  kernel='linear', max_iter=3000, probability=False, random_state=None,\n",
       "  shrinking=True, tol=1e-05, verbose=False)"
      ]
     },
     "execution_count": 111,
     "metadata": {},
     "output_type": "execute_result"
    }
   ],
   "source": [
    "search.best_estimator_"
   ]
  },
  {
   "cell_type": "code",
   "execution_count": 108,
   "metadata": {},
   "outputs": [
    {
     "data": {
      "text/plain": [
       "1"
      ]
     },
     "execution_count": 108,
     "metadata": {},
     "output_type": "execute_result"
    }
   ],
   "source": [
    "search.best_index_"
   ]
  },
  {
   "cell_type": "code",
   "execution_count": 109,
   "metadata": {},
   "outputs": [
    {
     "data": {
      "text/plain": [
       "0.0303040202020202"
      ]
     },
     "execution_count": 109,
     "metadata": {},
     "output_type": "execute_result"
    }
   ],
   "source": [
    "search.best_estimator_.C"
   ]
  },
  {
   "cell_type": "code",
   "execution_count": 110,
   "metadata": {},
   "outputs": [
    {
     "data": {
      "text/plain": [
       "0.060709033386258736"
      ]
     },
     "execution_count": 110,
     "metadata": {},
     "output_type": "execute_result"
    }
   ],
   "source": [
    "search.cv_results_['mean_test_score'][search.best_index_]\n",
    "search.cv_results_['std_test_score'][search.best_index_]"
   ]
  },
  {
   "cell_type": "code",
   "execution_count": 235,
   "metadata": {},
   "outputs": [],
   "source": [
    "#np.linspace(0.000001, 3, 100)"
   ]
  },
  {
   "cell_type": "code",
   "execution_count": 240,
   "metadata": {},
   "outputs": [],
   "source": [
    "max_val_accuracy = 0\n",
    "current_C = 0\n",
    "for C in np.linspace(0.000001, 3, 10000):\n",
    "    svc = SVC(C=C,random_state=21, kernel='linear', max_iter=3000, tol=0.0001) # 0.00004\n",
    "    svc.fit(X_train, y_train)\n",
    "    y_val_pred = svc.predict(X_val)\n",
    "    \n",
    "    val_accuracy = accuracy_score(y_val, y_val_pred)\n",
    "    if val_accuracy > max_val_accuracy:\n",
    "        current_C = C\n",
    "        max_val_accuracy = val_accuracy"
   ]
  },
  {
   "cell_type": "code",
   "execution_count": 241,
   "metadata": {},
   "outputs": [
    {
     "data": {
      "text/plain": [
       "(0.75, 0.00030102990299029904)"
      ]
     },
     "execution_count": 241,
     "metadata": {},
     "output_type": "execute_result"
    }
   ],
   "source": [
    "max_val_accuracy, current_C"
   ]
  },
  {
   "cell_type": "code",
   "execution_count": 449,
   "metadata": {},
   "outputs": [
    {
     "name": "stdout",
     "output_type": "stream",
     "text": [
      "10\n",
      "20\n",
      "30\n",
      "40\n",
      "50\n",
      "60\n",
      "70\n",
      "80\n",
      "90\n",
      "100\n",
      "110\n",
      "120\n",
      "130\n",
      "140\n",
      "150\n",
      "160\n",
      "170\n",
      "180\n",
      "190\n",
      "200\n",
      "210\n",
      "220\n",
      "230\n",
      "240\n",
      "250\n",
      "260\n",
      "270\n",
      "280\n",
      "290\n",
      "300\n",
      "310\n",
      "320\n",
      "325\n"
     ]
    }
   ],
   "source": [
    "y = torch.cat(labels).cpu().numpy()\n",
    "y_test = torch.cat(labels_test).cpu().numpy()\n",
    "\n",
    "# prepare parameters\n",
    "skf = StratifiedKFold(n_splits=12)\n",
    "param_grid = {'C':np.linspace(0.000001, 3, 3),} #10000\n",
    "\n",
    "# collect statistics\n",
    "cv_std = []\n",
    "cv_mean = []\n",
    "test_accs = []\n",
    "C_params = []\n",
    "\n",
    "for length in lengths:\n",
    "    \n",
    "    print(length)\n",
    "    # get data\n",
    "    X = torch.sum(big_train_dataset[...,:length], dim=2).cpu().numpy()\n",
    "    X_test = torch.sum(big_test_dataset[...,:length], dim=2).cpu().numpy()\n",
    "    \n",
    "    # define clf\n",
    "    svc = SVC(tol=0.00001, max_iter=5000, kernel='linear')\n",
    "    search = GridSearchCV(svc, param_grid, cv=skf,n_jobs=-1, scoring='accuracy')\n",
    "    search.fit(X, y)\n",
    "    \n",
    "    # collect statistics\n",
    "    cv_std.append( search.cv_results_['std_test_score'][search.best_index_] )\n",
    "    cv_mean.append(search.cv_results_['mean_test_score'][search.best_index_])\n",
    "    C_params.append(search.best_estimator_.C)\n",
    "    \n",
    "    # get test result based on the best estimator\n",
    "    y_test_pred = search.best_estimator_.predict(X_test)\n",
    "    test_accs.append(accuracy_score(y_test, y_test_pred))"
   ]
  },
  {
   "cell_type": "code",
   "execution_count": 453,
   "metadata": {},
   "outputs": [],
   "source": [
    "import pickle\n",
    "pickle.dump([lengths, cv_std, cv_mean, test_accs, C_params], open('svm_results.pkl', 'wb'))"
   ]
  },
  {
   "cell_type": "code",
   "execution_count": null,
   "metadata": {},
   "outputs": [],
   "source": []
  }
 ],
 "metadata": {
  "kernelspec": {
   "display_name": "Python 3",
   "language": "python",
   "name": "python3"
  },
  "language_info": {
   "codemirror_mode": {
    "name": "ipython",
    "version": 3
   },
   "file_extension": ".py",
   "mimetype": "text/x-python",
   "name": "python",
   "nbconvert_exporter": "python",
   "pygments_lexer": "ipython3",
   "version": "3.6.8"
  }
 },
 "nbformat": 4,
 "nbformat_minor": 2
}
