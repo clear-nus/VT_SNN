{
 "cells": [
  {
   "cell_type": "code",
   "execution_count": 1,
   "metadata": {},
   "outputs": [],
   "source": [
    "from torch.utils.data import Dataset, DataLoader\n",
    "from sklearn.metrics import confusion_matrix\n",
    "import torch\n",
    "from torch import nn\n",
    "import numpy as np\n",
    "import copy"
   ]
  },
  {
   "cell_type": "code",
   "execution_count": 2,
   "metadata": {},
   "outputs": [],
   "source": [
    "device = torch.device('cuda:0')"
   ]
  },
  {
   "cell_type": "code",
   "execution_count": 3,
   "metadata": {},
   "outputs": [],
   "source": [
    "# Dataset definition\n",
    "class ViTacDataset(Dataset):\n",
    "    def __init__(self, datasetPath, sampleFile, modals=0):\n",
    "        self.path = datasetPath \n",
    "        self.samples = np.loadtxt(sampleFile).astype('int')\n",
    "        self.modality = modals\n",
    "\n",
    "    def __getitem__(self, index):\n",
    "        inputIndex  = self.samples[index, 0]\n",
    "        classLabel  = self.samples[index, 1]\n",
    "        desiredClass = torch.zeros((20, 1, 1, 1))\n",
    "        desiredClass[classLabel,...] = 1\n",
    "\n",
    "        if self.modality == 0:\n",
    "            inputSpikes_tact = np.load(self.path + str(inputIndex.item()) + '_tact.npy')\n",
    "            #inputSpikes_tact = np.delete(inputSpikes_tact, [], 0)\n",
    "            inputSpikes_tact = torch.FloatTensor(inputSpikes_tact)#[39:, :,:]\n",
    "            return inputSpikes_tact.reshape((-1, 1, 1, inputSpikes_tact.shape[-1])), desiredClass, classLabel\n",
    "        elif self.modality == 1:\n",
    "            inputSpikes_vis = np.load(self.path + str(inputIndex.item()) + '_vis.npy')\n",
    "            inputSpikes_vis = torch.FloatTensor(inputSpikes_vis)\n",
    "            return inputSpikes_vis, desiredClass, classLabel, inputIndex.item()\n",
    "        elif self.modality == 2:\n",
    "            inputSpikes_tact = np.load(self.path + str(inputIndex.item()) + '_tact.npy')\n",
    "            inputSpikes_tact = torch.FloatTensor(inputSpikes_tact)\n",
    "            inputSpikes_vis = np.load(self.path + str(inputIndex.item()) + '_vis.npy')\n",
    "            inputSpikes_vis = torch.FloatTensor(inputSpikes_vis)\n",
    "            return inputSpikes_tact.reshape((-1, 1, 1, inputSpikes_tact.shape[-1])), inputSpikes_vis, desiredClass, classLabel\n",
    "\n",
    "    def __len__(self):\n",
    "        return self.samples.shape[0]"
   ]
  },
  {
   "cell_type": "code",
   "execution_count": 4,
   "metadata": {},
   "outputs": [],
   "source": [
    "data_dir = '/home/tasbolat/some_python_examples/data_VT_SNN/'"
   ]
  },
  {
   "cell_type": "code",
   "execution_count": 5,
   "metadata": {},
   "outputs": [],
   "source": [
    "# Dataset and dataLoader instances.\n",
    "split_list = ['80_20_1','80_20_2','80_20_3','80_20_4','80_20_5']\n",
    "\n",
    "training_loader = []\n",
    "testing_loader = []\n",
    "\n",
    "for k in range(5):\n",
    "    \n",
    "    trainingSet = ViTacDataset(datasetPath = data_dir, \n",
    "                                sampleFile = data_dir + \"/train_\" + split_list[k] + \".txt\",\n",
    "                               modals=1)\n",
    "    trainLoader = DataLoader(dataset=trainingSet, batch_size=8, shuffle=False, num_workers=8)\n",
    "    training_loader.append(trainLoader)\n",
    "    \n",
    "    testingSet = ViTacDataset(datasetPath = data_dir, \n",
    "                                sampleFile  = data_dir + \"/test_\" + split_list[k] + \".txt\", \n",
    "                              modals=1)\n",
    "    testLoader = DataLoader(dataset=testingSet, batch_size=8, shuffle=False, num_workers=8)\n",
    "    testing_loader.append(testLoader)"
   ]
  },
  {
   "cell_type": "code",
   "execution_count": 6,
   "metadata": {},
   "outputs": [],
   "source": [
    "class SimplePool(nn.Module):\n",
    "\n",
    "    def __init__(self):\n",
    "        super(SimplePool, self).__init__()\n",
    "        self.pool = nn.AvgPool3d((1,4,4), padding=[0,1,1], stride=(1,4,4))\n",
    "\n",
    "    def forward(self, input_data):\n",
    "        out_data = self.pool(input_data)\n",
    "        #print(out_data.shape)\n",
    "        return out_data"
   ]
  },
  {
   "cell_type": "code",
   "execution_count": 8,
   "metadata": {},
   "outputs": [],
   "source": [
    "path = data_dir + \"pooled_vis/\"\n",
    "net = SimplePool().to(device)\n",
    "big_viz = []\n",
    "for i in range(400):\n",
    "    inputSpikes_vis = np.load(data_dir + str(i) + '_vis.npy')\n",
    "    inputSpikes_vis = torch.FloatTensor(inputSpikes_vis)\n",
    "    inputSpikes_vis = inputSpikes_vis.unsqueeze(0)\n",
    "    inputSpikes_vis = inputSpikes_vis.to(device)\n",
    "    inputSpikes_vis = inputSpikes_vis.permute(0,1,4,2,3)\n",
    "    out = net.forward(inputSpikes_vis)\n",
    "    out = out.squeeze().permute(0,2,3,1)\n",
    "    big_viz.append(out.detach().cpu())"
   ]
  },
  {
   "cell_type": "code",
   "execution_count": 9,
   "metadata": {},
   "outputs": [],
   "source": [
    "big_viz_data = torch.stack(big_viz)"
   ]
  },
  {
   "cell_type": "code",
   "execution_count": 10,
   "metadata": {},
   "outputs": [
    {
     "data": {
      "text/plain": [
       "torch.Size([400, 2, 63, 50, 325])"
      ]
     },
     "execution_count": 10,
     "metadata": {},
     "output_type": "execute_result"
    }
   ],
   "source": [
    "big_viz_data.shape"
   ]
  },
  {
   "cell_type": "code",
   "execution_count": 11,
   "metadata": {},
   "outputs": [],
   "source": [
    "torch.save(big_viz_data, path + 'ds_vis.pt')"
   ]
  },
  {
   "cell_type": "code",
   "execution_count": 20,
   "metadata": {},
   "outputs": [
    {
     "name": "stdout",
     "output_type": "stream",
     "text": [
      "0\n",
      "1\n",
      "2\n",
      "3\n",
      "4\n"
     ]
    }
   ],
   "source": [
    "\n",
    "\n",
    "# for k in range(5):\n",
    "#     print(k)\n",
    "#     trainLoader = training_loader[k]\n",
    "#     testLoader = testing_loader[k]\n",
    "#     # Define model\n",
    "#     net = SimplePool().to(device)\n",
    "#     # Create snn loss instance.\n",
    "    \n",
    "#     for i, (input_tact_left, _, label, inpInd) in enumerate(trainLoader.dataset, 0):\n",
    "#         #print(input_tact_left.shape)\n",
    "#         input_tact_left = input_tact_left.unsqueeze(0)\n",
    "#         input_tact_left = input_tact_left.to(device)\n",
    "#         input_tact_left = input_tact_left.permute(0,1,4,2,3)\n",
    "#         out = net.forward(input_tact_left)\n",
    "\n",
    "#         out = out.squeeze().permute(0,2,3,1)\n",
    "#         np.save(path + str(inpInd) +'_vis.npy', out.cpu().numpy())\n",
    "\n",
    "#     for i, (input_tact_left, _, label, inpInd) in enumerate(testLoader.dataset, 0):\n",
    "#         #print(input_tact_left.shape)\n",
    "#         input_tact_left = input_tact_left.unsqueeze(0)\n",
    "#         input_tact_left = input_tact_left.to(device)\n",
    "#         input_tact_left = input_tact_left.permute(0,1,4,2,3)\n",
    "#         out = net.forward(input_tact_left)\n",
    "#         out = out.squeeze().permute(0,2,3,1)\n",
    "#         np.save(path + str(inpInd) +'_vis.npy', out.cpu().numpy())\n"
   ]
  },
  {
   "cell_type": "code",
   "execution_count": null,
   "metadata": {},
   "outputs": [],
   "source": []
  }
 ],
 "metadata": {
  "kernelspec": {
   "display_name": "Python 3",
   "language": "python",
   "name": "python3"
  },
  "language_info": {
   "codemirror_mode": {
    "name": "ipython",
    "version": 3
   },
   "file_extension": ".py",
   "mimetype": "text/x-python",
   "name": "python",
   "nbconvert_exporter": "python",
   "pygments_lexer": "ipython3",
   "version": "3.6.8"
  }
 },
 "nbformat": 4,
 "nbformat_minor": 2
}
