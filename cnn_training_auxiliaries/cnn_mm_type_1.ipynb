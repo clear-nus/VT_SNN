{
 "cells": [
  {
   "cell_type": "code",
   "execution_count": 4,
   "metadata": {},
   "outputs": [],
   "source": [
    "import torch\n",
    "import numpy as np\n",
    "from pathlib import Path\n",
    "import logging\n",
    "from torch.utils.data import DataLoader\n",
    "from torch.utils.tensorboard import SummaryWriter\n",
    "import argparse\n",
    "from torch import nn\n",
    "import torch.nn.functional as F\n",
    "from torch.utils.data import Dataset"
   ]
  },
  {
   "cell_type": "code",
   "execution_count": 5,
   "metadata": {},
   "outputs": [],
   "source": [
    "# parser = argparse.ArgumentParser(\"Train model.\")\n",
    "# parser.add_argument(\"--epochs\", type=int, help=\"Number of epochs.\", required=True)\n",
    "# parser.add_argument(\"--data_dir\", type=str, help=\"Path to data.\", required=True)\n",
    "# parser.add_argument(\n",
    "#     \"--checkpoint_dir\", type=str, help=\"Path for saving checkpoints.\", required=True\n",
    "# )\n",
    "\n",
    "# parser.add_argument(\"--lr\", type=float, help=\"Learning rate.\", required=True)\n",
    "# parser.add_argument(\n",
    "#     \"--sample_file\", type=int, help=\"Sample number to train from.\", required=True\n",
    "# )\n",
    "# parser.add_argument(\n",
    "#     \"--batch_size\", type=int, help=\"Batch Size.\", required=True\n",
    "# )"
   ]
  },
  {
   "cell_type": "code",
   "execution_count": 6,
   "metadata": {},
   "outputs": [],
   "source": [
    "class FLAGS():\n",
    "    def __init__(self):\n",
    "        self.data_dir = '/home/tasbolat/some_python_examples/data_VT_SNN/'\n",
    "        self.batch_size = 8\n",
    "        self.sample_file = 1\n",
    "        self.lr = 0.01\n",
    "        self.epochs = 2000\n",
    "        self.output_size = 20\n",
    "args = FLAGS()"
   ]
  },
  {
   "cell_type": "code",
   "execution_count": 7,
   "metadata": {},
   "outputs": [],
   "source": [
    "device = torch.device(\"cuda:1\")"
   ]
  },
  {
   "cell_type": "code",
   "execution_count": 8,
   "metadata": {},
   "outputs": [],
   "source": [
    "class ViTacDataset(Dataset):\n",
    "    def __init__(self, path, sample_file, output_size):\n",
    "        self.path = path\n",
    "        sample_file = Path(path) / sample_file\n",
    "        self.samples = np.loadtxt(sample_file).astype(\"int\")\n",
    "        self.tac_r = torch.load(Path(path) / \"tactile_rectangular/tac_right.pt\")\n",
    "        self.tac_l = torch.load(Path(path) / \"tactile_rectangular/tac_left.pt\")\n",
    "        self.vis = torch.load(Path(path) / \"ds_vis.pt\")\n",
    "        self.output_size = output_size\n",
    "\n",
    "    def __getitem__(self, index):\n",
    "        input_index = self.samples[index, 0]\n",
    "        class_label = self.samples[index, 1]\n",
    "        target_class = torch.zeros((self.output_size, 1, 1, 1))\n",
    "        target_class[class_label, ...] = 1\n",
    "\n",
    "        return (\n",
    "            self.tac_r[input_index],\n",
    "            self.tac_l[input_index],\n",
    "            self.vis[input_index],\n",
    "            class_label\n",
    "        )\n",
    "\n",
    "    def __len__(self):\n",
    "        return self.samples.shape[0]"
   ]
  },
  {
   "cell_type": "code",
   "execution_count": 9,
   "metadata": {},
   "outputs": [],
   "source": [
    "train_dataset = ViTacDataset(\n",
    "    path=args.data_dir, sample_file=f\"train_80_20_{args.sample_file}.txt\", output_size=args.output_size\n",
    ")\n",
    "train_loader = DataLoader(\n",
    "    dataset=train_dataset, batch_size=args.batch_size, shuffle=False, num_workers=4\n",
    ")\n",
    "test_dataset = ViTacDataset(\n",
    "    path=args.data_dir, sample_file=f\"test_80_20_{args.sample_file}.txt\", output_size=args.output_size\n",
    ")\n",
    "test_loader = DataLoader(\n",
    "    dataset=test_dataset, batch_size=args.batch_size, shuffle=False, num_workers=4\n",
    ")"
   ]
  },
  {
   "cell_type": "code",
   "execution_count": 11,
   "metadata": {},
   "outputs": [],
   "source": [
    "a,b,c,d = train_dataset[0]"
   ]
  },
  {
   "cell_type": "code",
   "execution_count": 12,
   "metadata": {},
   "outputs": [
    {
     "data": {
      "text/plain": [
       "(torch.Size([2, 9, 7, 325]),\n",
       " torch.Size([2, 9, 7, 325]),\n",
       " torch.Size([2, 63, 50, 325]))"
      ]
     },
     "execution_count": 12,
     "metadata": {},
     "output_type": "execute_result"
    }
   ],
   "source": [
    "a.shape, b.shape, c.shape"
   ]
  },
  {
   "cell_type": "code",
   "execution_count": 16,
   "metadata": {},
   "outputs": [],
   "source": [
    "class CNN3D(nn.Module):\n",
    "\n",
    "    def __init__(self):\n",
    "        \n",
    "        super(CNN3D, self).__init__()\n",
    "        \n",
    "        self.conv1 = nn.Conv3d(in_channels=2, out_channels=4, kernel_size=(7,3,3), stride=(4,1,1))\n",
    "        self.conv2 = nn.Conv3d(in_channels=4, out_channels=8, kernel_size=(5,3,3), stride=(3,1,1))\n",
    "        \n",
    "    def forward(self, x):\n",
    "        \n",
    "        #print('Model input ', x.size())\n",
    "        batch_size, C, H, W, sequence_size = x.size()\n",
    "        x = x.view([batch_size, C, sequence_size, H, W])\n",
    "        #print('Model input ', x.size())\n",
    "        \n",
    "        # pass to cnn3d\n",
    "        out = self.conv1(x)\n",
    "        out = F.relu(out)\n",
    "        #print('conv1 out: ', out.shape)\n",
    "        out = self.conv2(out)\n",
    "        out = F.relu(out)\n",
    "        #print('conv2 out: ', out.shape)\n",
    "        out = out.view([batch_size, np.prod([8, 26, 5, 3])])\n",
    "        #print(out.shape)\n",
    "        \n",
    "        return out"
   ]
  },
  {
   "cell_type": "code",
   "execution_count": 17,
   "metadata": {},
   "outputs": [],
   "source": [
    "class MyNet(nn.Module):\n",
    "\n",
    "    def __init__(self):\n",
    "        \n",
    "        super(MyNet, self).__init__()\n",
    "        \n",
    "        self.cnn_left = CNN3D()\n",
    "        self.cnn_right = CNN3D()\n",
    "        \n",
    "        self.conv1 = nn.Conv3d(in_channels=2, out_channels=2, kernel_size=(10,5,5), stride=(5,2,2))\n",
    "        self.conv2 = nn.Conv3d(in_channels=2, out_channels=4, kernel_size=(5,3,3), stride=(3,2,2))\n",
    "        self.conv3 = nn.Conv3d(in_channels=4, out_channels=8, kernel_size=(5,3,3), stride=(3,2,2))\n",
    "\n",
    "        # 8, 35, 5, 3\n",
    "        # Define the output layer\n",
    "        self.fc = nn.Linear(np.prod([8, 26, 5, 3])*2+np.prod([8, 6, 6, 5]), 20)\n",
    "        \n",
    "        self.drop = nn.Dropout(0.5)\n",
    "        \n",
    "        #self.fc_mlp = nn.Linear(6300, self.input_size)\n",
    "\n",
    "    def forward(self, x_left, x_right, x):\n",
    "        \n",
    "        # tactile part\n",
    "        out_left = self.cnn_left(x_left)\n",
    "        out_right = self.cnn_right(x_right)\n",
    "        \n",
    "        #out_tact = torch.cat([out_left, out_right], dim=1)\n",
    "        \n",
    "        # vision part\n",
    "        batch_size, C, H, W, sequence_size = x.size()\n",
    "        x = x.view([batch_size, C, sequence_size, H, W])\n",
    "        # pass to cnn3d\n",
    "        out = self.conv1(x)\n",
    "        out = F.relu(out)\n",
    "        #print('conv1 out: ', out.shape)\n",
    "        out = self.conv2(out)\n",
    "        out = F.relu(out)\n",
    "        #print('conv2 out: ', out.shape)\n",
    "        out = self.conv3(out)\n",
    "        out = F.relu(out)\n",
    "        #print('conv3 out: ', out.shape)\n",
    "        out_vision = out.view([batch_size, np.prod([8, 6, 6, 5])])\n",
    "        \n",
    "        out = torch.cat([out_left, out_right, out_vision], dim=1)\n",
    "        \n",
    "        out = self.fc(out)\n",
    "        \n",
    "        out = self.drop(out)\n",
    "        return out"
   ]
  },
  {
   "cell_type": "code",
   "execution_count": 18,
   "metadata": {},
   "outputs": [],
   "source": [
    "net = MyNet().to(device)\n",
    "# Create snn loss instance.\n",
    "criterion = nn.CrossEntropyLoss()\n",
    "# Define optimizer module.\n",
    "optimizer = torch.optim.RMSprop(\n",
    "    net.parameters(), lr=0.00001)"
   ]
  },
  {
   "cell_type": "code",
   "execution_count": null,
   "metadata": {},
   "outputs": [
    {
     "name": "stdout",
     "output_type": "stream",
     "text": [
      "0 Train: 0.15 Test: 0.1\n",
      "10 Train: 0.49166666666666664 Test: 0.18333333333333332\n",
      "20 Train: 0.7458333333333333 Test: 0.3333333333333333\n",
      "30 Train: 0.85 Test: 0.3333333333333333\n",
      "40 Train: 0.8916666666666667 Test: 0.38333333333333336\n",
      "50 Train: 0.8916666666666667 Test: 0.43333333333333335\n",
      "60 Train: 0.9458333333333333 Test: 0.4666666666666667\n",
      "70 Train: 0.95 Test: 0.5166666666666667\n",
      "80 Train: 0.9541666666666667 Test: 0.48333333333333334\n",
      "90 Train: 0.9708333333333333 Test: 0.5833333333333334\n",
      "100 Train: 0.9833333333333333 Test: 0.5666666666666667\n",
      "110 Train: 0.9958333333333333 Test: 0.6666666666666666\n",
      "120 Train: 0.9958333333333333 Test: 0.65\n",
      "130 Train: 0.9875 Test: 0.6833333333333333\n",
      "140 Train: 0.9958333333333333 Test: 0.7333333333333333\n",
      "150 Train: 0.9916666666666667 Test: 0.65\n",
      "160 Train: 0.9958333333333333 Test: 0.7333333333333333\n"
     ]
    }
   ],
   "source": [
    "train_accs = []\n",
    "test_accs = []\n",
    "train_loss = []\n",
    "test_loss = []\n",
    "for epoch in range(args.epochs):\n",
    "    # Training loop.\n",
    "    net.train()\n",
    "    correct = 0\n",
    "    batch_loss = 0\n",
    "    train_acc = 0\n",
    "    for i, (tac_left, tac_right, vis, label) in enumerate(train_loader, 0):\n",
    "\n",
    "        tac_left = tac_left.to(device)\n",
    "        tac_right = tac_right.to(device)\n",
    "        vis = vis.to(device)\n",
    "        label = label.to(device)\n",
    "        # Forward pass of the network.\n",
    "        #print(in_viz.shape)\n",
    "        out = net.forward(tac_left, tac_right, vis)\n",
    "        #print(out_tact.shape)\n",
    "        # Calculate loss.\n",
    "        #print(label.shape)\n",
    "        loss = criterion(out, label)\n",
    "        #print(loss)\n",
    "\n",
    "        batch_loss += loss.cpu().data.item()\n",
    "        # Reset gradients to zero.\n",
    "        optimizer.zero_grad()\n",
    "        # Backward pass of the network.\n",
    "        loss.backward()\n",
    "        # Update weights.\n",
    "        optimizer.step()\n",
    "\n",
    "        _, predicted = torch.max(out.data, 1)\n",
    "        correct += (predicted == label).sum().item()\n",
    "\n",
    "    # Reset training stats.\n",
    "    train_acc = correct/len(train_loader.dataset)\n",
    "    train_loss.append(batch_loss/len(train_loader.dataset))\n",
    "    train_accs.append(train_acc)\n",
    "    \n",
    "    # testing\n",
    "    net.eval()\n",
    "    correct = 0\n",
    "    batch_loss = 0\n",
    "    train_acc = 0\n",
    "    with torch.no_grad():\n",
    "        for i, (tac_left, tac_right, vis, label) in enumerate(train_loader, 0):\n",
    "            tac_left = tac_left.to(device)\n",
    "            tac_right = tac_right.to(device)\n",
    "            vis = vis.to(device)\n",
    "            label = label.to(device)\n",
    "            # Forward pass of the network.\n",
    "            out = net.forward(tac_left, tac_right, vis)\n",
    "            label = label.to(device)\n",
    "            _, predicted = torch.max(out.data, 1)\n",
    "            correct += (predicted == label).sum().item()\n",
    "            # Calculate loss.\n",
    "            loss = criterion(out, label)\n",
    "            batch_loss += loss.cpu().data.item()\n",
    "    train_acc = correct/len(train_loader.dataset)\n",
    "\n",
    "    # testing\n",
    "    net.eval()\n",
    "    correct = 0\n",
    "    batch_loss = 0\n",
    "    test_acc = 0\n",
    "    with torch.no_grad():\n",
    "        for i, (tac_left, tac_right, vis, label) in enumerate(test_loader, 0):\n",
    "            tac_left = tac_left.to(device)\n",
    "            tac_right = tac_right.to(device)\n",
    "            vis = vis.to(device)\n",
    "            # Forward pass of the network.\n",
    "            out = net.forward(tac_left, tac_right, vis)\n",
    "            label = label.to(device)\n",
    "            _, predicted = torch.max(out.data, 1)\n",
    "            correct += (predicted == label).sum().item()\n",
    "            # Calculate loss.\n",
    "            loss = criterion(out, label)\n",
    "            batch_loss += loss.cpu().data.item()\n",
    "\n",
    "    test_loss.append(batch_loss/len(test_loader.dataset))\n",
    "    test_acc = correct/len(test_loader.dataset)\n",
    "    test_accs.append(test_acc)\n",
    "    if epoch%10 == 0:\n",
    "        print(epoch, 'Train:', train_acc, 'Test:', test_acc)"
   ]
  },
  {
   "cell_type": "code",
   "execution_count": null,
   "metadata": {},
   "outputs": [],
   "source": [
    "model_parameters = filter(lambda p: p.requires_grad, net.parameters())\n",
    "params = sum([np.prod(p.size()) for p in model_parameters])"
   ]
  },
  {
   "cell_type": "code",
   "execution_count": null,
   "metadata": {},
   "outputs": [],
   "source": [
    "params"
   ]
  },
  {
   "cell_type": "code",
   "execution_count": null,
   "metadata": {},
   "outputs": [],
   "source": [
    "import matplotlib.pyplot as plt"
   ]
  },
  {
   "cell_type": "code",
   "execution_count": null,
   "metadata": {},
   "outputs": [],
   "source": [
    "np.max(test_accs)"
   ]
  },
  {
   "cell_type": "code",
   "execution_count": null,
   "metadata": {},
   "outputs": [],
   "source": [
    "fig, ax = plt.subplots(2, figsize=(15,3))\n",
    "ax[0].plot(train_accs)\n",
    "ax[0].plot(test_accs)\n",
    "ax[0].set_ylabel('Accuracy')\n",
    "ax[0].legend(['Train', 'Test'])\n",
    "\n",
    "ax[1].plot(train_loss) \n",
    "ax[1].plot(test_loss)\n",
    "ax[1].set_ylabel('Loss')\n",
    "ax[1].legend(['Train', 'Test'])\n",
    "\n",
    "plt.show()"
   ]
  },
  {
   "cell_type": "code",
   "execution_count": null,
   "metadata": {},
   "outputs": [],
   "source": []
  }
 ],
 "metadata": {
  "kernelspec": {
   "display_name": "Python 3",
   "language": "python",
   "name": "python3"
  },
  "language_info": {
   "codemirror_mode": {
    "name": "ipython",
    "version": 3
   },
   "file_extension": ".py",
   "mimetype": "text/x-python",
   "name": "python",
   "nbconvert_exporter": "python",
   "pygments_lexer": "ipython3",
   "version": "3.6.8"
  }
 },
 "nbformat": 4,
 "nbformat_minor": 2
}
