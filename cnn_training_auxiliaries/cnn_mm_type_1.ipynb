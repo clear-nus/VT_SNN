{
 "cells": [
  {
   "cell_type": "code",
   "execution_count": 1,
   "metadata": {},
   "outputs": [],
   "source": [
    "import torch\n",
    "import numpy as np\n",
    "from pathlib import Path\n",
    "import logging\n",
    "from torch.utils.data import DataLoader\n",
    "from torch.utils.tensorboard import SummaryWriter\n",
    "import argparse\n",
    "from torch import nn\n",
    "import torch.nn.functional as F\n",
    "from torch.utils.data import Dataset"
   ]
  },
  {
   "cell_type": "code",
   "execution_count": 2,
   "metadata": {},
   "outputs": [],
   "source": [
    "# parser = argparse.ArgumentParser(\"Train model.\")\n",
    "# parser.add_argument(\"--epochs\", type=int, help=\"Number of epochs.\", required=True)\n",
    "# parser.add_argument(\"--data_dir\", type=str, help=\"Path to data.\", required=True)\n",
    "# parser.add_argument(\n",
    "#     \"--checkpoint_dir\", type=str, help=\"Path for saving checkpoints.\", required=True\n",
    "# )\n",
    "\n",
    "# parser.add_argument(\"--lr\", type=float, help=\"Learning rate.\", required=True)\n",
    "# parser.add_argument(\n",
    "#     \"--sample_file\", type=int, help=\"Sample number to train from.\", required=True\n",
    "# )\n",
    "# parser.add_argument(\n",
    "#     \"--batch_size\", type=int, help=\"Batch Size.\", required=True\n",
    "# )"
   ]
  },
  {
   "cell_type": "code",
   "execution_count": 3,
   "metadata": {},
   "outputs": [],
   "source": [
    "class FLAGS():\n",
    "    def __init__(self):\n",
    "        self.data_dir = '/home/tasbolat/some_python_examples/data_VT_SNN/'\n",
    "        self.batch_size = 8\n",
    "        self.sample_file = 1\n",
    "        self.lr = 0.01\n",
    "        self.epochs = 2000\n",
    "        self.output_size = 20\n",
    "args = FLAGS()"
   ]
  },
  {
   "cell_type": "code",
   "execution_count": 4,
   "metadata": {},
   "outputs": [],
   "source": [
    "device = torch.device(\"cuda:1\")"
   ]
  },
  {
   "cell_type": "code",
   "execution_count": 5,
   "metadata": {},
   "outputs": [],
   "source": [
    "class ViTacDataset(Dataset):\n",
    "    def __init__(self, path, sample_file, output_size):\n",
    "        self.path = path\n",
    "        sample_file = Path(path) / sample_file\n",
    "        self.samples = np.loadtxt(sample_file).astype(\"int\")\n",
    "        self.tac_r = torch.load(Path(path) / \"tactile_rectangular/tac_right.pt\")\n",
    "        self.tac_l = torch.load(Path(path) / \"tactile_rectangular/tac_left.pt\")\n",
    "        self.vis = torch.load(Path(path) / \"ds_vis.pt\")\n",
    "        self.output_size = output_size\n",
    "\n",
    "    def __getitem__(self, index):\n",
    "        input_index = self.samples[index, 0]\n",
    "        class_label = self.samples[index, 1]\n",
    "        target_class = torch.zeros((self.output_size, 1, 1, 1))\n",
    "        target_class[class_label, ...] = 1\n",
    "\n",
    "        return (\n",
    "            self.tac_r[input_index],\n",
    "            self.tac_l[input_index],\n",
    "            self.vis[input_index],\n",
    "            class_label\n",
    "        )\n",
    "\n",
    "    def __len__(self):\n",
    "        return self.samples.shape[0]"
   ]
  },
  {
   "cell_type": "code",
   "execution_count": 13,
   "metadata": {},
   "outputs": [],
   "source": [
    "train_dataset = ViTacDataset(\n",
    "    path=args.data_dir, sample_file=f\"train_80_20_{args.sample_file}.txt\", output_size=args.output_size\n",
    ")\n",
    "train_loader = DataLoader(\n",
    "    dataset=train_dataset, batch_size=args.batch_size, shuffle=True, num_workers=4\n",
    ")\n",
    "test_dataset = ViTacDataset(\n",
    "    path=args.data_dir, sample_file=f\"test_80_20_{args.sample_file}.txt\", output_size=args.output_size\n",
    ")\n",
    "test_loader = DataLoader(\n",
    "    dataset=test_dataset, batch_size=args.batch_size, shuffle=True, num_workers=4\n",
    ")"
   ]
  },
  {
   "cell_type": "code",
   "execution_count": 7,
   "metadata": {},
   "outputs": [],
   "source": [
    "a,b,c,d = train_dataset[0]"
   ]
  },
  {
   "cell_type": "code",
   "execution_count": 8,
   "metadata": {},
   "outputs": [
    {
     "data": {
      "text/plain": [
       "(torch.Size([2, 9, 7, 325]),\n",
       " torch.Size([2, 9, 7, 325]),\n",
       " torch.Size([2, 63, 50, 325]))"
      ]
     },
     "execution_count": 8,
     "metadata": {},
     "output_type": "execute_result"
    }
   ],
   "source": [
    "a.shape, b.shape, c.shape"
   ]
  },
  {
   "cell_type": "code",
   "execution_count": 9,
   "metadata": {},
   "outputs": [],
   "source": [
    "class CNN3D(nn.Module):\n",
    "\n",
    "    def __init__(self):\n",
    "        \n",
    "        super(CNN3D, self).__init__()\n",
    "        \n",
    "        self.conv1 = nn.Conv3d(in_channels=2, out_channels=4, kernel_size=(7,3,3), stride=(4,1,1))\n",
    "        self.conv2 = nn.Conv3d(in_channels=4, out_channels=8, kernel_size=(5,3,3), stride=(3,1,1))\n",
    "        \n",
    "    def forward(self, x):\n",
    "        \n",
    "        #print('Model input ', x.size())\n",
    "        batch_size, C, H, W, sequence_size = x.size()\n",
    "        x = x.view([batch_size, C, sequence_size, H, W])\n",
    "        #print('Model input ', x.size())\n",
    "        \n",
    "        # pass to cnn3d\n",
    "        out = self.conv1(x)\n",
    "        out = F.relu(out)\n",
    "        #print('conv1 out: ', out.shape)\n",
    "        out = self.conv2(out)\n",
    "        out = F.relu(out)\n",
    "        #print('conv2 out: ', out.shape)\n",
    "        out = out.view([batch_size, np.prod([8, 26, 5, 3])])\n",
    "        #print(out.shape)\n",
    "        \n",
    "        return out"
   ]
  },
  {
   "cell_type": "code",
   "execution_count": 10,
   "metadata": {},
   "outputs": [],
   "source": [
    "class MyNet(nn.Module):\n",
    "\n",
    "    def __init__(self):\n",
    "        \n",
    "        super(MyNet, self).__init__()\n",
    "        \n",
    "        self.cnn_left = CNN3D()\n",
    "        self.cnn_right = CNN3D()\n",
    "        \n",
    "        self.conv1 = nn.Conv3d(in_channels=2, out_channels=2, kernel_size=(10,5,5), stride=(5,2,2))\n",
    "        self.conv2 = nn.Conv3d(in_channels=2, out_channels=4, kernel_size=(5,3,3), stride=(3,2,2))\n",
    "        self.conv3 = nn.Conv3d(in_channels=4, out_channels=8, kernel_size=(5,3,3), stride=(3,2,2))\n",
    "\n",
    "        # 8, 35, 5, 3\n",
    "        # Define the output layer\n",
    "        self.fc = nn.Linear(np.prod([8, 26, 5, 3])*2+np.prod([8, 6, 6, 5]), 20)\n",
    "        \n",
    "        self.drop = nn.Dropout(0.5)\n",
    "        \n",
    "        #self.fc_mlp = nn.Linear(6300, self.input_size)\n",
    "\n",
    "    def forward(self, x_left, x_right, x):\n",
    "        \n",
    "        # tactile part\n",
    "        out_left = self.cnn_left(x_left)\n",
    "        out_right = self.cnn_right(x_right)\n",
    "        \n",
    "        #out_tact = torch.cat([out_left, out_right], dim=1)\n",
    "        \n",
    "        # vision part\n",
    "        batch_size, C, H, W, sequence_size = x.size()\n",
    "        x = x.view([batch_size, C, sequence_size, H, W])\n",
    "        # pass to cnn3d\n",
    "        out = self.conv1(x)\n",
    "        out = F.relu(out)\n",
    "        #print('conv1 out: ', out.shape)\n",
    "        out = self.conv2(out)\n",
    "        out = F.relu(out)\n",
    "        #print('conv2 out: ', out.shape)\n",
    "        out = self.conv3(out)\n",
    "        out = F.relu(out)\n",
    "        #print('conv3 out: ', out.shape)\n",
    "        out_vision = out.view([batch_size, np.prod([8, 6, 6, 5])])\n",
    "        \n",
    "        out = torch.cat([out_left, out_right, out_vision], dim=1)\n",
    "        \n",
    "        out = self.fc(out)\n",
    "        \n",
    "        out = self.drop(out)\n",
    "        return out"
   ]
  },
  {
   "cell_type": "code",
   "execution_count": 11,
   "metadata": {},
   "outputs": [],
   "source": [
    "net = MyNet().to(device)\n",
    "# Create snn loss instance.\n",
    "criterion = nn.CrossEntropyLoss()\n",
    "# Define optimizer module.\n",
    "optimizer = torch.optim.RMSprop(\n",
    "    net.parameters(), lr=0.00001)"
   ]
  },
  {
   "cell_type": "code",
   "execution_count": 14,
   "metadata": {},
   "outputs": [
    {
     "name": "stdout",
     "output_type": "stream",
     "text": [
      "0 Train: 1.0 Test: 0.8166666666666667\n",
      "10 Train: 1.0 Test: 0.8333333333333334\n",
      "20 Train: 1.0 Test: 0.8333333333333334\n",
      "30 Train: 1.0 Test: 0.85\n",
      "40 Train: 1.0 Test: 0.8333333333333334\n",
      "50 Train: 1.0 Test: 0.8333333333333334\n",
      "60 Train: 1.0 Test: 0.85\n",
      "70 Train: 1.0 Test: 0.8666666666666667\n",
      "80 Train: 1.0 Test: 0.85\n",
      "90 Train: 1.0 Test: 0.8666666666666667\n",
      "100 Train: 1.0 Test: 0.85\n",
      "110 Train: 1.0 Test: 0.85\n",
      "120 Train: 1.0 Test: 0.8666666666666667\n",
      "130 Train: 1.0 Test: 0.8666666666666667\n",
      "140 Train: 1.0 Test: 0.8833333333333333\n",
      "150 Train: 1.0 Test: 0.8833333333333333\n",
      "160 Train: 1.0 Test: 0.8666666666666667\n",
      "170 Train: 1.0 Test: 0.8833333333333333\n",
      "180 Train: 1.0 Test: 0.85\n",
      "190 Train: 1.0 Test: 0.8666666666666667\n",
      "200 Train: 1.0 Test: 0.8833333333333333\n",
      "210 Train: 1.0 Test: 0.85\n",
      "220 Train: 1.0 Test: 0.8833333333333333\n",
      "230 Train: 1.0 Test: 0.8666666666666667\n",
      "240 Train: 1.0 Test: 0.8833333333333333\n",
      "250 Train: 1.0 Test: 0.8666666666666667\n",
      "260 Train: 1.0 Test: 0.8833333333333333\n",
      "270 Train: 1.0 Test: 0.8666666666666667\n",
      "280 Train: 1.0 Test: 0.8666666666666667\n",
      "290 Train: 1.0 Test: 0.85\n",
      "300 Train: 1.0 Test: 0.8833333333333333\n",
      "310 Train: 1.0 Test: 0.8666666666666667\n",
      "320 Train: 1.0 Test: 0.8333333333333334\n",
      "330 Train: 1.0 Test: 0.85\n",
      "340 Train: 1.0 Test: 0.8666666666666667\n",
      "350 Train: 1.0 Test: 0.8666666666666667\n",
      "360 Train: 1.0 Test: 0.85\n",
      "370 Train: 1.0 Test: 0.85\n",
      "380 Train: 1.0 Test: 0.8333333333333334\n"
     ]
    },
    {
     "ename": "KeyboardInterrupt",
     "evalue": "",
     "output_type": "error",
     "traceback": [
      "\u001b[0;31m---------------------------------------------------------------------------\u001b[0m",
      "\u001b[0;31mKeyboardInterrupt\u001b[0m                         Traceback (most recent call last)",
      "\u001b[0;32m<ipython-input-14-eb86b9ba861e>\u001b[0m in \u001b[0;36m<module>\u001b[0;34m\u001b[0m\n\u001b[1;32m     67\u001b[0m     \u001b[0mtest_acc\u001b[0m \u001b[0;34m=\u001b[0m \u001b[0;36m0\u001b[0m\u001b[0;34m\u001b[0m\u001b[0;34m\u001b[0m\u001b[0m\n\u001b[1;32m     68\u001b[0m     \u001b[0;32mwith\u001b[0m \u001b[0mtorch\u001b[0m\u001b[0;34m.\u001b[0m\u001b[0mno_grad\u001b[0m\u001b[0;34m(\u001b[0m\u001b[0;34m)\u001b[0m\u001b[0;34m:\u001b[0m\u001b[0;34m\u001b[0m\u001b[0;34m\u001b[0m\u001b[0m\n\u001b[0;32m---> 69\u001b[0;31m         \u001b[0;32mfor\u001b[0m \u001b[0mi\u001b[0m\u001b[0;34m,\u001b[0m \u001b[0;34m(\u001b[0m\u001b[0mtac_left\u001b[0m\u001b[0;34m,\u001b[0m \u001b[0mtac_right\u001b[0m\u001b[0;34m,\u001b[0m \u001b[0mvis\u001b[0m\u001b[0;34m,\u001b[0m \u001b[0mlabel\u001b[0m\u001b[0;34m)\u001b[0m \u001b[0;32min\u001b[0m \u001b[0menumerate\u001b[0m\u001b[0;34m(\u001b[0m\u001b[0mtest_loader\u001b[0m\u001b[0;34m,\u001b[0m \u001b[0;36m0\u001b[0m\u001b[0;34m)\u001b[0m\u001b[0;34m:\u001b[0m\u001b[0;34m\u001b[0m\u001b[0;34m\u001b[0m\u001b[0m\n\u001b[0m\u001b[1;32m     70\u001b[0m             \u001b[0mtac_left\u001b[0m \u001b[0;34m=\u001b[0m \u001b[0mtac_left\u001b[0m\u001b[0;34m.\u001b[0m\u001b[0mto\u001b[0m\u001b[0;34m(\u001b[0m\u001b[0mdevice\u001b[0m\u001b[0;34m)\u001b[0m\u001b[0;34m\u001b[0m\u001b[0;34m\u001b[0m\u001b[0m\n\u001b[1;32m     71\u001b[0m             \u001b[0mtac_right\u001b[0m \u001b[0;34m=\u001b[0m \u001b[0mtac_right\u001b[0m\u001b[0;34m.\u001b[0m\u001b[0mto\u001b[0m\u001b[0;34m(\u001b[0m\u001b[0mdevice\u001b[0m\u001b[0;34m)\u001b[0m\u001b[0;34m\u001b[0m\u001b[0;34m\u001b[0m\u001b[0m\n",
      "\u001b[0;31mKeyboardInterrupt\u001b[0m: "
     ]
    }
   ],
   "source": [
    "# train_accs = []\n",
    "# test_accs = []\n",
    "# train_loss = []\n",
    "# test_loss = []\n",
    "for epoch in range(args.epochs):\n",
    "    # Training loop.\n",
    "    net.train()\n",
    "    correct = 0\n",
    "    batch_loss = 0\n",
    "    train_acc = 0\n",
    "    for i, (tac_left, tac_right, vis, label) in enumerate(train_loader, 0):\n",
    "\n",
    "        tac_left = tac_left.to(device)\n",
    "        tac_right = tac_right.to(device)\n",
    "        vis = vis.to(device)\n",
    "        label = label.to(device)\n",
    "        # Forward pass of the network.\n",
    "        #print(in_viz.shape)\n",
    "        out = net.forward(tac_left, tac_right, vis)\n",
    "        #print(out_tact.shape)\n",
    "        # Calculate loss.\n",
    "        #print(label.shape)\n",
    "        loss = criterion(out, label)\n",
    "        #print(loss)\n",
    "\n",
    "        batch_loss += loss.cpu().data.item()\n",
    "        # Reset gradients to zero.\n",
    "        optimizer.zero_grad()\n",
    "        # Backward pass of the network.\n",
    "        loss.backward()\n",
    "        # Update weights.\n",
    "        optimizer.step()\n",
    "\n",
    "        _, predicted = torch.max(out.data, 1)\n",
    "        correct += (predicted == label).sum().item()\n",
    "\n",
    "    # Reset training stats.\n",
    "    train_acc = correct/len(train_loader.dataset)\n",
    "    train_loss.append(batch_loss/len(train_loader.dataset))\n",
    "    train_accs.append(train_acc)\n",
    "    \n",
    "    # testing\n",
    "    net.eval()\n",
    "    correct = 0\n",
    "    batch_loss = 0\n",
    "    train_acc = 0\n",
    "    with torch.no_grad():\n",
    "        for i, (tac_left, tac_right, vis, label) in enumerate(train_loader, 0):\n",
    "            tac_left = tac_left.to(device)\n",
    "            tac_right = tac_right.to(device)\n",
    "            vis = vis.to(device)\n",
    "            label = label.to(device)\n",
    "            # Forward pass of the network.\n",
    "            out = net.forward(tac_left, tac_right, vis)\n",
    "            label = label.to(device)\n",
    "            _, predicted = torch.max(out.data, 1)\n",
    "            correct += (predicted == label).sum().item()\n",
    "            # Calculate loss.\n",
    "            loss = criterion(out, label)\n",
    "            batch_loss += loss.cpu().data.item()\n",
    "    train_acc = correct/len(train_loader.dataset)\n",
    "\n",
    "    # testing\n",
    "    net.eval()\n",
    "    correct = 0\n",
    "    batch_loss = 0\n",
    "    test_acc = 0\n",
    "    with torch.no_grad():\n",
    "        for i, (tac_left, tac_right, vis, label) in enumerate(test_loader, 0):\n",
    "            tac_left = tac_left.to(device)\n",
    "            tac_right = tac_right.to(device)\n",
    "            vis = vis.to(device)\n",
    "            # Forward pass of the network.\n",
    "            out = net.forward(tac_left, tac_right, vis)\n",
    "            label = label.to(device)\n",
    "            _, predicted = torch.max(out.data, 1)\n",
    "            correct += (predicted == label).sum().item()\n",
    "            # Calculate loss.\n",
    "            loss = criterion(out, label)\n",
    "            batch_loss += loss.cpu().data.item()\n",
    "\n",
    "    test_loss.append(batch_loss/len(test_loader.dataset))\n",
    "    test_acc = correct/len(test_loader.dataset)\n",
    "    test_accs.append(test_acc)\n",
    "    if epoch%10 == 0:\n",
    "        print(epoch, 'Train:', train_acc, 'Test:', test_acc)"
   ]
  },
  {
   "cell_type": "code",
   "execution_count": null,
   "metadata": {},
   "outputs": [],
   "source": [
    "model_parameters = filter(lambda p: p.requires_grad, net.parameters())\n",
    "params = sum([np.prod(p.size()) for p in model_parameters])"
   ]
  },
  {
   "cell_type": "code",
   "execution_count": null,
   "metadata": {},
   "outputs": [],
   "source": [
    "params"
   ]
  },
  {
   "cell_type": "code",
   "execution_count": null,
   "metadata": {},
   "outputs": [],
   "source": [
    "import matplotlib.pyplot as plt"
   ]
  },
  {
   "cell_type": "code",
   "execution_count": null,
   "metadata": {},
   "outputs": [],
   "source": [
    "np.max(test_accs)"
   ]
  },
  {
   "cell_type": "code",
   "execution_count": null,
   "metadata": {},
   "outputs": [],
   "source": [
    "fig, ax = plt.subplots(2, figsize=(15,3))\n",
    "ax[0].plot(train_accs)\n",
    "ax[0].plot(test_accs)\n",
    "ax[0].set_ylabel('Accuracy')\n",
    "ax[0].legend(['Train', 'Test'])\n",
    "\n",
    "ax[1].plot(train_loss) \n",
    "ax[1].plot(test_loss)\n",
    "ax[1].set_ylabel('Loss')\n",
    "ax[1].legend(['Train', 'Test'])\n",
    "\n",
    "plt.show()"
   ]
  },
  {
   "cell_type": "code",
   "execution_count": null,
   "metadata": {},
   "outputs": [],
   "source": []
  }
 ],
 "metadata": {
  "kernelspec": {
   "display_name": "Python 3",
   "language": "python",
   "name": "python3"
  },
  "language_info": {
   "codemirror_mode": {
    "name": "ipython",
    "version": 3
   },
   "file_extension": ".py",
   "mimetype": "text/x-python",
   "name": "python",
   "nbconvert_exporter": "python",
   "pygments_lexer": "ipython3",
   "version": "3.6.8"
  }
 },
 "nbformat": 4,
 "nbformat_minor": 2
}
