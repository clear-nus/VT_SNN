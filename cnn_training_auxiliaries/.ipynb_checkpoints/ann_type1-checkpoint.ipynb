{
 "cells": [
  {
   "cell_type": "code",
   "execution_count": 17,
   "metadata": {},
   "outputs": [],
   "source": [
    "import torch\n",
    "import numpy as np\n",
    "from pathlib import Path\n",
    "import logging\n",
    "from torch.utils.data import DataLoader\n",
    "from dataset import ViTacDataset\n",
    "from torch.utils.tensorboard import SummaryWriter\n",
    "import argparse\n",
    "from torch import nn\n",
    "import matplotlib.pyplot as plt"
   ]
  },
  {
   "cell_type": "code",
   "execution_count": 2,
   "metadata": {},
   "outputs": [],
   "source": [
    "logging.basicConfig(level=logging.INFO, format=\"%(levelname)s %(message)s\")\n",
    "\n",
    "log = logging.getLogger()"
   ]
  },
  {
   "cell_type": "code",
   "execution_count": 3,
   "metadata": {},
   "outputs": [],
   "source": [
    "# parser = argparse.ArgumentParser(\"Train model.\")\n",
    "# parser.add_argument(\"--epochs\", type=int, help=\"Number of epochs.\", required=True)\n",
    "# parser.add_argument(\"--data_dir\", type=str, help=\"Path to data.\", required=True)\n",
    "# parser.add_argument(\n",
    "#     \"--checkpoint_dir\", type=str, help=\"Path for saving checkpoints.\", required=True\n",
    "# )\n",
    "\n",
    "# parser.add_argument(\"--lr\", type=float, help=\"Learning rate.\", required=True)\n",
    "# parser.add_argument(\n",
    "#     \"--sample_file\", type=int, help=\"Sample number to train from.\", required=True\n",
    "# )\n",
    "# parser.add_argument(\n",
    "#     \"--batch_size\", type=int, help=\"Batch Size.\", required=True\n",
    "# )"
   ]
  },
  {
   "cell_type": "code",
   "execution_count": 4,
   "metadata": {},
   "outputs": [],
   "source": [
    "class FLAGS():\n",
    "    def __init__(self):\n",
    "        self.data_dir = '/home/tasbolat/some_python_examples/data_VT_SNN/'\n",
    "        self.batch_size = 8\n",
    "        self.sample_file = 1\n",
    "        self.lr = 0.01\n",
    "        self.epochs = 100\n",
    "args = FLAGS()"
   ]
  },
  {
   "cell_type": "code",
   "execution_count": 5,
   "metadata": {},
   "outputs": [],
   "source": [
    "device = torch.device(\"cuda:1\")\n",
    "writer = SummaryWriter(\".\")"
   ]
  },
  {
   "cell_type": "code",
   "execution_count": 6,
   "metadata": {},
   "outputs": [],
   "source": [
    "train_dataset = ViTacDataset(\n",
    "    path=args.data_dir, sample_file=f\"train_80_20_{args.sample_file}.txt\"\n",
    ")\n",
    "train_loader = DataLoader(\n",
    "    dataset=train_dataset, batch_size=args.batch_size, shuffle=True, num_workers=4\n",
    ")\n",
    "test_dataset = ViTacDataset(\n",
    "    path=args.data_dir, sample_file=f\"test_80_20_{args.sample_file}.txt\"\n",
    ")\n",
    "test_loader = DataLoader(\n",
    "    dataset=test_dataset, batch_size=args.batch_size, shuffle=True, num_workers=4\n",
    ")"
   ]
  },
  {
   "cell_type": "code",
   "execution_count": 336,
   "metadata": {},
   "outputs": [],
   "source": [
    "class MLP_LSTM(nn.Module):\n",
    "\n",
    "    def __init__(self):\n",
    "        super(MLP_LSTM, self).__init__()\n",
    "        self.input_size = 156\n",
    "        self.hidden_dim = 32\n",
    "        self.num_layers = 1\n",
    "\n",
    "        # Define the LSTM layer\n",
    "        self.gru = nn.GRU(self.input_size, self.hidden_dim, self.num_layers)\n",
    "\n",
    "        # Define the output layer\n",
    "        self.fc = nn.Linear(self.hidden_dim, 20)\n",
    "        \n",
    "        #self.fc_mlp = nn.Linear(156, self.input_size)\n",
    "\n",
    "    def forward(self, input_data):\n",
    "#         print('In data:', input_data.shape)\n",
    "\n",
    "        #gru_in = self.fc_mlp(input_data)#.permute(0,2,1)\n",
    "        gru_in = input_data\n",
    "#         print('mlp out:', gru_in.shape, len(gru_in))\n",
    "        \n",
    "        gru_in = gru_in.permute(1,0,2)\n",
    "        print('gru in:', gru_in.shape, len(gru_in))\n",
    "        gru_out, self.hidden = self.gru(gru_in)\n",
    "#         print('gru out:', gru_out.shape)\n",
    "        \n",
    "        \n",
    "        # Only take the output from the final timetep\n",
    "        # Can pass on the entirety of lstm_out to the next layer if it is a seq2seq prediction\n",
    "        y_pred = self.fc(gru_out[-1, :, :])\n",
    "        \n",
    "        #print(y_pred.shape)\n",
    "        return y_pred"
   ]
  },
  {
   "cell_type": "code",
   "execution_count": 337,
   "metadata": {},
   "outputs": [],
   "source": [
    "net = MLP_LSTM().to(device)\n",
    "# Create snn loss instance.\n",
    "criterion = nn.CrossEntropyLoss()\n",
    "# Define optimizer module.\n",
    "optimizer = torch.optim.RMSprop(\n",
    "    net.parameters(), lr=0.0001)"
   ]
  },
  {
   "cell_type": "code",
   "execution_count": 338,
   "metadata": {},
   "outputs": [
    {
     "name": "stdout",
     "output_type": "stream",
     "text": [
      "gru in: torch.Size([325, 8, 156]) 325\n",
      "gru in: torch.Size([325, 8, 156]) 325\n",
      "gru in: torch.Size([325, 8, 156]) 325\n",
      "gru in: torch.Size([325, 8, 156]) 325\n",
      "gru in: torch.Size([325, 8, 156]) 325\n",
      "gru in: torch.Size([325, 8, 156]) 325\n",
      "gru in: torch.Size([325, 8, 156]) 325\n",
      "gru in: torch.Size([325, 8, 156]) 325\n",
      "gru in: torch.Size([325, 8, 156]) 325\n",
      "gru in: torch.Size([325, 8, 156]) 325\n",
      "gru in: torch.Size([325, 8, 156]) 325\n",
      "gru in: torch.Size([325, 8, 156]) 325\n",
      "gru in: torch.Size([325, 8, 156]) 325\n",
      "gru in: torch.Size([325, 8, 156]) 325\n",
      "gru in: torch.Size([325, 8, 156]) 325\n",
      "gru in: torch.Size([325, 8, 156]) 325\n",
      "gru in: torch.Size([325, 8, 156]) 325\n",
      "gru in: torch.Size([325, 8, 156]) 325\n",
      "gru in: torch.Size([325, 8, 156]) 325\n",
      "gru in: torch.Size([325, 8, 156]) 325\n",
      "gru in: torch.Size([325, 8, 156]) 325\n",
      "gru in: torch.Size([325, 8, 156]) 325\n",
      "gru in: torch.Size([325, 8, 156]) 325\n",
      "gru in: torch.Size([325, 8, 156]) 325\n",
      "gru in: torch.Size([325, 8, 156]) 325\n",
      "gru in: torch.Size([325, 8, 156]) 325\n",
      "gru in: torch.Size([325, 8, 156]) 325\n",
      "gru in: torch.Size([325, 8, 156]) 325\n",
      "gru in: torch.Size([325, 8, 156]) 325\n",
      "gru in: torch.Size([325, 8, 156]) 325\n",
      "gru in: torch.Size([325, 8, 156]) 325\n",
      "gru in: torch.Size([325, 8, 156]) 325\n",
      "gru in: torch.Size([325, 8, 156]) 325\n",
      "gru in: torch.Size([325, 8, 156]) 325\n",
      "gru in: torch.Size([325, 8, 156]) 325\n",
      "gru in: torch.Size([325, 8, 156]) 325\n",
      "gru in: torch.Size([325, 8, 156]) 325\n",
      "gru in: torch.Size([325, 4, 156]) 325\n",
      "1 Train: 0.058333333333333334 Test: 0.05\n",
      "gru in: torch.Size([325, 8, 156]) 325\n",
      "gru in: torch.Size([325, 8, 156]) 325\n",
      "gru in: torch.Size([325, 8, 156]) 325\n",
      "gru in: torch.Size([325, 8, 156]) 325\n",
      "gru in: torch.Size([325, 8, 156]) 325\n",
      "gru in: torch.Size([325, 8, 156]) 325\n",
      "gru in: torch.Size([325, 8, 156]) 325\n",
      "gru in: torch.Size([325, 8, 156]) 325\n",
      "gru in: torch.Size([325, 8, 156]) 325\n",
      "gru in: torch.Size([325, 8, 156]) 325\n",
      "gru in: torch.Size([325, 8, 156]) 325\n",
      "gru in: torch.Size([325, 8, 156]) 325\n",
      "gru in: torch.Size([325, 8, 156]) 325\n",
      "gru in: torch.Size([325, 8, 156]) 325\n",
      "gru in: torch.Size([325, 8, 156]) 325\n",
      "gru in: torch.Size([325, 8, 156]) 325\n",
      "gru in: torch.Size([325, 8, 156]) 325\n",
      "gru in: torch.Size([325, 8, 156]) 325\n",
      "gru in: torch.Size([325, 8, 156]) 325\n",
      "gru in: torch.Size([325, 8, 156]) 325\n",
      "gru in: torch.Size([325, 8, 156]) 325\n",
      "gru in: torch.Size([325, 8, 156]) 325\n",
      "gru in: torch.Size([325, 8, 156]) 325\n",
      "gru in: torch.Size([325, 8, 156]) 325\n",
      "gru in: torch.Size([325, 8, 156]) 325\n",
      "gru in: torch.Size([325, 8, 156]) 325\n",
      "gru in: torch.Size([325, 8, 156]) 325\n",
      "gru in: torch.Size([325, 8, 156]) 325\n",
      "gru in: torch.Size([325, 8, 156]) 325\n",
      "gru in: torch.Size([325, 8, 156]) 325\n",
      "gru in: torch.Size([325, 8, 156]) 325\n",
      "gru in: torch.Size([325, 8, 156]) 325\n",
      "gru in: torch.Size([325, 8, 156]) 325\n",
      "gru in: torch.Size([325, 8, 156]) 325\n",
      "gru in: torch.Size([325, 8, 156]) 325\n",
      "gru in: torch.Size([325, 8, 156]) 325\n",
      "gru in: torch.Size([325, 8, 156]) 325\n",
      "gru in: torch.Size([325, 4, 156]) 325\n",
      "2 Train: 0.075 Test: 0.06666666666666667\n",
      "gru in: torch.Size([325, 8, 156]) 325\n",
      "gru in: torch.Size([325, 8, 156]) 325\n",
      "gru in: torch.Size([325, 8, 156]) 325\n",
      "gru in: torch.Size([325, 8, 156]) 325\n",
      "gru in: torch.Size([325, 8, 156]) 325\n",
      "gru in: torch.Size([325, 8, 156]) 325\n",
      "gru in: torch.Size([325, 8, 156]) 325\n",
      "gru in: torch.Size([325, 8, 156]) 325\n",
      "gru in: torch.Size([325, 8, 156]) 325\n",
      "gru in: torch.Size([325, 8, 156]) 325\n",
      "gru in: torch.Size([325, 8, 156]) 325\n",
      "gru in: torch.Size([325, 8, 156]) 325\n"
     ]
    },
    {
     "ename": "KeyboardInterrupt",
     "evalue": "",
     "output_type": "error",
     "traceback": [
      "\u001b[0;31m---------------------------------------------------------------------------\u001b[0m",
      "\u001b[0;31mKeyboardInterrupt\u001b[0m                         Traceback (most recent call last)",
      "\u001b[0;32m<ipython-input-338-6736539c29b8>\u001b[0m in \u001b[0;36m<module>\u001b[0;34m\u001b[0m\n\u001b[1;32m     23\u001b[0m         \u001b[0;31m#print(loss)\u001b[0m\u001b[0;34m\u001b[0m\u001b[0;34m\u001b[0m\u001b[0;34m\u001b[0m\u001b[0m\n\u001b[1;32m     24\u001b[0m \u001b[0;34m\u001b[0m\u001b[0m\n\u001b[0;32m---> 25\u001b[0;31m         \u001b[0mbatch_loss\u001b[0m \u001b[0;34m+=\u001b[0m \u001b[0mloss\u001b[0m\u001b[0;34m.\u001b[0m\u001b[0mcpu\u001b[0m\u001b[0;34m(\u001b[0m\u001b[0;34m)\u001b[0m\u001b[0;34m.\u001b[0m\u001b[0mdata\u001b[0m\u001b[0;34m.\u001b[0m\u001b[0mitem\u001b[0m\u001b[0;34m(\u001b[0m\u001b[0;34m)\u001b[0m\u001b[0;34m\u001b[0m\u001b[0;34m\u001b[0m\u001b[0m\n\u001b[0m\u001b[1;32m     26\u001b[0m         \u001b[0;31m# Reset gradients to zero.\u001b[0m\u001b[0;34m\u001b[0m\u001b[0;34m\u001b[0m\u001b[0;34m\u001b[0m\u001b[0m\n\u001b[1;32m     27\u001b[0m         \u001b[0moptimizer\u001b[0m\u001b[0;34m.\u001b[0m\u001b[0mzero_grad\u001b[0m\u001b[0;34m(\u001b[0m\u001b[0;34m)\u001b[0m\u001b[0;34m\u001b[0m\u001b[0;34m\u001b[0m\u001b[0m\n",
      "\u001b[0;31mKeyboardInterrupt\u001b[0m: "
     ]
    }
   ],
   "source": [
    "train_accs = []\n",
    "test_accs = []\n",
    "train_loss = []\n",
    "test_loss = []\n",
    "for epoch in range(1, args.epochs+1):\n",
    "    # Training loop.\n",
    "    net.train()\n",
    "    correct = 0\n",
    "    batch_loss = 0\n",
    "    train_acc = 0\n",
    "    for i, (in_tact, _, _, label) in enumerate(train_loader, 0):\n",
    "\n",
    "        in_tact = in_tact.to(device)\n",
    "        in_tact = in_tact.squeeze()\n",
    "        in_tact = in_tact.permute(0,2,1)\n",
    "        label = label.to(device)\n",
    "        # Forward pass of the network.\n",
    "        out_tact = net.forward(in_tact)\n",
    "        #print(out_tact.shape)\n",
    "        # Calculate loss.\n",
    "        #print(label.shape)\n",
    "        loss = criterion(out_tact, label)\n",
    "        #print(loss)\n",
    "\n",
    "        batch_loss += loss.cpu().data.item()\n",
    "        # Reset gradients to zero.\n",
    "        optimizer.zero_grad()\n",
    "        # Backward pass of the network.\n",
    "        loss.backward()\n",
    "        # Update weights.\n",
    "        optimizer.step()\n",
    "\n",
    "        _, predicted = torch.max(out_tact.data, 1)\n",
    "        correct += (predicted == label).sum().item()\n",
    "\n",
    "    # Reset training stats.\n",
    "    train_acc = correct/len(train_loader.dataset)\n",
    "    train_loss.append(batch_loss/len(train_loader.dataset))\n",
    "    train_accs.append(train_acc)\n",
    "    #print(train_acc, batch_loss)\n",
    "\n",
    "    # testing\n",
    "    net.eval()\n",
    "    correct = 0\n",
    "    batch_loss = 0\n",
    "    test_acc = 0\n",
    "    with torch.no_grad():\n",
    "        for i, (in_tact, _, _, label) in enumerate(test_loader, 0):\n",
    "            in_tact = in_tact.to(device)\n",
    "            in_tact = in_tact.squeeze()\n",
    "            in_tact = in_tact.permute(0,2,1)\n",
    "\n",
    "            # Forward pass of the network.\n",
    "            out_tact = net.forward(in_tact)\n",
    "            label = label.to(device)\n",
    "            _, predicted = torch.max(out_tact.data, 1)\n",
    "            correct += (predicted == label).sum().item()\n",
    "            # Calculate loss.\n",
    "            loss = criterion(out_tact, label)\n",
    "            batch_loss += loss.cpu().data.item()\n",
    "\n",
    "    test_loss.append(batch_loss/len(test_loader.dataset))\n",
    "    test_acc = correct/len(test_loader.dataset)\n",
    "    test_accs.append(test_acc)\n",
    "#     if epoch%20==0:\n",
    "#         print('------------------------')\n",
    "#         print('saving model')\n",
    "#         torch.save(net.state_dict(), ref_name + '_' + str(epoch) + '_' + str(k) + \".pt\")\n",
    "#         print('Train:', train_acc, 'Test:', test_acc)\n",
    "#         print('------------------------')\n",
    "    if epoch%1 == 0:\n",
    "        print(epoch, 'Train:', train_acc, 'Test:', test_acc)"
   ]
  },
  {
   "cell_type": "code",
   "execution_count": 331,
   "metadata": {},
   "outputs": [],
   "source": [
    "model_parameters = filter(lambda p: p.requires_grad, net.parameters())\n",
    "params = sum([np.prod(p.size()) for p in model_parameters])"
   ]
  },
  {
   "cell_type": "code",
   "execution_count": 332,
   "metadata": {},
   "outputs": [
    {
     "data": {
      "text/plain": [
       "18900"
      ]
     },
     "execution_count": 332,
     "metadata": {},
     "output_type": "execute_result"
    }
   ],
   "source": [
    "params"
   ]
  },
  {
   "cell_type": "code",
   "execution_count": 333,
   "metadata": {},
   "outputs": [
    {
     "data": {
      "image/png": "[encoded data removed]",
      "text/plain": [
       "<Figure size 1080x504 with 2 Axes>"
      ]
     },
     "metadata": {
      "needs_background": "light"
     },
     "output_type": "display_data"
    }
   ],
   "source": [
    "fig, ax = plt.subplots(2, figsize=(15,7))\n",
    "ax[0].plot(train_loss)\n",
    "ax[0].plot(test_loss)\n",
    "ax[0].legend(['Train', 'Test'])\n",
    "ax[0].set_xlabel('Epochs')\n",
    "ax[0].set_ylabel('Loss')\n",
    "\n",
    "ax[1].plot(train_accs)\n",
    "ax[1].plot(test_accs)\n",
    "ax[1].legend(['Train', 'Test'])\n",
    "ax[1].set_xlabel('Epochs')\n",
    "ax[1].set_ylabel('Accuracy')\n",
    "\n",
    "plt.show()"
   ]
  },
  {
   "cell_type": "code",
   "execution_count": 48,
   "metadata": {},
   "outputs": [],
   "source": [
    "# Try out svm"
   ]
  }
 ],
 "metadata": {
  "kernelspec": {
   "display_name": "Python 3",
   "language": "python",
   "name": "python3"
  },
  "language_info": {
   "codemirror_mode": {
    "name": "ipython",
    "version": 3
   },
   "file_extension": ".py",
   "mimetype": "text/x-python",
   "name": "python",
   "nbconvert_exporter": "python",
   "pygments_lexer": "ipython3",
   "version": "3.6.8"
  }
 },
 "nbformat": 4,
 "nbformat_minor": 2
}
